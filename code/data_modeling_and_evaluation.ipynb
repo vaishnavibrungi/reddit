{
 "cells": [
  {
   "cell_type": "markdown",
   "id": "7f1f39d2",
   "metadata": {},
   "source": [
    "# Project 3: Reddit"
   ]
  },
  {
   "cell_type": "markdown",
   "id": "691ff265",
   "metadata": {},
   "source": [
    "## Data Modeling and Evaluation"
   ]
  },
  {
   "cell_type": "code",
   "execution_count": 93,
   "id": "a3894fe1",
   "metadata": {},
   "outputs": [],
   "source": [
    "#import libraries\n",
    "import pandas as pd \n",
    "import matplotlib.pyplot as plt\n",
    "from sklearn.linear_model import LogisticRegression\n",
    "from sklearn.feature_extraction.text import CountVectorizer, TfidfVectorizer\n",
    "from sklearn.model_selection import train_test_split, cross_val_score, GridSearchCV\n",
    "from sklearn.tree import DecisionTreeClassifier\n",
    "from sklearn.ensemble import ExtraTreesClassifier, RandomForestClassifier,BaggingClassifier\n",
    "from sklearn.naive_bayes import MultinomialNB\n",
    "from sklearn.metrics import plot_confusion_matrix,plot_roc_curve,roc_auc_score,confusion_matrix,accuracy_score,classification_report"
   ]
  },
  {
   "cell_type": "markdown",
   "id": "a2289e5b",
   "metadata": {},
   "source": [
    "**Read in combined Violinist and Cello csv \"reddit_data\" to begin modeling**"
   ]
  },
  {
   "cell_type": "code",
   "execution_count": 2,
   "id": "1fb424d9",
   "metadata": {},
   "outputs": [],
   "source": [
    "reddit_data = pd.read_csv('../data/reddit_data.csv')"
   ]
  },
  {
   "cell_type": "code",
   "execution_count": 3,
   "id": "fcf2404a",
   "metadata": {},
   "outputs": [
    {
     "data": {
      "text/html": [
       "<div>\n",
       "<style scoped>\n",
       "    .dataframe tbody tr th:only-of-type {\n",
       "        vertical-align: middle;\n",
       "    }\n",
       "\n",
       "    .dataframe tbody tr th {\n",
       "        vertical-align: top;\n",
       "    }\n",
       "\n",
       "    .dataframe thead th {\n",
       "        text-align: right;\n",
       "    }\n",
       "</style>\n",
       "<table border=\"1\" class=\"dataframe\">\n",
       "  <thead>\n",
       "    <tr style=\"text-align: right;\">\n",
       "      <th></th>\n",
       "      <th>author_id</th>\n",
       "      <th>posted_on</th>\n",
       "      <th>author_tag</th>\n",
       "      <th>post_title</th>\n",
       "      <th>post_description</th>\n",
       "      <th>subreddit_name</th>\n",
       "    </tr>\n",
       "  </thead>\n",
       "  <tbody>\n",
       "    <tr>\n",
       "      <th>0</th>\n",
       "      <td>o24eoj</td>\n",
       "      <td>2021-06-17 18:41:15</td>\n",
       "      <td>Advanced</td>\n",
       "      <td>ysaÿe violin concerto e minor first movement l...</td>\n",
       "      <td>[https://www.youtube.com/watch?v=PONbtxcPcKQ](...</td>\n",
       "      <td>1</td>\n",
       "    </tr>\n",
       "    <tr>\n",
       "      <th>1</th>\n",
       "      <td>o23xyv</td>\n",
       "      <td>2021-06-17 18:21:58</td>\n",
       "      <td>NaN</td>\n",
       "      <td>video perform exampl great vibrato</td>\n",
       "      <td>I've been struggling with my vibrato and am lo...</td>\n",
       "      <td>1</td>\n",
       "    </tr>\n",
       "    <tr>\n",
       "      <th>2</th>\n",
       "      <td>o20e4w</td>\n",
       "      <td>2021-06-17 15:48:10</td>\n",
       "      <td>Adult Beginner</td>\n",
       "      <td>count time 6 8</td>\n",
       "      <td>My current rhythm exercise is in 6/8 time.\\n\\n...</td>\n",
       "      <td>1</td>\n",
       "    </tr>\n",
       "    <tr>\n",
       "      <th>3</th>\n",
       "      <td>o1vxwd</td>\n",
       "      <td>2021-06-17 12:22:01</td>\n",
       "      <td>NaN</td>\n",
       "      <td>interest pick violin</td>\n",
       "      <td>Hello everyone, as you can tell by the title I...</td>\n",
       "      <td>1</td>\n",
       "    </tr>\n",
       "    <tr>\n",
       "      <th>4</th>\n",
       "      <td>o1rmpe</td>\n",
       "      <td>2021-06-17 07:49:56</td>\n",
       "      <td>NaN</td>\n",
       "      <td>question beginn</td>\n",
       "      <td>When the score says Sul G, Sul D, IVeme chord,...</td>\n",
       "      <td>1</td>\n",
       "    </tr>\n",
       "  </tbody>\n",
       "</table>\n",
       "</div>"
      ],
      "text/plain": [
       "  author_id            posted_on      author_tag  \\\n",
       "0    o24eoj  2021-06-17 18:41:15        Advanced   \n",
       "1    o23xyv  2021-06-17 18:21:58             NaN   \n",
       "2    o20e4w  2021-06-17 15:48:10  Adult Beginner   \n",
       "3    o1vxwd  2021-06-17 12:22:01             NaN   \n",
       "4    o1rmpe  2021-06-17 07:49:56             NaN   \n",
       "\n",
       "                                          post_title  \\\n",
       "0  ysaÿe violin concerto e minor first movement l...   \n",
       "1                 video perform exampl great vibrato   \n",
       "2                                     count time 6 8   \n",
       "3                               interest pick violin   \n",
       "4                                    question beginn   \n",
       "\n",
       "                                    post_description  subreddit_name  \n",
       "0  [https://www.youtube.com/watch?v=PONbtxcPcKQ](...               1  \n",
       "1  I've been struggling with my vibrato and am lo...               1  \n",
       "2  My current rhythm exercise is in 6/8 time.\\n\\n...               1  \n",
       "3  Hello everyone, as you can tell by the title I...               1  \n",
       "4  When the score says Sul G, Sul D, IVeme chord,...               1  "
      ]
     },
     "execution_count": 3,
     "metadata": {},
     "output_type": "execute_result"
    }
   ],
   "source": [
    "# Check dataframe\n",
    "reddit_data.head()"
   ]
  },
  {
   "cell_type": "code",
   "execution_count": 4,
   "id": "c3a7b7be",
   "metadata": {},
   "outputs": [
    {
     "data": {
      "text/html": [
       "<div>\n",
       "<style scoped>\n",
       "    .dataframe tbody tr th:only-of-type {\n",
       "        vertical-align: middle;\n",
       "    }\n",
       "\n",
       "    .dataframe tbody tr th {\n",
       "        vertical-align: top;\n",
       "    }\n",
       "\n",
       "    .dataframe thead th {\n",
       "        text-align: right;\n",
       "    }\n",
       "</style>\n",
       "<table border=\"1\" class=\"dataframe\">\n",
       "  <thead>\n",
       "    <tr style=\"text-align: right;\">\n",
       "      <th></th>\n",
       "      <th>author_id</th>\n",
       "      <th>posted_on</th>\n",
       "      <th>author_tag</th>\n",
       "      <th>post_title</th>\n",
       "      <th>post_description</th>\n",
       "      <th>subreddit_name</th>\n",
       "    </tr>\n",
       "  </thead>\n",
       "  <tbody>\n",
       "    <tr>\n",
       "      <th>381</th>\n",
       "      <td>n9jckr</td>\n",
       "      <td>2021-05-10 23:34:01</td>\n",
       "      <td>NaN</td>\n",
       "      <td>NaN</td>\n",
       "      <td>f</td>\n",
       "      <td>1</td>\n",
       "    </tr>\n",
       "  </tbody>\n",
       "</table>\n",
       "</div>"
      ],
      "text/plain": [
       "    author_id            posted_on author_tag post_title post_description  \\\n",
       "381    n9jckr  2021-05-10 23:34:01        NaN        NaN                f   \n",
       "\n",
       "     subreddit_name  \n",
       "381               1  "
      ]
     },
     "execution_count": 4,
     "metadata": {},
     "output_type": "execute_result"
    }
   ],
   "source": [
    "# Pull out rows in the dataframe with null values \n",
    "# Since there are no titles or post text for these rows, we will drop them\n",
    "reddit_data[reddit_data['post_title'].isna()]"
   ]
  },
  {
   "cell_type": "code",
   "execution_count": 5,
   "id": "466195bf",
   "metadata": {},
   "outputs": [],
   "source": [
    "# Drop all row with 'nan' values\n",
    "reddit_data.drop(reddit_data.index[381],inplace=True)"
   ]
  },
  {
   "cell_type": "code",
   "execution_count": 6,
   "id": "77a8eb4e",
   "metadata": {},
   "outputs": [
    {
     "data": {
      "text/html": [
       "<div>\n",
       "<style scoped>\n",
       "    .dataframe tbody tr th:only-of-type {\n",
       "        vertical-align: middle;\n",
       "    }\n",
       "\n",
       "    .dataframe tbody tr th {\n",
       "        vertical-align: top;\n",
       "    }\n",
       "\n",
       "    .dataframe thead th {\n",
       "        text-align: right;\n",
       "    }\n",
       "</style>\n",
       "<table border=\"1\" class=\"dataframe\">\n",
       "  <thead>\n",
       "    <tr style=\"text-align: right;\">\n",
       "      <th></th>\n",
       "      <th>author_id</th>\n",
       "      <th>posted_on</th>\n",
       "      <th>author_tag</th>\n",
       "      <th>post_title</th>\n",
       "      <th>post_description</th>\n",
       "      <th>subreddit_name</th>\n",
       "    </tr>\n",
       "  </thead>\n",
       "  <tbody>\n",
       "  </tbody>\n",
       "</table>\n",
       "</div>"
      ],
      "text/plain": [
       "Empty DataFrame\n",
       "Columns: [author_id, posted_on, author_tag, post_title, post_description, subreddit_name]\n",
       "Index: []"
      ]
     },
     "execution_count": 6,
     "metadata": {},
     "output_type": "execute_result"
    }
   ],
   "source": [
    "#check if row got dropped\n",
    "reddit_data[reddit_data['post_title'].isna()]"
   ]
  },
  {
   "cell_type": "markdown",
   "id": "39c2cc74",
   "metadata": {},
   "source": [
    "**Set X and y**"
   ]
  },
  {
   "cell_type": "code",
   "execution_count": 7,
   "id": "f5274440",
   "metadata": {},
   "outputs": [],
   "source": [
    "X = reddit_data['post_title']\n",
    "y = reddit_data['subreddit_name']"
   ]
  },
  {
   "cell_type": "code",
   "execution_count": 8,
   "id": "8c627bac",
   "metadata": {},
   "outputs": [
    {
     "name": "stdout",
     "output_type": "stream",
     "text": [
      "Shape of X: (2086,)\n",
      "Shape of y: (2086,)\n"
     ]
    }
   ],
   "source": [
    "# Check shape of X and y\n",
    "print(f'Shape of X: {X.shape}')\n",
    "print(f'Shape of y: {y.shape}')"
   ]
  },
  {
   "cell_type": "code",
   "execution_count": 9,
   "id": "7e3f5b0e",
   "metadata": {
    "scrolled": true
   },
   "outputs": [
    {
     "data": {
      "text/plain": [
       "0    ysaÿe violin concerto e minor first movement l...\n",
       "1                   video perform exampl great vibrato\n",
       "2                                       count time 6 8\n",
       "Name: post_title, dtype: object"
      ]
     },
     "execution_count": 9,
     "metadata": {},
     "output_type": "execute_result"
    }
   ],
   "source": [
    "#Display X first three rows\n",
    "X.head(3)"
   ]
  },
  {
   "cell_type": "code",
   "execution_count": 10,
   "id": "8845b61a",
   "metadata": {},
   "outputs": [
    {
     "data": {
      "text/plain": [
       "0    1\n",
       "1    1\n",
       "2    1\n",
       "Name: subreddit_name, dtype: int64"
      ]
     },
     "execution_count": 10,
     "metadata": {},
     "output_type": "execute_result"
    }
   ],
   "source": [
    "#Display y first three rows\n",
    "y.head(3)"
   ]
  },
  {
   "cell_type": "code",
   "execution_count": 11,
   "id": "309e89a0",
   "metadata": {},
   "outputs": [
    {
     "data": {
      "text/plain": [
       "2084    0\n",
       "2085    0\n",
       "2086    0\n",
       "Name: subreddit_name, dtype: int64"
      ]
     },
     "execution_count": 11,
     "metadata": {},
     "output_type": "execute_result"
    }
   ],
   "source": [
    "#Display y last three rows\n",
    "y.tail(3)"
   ]
  },
  {
   "cell_type": "markdown",
   "id": "a8dcc693",
   "metadata": {},
   "source": [
    "**Baseline Accuracy**"
   ]
  },
  {
   "cell_type": "code",
   "execution_count": 12,
   "id": "d7874022",
   "metadata": {},
   "outputs": [
    {
     "data": {
      "text/plain": [
       "1    0.507191\n",
       "0    0.492809\n",
       "Name: subreddit_name, dtype: float64"
      ]
     },
     "execution_count": 12,
     "metadata": {},
     "output_type": "execute_result"
    }
   ],
   "source": [
    "y.value_counts(normalize=True)"
   ]
  },
  {
   "cell_type": "markdown",
   "id": "b00041fa",
   "metadata": {},
   "source": [
    "- Violinist = 1 and Cello = 0\n",
    "- Baseline accuracy score is 0.507"
   ]
  },
  {
   "cell_type": "markdown",
   "id": "f4df7cc2",
   "metadata": {},
   "source": [
    "**Train Test Split**"
   ]
  },
  {
   "cell_type": "code",
   "execution_count": 13,
   "id": "f4624ba4",
   "metadata": {},
   "outputs": [],
   "source": [
    "#Use train_test_split to generate your training and testing sets.\n",
    "X_train, X_test, y_train, y_test = train_test_split(X, y, \n",
    "                                                    random_state=42, \n",
    "                                                    stratify=y)"
   ]
  },
  {
   "cell_type": "code",
   "execution_count": 14,
   "id": "659901e8",
   "metadata": {},
   "outputs": [
    {
     "name": "stdout",
     "output_type": "stream",
     "text": [
      "Shape of X_train: (1564,)\n",
      "Shape of X_test: (522,)\n"
     ]
    }
   ],
   "source": [
    "# Check shape of X_train and X_test\n",
    "print(f'Shape of X_train: {X_train.shape}')\n",
    "print(f'Shape of X_test: {X_test.shape}')"
   ]
  },
  {
   "cell_type": "markdown",
   "id": "b60201c0",
   "metadata": {},
   "source": [
    "### CountVectorize the data"
   ]
  },
  {
   "cell_type": "code",
   "execution_count": 15,
   "id": "e7bf20e9",
   "metadata": {},
   "outputs": [],
   "source": [
    "# Instantiate a CountVectorizer.\n",
    "cv = CountVectorizer(min_df=2,                   # Ignore words that do not occur at least 2 times\n",
    "                    ngram_range=(1,5))          # Set ngram_range"
   ]
  },
  {
   "cell_type": "code",
   "execution_count": 16,
   "id": "86255a3c",
   "metadata": {},
   "outputs": [],
   "source": [
    "# Fit the CountVectorizer to the training and testing data\n",
    "cv_train = cv.fit_transform(X_train)            \n",
    "cv_test = cv.transform(X_test)"
   ]
  },
  {
   "cell_type": "code",
   "execution_count": 17,
   "id": "7db71fc6",
   "metadata": {},
   "outputs": [
    {
     "data": {
      "text/html": [
       "<div>\n",
       "<style scoped>\n",
       "    .dataframe tbody tr th:only-of-type {\n",
       "        vertical-align: middle;\n",
       "    }\n",
       "\n",
       "    .dataframe tbody tr th {\n",
       "        vertical-align: top;\n",
       "    }\n",
       "\n",
       "    .dataframe thead th {\n",
       "        text-align: right;\n",
       "    }\n",
       "</style>\n",
       "<table border=\"1\" class=\"dataframe\">\n",
       "  <thead>\n",
       "    <tr style=\"text-align: right;\">\n",
       "      <th></th>\n",
       "      <th>10</th>\n",
       "      <th>100</th>\n",
       "      <th>11</th>\n",
       "      <th>15</th>\n",
       "      <th>18</th>\n",
       "      <th>18 year</th>\n",
       "      <th>18 year old</th>\n",
       "      <th>1965</th>\n",
       "      <th>1965 sure</th>\n",
       "      <th>1st</th>\n",
       "      <th>...</th>\n",
       "      <th>yamaha</th>\n",
       "      <th>yamaha svc</th>\n",
       "      <th>year</th>\n",
       "      <th>year break</th>\n",
       "      <th>year old</th>\n",
       "      <th>young</th>\n",
       "      <th>youth</th>\n",
       "      <th>youtub</th>\n",
       "      <th>zoom</th>\n",
       "      <th>zoom meetup</th>\n",
       "    </tr>\n",
       "  </thead>\n",
       "  <tbody>\n",
       "    <tr>\n",
       "      <th>0</th>\n",
       "      <td>0</td>\n",
       "      <td>0</td>\n",
       "      <td>0</td>\n",
       "      <td>0</td>\n",
       "      <td>0</td>\n",
       "      <td>0</td>\n",
       "      <td>0</td>\n",
       "      <td>0</td>\n",
       "      <td>0</td>\n",
       "      <td>0</td>\n",
       "      <td>...</td>\n",
       "      <td>0</td>\n",
       "      <td>0</td>\n",
       "      <td>0</td>\n",
       "      <td>0</td>\n",
       "      <td>0</td>\n",
       "      <td>0</td>\n",
       "      <td>0</td>\n",
       "      <td>0</td>\n",
       "      <td>0</td>\n",
       "      <td>0</td>\n",
       "    </tr>\n",
       "    <tr>\n",
       "      <th>1</th>\n",
       "      <td>0</td>\n",
       "      <td>0</td>\n",
       "      <td>0</td>\n",
       "      <td>0</td>\n",
       "      <td>0</td>\n",
       "      <td>0</td>\n",
       "      <td>0</td>\n",
       "      <td>0</td>\n",
       "      <td>0</td>\n",
       "      <td>0</td>\n",
       "      <td>...</td>\n",
       "      <td>0</td>\n",
       "      <td>0</td>\n",
       "      <td>0</td>\n",
       "      <td>0</td>\n",
       "      <td>0</td>\n",
       "      <td>0</td>\n",
       "      <td>0</td>\n",
       "      <td>0</td>\n",
       "      <td>0</td>\n",
       "      <td>0</td>\n",
       "    </tr>\n",
       "    <tr>\n",
       "      <th>2</th>\n",
       "      <td>0</td>\n",
       "      <td>0</td>\n",
       "      <td>0</td>\n",
       "      <td>0</td>\n",
       "      <td>0</td>\n",
       "      <td>0</td>\n",
       "      <td>0</td>\n",
       "      <td>0</td>\n",
       "      <td>0</td>\n",
       "      <td>1</td>\n",
       "      <td>...</td>\n",
       "      <td>0</td>\n",
       "      <td>0</td>\n",
       "      <td>0</td>\n",
       "      <td>0</td>\n",
       "      <td>0</td>\n",
       "      <td>0</td>\n",
       "      <td>0</td>\n",
       "      <td>0</td>\n",
       "      <td>0</td>\n",
       "      <td>0</td>\n",
       "    </tr>\n",
       "    <tr>\n",
       "      <th>3</th>\n",
       "      <td>0</td>\n",
       "      <td>0</td>\n",
       "      <td>0</td>\n",
       "      <td>0</td>\n",
       "      <td>0</td>\n",
       "      <td>0</td>\n",
       "      <td>0</td>\n",
       "      <td>0</td>\n",
       "      <td>0</td>\n",
       "      <td>0</td>\n",
       "      <td>...</td>\n",
       "      <td>0</td>\n",
       "      <td>0</td>\n",
       "      <td>0</td>\n",
       "      <td>0</td>\n",
       "      <td>0</td>\n",
       "      <td>0</td>\n",
       "      <td>0</td>\n",
       "      <td>0</td>\n",
       "      <td>0</td>\n",
       "      <td>0</td>\n",
       "    </tr>\n",
       "    <tr>\n",
       "      <th>4</th>\n",
       "      <td>0</td>\n",
       "      <td>0</td>\n",
       "      <td>0</td>\n",
       "      <td>0</td>\n",
       "      <td>0</td>\n",
       "      <td>0</td>\n",
       "      <td>0</td>\n",
       "      <td>0</td>\n",
       "      <td>0</td>\n",
       "      <td>0</td>\n",
       "      <td>...</td>\n",
       "      <td>0</td>\n",
       "      <td>0</td>\n",
       "      <td>0</td>\n",
       "      <td>0</td>\n",
       "      <td>0</td>\n",
       "      <td>0</td>\n",
       "      <td>0</td>\n",
       "      <td>0</td>\n",
       "      <td>0</td>\n",
       "      <td>0</td>\n",
       "    </tr>\n",
       "  </tbody>\n",
       "</table>\n",
       "<p>5 rows × 1332 columns</p>\n",
       "</div>"
      ],
      "text/plain": [
       "   10  100  11  15  18  18 year  18 year old  1965  1965 sure  1st  ...  \\\n",
       "0   0    0   0   0   0        0            0     0          0    0  ...   \n",
       "1   0    0   0   0   0        0            0     0          0    0  ...   \n",
       "2   0    0   0   0   0        0            0     0          0    1  ...   \n",
       "3   0    0   0   0   0        0            0     0          0    0  ...   \n",
       "4   0    0   0   0   0        0            0     0          0    0  ...   \n",
       "\n",
       "   yamaha  yamaha svc  year  year break  year old  young  youth  youtub  zoom  \\\n",
       "0       0           0     0           0         0      0      0       0     0   \n",
       "1       0           0     0           0         0      0      0       0     0   \n",
       "2       0           0     0           0         0      0      0       0     0   \n",
       "3       0           0     0           0         0      0      0       0     0   \n",
       "4       0           0     0           0         0      0      0       0     0   \n",
       "\n",
       "   zoom meetup  \n",
       "0            0  \n",
       "1            0  \n",
       "2            0  \n",
       "3            0  \n",
       "4            0  \n",
       "\n",
       "[5 rows x 1332 columns]"
      ]
     },
     "execution_count": 17,
     "metadata": {},
     "output_type": "execute_result"
    }
   ],
   "source": [
    "# Create cv_train dataframe\n",
    "cv_train_df = pd.DataFrame(cv_train.toarray(), columns = cv.get_feature_names())\n",
    "cv_train_df.head()"
   ]
  },
  {
   "cell_type": "code",
   "execution_count": 18,
   "id": "37b4d54d",
   "metadata": {},
   "outputs": [
    {
     "data": {
      "text/html": [
       "<div>\n",
       "<style scoped>\n",
       "    .dataframe tbody tr th:only-of-type {\n",
       "        vertical-align: middle;\n",
       "    }\n",
       "\n",
       "    .dataframe tbody tr th {\n",
       "        vertical-align: top;\n",
       "    }\n",
       "\n",
       "    .dataframe thead th {\n",
       "        text-align: right;\n",
       "    }\n",
       "</style>\n",
       "<table border=\"1\" class=\"dataframe\">\n",
       "  <thead>\n",
       "    <tr style=\"text-align: right;\">\n",
       "      <th></th>\n",
       "      <th>10</th>\n",
       "      <th>100</th>\n",
       "      <th>11</th>\n",
       "      <th>15</th>\n",
       "      <th>18</th>\n",
       "      <th>18 year</th>\n",
       "      <th>18 year old</th>\n",
       "      <th>1965</th>\n",
       "      <th>1965 sure</th>\n",
       "      <th>1st</th>\n",
       "      <th>...</th>\n",
       "      <th>yamaha</th>\n",
       "      <th>yamaha svc</th>\n",
       "      <th>year</th>\n",
       "      <th>year break</th>\n",
       "      <th>year old</th>\n",
       "      <th>young</th>\n",
       "      <th>youth</th>\n",
       "      <th>youtub</th>\n",
       "      <th>zoom</th>\n",
       "      <th>zoom meetup</th>\n",
       "    </tr>\n",
       "  </thead>\n",
       "  <tbody>\n",
       "    <tr>\n",
       "      <th>0</th>\n",
       "      <td>0</td>\n",
       "      <td>0</td>\n",
       "      <td>0</td>\n",
       "      <td>0</td>\n",
       "      <td>0</td>\n",
       "      <td>0</td>\n",
       "      <td>0</td>\n",
       "      <td>0</td>\n",
       "      <td>0</td>\n",
       "      <td>0</td>\n",
       "      <td>...</td>\n",
       "      <td>0</td>\n",
       "      <td>0</td>\n",
       "      <td>0</td>\n",
       "      <td>0</td>\n",
       "      <td>0</td>\n",
       "      <td>0</td>\n",
       "      <td>0</td>\n",
       "      <td>0</td>\n",
       "      <td>0</td>\n",
       "      <td>0</td>\n",
       "    </tr>\n",
       "    <tr>\n",
       "      <th>1</th>\n",
       "      <td>0</td>\n",
       "      <td>0</td>\n",
       "      <td>0</td>\n",
       "      <td>0</td>\n",
       "      <td>0</td>\n",
       "      <td>0</td>\n",
       "      <td>0</td>\n",
       "      <td>0</td>\n",
       "      <td>0</td>\n",
       "      <td>0</td>\n",
       "      <td>...</td>\n",
       "      <td>0</td>\n",
       "      <td>0</td>\n",
       "      <td>0</td>\n",
       "      <td>0</td>\n",
       "      <td>0</td>\n",
       "      <td>0</td>\n",
       "      <td>0</td>\n",
       "      <td>0</td>\n",
       "      <td>0</td>\n",
       "      <td>0</td>\n",
       "    </tr>\n",
       "    <tr>\n",
       "      <th>2</th>\n",
       "      <td>0</td>\n",
       "      <td>0</td>\n",
       "      <td>0</td>\n",
       "      <td>0</td>\n",
       "      <td>0</td>\n",
       "      <td>0</td>\n",
       "      <td>0</td>\n",
       "      <td>0</td>\n",
       "      <td>0</td>\n",
       "      <td>0</td>\n",
       "      <td>...</td>\n",
       "      <td>0</td>\n",
       "      <td>0</td>\n",
       "      <td>0</td>\n",
       "      <td>0</td>\n",
       "      <td>0</td>\n",
       "      <td>0</td>\n",
       "      <td>0</td>\n",
       "      <td>0</td>\n",
       "      <td>0</td>\n",
       "      <td>0</td>\n",
       "    </tr>\n",
       "    <tr>\n",
       "      <th>3</th>\n",
       "      <td>0</td>\n",
       "      <td>0</td>\n",
       "      <td>0</td>\n",
       "      <td>0</td>\n",
       "      <td>0</td>\n",
       "      <td>0</td>\n",
       "      <td>0</td>\n",
       "      <td>0</td>\n",
       "      <td>0</td>\n",
       "      <td>0</td>\n",
       "      <td>...</td>\n",
       "      <td>0</td>\n",
       "      <td>0</td>\n",
       "      <td>0</td>\n",
       "      <td>0</td>\n",
       "      <td>0</td>\n",
       "      <td>0</td>\n",
       "      <td>0</td>\n",
       "      <td>0</td>\n",
       "      <td>0</td>\n",
       "      <td>0</td>\n",
       "    </tr>\n",
       "    <tr>\n",
       "      <th>4</th>\n",
       "      <td>0</td>\n",
       "      <td>0</td>\n",
       "      <td>0</td>\n",
       "      <td>0</td>\n",
       "      <td>0</td>\n",
       "      <td>0</td>\n",
       "      <td>0</td>\n",
       "      <td>0</td>\n",
       "      <td>0</td>\n",
       "      <td>0</td>\n",
       "      <td>...</td>\n",
       "      <td>0</td>\n",
       "      <td>0</td>\n",
       "      <td>0</td>\n",
       "      <td>0</td>\n",
       "      <td>0</td>\n",
       "      <td>0</td>\n",
       "      <td>0</td>\n",
       "      <td>0</td>\n",
       "      <td>0</td>\n",
       "      <td>0</td>\n",
       "    </tr>\n",
       "  </tbody>\n",
       "</table>\n",
       "<p>5 rows × 1332 columns</p>\n",
       "</div>"
      ],
      "text/plain": [
       "   10  100  11  15  18  18 year  18 year old  1965  1965 sure  1st  ...  \\\n",
       "0   0    0   0   0   0        0            0     0          0    0  ...   \n",
       "1   0    0   0   0   0        0            0     0          0    0  ...   \n",
       "2   0    0   0   0   0        0            0     0          0    0  ...   \n",
       "3   0    0   0   0   0        0            0     0          0    0  ...   \n",
       "4   0    0   0   0   0        0            0     0          0    0  ...   \n",
       "\n",
       "   yamaha  yamaha svc  year  year break  year old  young  youth  youtub  zoom  \\\n",
       "0       0           0     0           0         0      0      0       0     0   \n",
       "1       0           0     0           0         0      0      0       0     0   \n",
       "2       0           0     0           0         0      0      0       0     0   \n",
       "3       0           0     0           0         0      0      0       0     0   \n",
       "4       0           0     0           0         0      0      0       0     0   \n",
       "\n",
       "   zoom meetup  \n",
       "0            0  \n",
       "1            0  \n",
       "2            0  \n",
       "3            0  \n",
       "4            0  \n",
       "\n",
       "[5 rows x 1332 columns]"
      ]
     },
     "execution_count": 18,
     "metadata": {},
     "output_type": "execute_result"
    }
   ],
   "source": [
    "# Create cv_test dataframe\n",
    "cv_test_df = pd.DataFrame(cv_test.toarray(), columns = cv.get_feature_names())\n",
    "cv_test_df.head()"
   ]
  },
  {
   "cell_type": "code",
   "execution_count": 19,
   "id": "4563d773",
   "metadata": {
    "scrolled": true
   },
   "outputs": [
    {
     "name": "stdout",
     "output_type": "stream",
     "text": [
      "Shape of cv_train: (1564, 1332)\n",
      "Shape of cv_test: (522, 1332)\n"
     ]
    }
   ],
   "source": [
    "# Check shape of cv_train and cv_test\n",
    "print(f'Shape of cv_train: {cv_train.shape}')\n",
    "print(f'Shape of cv_test: {cv_test.shape}')"
   ]
  },
  {
   "cell_type": "code",
   "execution_count": 20,
   "id": "411b6b35",
   "metadata": {},
   "outputs": [
    {
     "data": {
      "text/plain": [
       "cello       286\n",
       "violin      261\n",
       "play        132\n",
       "string      108\n",
       "bow          91\n",
       "music        90\n",
       "piec         69\n",
       "question     68\n",
       "help         68\n",
       "practic      61\n",
       "beginn       61\n",
       "learn        58\n",
       "dtype: int64"
      ]
     },
     "execution_count": 20,
     "metadata": {},
     "output_type": "execute_result"
    }
   ],
   "source": [
    "#commonwords\n",
    "cv_train_df.sum().sort_values(ascending=False).head(12)"
   ]
  },
  {
   "cell_type": "markdown",
   "id": "188074c2",
   "metadata": {},
   "source": [
    "**Logistic Regression**"
   ]
  },
  {
   "cell_type": "code",
   "execution_count": 21,
   "id": "37c76e26",
   "metadata": {},
   "outputs": [
    {
     "name": "stdout",
     "output_type": "stream",
     "text": [
      "===Logistic Regression===\n",
      "0.9597186700767263\n",
      "0.7164750957854407\n",
      "\n"
     ]
    }
   ],
   "source": [
    "# Instantiate model \n",
    "lr = LogisticRegression(penalty = 'l1', C =10 ,solver=\"liblinear\") #Lasso Regularization\n",
    "# Fit model\n",
    "lr.fit(cv_train, y_train)\n",
    "# Evaluate model.\n",
    "print(\"Logistic Regression\".center(25, \"=\"))\n",
    "print(lr.score(cv_train, y_train))\n",
    "print(lr.score(cv_test, y_test))\n",
    "print()"
   ]
  },
  {
   "cell_type": "code",
   "execution_count": 22,
   "id": "6948b617",
   "metadata": {},
   "outputs": [
    {
     "name": "stdout",
     "output_type": "stream",
     "text": [
      "===Logistic Regression===\n",
      "0.9526854219948849\n",
      "0.7509578544061303\n",
      "\n"
     ]
    }
   ],
   "source": [
    "# Instantiate model \n",
    "lr = LogisticRegression(penalty = 'l2', C =10 ,solver=\"liblinear\") #Ridge Regularization\n",
    "# Fit model\n",
    "lr.fit(cv_train, y_train)\n",
    "# Evaluate model.\n",
    "print(\"Logistic Regression\".center(25, \"=\"))\n",
    "print(lr.score(cv_train, y_train))\n",
    "print(lr.score(cv_test, y_test))\n",
    "print()"
   ]
  },
  {
   "cell_type": "markdown",
   "id": "3c7ef462",
   "metadata": {},
   "source": [
    "- The Logistic Regression model has a higher training score than the testing score under both Lasso and Ridge penalties  meaning that the model is overfit.\n",
    "-  In both cases, the model performs well on the training data, but there is a significan dropoff in performance in the testing data."
   ]
  },
  {
   "cell_type": "markdown",
   "id": "318c1f1b",
   "metadata": {},
   "source": [
    "**Multinomial Naive Bayes Model**"
   ]
  },
  {
   "cell_type": "code",
   "execution_count": 23,
   "id": "53508007",
   "metadata": {},
   "outputs": [
    {
     "name": "stdout",
     "output_type": "stream",
     "text": [
      "=======MNB========\n",
      "0.860613810741688\n",
      "0.7298850574712644\n",
      "\n"
     ]
    }
   ],
   "source": [
    "# Instantiate model \n",
    "mnb = MultinomialNB()\n",
    "# Fit model\n",
    "mnb.fit(cv_train, y_train)\n",
    "# Evaluate model.\n",
    "print(\"MNB\".center(18, \"=\"))\n",
    "print(mnb.score(cv_train, y_train))\n",
    "print(mnb.score(cv_test, y_test))\n",
    "print()"
   ]
  },
  {
   "cell_type": "markdown",
   "id": "47b65b2b",
   "metadata": {},
   "source": [
    "- Multinomial Naive Bayes Model is also overfit. \n",
    "- When compared to Logistic Regression ,this model performs worse on the training data and similarly on the testing data."
   ]
  },
  {
   "cell_type": "markdown",
   "id": "a81ffce3",
   "metadata": {},
   "source": [
    "**Decision Tree Classifier**"
   ]
  },
  {
   "cell_type": "code",
   "execution_count": 24,
   "id": "e1873fcf",
   "metadata": {},
   "outputs": [
    {
     "name": "stdout",
     "output_type": "stream",
     "text": [
      "==Decision Tree===\n",
      "0.9763427109974424\n",
      "0.7088122605363985\n",
      "\n"
     ]
    }
   ],
   "source": [
    "# Instantiate model with random_state = 42.\n",
    "dt = DecisionTreeClassifier(random_state=42,max_depth=500)\n",
    "# Fit model\n",
    "dt.fit(cv_train, y_train)\n",
    "# Evaluate model.\n",
    "print(\"Decision Tree\".center(18, \"=\"))\n",
    "print(dt.score(cv_train, y_train))\n",
    "print(dt.score(cv_test, y_test))\n",
    "print()"
   ]
  },
  {
   "cell_type": "markdown",
   "id": "9cb11169",
   "metadata": {},
   "source": [
    "- Decision Tree Classififer is also overfit.\n",
    "- When compared to Logistic Regression and Multinomial Naive Bayes testing score is lower\n",
    "- When compared to Logistic Regression and Multinomial Naive Bayes training score is higher"
   ]
  },
  {
   "cell_type": "markdown",
   "id": "fdde9688",
   "metadata": {},
   "source": [
    "**Bagging Classifier**"
   ]
  },
  {
   "cell_type": "code",
   "execution_count": 25,
   "id": "e19962fa",
   "metadata": {},
   "outputs": [
    {
     "name": "stdout",
     "output_type": "stream",
     "text": [
      "Bagging Classifier\n",
      "0.9763427109974424\n",
      "0.7030651340996169\n",
      "\n"
     ]
    }
   ],
   "source": [
    "# Instantiate model\n",
    "bag = BaggingClassifier(random_state=42, n_estimators=100)\n",
    "# Fit model\n",
    "bag.fit(cv_train, y_train)\n",
    "# Evaluate model.\n",
    "print(\"Bagging Classifier\".center(18, \"=\"))\n",
    "print(bag.score(cv_train, y_train))\n",
    "print(bag.score(cv_test, y_test))\n",
    "print()"
   ]
  },
  {
   "cell_type": "markdown",
   "id": "21dbabff",
   "metadata": {},
   "source": [
    "- Bagging Classifier is also overfit."
   ]
  },
  {
   "cell_type": "markdown",
   "id": "d71c68ce",
   "metadata": {},
   "source": [
    "**Extra Trees Classifier**"
   ]
  },
  {
   "cell_type": "code",
   "execution_count": 26,
   "id": "7600777e",
   "metadata": {},
   "outputs": [
    {
     "name": "stdout",
     "output_type": "stream",
     "text": [
      "Extra Trees Classifier\n",
      "0.9763427109974424\n",
      "0.7241379310344828\n",
      "\n"
     ]
    }
   ],
   "source": [
    "# Instantiate model\n",
    "et = ExtraTreesClassifier(random_state=42, n_estimators=50,max_depth=1000)\n",
    "# Fit model\n",
    "et.fit(cv_train, y_train)\n",
    "# Evaluate model.\n",
    "print(\"Extra Trees Classifier\".center(18, \"=\"))\n",
    "print(et.score(cv_train, y_train))\n",
    "print(et.score(cv_test, y_test))\n",
    "print()"
   ]
  },
  {
   "cell_type": "markdown",
   "id": "9d1cfa7d",
   "metadata": {},
   "source": [
    "- Extra Trees Classifier is also overfit."
   ]
  },
  {
   "cell_type": "markdown",
   "id": "f94385b3",
   "metadata": {},
   "source": [
    "**Random Forest Classifier**"
   ]
  },
  {
   "cell_type": "code",
   "execution_count": 27,
   "id": "ed8b0f3a",
   "metadata": {},
   "outputs": [
    {
     "name": "stdout",
     "output_type": "stream",
     "text": [
      "Random Forest Classifier\n",
      "0.9763427109974424\n",
      "0.7068965517241379\n",
      "\n"
     ]
    }
   ],
   "source": [
    "# Instantiate model\n",
    "rfc = RandomForestClassifier(random_state=42, n_estimators=500,max_depth=1000)\n",
    "# Fit model\n",
    "rfc.fit(cv_train, y_train)\n",
    "# Evaluate model.\n",
    "print(\"Random Forest Classifier\".center(18, \"=\"))\n",
    "print(rfc.score(cv_train, y_train))\n",
    "print(rfc.score(cv_test, y_test))\n",
    "print()"
   ]
  },
  {
   "cell_type": "markdown",
   "id": "b9e6ebf7",
   "metadata": {},
   "source": [
    "- The Random Forest Model is also overfit and performs very similarly to the Extra Trees and Bagging classifier  on  training data."
   ]
  },
  {
   "cell_type": "markdown",
   "id": "5ce5319c",
   "metadata": {},
   "source": [
    "**The best model under CountVectorizer is  Logistic Regression Model (Ridge) based on test scores**"
   ]
  },
  {
   "cell_type": "markdown",
   "id": "d97f4aee",
   "metadata": {},
   "source": [
    "|                \t| LogisticRegression(Lasso) \t| LogisticRegression(Ridge) \t|  MNB  \t| Decision Tree  \t| Bagging Classifier \t|  Extra Trees  \t| Random Forest  \t|\n",
    "|:--------------:\t|:-------------------------:\t|:-------------------------:\t|:-----:\t|:--------------:\t|:------------------:\t|:-------------:\t|:--------------:\t|\n",
    "| Training score \t|           0.959           \t|           0.952           \t| 0.860 \t|      0.976     \t|        0.976       \t|     0.976     \t|      0.976     \t|\n",
    "|  Testing score \t|           0.714           \t|           0.750           \t| 0.729 \t|      0.708     \t|        0.703       \t|     0.724     \t|      0.706     \t|"
   ]
  },
  {
   "cell_type": "markdown",
   "id": "22969d8a",
   "metadata": {},
   "source": [
    "**GridSearch**"
   ]
  },
  {
   "cell_type": "code",
   "execution_count": 96,
   "id": "50878866",
   "metadata": {},
   "outputs": [
    {
     "name": "stdout",
     "output_type": "stream",
     "text": [
      "Fitting 5 folds for each of 5 candidates, totalling 25 fits\n",
      "Best Score: 0.7333579093962481\n",
      "Best Parameters:{'C': 0.1, 'penalty': 'l2'}\n",
      "===Grid Search====\n",
      "0.8478260869565217\n",
      "0.7145593869731801\n",
      "\n"
     ]
    }
   ],
   "source": [
    "# Instantiate model\n",
    "lr_gs = LogisticRegression(random_state=42,solver='liblinear')\n",
    "# Create dictionary of hyperparameters.\n",
    "# The keys MUST match the names of the arguments!\n",
    "lr_params = {'penalty': ['l2'],\n",
    "         'C': [0.01,0.1,1.0,10.0,50.0]}\n",
    "# Instantiate our GridSearchCV object.\n",
    "gs = GridSearchCV(estimator=lr_gs, param_grid=lr_params, cv=5,verbose=1)\n",
    "# Fit the GridSearchCV object to the data\n",
    "gs.fit(cv_train, y_train)\n",
    "# Print out the score.\n",
    "print(f'Best Score: {gs.best_score_}')\n",
    "print(f'Best Parameters:{gs.best_params_}')\n",
    "print(\"Grid Search\".center(18, \"=\"))\n",
    "print(gs.score(cv_train, y_train))\n",
    "print(gs.score(cv_test, y_test))\n",
    "print()"
   ]
  },
  {
   "cell_type": "markdown",
   "id": "9b1dbd28",
   "metadata": {},
   "source": [
    "- After running our GridSearch model we see that our best score is a 0.733. \n",
    "- However, when we score our Gridsearch model to the training and testing data, the model doesn't perform better compared to the original model that we ran. "
   ]
  },
  {
   "cell_type": "markdown",
   "id": "83601299",
   "metadata": {},
   "source": [
    "### TfidfVectorizer"
   ]
  },
  {
   "cell_type": "code",
   "execution_count": 29,
   "id": "4cfcf769",
   "metadata": {},
   "outputs": [],
   "source": [
    "# Instantiate the transformer.\n",
    "tf = TfidfVectorizer(min_df=2,                   # Ignore words that do not occur at least 2 times\n",
    "                    ngram_range=(1,5))          # Set ngram_range"
   ]
  },
  {
   "cell_type": "code",
   "execution_count": 30,
   "id": "e86df030",
   "metadata": {},
   "outputs": [],
   "source": [
    "tf_train = tf.fit_transform(X_train)            # Fit the TfidfVectorizer to the training data\n",
    "tf_test = tf.transform(X_test)                  # Fit the TfidfVectorizer to the testing data"
   ]
  },
  {
   "cell_type": "code",
   "execution_count": 31,
   "id": "6e406c84",
   "metadata": {},
   "outputs": [
    {
     "data": {
      "text/html": [
       "<div>\n",
       "<style scoped>\n",
       "    .dataframe tbody tr th:only-of-type {\n",
       "        vertical-align: middle;\n",
       "    }\n",
       "\n",
       "    .dataframe tbody tr th {\n",
       "        vertical-align: top;\n",
       "    }\n",
       "\n",
       "    .dataframe thead th {\n",
       "        text-align: right;\n",
       "    }\n",
       "</style>\n",
       "<table border=\"1\" class=\"dataframe\">\n",
       "  <thead>\n",
       "    <tr style=\"text-align: right;\">\n",
       "      <th></th>\n",
       "      <th>10</th>\n",
       "      <th>100</th>\n",
       "      <th>11</th>\n",
       "      <th>15</th>\n",
       "      <th>18</th>\n",
       "      <th>18 year</th>\n",
       "      <th>18 year old</th>\n",
       "      <th>1965</th>\n",
       "      <th>1965 sure</th>\n",
       "      <th>1st</th>\n",
       "      <th>...</th>\n",
       "      <th>yamaha</th>\n",
       "      <th>yamaha svc</th>\n",
       "      <th>year</th>\n",
       "      <th>year break</th>\n",
       "      <th>year old</th>\n",
       "      <th>young</th>\n",
       "      <th>youth</th>\n",
       "      <th>youtub</th>\n",
       "      <th>zoom</th>\n",
       "      <th>zoom meetup</th>\n",
       "    </tr>\n",
       "  </thead>\n",
       "  <tbody>\n",
       "    <tr>\n",
       "      <th>0</th>\n",
       "      <td>0.0</td>\n",
       "      <td>0.0</td>\n",
       "      <td>0.0</td>\n",
       "      <td>0.0</td>\n",
       "      <td>0.0</td>\n",
       "      <td>0.0</td>\n",
       "      <td>0.0</td>\n",
       "      <td>0.0</td>\n",
       "      <td>0.0</td>\n",
       "      <td>0.000000</td>\n",
       "      <td>...</td>\n",
       "      <td>0.0</td>\n",
       "      <td>0.0</td>\n",
       "      <td>0.0</td>\n",
       "      <td>0.0</td>\n",
       "      <td>0.0</td>\n",
       "      <td>0.0</td>\n",
       "      <td>0.0</td>\n",
       "      <td>0.0</td>\n",
       "      <td>0.0</td>\n",
       "      <td>0.0</td>\n",
       "    </tr>\n",
       "    <tr>\n",
       "      <th>1</th>\n",
       "      <td>0.0</td>\n",
       "      <td>0.0</td>\n",
       "      <td>0.0</td>\n",
       "      <td>0.0</td>\n",
       "      <td>0.0</td>\n",
       "      <td>0.0</td>\n",
       "      <td>0.0</td>\n",
       "      <td>0.0</td>\n",
       "      <td>0.0</td>\n",
       "      <td>0.000000</td>\n",
       "      <td>...</td>\n",
       "      <td>0.0</td>\n",
       "      <td>0.0</td>\n",
       "      <td>0.0</td>\n",
       "      <td>0.0</td>\n",
       "      <td>0.0</td>\n",
       "      <td>0.0</td>\n",
       "      <td>0.0</td>\n",
       "      <td>0.0</td>\n",
       "      <td>0.0</td>\n",
       "      <td>0.0</td>\n",
       "    </tr>\n",
       "    <tr>\n",
       "      <th>2</th>\n",
       "      <td>0.0</td>\n",
       "      <td>0.0</td>\n",
       "      <td>0.0</td>\n",
       "      <td>0.0</td>\n",
       "      <td>0.0</td>\n",
       "      <td>0.0</td>\n",
       "      <td>0.0</td>\n",
       "      <td>0.0</td>\n",
       "      <td>0.0</td>\n",
       "      <td>0.639188</td>\n",
       "      <td>...</td>\n",
       "      <td>0.0</td>\n",
       "      <td>0.0</td>\n",
       "      <td>0.0</td>\n",
       "      <td>0.0</td>\n",
       "      <td>0.0</td>\n",
       "      <td>0.0</td>\n",
       "      <td>0.0</td>\n",
       "      <td>0.0</td>\n",
       "      <td>0.0</td>\n",
       "      <td>0.0</td>\n",
       "    </tr>\n",
       "    <tr>\n",
       "      <th>3</th>\n",
       "      <td>0.0</td>\n",
       "      <td>0.0</td>\n",
       "      <td>0.0</td>\n",
       "      <td>0.0</td>\n",
       "      <td>0.0</td>\n",
       "      <td>0.0</td>\n",
       "      <td>0.0</td>\n",
       "      <td>0.0</td>\n",
       "      <td>0.0</td>\n",
       "      <td>0.000000</td>\n",
       "      <td>...</td>\n",
       "      <td>0.0</td>\n",
       "      <td>0.0</td>\n",
       "      <td>0.0</td>\n",
       "      <td>0.0</td>\n",
       "      <td>0.0</td>\n",
       "      <td>0.0</td>\n",
       "      <td>0.0</td>\n",
       "      <td>0.0</td>\n",
       "      <td>0.0</td>\n",
       "      <td>0.0</td>\n",
       "    </tr>\n",
       "    <tr>\n",
       "      <th>4</th>\n",
       "      <td>0.0</td>\n",
       "      <td>0.0</td>\n",
       "      <td>0.0</td>\n",
       "      <td>0.0</td>\n",
       "      <td>0.0</td>\n",
       "      <td>0.0</td>\n",
       "      <td>0.0</td>\n",
       "      <td>0.0</td>\n",
       "      <td>0.0</td>\n",
       "      <td>0.000000</td>\n",
       "      <td>...</td>\n",
       "      <td>0.0</td>\n",
       "      <td>0.0</td>\n",
       "      <td>0.0</td>\n",
       "      <td>0.0</td>\n",
       "      <td>0.0</td>\n",
       "      <td>0.0</td>\n",
       "      <td>0.0</td>\n",
       "      <td>0.0</td>\n",
       "      <td>0.0</td>\n",
       "      <td>0.0</td>\n",
       "    </tr>\n",
       "  </tbody>\n",
       "</table>\n",
       "<p>5 rows × 1332 columns</p>\n",
       "</div>"
      ],
      "text/plain": [
       "    10  100   11   15   18  18 year  18 year old  1965  1965 sure       1st  \\\n",
       "0  0.0  0.0  0.0  0.0  0.0      0.0          0.0   0.0        0.0  0.000000   \n",
       "1  0.0  0.0  0.0  0.0  0.0      0.0          0.0   0.0        0.0  0.000000   \n",
       "2  0.0  0.0  0.0  0.0  0.0      0.0          0.0   0.0        0.0  0.639188   \n",
       "3  0.0  0.0  0.0  0.0  0.0      0.0          0.0   0.0        0.0  0.000000   \n",
       "4  0.0  0.0  0.0  0.0  0.0      0.0          0.0   0.0        0.0  0.000000   \n",
       "\n",
       "   ...  yamaha  yamaha svc  year  year break  year old  young  youth  youtub  \\\n",
       "0  ...     0.0         0.0   0.0         0.0       0.0    0.0    0.0     0.0   \n",
       "1  ...     0.0         0.0   0.0         0.0       0.0    0.0    0.0     0.0   \n",
       "2  ...     0.0         0.0   0.0         0.0       0.0    0.0    0.0     0.0   \n",
       "3  ...     0.0         0.0   0.0         0.0       0.0    0.0    0.0     0.0   \n",
       "4  ...     0.0         0.0   0.0         0.0       0.0    0.0    0.0     0.0   \n",
       "\n",
       "   zoom  zoom meetup  \n",
       "0   0.0          0.0  \n",
       "1   0.0          0.0  \n",
       "2   0.0          0.0  \n",
       "3   0.0          0.0  \n",
       "4   0.0          0.0  \n",
       "\n",
       "[5 rows x 1332 columns]"
      ]
     },
     "execution_count": 31,
     "metadata": {},
     "output_type": "execute_result"
    }
   ],
   "source": [
    "# Create tf_train dataframe\n",
    "tf_train_df = pd.DataFrame(tf_train.toarray(), columns = tf.get_feature_names())\n",
    "tf_train_df.head()"
   ]
  },
  {
   "cell_type": "code",
   "execution_count": 32,
   "id": "24ef296a",
   "metadata": {},
   "outputs": [
    {
     "data": {
      "text/html": [
       "<div>\n",
       "<style scoped>\n",
       "    .dataframe tbody tr th:only-of-type {\n",
       "        vertical-align: middle;\n",
       "    }\n",
       "\n",
       "    .dataframe tbody tr th {\n",
       "        vertical-align: top;\n",
       "    }\n",
       "\n",
       "    .dataframe thead th {\n",
       "        text-align: right;\n",
       "    }\n",
       "</style>\n",
       "<table border=\"1\" class=\"dataframe\">\n",
       "  <thead>\n",
       "    <tr style=\"text-align: right;\">\n",
       "      <th></th>\n",
       "      <th>10</th>\n",
       "      <th>100</th>\n",
       "      <th>11</th>\n",
       "      <th>15</th>\n",
       "      <th>18</th>\n",
       "      <th>18 year</th>\n",
       "      <th>18 year old</th>\n",
       "      <th>1965</th>\n",
       "      <th>1965 sure</th>\n",
       "      <th>1st</th>\n",
       "      <th>...</th>\n",
       "      <th>yamaha</th>\n",
       "      <th>yamaha svc</th>\n",
       "      <th>year</th>\n",
       "      <th>year break</th>\n",
       "      <th>year old</th>\n",
       "      <th>young</th>\n",
       "      <th>youth</th>\n",
       "      <th>youtub</th>\n",
       "      <th>zoom</th>\n",
       "      <th>zoom meetup</th>\n",
       "    </tr>\n",
       "  </thead>\n",
       "  <tbody>\n",
       "    <tr>\n",
       "      <th>0</th>\n",
       "      <td>0.0</td>\n",
       "      <td>0.0</td>\n",
       "      <td>0.0</td>\n",
       "      <td>0.0</td>\n",
       "      <td>0.0</td>\n",
       "      <td>0.0</td>\n",
       "      <td>0.0</td>\n",
       "      <td>0.0</td>\n",
       "      <td>0.0</td>\n",
       "      <td>0.0</td>\n",
       "      <td>...</td>\n",
       "      <td>0.0</td>\n",
       "      <td>0.0</td>\n",
       "      <td>0.0</td>\n",
       "      <td>0.0</td>\n",
       "      <td>0.0</td>\n",
       "      <td>0.0</td>\n",
       "      <td>0.0</td>\n",
       "      <td>0.0</td>\n",
       "      <td>0.0</td>\n",
       "      <td>0.0</td>\n",
       "    </tr>\n",
       "    <tr>\n",
       "      <th>1</th>\n",
       "      <td>0.0</td>\n",
       "      <td>0.0</td>\n",
       "      <td>0.0</td>\n",
       "      <td>0.0</td>\n",
       "      <td>0.0</td>\n",
       "      <td>0.0</td>\n",
       "      <td>0.0</td>\n",
       "      <td>0.0</td>\n",
       "      <td>0.0</td>\n",
       "      <td>0.0</td>\n",
       "      <td>...</td>\n",
       "      <td>0.0</td>\n",
       "      <td>0.0</td>\n",
       "      <td>0.0</td>\n",
       "      <td>0.0</td>\n",
       "      <td>0.0</td>\n",
       "      <td>0.0</td>\n",
       "      <td>0.0</td>\n",
       "      <td>0.0</td>\n",
       "      <td>0.0</td>\n",
       "      <td>0.0</td>\n",
       "    </tr>\n",
       "    <tr>\n",
       "      <th>2</th>\n",
       "      <td>0.0</td>\n",
       "      <td>0.0</td>\n",
       "      <td>0.0</td>\n",
       "      <td>0.0</td>\n",
       "      <td>0.0</td>\n",
       "      <td>0.0</td>\n",
       "      <td>0.0</td>\n",
       "      <td>0.0</td>\n",
       "      <td>0.0</td>\n",
       "      <td>0.0</td>\n",
       "      <td>...</td>\n",
       "      <td>0.0</td>\n",
       "      <td>0.0</td>\n",
       "      <td>0.0</td>\n",
       "      <td>0.0</td>\n",
       "      <td>0.0</td>\n",
       "      <td>0.0</td>\n",
       "      <td>0.0</td>\n",
       "      <td>0.0</td>\n",
       "      <td>0.0</td>\n",
       "      <td>0.0</td>\n",
       "    </tr>\n",
       "    <tr>\n",
       "      <th>3</th>\n",
       "      <td>0.0</td>\n",
       "      <td>0.0</td>\n",
       "      <td>0.0</td>\n",
       "      <td>0.0</td>\n",
       "      <td>0.0</td>\n",
       "      <td>0.0</td>\n",
       "      <td>0.0</td>\n",
       "      <td>0.0</td>\n",
       "      <td>0.0</td>\n",
       "      <td>0.0</td>\n",
       "      <td>...</td>\n",
       "      <td>0.0</td>\n",
       "      <td>0.0</td>\n",
       "      <td>0.0</td>\n",
       "      <td>0.0</td>\n",
       "      <td>0.0</td>\n",
       "      <td>0.0</td>\n",
       "      <td>0.0</td>\n",
       "      <td>0.0</td>\n",
       "      <td>0.0</td>\n",
       "      <td>0.0</td>\n",
       "    </tr>\n",
       "    <tr>\n",
       "      <th>4</th>\n",
       "      <td>0.0</td>\n",
       "      <td>0.0</td>\n",
       "      <td>0.0</td>\n",
       "      <td>0.0</td>\n",
       "      <td>0.0</td>\n",
       "      <td>0.0</td>\n",
       "      <td>0.0</td>\n",
       "      <td>0.0</td>\n",
       "      <td>0.0</td>\n",
       "      <td>0.0</td>\n",
       "      <td>...</td>\n",
       "      <td>0.0</td>\n",
       "      <td>0.0</td>\n",
       "      <td>0.0</td>\n",
       "      <td>0.0</td>\n",
       "      <td>0.0</td>\n",
       "      <td>0.0</td>\n",
       "      <td>0.0</td>\n",
       "      <td>0.0</td>\n",
       "      <td>0.0</td>\n",
       "      <td>0.0</td>\n",
       "    </tr>\n",
       "  </tbody>\n",
       "</table>\n",
       "<p>5 rows × 1332 columns</p>\n",
       "</div>"
      ],
      "text/plain": [
       "    10  100   11   15   18  18 year  18 year old  1965  1965 sure  1st  ...  \\\n",
       "0  0.0  0.0  0.0  0.0  0.0      0.0          0.0   0.0        0.0  0.0  ...   \n",
       "1  0.0  0.0  0.0  0.0  0.0      0.0          0.0   0.0        0.0  0.0  ...   \n",
       "2  0.0  0.0  0.0  0.0  0.0      0.0          0.0   0.0        0.0  0.0  ...   \n",
       "3  0.0  0.0  0.0  0.0  0.0      0.0          0.0   0.0        0.0  0.0  ...   \n",
       "4  0.0  0.0  0.0  0.0  0.0      0.0          0.0   0.0        0.0  0.0  ...   \n",
       "\n",
       "   yamaha  yamaha svc  year  year break  year old  young  youth  youtub  zoom  \\\n",
       "0     0.0         0.0   0.0         0.0       0.0    0.0    0.0     0.0   0.0   \n",
       "1     0.0         0.0   0.0         0.0       0.0    0.0    0.0     0.0   0.0   \n",
       "2     0.0         0.0   0.0         0.0       0.0    0.0    0.0     0.0   0.0   \n",
       "3     0.0         0.0   0.0         0.0       0.0    0.0    0.0     0.0   0.0   \n",
       "4     0.0         0.0   0.0         0.0       0.0    0.0    0.0     0.0   0.0   \n",
       "\n",
       "   zoom meetup  \n",
       "0          0.0  \n",
       "1          0.0  \n",
       "2          0.0  \n",
       "3          0.0  \n",
       "4          0.0  \n",
       "\n",
       "[5 rows x 1332 columns]"
      ]
     },
     "execution_count": 32,
     "metadata": {},
     "output_type": "execute_result"
    }
   ],
   "source": [
    "# Create tf_test dataframe\n",
    "tf_test_df = pd.DataFrame(tf_test.todense(), columns = tf.get_feature_names())\n",
    "tf_test_df.head()"
   ]
  },
  {
   "cell_type": "code",
   "execution_count": 33,
   "id": "f110b623",
   "metadata": {},
   "outputs": [
    {
     "name": "stdout",
     "output_type": "stream",
     "text": [
      "Shape of tf_train: (1564, 1332)\n",
      "Shape of tf_test: (522, 1332)\n"
     ]
    }
   ],
   "source": [
    "# Check shape of tf_train and tf_test\n",
    "print(f'Shape of tf_train: {tf_train.shape}')\n",
    "print(f'Shape of tf_test: {tf_test.shape}')"
   ]
  },
  {
   "cell_type": "markdown",
   "id": "56a0d9cb",
   "metadata": {},
   "source": [
    "**Logistic Regression**"
   ]
  },
  {
   "cell_type": "code",
   "execution_count": 34,
   "id": "2181313a",
   "metadata": {},
   "outputs": [
    {
     "name": "stdout",
     "output_type": "stream",
     "text": [
      "===Logistic Regression===\n",
      "0.9661125319693095\n",
      "0.7241379310344828\n",
      "\n"
     ]
    }
   ],
   "source": [
    "# Instantiate model \n",
    "logreg = LogisticRegression(penalty = 'l1', C =500 ,solver=\"liblinear\") #Lasso Regularization\n",
    "# Fit model\n",
    "logreg.fit(tf_train, y_train)\n",
    "# Evaluate model.\n",
    "print(\"Logistic Regression\".center(25, \"=\"))\n",
    "print(logreg.score(tf_train, y_train))\n",
    "print(logreg.score(tf_test, y_test))\n",
    "print()"
   ]
  },
  {
   "cell_type": "code",
   "execution_count": 35,
   "id": "b67bb97a",
   "metadata": {},
   "outputs": [
    {
     "name": "stdout",
     "output_type": "stream",
     "text": [
      "===Logistic Regression===\n",
      "0.9661125319693095\n",
      "0.7241379310344828\n",
      "\n"
     ]
    }
   ],
   "source": [
    "# Instantiate model \n",
    "logreg = LogisticRegression(penalty = 'l2', C =500 ,solver=\"liblinear\") #Ridge Regularization\n",
    "# Fit model\n",
    "logreg.fit(tf_train, y_train)\n",
    "# Evaluate model.\n",
    "print(\"Logistic Regression\".center(25, \"=\"))\n",
    "print(logreg.score(tf_train, y_train))\n",
    "print(logreg.score(tf_test, y_test))\n",
    "print()"
   ]
  },
  {
   "cell_type": "markdown",
   "id": "2cf91029",
   "metadata": {},
   "source": [
    "- The Logistic Regression model has a higher training score than the testing score under both Lasso and Ridge penalties meaning that the model is overfit. \n",
    "- In both cases, the model performs well on the training data, but there is a significant dropoff in performance in the testing data."
   ]
  },
  {
   "cell_type": "markdown",
   "id": "362ba0d8",
   "metadata": {},
   "source": [
    "| TFIDF \t| Train Score \t| Test Score \t|\n",
    "|:-----:\t|:-----------:\t|:----------:\t|\n",
    "| Lasso \t|     0.966     |     0.726     |\n",
    "| Ridge \t|     0.966     |     0.724     |"
   ]
  },
  {
   "cell_type": "markdown",
   "id": "e2d84a6f",
   "metadata": {},
   "source": [
    "|  CV    \t| Train Score \t| Test Score \t|\n",
    "|:-----:\t|:-----------:\t|:----------:\t|\n",
    "| Lasso \t|     0.959     |     0.714     |\n",
    "| Ridge \t|     0.952     |        0.750  |"
   ]
  },
  {
   "cell_type": "markdown",
   "id": "4c21ccd4",
   "metadata": {},
   "source": [
    "- In comparison with the CountVectorizer, the training score for both Lasso and Ridge are higher under the Tfidf\n",
    "- Ridge testing score was lower  in Tfidf compared to CV Ridge test score , however Lasso test score was higher in Tfidf compared to CV"
   ]
  },
  {
   "cell_type": "markdown",
   "id": "706e53a1",
   "metadata": {},
   "source": [
    "**Multinomial Naive Bayes Model**"
   ]
  },
  {
   "cell_type": "code",
   "execution_count": 36,
   "id": "046c11e0",
   "metadata": {},
   "outputs": [
    {
     "name": "stdout",
     "output_type": "stream",
     "text": [
      "=======MNB========\n",
      "0.8734015345268542\n",
      "0.7375478927203065\n",
      "\n"
     ]
    }
   ],
   "source": [
    "# Instantiate model \n",
    "mnb_tf = MultinomialNB()\n",
    "# Fit model\n",
    "mnb_tf.fit(tf_train, y_train)\n",
    "# Evaluate model.\n",
    "print(\"MNB\".center(18, \"=\"))\n",
    "print(mnb_tf.score(tf_train, y_train))\n",
    "print(mnb_tf.score(tf_test, y_test))\n",
    "print()"
   ]
  },
  {
   "cell_type": "markdown",
   "id": "d39c2c94",
   "metadata": {},
   "source": [
    "|       \t| Train Score \t| Test Score \t|\n",
    "|:-----:\t|:-----------:\t|:----------:\t|\n",
    "| TFIDF \t|     0.873     |   0.737       |\n",
    "|   CV  \t|     0.860     |   0.729       |"
   ]
  },
  {
   "cell_type": "markdown",
   "id": "9b262b0e",
   "metadata": {},
   "source": [
    "- Model is still overfit under the Tfidf.\n",
    "- The training and testing score performed better than the model under the CountVectorizer."
   ]
  },
  {
   "cell_type": "markdown",
   "id": "481278dd",
   "metadata": {},
   "source": [
    "**Decision Tree Classifier**"
   ]
  },
  {
   "cell_type": "code",
   "execution_count": 37,
   "id": "bcfcc0f6",
   "metadata": {
    "scrolled": true
   },
   "outputs": [
    {
     "name": "stdout",
     "output_type": "stream",
     "text": [
      "==Decision Tree===\n",
      "0.909846547314578\n",
      "0.7452107279693486\n",
      "\n"
     ]
    }
   ],
   "source": [
    "# Instantiate model with random_state = 42.\n",
    "dt_tf = DecisionTreeClassifier(random_state=42,max_depth=100)\n",
    "# Fit model\n",
    "dt_tf.fit(tf_train, y_train)\n",
    "# Evaluate model.\n",
    "print(\"Decision Tree\".center(18, \"=\"))\n",
    "print(dt_tf.score(tf_train, y_train))\n",
    "print(dt_tf.score(tf_test, y_test))\n",
    "print()"
   ]
  },
  {
   "cell_type": "markdown",
   "id": "2437dcde",
   "metadata": {},
   "source": [
    "|       \t| Train Score \t| Test Score \t|\n",
    "|:-----:\t|:-----------:\t|:----------:\t|\n",
    "| TFIDF \t|     0.909     |   0.745       |\n",
    "|   CV  \t|     0.976     |   0.708       |"
   ]
  },
  {
   "cell_type": "markdown",
   "id": "a44d1c6a",
   "metadata": {},
   "source": [
    "- Model is still overfit under the Tfidf.\n",
    "- Testing score performed better than the model under the CountVectorizer.\n",
    "- Training score performed better in the CountVectorizer than under the Tfidf."
   ]
  },
  {
   "cell_type": "markdown",
   "id": "850e41d2",
   "metadata": {},
   "source": [
    "**Bagging Classifier**"
   ]
  },
  {
   "cell_type": "code",
   "execution_count": 38,
   "id": "1d9b4e47",
   "metadata": {
    "scrolled": true
   },
   "outputs": [
    {
     "name": "stdout",
     "output_type": "stream",
     "text": [
      "Bagging Classifier\n",
      "0.9763427109974424\n",
      "0.7164750957854407\n",
      "\n"
     ]
    }
   ],
   "source": [
    "# Instantiate model\n",
    "bag_tf = BaggingClassifier(random_state=42, n_estimators=500)\n",
    "# Fit model\n",
    "bag_tf.fit(tf_train, y_train)\n",
    "# Evaluate model.\n",
    "print(\"Bagging Classifier\".center(18, \"=\"))\n",
    "print(bag_tf.score(tf_train, y_train))\n",
    "print(bag_tf.score(tf_test, y_test))\n",
    "print()"
   ]
  },
  {
   "cell_type": "markdown",
   "id": "f9fb1773",
   "metadata": {},
   "source": [
    "|       \t| Train Score \t| Test Score \t|\n",
    "|:-----:\t|:-----------:\t|:----------:\t|\n",
    "| TFIDF \t|     0.976     |    0.716      |\n",
    "|   CV  \t|     0.976     |    0.703      |"
   ]
  },
  {
   "cell_type": "markdown",
   "id": "88c2f911",
   "metadata": {},
   "source": [
    "- Model is still overfit under the Tfidf.\n",
    "- Testing score performed slightly better than the model under the CountVectorizer."
   ]
  },
  {
   "cell_type": "markdown",
   "id": "eb401781",
   "metadata": {},
   "source": [
    "**Extra Trees Classifier**"
   ]
  },
  {
   "cell_type": "code",
   "execution_count": 39,
   "id": "5be4f756",
   "metadata": {
    "scrolled": true
   },
   "outputs": [
    {
     "name": "stdout",
     "output_type": "stream",
     "text": [
      "Extra Trees Classifier\n",
      "0.9763427109974424\n",
      "0.7337164750957854\n",
      "\n"
     ]
    }
   ],
   "source": [
    "# Instantiate model\n",
    "et_tf = ExtraTreesClassifier(random_state=42, n_estimators=50,max_depth=1000)\n",
    "# Fit model\n",
    "et_tf.fit(tf_train, y_train)\n",
    "# Evaluate model.\n",
    "print(\"Extra Trees Classifier\".center(18, \"=\"))\n",
    "print(et_tf.score(tf_train, y_train))\n",
    "print(et_tf.score(tf_test, y_test))\n",
    "print()"
   ]
  },
  {
   "cell_type": "markdown",
   "id": "671c5182",
   "metadata": {},
   "source": [
    "|       \t| Train Score \t| Test Score \t|\n",
    "|:-----:\t|:-----------:\t|:----------:\t|\n",
    "| TFIDF \t|    0.976      |    0.733      |\n",
    "|   CV  \t|    0.976      |    0.724      |"
   ]
  },
  {
   "cell_type": "markdown",
   "id": "28a5b868",
   "metadata": {},
   "source": [
    "- Model is still overfit under the Tfidf.\n",
    "- Testing score performed slightly better than the model under the CountVectorizer."
   ]
  },
  {
   "cell_type": "markdown",
   "id": "1d9e46be",
   "metadata": {},
   "source": [
    "**Random Forest Classifier**"
   ]
  },
  {
   "cell_type": "code",
   "execution_count": 40,
   "id": "d42cc264",
   "metadata": {},
   "outputs": [
    {
     "name": "stdout",
     "output_type": "stream",
     "text": [
      "Random Forest Classifier\n",
      "0.9763427109974424\n",
      "0.7203065134099617\n",
      "\n"
     ]
    }
   ],
   "source": [
    "# Instantiate model\n",
    "rfc_tf = RandomForestClassifier(random_state=42, n_estimators=50,max_depth=1000)\n",
    "# Fit model\n",
    "rfc_tf.fit(tf_train, y_train)\n",
    "# Evaluate model.\n",
    "print(\"Random Forest Classifier\".center(18, \"=\"))\n",
    "print(rfc_tf.score(tf_train, y_train))\n",
    "print(rfc_tf.score(tf_test, y_test))\n",
    "print()"
   ]
  },
  {
   "cell_type": "markdown",
   "id": "3f12978e",
   "metadata": {},
   "source": [
    "|       \t| Train Score \t| Test Score \t|\n",
    "|:-----:\t|:-----------:\t|:----------:\t|\n",
    "| TFIDF \t|   0.976       |     0.720     |\n",
    "|   CV  \t|   0.976     \t|     0.706    \t|"
   ]
  },
  {
   "cell_type": "markdown",
   "id": "1b72c2b6",
   "metadata": {},
   "source": [
    "- Model is still overfit under the Tfidf.\n",
    "- Testing score performed slightly better than the model under the CountVectorizer."
   ]
  },
  {
   "cell_type": "markdown",
   "id": "5e954fc0",
   "metadata": {},
   "source": [
    "**The best model under Tfidf Vectorizer is Random Forest based on test and train scores**"
   ]
  },
  {
   "cell_type": "markdown",
   "id": "8ab88b94",
   "metadata": {},
   "source": [
    "|                \t| LogisticRegression(Lasso) \t| LogisticRegression(Ridge) \t|  MNB  \t| Decision Tree \t| Bagging Classifier \t| Extra Trees \t| Random Forest \t|\n",
    "|:--------------:\t|:-------------------------:\t|:-------------------------:\t|:-----:\t|:-------------:\t|:------------------:\t|:-----------:\t|:-------------:\t|\n",
    "| Training score \t|           0.966           \t|           0.966           \t| 0.873 \t|     0.909     \t|        0.976       \t|    0.976    \t|     0.976     \t|\n",
    "|  Testing score \t|           0.726           \t|           0.724           \t| 0.737 \t|     0.745     \t|        0.716       \t|    0.733    \t|     0.720     \t|"
   ]
  },
  {
   "cell_type": "markdown",
   "id": "bae78146",
   "metadata": {},
   "source": [
    "**GridSearch**"
   ]
  },
  {
   "cell_type": "code",
   "execution_count": 103,
   "id": "60e3f07b",
   "metadata": {},
   "outputs": [
    {
     "name": "stdout",
     "output_type": "stream",
     "text": [
      "Fitting 5 folds for each of 16 candidates, totalling 80 fits\n",
      "Best Score: 0.7250614401572868\n",
      "Best Parameters:{'max_depth': 50, 'n_estimators': 10}\n",
      "===Grid Search====\n",
      "0.7161125319693095\n",
      "0.6781609195402298\n",
      "\n"
     ]
    }
   ],
   "source": [
    "# Instantiate model\n",
    "et_gs = ExtraTreesClassifier(random_state=42)\n",
    "# Create dictionary of hyperparameters.\n",
    "# The keys MUST match the names of the arguments!\n",
    "param_grid = {\n",
    "    'n_estimators': [10,20,30, 50],\n",
    "    'max_depth': [10,20,50,100]\n",
    "}\n",
    "# Instantiate our GridSearchCV object.\n",
    "gs_tf = GridSearchCV(estimator=rfc_gs, param_grid=param_grid, cv=5,verbose=1)\n",
    "# Fit the GridSearchCV object to the data\n",
    "gs_tf.fit(cv_train, y_train)\n",
    "# Print out the score.\n",
    "print(f'Best Score: {gs_tf.best_score_}')\n",
    "print(f'Best Parameters:{gs_tf.best_params_}')\n",
    "print(\"Grid Search\".center(18, \"=\"))\n",
    "print(gs_tf.score(tf_train, y_train))\n",
    "print(gs_tf.score(tf_test, y_test))\n",
    "print()"
   ]
  },
  {
   "cell_type": "markdown",
   "id": "d66b0a10",
   "metadata": {},
   "source": [
    "- After running our GridSearch model we see that our best score is a 0.716.\n",
    "- However, when we score our Gridsearch model to the training and testing data, the model doesn't perform better compared to the original model that we ran."
   ]
  },
  {
   "cell_type": "markdown",
   "id": "b7dc7807",
   "metadata": {},
   "source": [
    "### Evaluation"
   ]
  },
  {
   "cell_type": "markdown",
   "id": "b071f2f0",
   "metadata": {},
   "source": [
    "|             \t    |      **Count Vectorizer**         |     **TFIDF Vectorizer**      |\n",
    "|:-----------:\t    |:--------------------------:\t    |:------------------------:\t    |\n",
    "|  **GridSearch** \t| **Logistic Regression(Ridge)** \t| **Extra Trees Classifier** \t|\n",
    "|  **Best Score** \t|            **0.733**              |            **0.725**          |\n",
    "| **Train Score**\t|            **0.847**              |            **0.716**          |\n",
    "|  **Test Score** \t|            **0.714**              |            **0.678**          |"
   ]
  },
  {
   "cell_type": "markdown",
   "id": "affff723",
   "metadata": {},
   "source": [
    "- Data Modeling has been done using Logistic Regression, Multinomial Naive Bayes, Decision Tree, Bagging Tree, Random Forest and Extra Trees models under both CountVectorizer and TfidfVectorizer.\n",
    "- **Grid SearchCV train and test score of Logistic Regression(Ridge) model under the CountVectorizer is better than Extra Trees Classifier under TfidfVectorizer.**"
   ]
  },
  {
   "cell_type": "code",
   "execution_count": 109,
   "id": "ffbe90d0",
   "metadata": {},
   "outputs": [
    {
     "data": {
      "text/plain": [
       "Text(0.5, 0.98, 'ROC curve comparison')"
      ]
     },
     "execution_count": 109,
     "metadata": {},
     "output_type": "execute_result"
    },
    {
     "data": {
      "image/png": "[encoded data removed]",
      "text/plain": [
       "<Figure size 432x288 with 1 Axes>"
      ]
     },
     "metadata": {
      "needs_background": "light"
     },
     "output_type": "display_data"
    }
   ],
   "source": [
    "#https://stackoverflow.com/questions/42894871/how-to-plot-multiple-roc-curves-in-one-plot-with-legend-and-auc-scores-in-python/42895367\n",
    "#plot roc curve for both Logistic Regression(Ridge) under CountVectorizer and Extra Trees Classifier under TfidfVectorizer.\n",
    "fig = plot_roc_curve(gs, cv_test, y_test,color='orange', label='Logistic Regression(Ridge)')\n",
    "fig = plot_roc_curve( gs_tf, tf_test, y_test, ax = fig.ax_,color='green', label='Extra Trees Classifier')\n",
    "# add worst case scenario line\n",
    "plt.plot([0, 1], [0,1], label='baseline', linestyle='--',color='blue')\n",
    "# add a legend\n",
    "plt.legend()\n",
    "#add a title\n",
    "fig.figure_.suptitle(\"ROC curve comparison\")"
   ]
  },
  {
   "cell_type": "code",
   "execution_count": 110,
   "id": "7eaf2435",
   "metadata": {},
   "outputs": [
    {
     "name": "stdout",
     "output_type": "stream",
     "text": [
      "AUC ROC Score of Logistic Regression(Ridge): 0.808809925849791\n",
      "AUC ROC Score of Extra Trees Classifier: 0.7767858453858013\n"
     ]
    }
   ],
   "source": [
    "#https://www.analyticsvidhya.com/blog/2020/06/auc-roc-curve-machine-learning/\n",
    "#AUC ROC Score of both Logistic Regression(Ridge) under CountVectorizer and Extra Trees Classifier under TfidfVectorizer.\n",
    "#Get prediction probabilities\n",
    "print(f'AUC ROC Score of Logistic Regression(Ridge): {roc_auc_score(y_test, gs.predict_proba(cv_test)[:,1])}')\n",
    "print(f'AUC ROC Score of Extra Trees Classifier: {roc_auc_score(y_test, gs_tf.predict_proba(tf_test)[:,1])}')"
   ]
  },
  {
   "cell_type": "markdown",
   "id": "7cb17b4c",
   "metadata": {},
   "source": [
    "- If AUC ROC score is between 0.5-1 it means that the model will be able to distinguish between positive and negative class.\n",
    "- **More closer to 1 the score is better is the model performance,as AUC ROC Score of  Logistic Regression(Ridge) under CountVectorizer is near to 1 compared to Extra Trees Classifier under TfidfVectorizer.**\n",
    "- **Therefore,we can conclude that Logistic Regression(Ridge) under CountVectorizer is an accurate model.**"
   ]
  },
  {
   "cell_type": "code",
   "execution_count": 106,
   "id": "085df419",
   "metadata": {},
   "outputs": [],
   "source": [
    "# Created a dataframe of all coefficients and sorted by descending values of best scoring model\n",
    "# The top features and coefficients that will determine whether a post is a Violinist post\n",
    "gs_df = pd.DataFrame({\n",
    "   'words' : cv_train_df.columns.tolist(), #get column names to a list\n",
    "   'coefficients'   : gs.best_estimator_.coef_[0]#get coefficients in a single list\n",
    "})\n",
    "gs_df['coefficients'] = gs_df['coefficients'].astype('string')"
   ]
  },
  {
   "cell_type": "code",
   "execution_count": 107,
   "id": "e8d6b840",
   "metadata": {},
   "outputs": [
    {
     "data": {
      "text/html": [
       "<div>\n",
       "<style scoped>\n",
       "    .dataframe tbody tr th:only-of-type {\n",
       "        vertical-align: middle;\n",
       "    }\n",
       "\n",
       "    .dataframe tbody tr th {\n",
       "        vertical-align: top;\n",
       "    }\n",
       "\n",
       "    .dataframe thead th {\n",
       "        text-align: right;\n",
       "    }\n",
       "</style>\n",
       "<table border=\"1\" class=\"dataframe\">\n",
       "  <thead>\n",
       "    <tr style=\"text-align: right;\">\n",
       "      <th></th>\n",
       "      <th>words</th>\n",
       "      <th>coefficients</th>\n",
       "    </tr>\n",
       "  </thead>\n",
       "  <tbody>\n",
       "    <tr>\n",
       "      <th>1232</th>\n",
       "      <td>violin</td>\n",
       "      <td>2.1019728563027904</td>\n",
       "    </tr>\n",
       "    <tr>\n",
       "      <th>1266</th>\n",
       "      <td>violinist</td>\n",
       "      <td>0.7765836193595219</td>\n",
       "    </tr>\n",
       "    <tr>\n",
       "      <th>1136</th>\n",
       "      <td>teacher</td>\n",
       "      <td>0.39651751468155955</td>\n",
       "    </tr>\n",
       "    <tr>\n",
       "      <th>845</th>\n",
       "      <td>play</td>\n",
       "      <td>0.3154386786384424</td>\n",
       "    </tr>\n",
       "    <tr>\n",
       "      <th>644</th>\n",
       "      <td>long</td>\n",
       "      <td>0.3064133280540022</td>\n",
       "    </tr>\n",
       "    <tr>\n",
       "      <th>958</th>\n",
       "      <td>rest</td>\n",
       "      <td>0.30524923001487037</td>\n",
       "    </tr>\n",
       "    <tr>\n",
       "      <th>1018</th>\n",
       "      <td>shoulder</td>\n",
       "      <td>0.2800753864555544</td>\n",
       "    </tr>\n",
       "    <tr>\n",
       "      <th>585</th>\n",
       "      <td>keep</td>\n",
       "      <td>0.27423096003819153</td>\n",
       "    </tr>\n",
       "    <tr>\n",
       "      <th>860</th>\n",
       "      <td>pleas</td>\n",
       "      <td>0.26851949188437774</td>\n",
       "    </tr>\n",
       "    <tr>\n",
       "      <th>1228</th>\n",
       "      <td>vibrato</td>\n",
       "      <td>0.2553105087236835</td>\n",
       "    </tr>\n",
       "  </tbody>\n",
       "</table>\n",
       "</div>"
      ],
      "text/plain": [
       "          words         coefficients\n",
       "1232     violin   2.1019728563027904\n",
       "1266  violinist   0.7765836193595219\n",
       "1136    teacher  0.39651751468155955\n",
       "845        play   0.3154386786384424\n",
       "644        long   0.3064133280540022\n",
       "958        rest  0.30524923001487037\n",
       "1018   shoulder   0.2800753864555544\n",
       "585        keep  0.27423096003819153\n",
       "860       pleas  0.26851949188437774\n",
       "1228    vibrato   0.2553105087236835"
      ]
     },
     "execution_count": 107,
     "metadata": {},
     "output_type": "execute_result"
    }
   ],
   "source": [
    "# Top 10 features that determine a Violin post\n",
    "violin = gs_df.sort_values(by='coefficients',ascending=False).head(10)\n",
    "violin"
   ]
  },
  {
   "cell_type": "code",
   "execution_count": 108,
   "id": "33e1db07",
   "metadata": {},
   "outputs": [
    {
     "data": {
      "text/html": [
       "<div>\n",
       "<style scoped>\n",
       "    .dataframe tbody tr th:only-of-type {\n",
       "        vertical-align: middle;\n",
       "    }\n",
       "\n",
       "    .dataframe tbody tr th {\n",
       "        vertical-align: top;\n",
       "    }\n",
       "\n",
       "    .dataframe thead th {\n",
       "        text-align: right;\n",
       "    }\n",
       "</style>\n",
       "<table border=\"1\" class=\"dataframe\">\n",
       "  <thead>\n",
       "    <tr style=\"text-align: right;\">\n",
       "      <th></th>\n",
       "      <th>words</th>\n",
       "      <th>coefficients</th>\n",
       "    </tr>\n",
       "  </thead>\n",
       "  <tbody>\n",
       "    <tr>\n",
       "      <th>293</th>\n",
       "      <td>david</td>\n",
       "      <td>-0.0012446246495965993</td>\n",
       "    </tr>\n",
       "    <tr>\n",
       "      <th>106</th>\n",
       "      <td>band</td>\n",
       "      <td>-0.0009921623739746882</td>\n",
       "    </tr>\n",
       "    <tr>\n",
       "      <th>772</th>\n",
       "      <td>often</td>\n",
       "      <td>-0.0009713576172240508</td>\n",
       "    </tr>\n",
       "    <tr>\n",
       "      <th>1291</th>\n",
       "      <td>weight</td>\n",
       "      <td>-0.0007918916183026476</td>\n",
       "    </tr>\n",
       "    <tr>\n",
       "      <th>338</th>\n",
       "      <td>either</td>\n",
       "      <td>-0.0007414186904167742</td>\n",
       "    </tr>\n",
       "    <tr>\n",
       "      <th>138</th>\n",
       "      <td>bought first</td>\n",
       "      <td>-0.0006092877064450305</td>\n",
       "    </tr>\n",
       "    <tr>\n",
       "      <th>538</th>\n",
       "      <td>hickey</td>\n",
       "      <td>-0.0002399656139939714</td>\n",
       "    </tr>\n",
       "    <tr>\n",
       "      <th>1026</th>\n",
       "      <td>singl</td>\n",
       "      <td>-0.00019798552206553644</td>\n",
       "    </tr>\n",
       "    <tr>\n",
       "      <th>1129</th>\n",
       "      <td>talk</td>\n",
       "      <td>-0.00019353833165754457</td>\n",
       "    </tr>\n",
       "    <tr>\n",
       "      <th>178</th>\n",
       "      <td>camp</td>\n",
       "      <td>-0.00012486655447993352</td>\n",
       "    </tr>\n",
       "  </tbody>\n",
       "</table>\n",
       "</div>"
      ],
      "text/plain": [
       "             words             coefficients\n",
       "293          david   -0.0012446246495965993\n",
       "106           band   -0.0009921623739746882\n",
       "772          often   -0.0009713576172240508\n",
       "1291        weight   -0.0007918916183026476\n",
       "338         either   -0.0007414186904167742\n",
       "138   bought first   -0.0006092877064450305\n",
       "538         hickey   -0.0002399656139939714\n",
       "1026         singl  -0.00019798552206553644\n",
       "1129          talk  -0.00019353833165754457\n",
       "178           camp  -0.00012486655447993352"
      ]
     },
     "execution_count": 108,
     "metadata": {},
     "output_type": "execute_result"
    }
   ],
   "source": [
    "# Top 10 features that determine a Cello post\n",
    "cello = gs_df.sort_values(by='coefficients',ascending=False).tail(10)\n",
    "cello"
   ]
  },
  {
   "cell_type": "code",
   "execution_count": 45,
   "id": "02aa046b",
   "metadata": {},
   "outputs": [
    {
     "data": {
      "text/plain": [
       "array([[167,  90],\n",
       "       [ 59, 206]])"
      ]
     },
     "execution_count": 45,
     "metadata": {},
     "output_type": "execute_result"
    }
   ],
   "source": [
    "# Use best scoring model to evaluate\n",
    "predictions = gs.predict(cv_test) #generate predictions\n",
    "cm = confusion_matrix(y_test, predictions) #generate confusion matrix\n",
    "cm"
   ]
  },
  {
   "cell_type": "code",
   "execution_count": 46,
   "id": "a19aec79",
   "metadata": {},
   "outputs": [
    {
     "data": {
      "text/html": [
       "<div>\n",
       "<style scoped>\n",
       "    .dataframe tbody tr th:only-of-type {\n",
       "        vertical-align: middle;\n",
       "    }\n",
       "\n",
       "    .dataframe tbody tr th {\n",
       "        vertical-align: top;\n",
       "    }\n",
       "\n",
       "    .dataframe thead th {\n",
       "        text-align: right;\n",
       "    }\n",
       "</style>\n",
       "<table border=\"1\" class=\"dataframe\">\n",
       "  <thead>\n",
       "    <tr style=\"text-align: right;\">\n",
       "      <th></th>\n",
       "      <th>predicted violin</th>\n",
       "      <th>predicted cello</th>\n",
       "    </tr>\n",
       "  </thead>\n",
       "  <tbody>\n",
       "    <tr>\n",
       "      <th>actual violin</th>\n",
       "      <td>167</td>\n",
       "      <td>90</td>\n",
       "    </tr>\n",
       "    <tr>\n",
       "      <th>actual cello</th>\n",
       "      <td>59</td>\n",
       "      <td>206</td>\n",
       "    </tr>\n",
       "  </tbody>\n",
       "</table>\n",
       "</div>"
      ],
      "text/plain": [
       "               predicted violin  predicted cello\n",
       "actual violin               167               90\n",
       "actual cello                 59              206"
      ]
     },
     "execution_count": 46,
     "metadata": {},
     "output_type": "execute_result"
    }
   ],
   "source": [
    "# Convert confusion matrix to dataframe\n",
    "cm_df = pd.DataFrame(cm,\n",
    "                    columns = ['predicted violin', 'predicted cello'],\n",
    "                    index = ['actual violin', 'actual cello'])\n",
    "cm_df"
   ]
  },
  {
   "cell_type": "code",
   "execution_count": 47,
   "id": "9db8be23",
   "metadata": {
    "scrolled": true
   },
   "outputs": [
    {
     "data": {
      "text/plain": [
       "<sklearn.metrics._plot.confusion_matrix.ConfusionMatrixDisplay at 0x7fc07757bdc0>"
      ]
     },
     "execution_count": 47,
     "metadata": {},
     "output_type": "execute_result"
    },
    {
     "data": {
      "image/png": "[encoded data removed]",
      "text/plain": [
       "<Figure size 432x288 with 2 Axes>"
      ]
     },
     "metadata": {
      "needs_background": "light"
     },
     "output_type": "display_data"
    }
   ],
   "source": [
    "#plot confusion matrix of the best scoring model\n",
    "plot_confusion_matrix(gs, cv_test, y_test)"
   ]
  },
  {
   "cell_type": "code",
   "execution_count": 48,
   "id": "ac4e6bb2",
   "metadata": {},
   "outputs": [
    {
     "data": {
      "text/plain": [
       "0.7145593869731801"
      ]
     },
     "execution_count": 48,
     "metadata": {},
     "output_type": "execute_result"
    }
   ],
   "source": [
    "# Calculate model accuracy\n",
    "accuracy = accuracy_score(y_test, predictions)\n",
    "accuracy"
   ]
  },
  {
   "cell_type": "markdown",
   "id": "c4d37505",
   "metadata": {},
   "source": [
    "|**Baseline Accuracy**| **Model Accuracy**|\n",
    "|-------------------|---------------|\n",
    "|     **0.507**   |      **0.714**|"
   ]
  },
  {
   "cell_type": "markdown",
   "id": "b49a4b14",
   "metadata": {},
   "source": [
    "**Based on the above scores,we can conclude that our model performs better than baseline model**"
   ]
  },
  {
   "cell_type": "code",
   "execution_count": 67,
   "id": "8e1857db",
   "metadata": {},
   "outputs": [
    {
     "data": {
      "text/plain": [
       "0.2854406130268199"
      ]
     },
     "execution_count": 67,
     "metadata": {},
     "output_type": "execute_result"
    }
   ],
   "source": [
    "# Calculate Misclassification\n",
    "Error = 1-accuracy\n",
    "Error"
   ]
  },
  {
   "cell_type": "code",
   "execution_count": 92,
   "id": "5f301ee8",
   "metadata": {},
   "outputs": [
    {
     "name": "stdout",
     "output_type": "stream",
     "text": [
      "              precision    recall  f1-score   support\n",
      "\n",
      "           0       0.74      0.65      0.69       257\n",
      "           1       0.70      0.78      0.73       265\n",
      "\n",
      "    accuracy                           0.71       522\n",
      "   macro avg       0.72      0.71      0.71       522\n",
      "weighted avg       0.72      0.71      0.71       522\n",
      "\n"
     ]
    }
   ],
   "source": [
    "#Classification report\n",
    "print(classification_report(y_test, predictions))"
   ]
  },
  {
   "cell_type": "code",
   "execution_count": 52,
   "id": "3707a66b",
   "metadata": {
    "scrolled": true
   },
   "outputs": [],
   "source": [
    "# Mash up X and y test values into one df\n",
    "test_df = pd.concat([X_test, y_test], axis=1)\n",
    "\n",
    "# Add predictions to df\n",
    "test_df['predictions'] = predictions"
   ]
  },
  {
   "cell_type": "code",
   "execution_count": 68,
   "id": "efd4515d",
   "metadata": {},
   "outputs": [
    {
     "data": {
      "text/plain": [
       "(522, 4)"
      ]
     },
     "execution_count": 68,
     "metadata": {},
     "output_type": "execute_result"
    }
   ],
   "source": [
    "#Shape of test_df\n",
    "test_df.shape"
   ]
  },
  {
   "cell_type": "code",
   "execution_count": 55,
   "id": "414b4407",
   "metadata": {},
   "outputs": [
    {
     "data": {
      "text/html": [
       "<div>\n",
       "<style scoped>\n",
       "    .dataframe tbody tr th:only-of-type {\n",
       "        vertical-align: middle;\n",
       "    }\n",
       "\n",
       "    .dataframe tbody tr th {\n",
       "        vertical-align: top;\n",
       "    }\n",
       "\n",
       "    .dataframe thead th {\n",
       "        text-align: right;\n",
       "    }\n",
       "</style>\n",
       "<table border=\"1\" class=\"dataframe\">\n",
       "  <thead>\n",
       "    <tr style=\"text-align: right;\">\n",
       "      <th></th>\n",
       "      <th>post_title</th>\n",
       "      <th>subreddit_name</th>\n",
       "      <th>predictions</th>\n",
       "      <th>error</th>\n",
       "    </tr>\n",
       "  </thead>\n",
       "  <tbody>\n",
       "    <tr>\n",
       "      <th>304</th>\n",
       "      <td>third violin player play louder first melodi</td>\n",
       "      <td>1</td>\n",
       "      <td>1</td>\n",
       "      <td>0</td>\n",
       "    </tr>\n",
       "    <tr>\n",
       "      <th>429</th>\n",
       "      <td>e string harmon notat begin violinist</td>\n",
       "      <td>1</td>\n",
       "      <td>1</td>\n",
       "      <td>0</td>\n",
       "    </tr>\n",
       "    <tr>\n",
       "      <th>95</th>\n",
       "      <td>abrsm grade 5</td>\n",
       "      <td>1</td>\n",
       "      <td>1</td>\n",
       "      <td>0</td>\n",
       "    </tr>\n",
       "    <tr>\n",
       "      <th>1311</th>\n",
       "      <td>capo cello</td>\n",
       "      <td>0</td>\n",
       "      <td>0</td>\n",
       "      <td>0</td>\n",
       "    </tr>\n",
       "    <tr>\n",
       "      <th>2078</th>\n",
       "      <td>virtual orchestra project announc novemb 2020 ...</td>\n",
       "      <td>0</td>\n",
       "      <td>0</td>\n",
       "      <td>0</td>\n",
       "    </tr>\n",
       "    <tr>\n",
       "      <th>176</th>\n",
       "      <td>self taught violinist 6 month</td>\n",
       "      <td>1</td>\n",
       "      <td>1</td>\n",
       "      <td>0</td>\n",
       "    </tr>\n",
       "    <tr>\n",
       "      <th>1750</th>\n",
       "      <td>ginastera vs ligeti term difficulti</td>\n",
       "      <td>0</td>\n",
       "      <td>1</td>\n",
       "      <td>1</td>\n",
       "    </tr>\n",
       "    <tr>\n",
       "      <th>177</th>\n",
       "      <td>self taught violinist 6 month</td>\n",
       "      <td>1</td>\n",
       "      <td>1</td>\n",
       "      <td>0</td>\n",
       "    </tr>\n",
       "    <tr>\n",
       "      <th>360</th>\n",
       "      <td>adult beginn look onlin learn resourc</td>\n",
       "      <td>1</td>\n",
       "      <td>0</td>\n",
       "      <td>1</td>\n",
       "    </tr>\n",
       "    <tr>\n",
       "      <th>1978</th>\n",
       "      <td>john juzek cello age</td>\n",
       "      <td>0</td>\n",
       "      <td>0</td>\n",
       "      <td>0</td>\n",
       "    </tr>\n",
       "    <tr>\n",
       "      <th>1568</th>\n",
       "      <td>think buy suzuki cello book</td>\n",
       "      <td>0</td>\n",
       "      <td>0</td>\n",
       "      <td>0</td>\n",
       "    </tr>\n",
       "    <tr>\n",
       "      <th>1106</th>\n",
       "      <td>tune cello 430ish hertz</td>\n",
       "      <td>0</td>\n",
       "      <td>0</td>\n",
       "      <td>0</td>\n",
       "    </tr>\n",
       "    <tr>\n",
       "      <th>529</th>\n",
       "      <td>pandem mood shostakovich concerto 1 1st movement</td>\n",
       "      <td>1</td>\n",
       "      <td>0</td>\n",
       "      <td>1</td>\n",
       "    </tr>\n",
       "    <tr>\n",
       "      <th>644</th>\n",
       "      <td>beginn piec</td>\n",
       "      <td>1</td>\n",
       "      <td>0</td>\n",
       "      <td>1</td>\n",
       "    </tr>\n",
       "    <tr>\n",
       "      <th>736</th>\n",
       "      <td>tip buy violin worth</td>\n",
       "      <td>1</td>\n",
       "      <td>1</td>\n",
       "      <td>0</td>\n",
       "    </tr>\n",
       "  </tbody>\n",
       "</table>\n",
       "</div>"
      ],
      "text/plain": [
       "                                             post_title  subreddit_name  \\\n",
       "304        third violin player play louder first melodi               1   \n",
       "429               e string harmon notat begin violinist               1   \n",
       "95                                        abrsm grade 5               1   \n",
       "1311                                         capo cello               0   \n",
       "2078  virtual orchestra project announc novemb 2020 ...               0   \n",
       "176                       self taught violinist 6 month               1   \n",
       "1750                ginastera vs ligeti term difficulti               0   \n",
       "177                       self taught violinist 6 month               1   \n",
       "360               adult beginn look onlin learn resourc               1   \n",
       "1978                               john juzek cello age               0   \n",
       "1568                        think buy suzuki cello book               0   \n",
       "1106                            tune cello 430ish hertz               0   \n",
       "529    pandem mood shostakovich concerto 1 1st movement               1   \n",
       "644                                         beginn piec               1   \n",
       "736                                tip buy violin worth               1   \n",
       "\n",
       "      predictions  error  \n",
       "304             1      0  \n",
       "429             1      0  \n",
       "95              1      0  \n",
       "1311            0      0  \n",
       "2078            0      0  \n",
       "176             1      0  \n",
       "1750            1      1  \n",
       "177             1      0  \n",
       "360             0      1  \n",
       "1978            0      0  \n",
       "1568            0      0  \n",
       "1106            0      0  \n",
       "529             0      1  \n",
       "644             0      1  \n",
       "736             1      0  "
      ]
     },
     "execution_count": 55,
     "metadata": {},
     "output_type": "execute_result"
    }
   ],
   "source": [
    "#https://www.kaggle.com/jannen/model-error-analysis\n",
    "#Add 'error' column to df\n",
    "test_df['error'] = abs(test_df['subreddit_name'] - test_df['predictions']) \n",
    "test_df.head(15)"
   ]
  },
  {
   "cell_type": "code",
   "execution_count": 56,
   "id": "cb4dd836",
   "metadata": {},
   "outputs": [],
   "source": [
    "# List of biggest errors in decreasing order\n",
    "sorted = test_df.sort_values(by=['error'], ascending=False)"
   ]
  },
  {
   "cell_type": "code",
   "execution_count": 59,
   "id": "8dec3062",
   "metadata": {},
   "outputs": [
    {
     "data": {
      "text/html": [
       "<div>\n",
       "<style scoped>\n",
       "    .dataframe tbody tr th:only-of-type {\n",
       "        vertical-align: middle;\n",
       "    }\n",
       "\n",
       "    .dataframe tbody tr th {\n",
       "        vertical-align: top;\n",
       "    }\n",
       "\n",
       "    .dataframe thead th {\n",
       "        text-align: right;\n",
       "    }\n",
       "</style>\n",
       "<table border=\"1\" class=\"dataframe\">\n",
       "  <thead>\n",
       "    <tr style=\"text-align: right;\">\n",
       "      <th></th>\n",
       "      <th>post_title</th>\n",
       "      <th>subreddit_name</th>\n",
       "      <th>predictions</th>\n",
       "      <th>error</th>\n",
       "    </tr>\n",
       "  </thead>\n",
       "  <tbody>\n",
       "    <tr>\n",
       "      <th>1073</th>\n",
       "      <td>help musician id</td>\n",
       "      <td>0</td>\n",
       "      <td>1</td>\n",
       "      <td>1</td>\n",
       "    </tr>\n",
       "    <tr>\n",
       "      <th>1919</th>\n",
       "      <td>favorit kind humidifi</td>\n",
       "      <td>0</td>\n",
       "      <td>1</td>\n",
       "      <td>1</td>\n",
       "    </tr>\n",
       "    <tr>\n",
       "      <th>1265</th>\n",
       "      <td>often swap bow hair</td>\n",
       "      <td>0</td>\n",
       "      <td>1</td>\n",
       "      <td>1</td>\n",
       "    </tr>\n",
       "    <tr>\n",
       "      <th>1091</th>\n",
       "      <td>r autisticmusician</td>\n",
       "      <td>0</td>\n",
       "      <td>1</td>\n",
       "      <td>1</td>\n",
       "    </tr>\n",
       "    <tr>\n",
       "      <th>1794</th>\n",
       "      <td>vibrato even real</td>\n",
       "      <td>0</td>\n",
       "      <td>1</td>\n",
       "      <td>1</td>\n",
       "    </tr>\n",
       "    <tr>\n",
       "      <th>1633</th>\n",
       "      <td>random gear bought late super worth</td>\n",
       "      <td>0</td>\n",
       "      <td>1</td>\n",
       "      <td>1</td>\n",
       "    </tr>\n",
       "    <tr>\n",
       "      <th>1150</th>\n",
       "      <td>would one begin practic use vibrato</td>\n",
       "      <td>0</td>\n",
       "      <td>1</td>\n",
       "      <td>1</td>\n",
       "    </tr>\n",
       "    <tr>\n",
       "      <th>1555</th>\n",
       "      <td>bow case question</td>\n",
       "      <td>0</td>\n",
       "      <td>1</td>\n",
       "      <td>1</td>\n",
       "    </tr>\n",
       "    <tr>\n",
       "      <th>1250</th>\n",
       "      <td>adult beginn look advic concern vibrato</td>\n",
       "      <td>0</td>\n",
       "      <td>1</td>\n",
       "      <td>1</td>\n",
       "    </tr>\n",
       "    <tr>\n",
       "      <th>1218</th>\n",
       "      <td>tip beginn</td>\n",
       "      <td>0</td>\n",
       "      <td>1</td>\n",
       "      <td>1</td>\n",
       "    </tr>\n",
       "    <tr>\n",
       "      <th>1548</th>\n",
       "      <td>gear peg realli work</td>\n",
       "      <td>0</td>\n",
       "      <td>1</td>\n",
       "      <td>1</td>\n",
       "    </tr>\n",
       "    <tr>\n",
       "      <th>1938</th>\n",
       "      <td>good pick</td>\n",
       "      <td>0</td>\n",
       "      <td>1</td>\n",
       "      <td>1</td>\n",
       "    </tr>\n",
       "    <tr>\n",
       "      <th>1535</th>\n",
       "      <td>rhythm</td>\n",
       "      <td>0</td>\n",
       "      <td>1</td>\n",
       "      <td>1</td>\n",
       "    </tr>\n",
       "    <tr>\n",
       "      <th>1758</th>\n",
       "      <td>need string quartet name</td>\n",
       "      <td>0</td>\n",
       "      <td>1</td>\n",
       "      <td>1</td>\n",
       "    </tr>\n",
       "  </tbody>\n",
       "</table>\n",
       "</div>"
      ],
      "text/plain": [
       "                                   post_title  subreddit_name  predictions  \\\n",
       "1073                         help musician id               0            1   \n",
       "1919                    favorit kind humidifi               0            1   \n",
       "1265                      often swap bow hair               0            1   \n",
       "1091                       r autisticmusician               0            1   \n",
       "1794                        vibrato even real               0            1   \n",
       "1633      random gear bought late super worth               0            1   \n",
       "1150      would one begin practic use vibrato               0            1   \n",
       "1555                        bow case question               0            1   \n",
       "1250  adult beginn look advic concern vibrato               0            1   \n",
       "1218                               tip beginn               0            1   \n",
       "1548                     gear peg realli work               0            1   \n",
       "1938                                good pick               0            1   \n",
       "1535                                   rhythm               0            1   \n",
       "1758                 need string quartet name               0            1   \n",
       "\n",
       "      error  \n",
       "1073      1  \n",
       "1919      1  \n",
       "1265      1  \n",
       "1091      1  \n",
       "1794      1  \n",
       "1633      1  \n",
       "1150      1  \n",
       "1555      1  \n",
       "1250      1  \n",
       "1218      1  \n",
       "1548      1  \n",
       "1938      1  \n",
       "1535      1  \n",
       "1758      1  "
      ]
     },
     "execution_count": 59,
     "metadata": {},
     "output_type": "execute_result"
    }
   ],
   "source": [
    "#False Positive with biggest error\n",
    "#Cello but predicted as Violinist\n",
    "sorted[ sorted['subreddit_name']==0] [0:14]"
   ]
  },
  {
   "cell_type": "code",
   "execution_count": 77,
   "id": "fd22e579",
   "metadata": {},
   "outputs": [
    {
     "data": {
      "text/html": [
       "<div>\n",
       "<style scoped>\n",
       "    .dataframe tbody tr th:only-of-type {\n",
       "        vertical-align: middle;\n",
       "    }\n",
       "\n",
       "    .dataframe tbody tr th {\n",
       "        vertical-align: top;\n",
       "    }\n",
       "\n",
       "    .dataframe thead th {\n",
       "        text-align: right;\n",
       "    }\n",
       "</style>\n",
       "<table border=\"1\" class=\"dataframe\">\n",
       "  <thead>\n",
       "    <tr style=\"text-align: right;\">\n",
       "      <th></th>\n",
       "      <th>post_title</th>\n",
       "      <th>subreddit_name</th>\n",
       "      <th>predictions</th>\n",
       "      <th>error</th>\n",
       "    </tr>\n",
       "  </thead>\n",
       "  <tbody>\n",
       "    <tr>\n",
       "      <th>701</th>\n",
       "      <td>creat welcom messag new subscrib</td>\n",
       "      <td>1</td>\n",
       "      <td>0</td>\n",
       "      <td>1</td>\n",
       "    </tr>\n",
       "    <tr>\n",
       "      <th>301</th>\n",
       "      <td>solo show piec</td>\n",
       "      <td>1</td>\n",
       "      <td>0</td>\n",
       "      <td>1</td>\n",
       "    </tr>\n",
       "    <tr>\n",
       "      <th>126</th>\n",
       "      <td>bach vivaldi</td>\n",
       "      <td>1</td>\n",
       "      <td>0</td>\n",
       "      <td>1</td>\n",
       "    </tr>\n",
       "    <tr>\n",
       "      <th>238</th>\n",
       "      <td>tablet sheet music</td>\n",
       "      <td>1</td>\n",
       "      <td>0</td>\n",
       "      <td>1</td>\n",
       "    </tr>\n",
       "    <tr>\n",
       "      <th>28</th>\n",
       "      <td>anyon fun altern tune scordatura</td>\n",
       "      <td>1</td>\n",
       "      <td>0</td>\n",
       "      <td>1</td>\n",
       "    </tr>\n",
       "    <tr>\n",
       "      <th>491</th>\n",
       "      <td>eastman master versu young master</td>\n",
       "      <td>1</td>\n",
       "      <td>0</td>\n",
       "      <td>1</td>\n",
       "    </tr>\n",
       "    <tr>\n",
       "      <th>993</th>\n",
       "      <td>anyon tri mix vison titanium solo regular visi...</td>\n",
       "      <td>1</td>\n",
       "      <td>0</td>\n",
       "      <td>1</td>\n",
       "    </tr>\n",
       "    <tr>\n",
       "      <th>932</th>\n",
       "      <td>slip thumb</td>\n",
       "      <td>1</td>\n",
       "      <td>0</td>\n",
       "      <td>1</td>\n",
       "    </tr>\n",
       "    <tr>\n",
       "      <th>155</th>\n",
       "      <td>onlin middl school string camp perhap uk austr...</td>\n",
       "      <td>1</td>\n",
       "      <td>0</td>\n",
       "      <td>1</td>\n",
       "    </tr>\n",
       "    <tr>\n",
       "      <th>635</th>\n",
       "      <td>practic posit</td>\n",
       "      <td>1</td>\n",
       "      <td>0</td>\n",
       "      <td>1</td>\n",
       "    </tr>\n",
       "    <tr>\n",
       "      <th>794</th>\n",
       "      <td>unaccompani bach</td>\n",
       "      <td>1</td>\n",
       "      <td>0</td>\n",
       "      <td>1</td>\n",
       "    </tr>\n",
       "    <tr>\n",
       "      <th>921</th>\n",
       "      <td>level difficulti equival per instrument</td>\n",
       "      <td>1</td>\n",
       "      <td>0</td>\n",
       "      <td>1</td>\n",
       "    </tr>\n",
       "    <tr>\n",
       "      <th>348</th>\n",
       "      <td>weird habit</td>\n",
       "      <td>1</td>\n",
       "      <td>0</td>\n",
       "      <td>1</td>\n",
       "    </tr>\n",
       "    <tr>\n",
       "      <th>616</th>\n",
       "      <td>sheet music pachelbel canon sharp e string f a...</td>\n",
       "      <td>1</td>\n",
       "      <td>0</td>\n",
       "      <td>1</td>\n",
       "    </tr>\n",
       "  </tbody>\n",
       "</table>\n",
       "</div>"
      ],
      "text/plain": [
       "                                            post_title  subreddit_name  \\\n",
       "701                   creat welcom messag new subscrib               1   \n",
       "301                                     solo show piec               1   \n",
       "126                                       bach vivaldi               1   \n",
       "238                                 tablet sheet music               1   \n",
       "28                    anyon fun altern tune scordatura               1   \n",
       "491                  eastman master versu young master               1   \n",
       "993  anyon tri mix vison titanium solo regular visi...               1   \n",
       "932                                         slip thumb               1   \n",
       "155  onlin middl school string camp perhap uk austr...               1   \n",
       "635                                      practic posit               1   \n",
       "794                                   unaccompani bach               1   \n",
       "921            level difficulti equival per instrument               1   \n",
       "348                                        weird habit               1   \n",
       "616  sheet music pachelbel canon sharp e string f a...               1   \n",
       "\n",
       "     predictions  error  \n",
       "701            0      1  \n",
       "301            0      1  \n",
       "126            0      1  \n",
       "238            0      1  \n",
       "28             0      1  \n",
       "491            0      1  \n",
       "993            0      1  \n",
       "932            0      1  \n",
       "155            0      1  \n",
       "635            0      1  \n",
       "794            0      1  \n",
       "921            0      1  \n",
       "348            0      1  \n",
       "616            0      1  "
      ]
     },
     "execution_count": 77,
     "metadata": {},
     "output_type": "execute_result"
    }
   ],
   "source": [
    "#False Negative with biggest error\n",
    "#Violinist but predicted as Cello\n",
    "sorted[ sorted['subreddit_name']==1] [0:14]"
   ]
  },
  {
   "cell_type": "code",
   "execution_count": 65,
   "id": "26ea4e40",
   "metadata": {
    "scrolled": false
   },
   "outputs": [
    {
     "data": {
      "text/html": [
       "<div>\n",
       "<style scoped>\n",
       "    .dataframe tbody tr th:only-of-type {\n",
       "        vertical-align: middle;\n",
       "    }\n",
       "\n",
       "    .dataframe tbody tr th {\n",
       "        vertical-align: top;\n",
       "    }\n",
       "\n",
       "    .dataframe thead th {\n",
       "        text-align: right;\n",
       "    }\n",
       "</style>\n",
       "<table border=\"1\" class=\"dataframe\">\n",
       "  <thead>\n",
       "    <tr style=\"text-align: right;\">\n",
       "      <th></th>\n",
       "      <th>post_title</th>\n",
       "      <th>subreddit_name</th>\n",
       "      <th>predictions</th>\n",
       "      <th>error</th>\n",
       "    </tr>\n",
       "  </thead>\n",
       "  <tbody>\n",
       "    <tr>\n",
       "      <th>304</th>\n",
       "      <td>third violin player play louder first melodi</td>\n",
       "      <td>1</td>\n",
       "      <td>1</td>\n",
       "      <td>0</td>\n",
       "    </tr>\n",
       "    <tr>\n",
       "      <th>429</th>\n",
       "      <td>e string harmon notat begin violinist</td>\n",
       "      <td>1</td>\n",
       "      <td>1</td>\n",
       "      <td>0</td>\n",
       "    </tr>\n",
       "    <tr>\n",
       "      <th>95</th>\n",
       "      <td>abrsm grade 5</td>\n",
       "      <td>1</td>\n",
       "      <td>1</td>\n",
       "      <td>0</td>\n",
       "    </tr>\n",
       "    <tr>\n",
       "      <th>1311</th>\n",
       "      <td>capo cello</td>\n",
       "      <td>0</td>\n",
       "      <td>0</td>\n",
       "      <td>0</td>\n",
       "    </tr>\n",
       "    <tr>\n",
       "      <th>2078</th>\n",
       "      <td>virtual orchestra project announc novemb 2020 ...</td>\n",
       "      <td>0</td>\n",
       "      <td>0</td>\n",
       "      <td>0</td>\n",
       "    </tr>\n",
       "    <tr>\n",
       "      <th>...</th>\n",
       "      <td>...</td>\n",
       "      <td>...</td>\n",
       "      <td>...</td>\n",
       "      <td>...</td>\n",
       "    </tr>\n",
       "    <tr>\n",
       "      <th>961</th>\n",
       "      <td>abracadabra book violin</td>\n",
       "      <td>1</td>\n",
       "      <td>1</td>\n",
       "      <td>0</td>\n",
       "    </tr>\n",
       "    <tr>\n",
       "      <th>1072</th>\n",
       "      <td>harp cello tailpiec</td>\n",
       "      <td>0</td>\n",
       "      <td>0</td>\n",
       "      <td>0</td>\n",
       "    </tr>\n",
       "    <tr>\n",
       "      <th>2030</th>\n",
       "      <td>intens thumb muscl fatigu</td>\n",
       "      <td>0</td>\n",
       "      <td>0</td>\n",
       "      <td>0</td>\n",
       "    </tr>\n",
       "    <tr>\n",
       "      <th>396</th>\n",
       "      <td>29 year old softwar engin live rv want learn p...</td>\n",
       "      <td>1</td>\n",
       "      <td>1</td>\n",
       "      <td>0</td>\n",
       "    </tr>\n",
       "    <tr>\n",
       "      <th>1123</th>\n",
       "      <td>harley benton hbce 990 electr cello upgrad yam...</td>\n",
       "      <td>0</td>\n",
       "      <td>0</td>\n",
       "      <td>0</td>\n",
       "    </tr>\n",
       "  </tbody>\n",
       "</table>\n",
       "<p>373 rows × 4 columns</p>\n",
       "</div>"
      ],
      "text/plain": [
       "                                             post_title  subreddit_name  \\\n",
       "304        third violin player play louder first melodi               1   \n",
       "429               e string harmon notat begin violinist               1   \n",
       "95                                        abrsm grade 5               1   \n",
       "1311                                         capo cello               0   \n",
       "2078  virtual orchestra project announc novemb 2020 ...               0   \n",
       "...                                                 ...             ...   \n",
       "961                             abracadabra book violin               1   \n",
       "1072                                harp cello tailpiec               0   \n",
       "2030                          intens thumb muscl fatigu               0   \n",
       "396   29 year old softwar engin live rv want learn p...               1   \n",
       "1123  harley benton hbce 990 electr cello upgrad yam...               0   \n",
       "\n",
       "      predictions  error  \n",
       "304             1      0  \n",
       "429             1      0  \n",
       "95              1      0  \n",
       "1311            0      0  \n",
       "2078            0      0  \n",
       "...           ...    ...  \n",
       "961             1      0  \n",
       "1072            0      0  \n",
       "2030            0      0  \n",
       "396             1      0  \n",
       "1123            0      0  \n",
       "\n",
       "[373 rows x 4 columns]"
      ]
     },
     "execution_count": 65,
     "metadata": {},
     "output_type": "execute_result"
    }
   ],
   "source": [
    "#Rows where predictions were correct\n",
    "test_df[test_df['error'] ==0]"
   ]
  },
  {
   "cell_type": "code",
   "execution_count": 79,
   "id": "555a49e9",
   "metadata": {},
   "outputs": [
    {
     "data": {
      "text/html": [
       "<div>\n",
       "<style scoped>\n",
       "    .dataframe tbody tr th:only-of-type {\n",
       "        vertical-align: middle;\n",
       "    }\n",
       "\n",
       "    .dataframe tbody tr th {\n",
       "        vertical-align: top;\n",
       "    }\n",
       "\n",
       "    .dataframe thead th {\n",
       "        text-align: right;\n",
       "    }\n",
       "</style>\n",
       "<table border=\"1\" class=\"dataframe\">\n",
       "  <thead>\n",
       "    <tr style=\"text-align: right;\">\n",
       "      <th></th>\n",
       "      <th>post_title</th>\n",
       "      <th>subreddit_name</th>\n",
       "      <th>predictions</th>\n",
       "      <th>error</th>\n",
       "    </tr>\n",
       "  </thead>\n",
       "  <tbody>\n",
       "    <tr>\n",
       "      <th>1750</th>\n",
       "      <td>ginastera vs ligeti term difficulti</td>\n",
       "      <td>0</td>\n",
       "      <td>1</td>\n",
       "      <td>1</td>\n",
       "    </tr>\n",
       "    <tr>\n",
       "      <th>360</th>\n",
       "      <td>adult beginn look onlin learn resourc</td>\n",
       "      <td>1</td>\n",
       "      <td>0</td>\n",
       "      <td>1</td>\n",
       "    </tr>\n",
       "    <tr>\n",
       "      <th>529</th>\n",
       "      <td>pandem mood shostakovich concerto 1 1st movement</td>\n",
       "      <td>1</td>\n",
       "      <td>0</td>\n",
       "      <td>1</td>\n",
       "    </tr>\n",
       "    <tr>\n",
       "      <th>644</th>\n",
       "      <td>beginn piec</td>\n",
       "      <td>1</td>\n",
       "      <td>0</td>\n",
       "      <td>1</td>\n",
       "    </tr>\n",
       "    <tr>\n",
       "      <th>452</th>\n",
       "      <td>mother day piec recommend</td>\n",
       "      <td>1</td>\n",
       "      <td>0</td>\n",
       "      <td>1</td>\n",
       "    </tr>\n",
       "    <tr>\n",
       "      <th>...</th>\n",
       "      <td>...</td>\n",
       "      <td>...</td>\n",
       "      <td>...</td>\n",
       "      <td>...</td>\n",
       "    </tr>\n",
       "    <tr>\n",
       "      <th>1745</th>\n",
       "      <td>simpl trick improv shift</td>\n",
       "      <td>0</td>\n",
       "      <td>1</td>\n",
       "      <td>1</td>\n",
       "    </tr>\n",
       "    <tr>\n",
       "      <th>117</th>\n",
       "      <td>time three free onlin event 6 8 21 6pm pacif</td>\n",
       "      <td>1</td>\n",
       "      <td>0</td>\n",
       "      <td>1</td>\n",
       "    </tr>\n",
       "    <tr>\n",
       "      <th>1749</th>\n",
       "      <td>develop bad habit practic without instructor</td>\n",
       "      <td>0</td>\n",
       "      <td>1</td>\n",
       "      <td>1</td>\n",
       "    </tr>\n",
       "    <tr>\n",
       "      <th>1099</th>\n",
       "      <td>know readi mayb recit</td>\n",
       "      <td>0</td>\n",
       "      <td>1</td>\n",
       "      <td>1</td>\n",
       "    </tr>\n",
       "    <tr>\n",
       "      <th>129</th>\n",
       "      <td>tablet music</td>\n",
       "      <td>1</td>\n",
       "      <td>0</td>\n",
       "      <td>1</td>\n",
       "    </tr>\n",
       "  </tbody>\n",
       "</table>\n",
       "<p>149 rows × 4 columns</p>\n",
       "</div>"
      ],
      "text/plain": [
       "                                            post_title  subreddit_name  \\\n",
       "1750               ginastera vs ligeti term difficulti               0   \n",
       "360              adult beginn look onlin learn resourc               1   \n",
       "529   pandem mood shostakovich concerto 1 1st movement               1   \n",
       "644                                        beginn piec               1   \n",
       "452                          mother day piec recommend               1   \n",
       "...                                                ...             ...   \n",
       "1745                          simpl trick improv shift               0   \n",
       "117       time three free onlin event 6 8 21 6pm pacif               1   \n",
       "1749      develop bad habit practic without instructor               0   \n",
       "1099                             know readi mayb recit               0   \n",
       "129                                       tablet music               1   \n",
       "\n",
       "      predictions  error  \n",
       "1750            1      1  \n",
       "360             0      1  \n",
       "529             0      1  \n",
       "644             0      1  \n",
       "452             0      1  \n",
       "...           ...    ...  \n",
       "1745            1      1  \n",
       "117             0      1  \n",
       "1749            1      1  \n",
       "1099            1      1  \n",
       "129             0      1  \n",
       "\n",
       "[149 rows x 4 columns]"
      ]
     },
     "execution_count": 79,
     "metadata": {},
     "output_type": "execute_result"
    }
   ],
   "source": [
    "#Rows where predictions were incorrect\n",
    "test_df[test_df['error'] ==1]"
   ]
  },
  {
   "cell_type": "markdown",
   "id": "b45c7a8d",
   "metadata": {},
   "source": [
    "- **149 predictions were misclassified i.e. our model  predictions on  whether a post belongs to Violinist or Cello subreddit were wrong  for 149 random posts in test data.**"
   ]
  }
 ],
 "metadata": {
  "kernelspec": {
   "display_name": "Python 3",
   "language": "python",
   "name": "python3"
  },
  "language_info": {
   "codemirror_mode": {
    "name": "ipython",
    "version": 3
   },
   "file_extension": ".py",
   "mimetype": "text/x-python",
   "name": "python",
   "nbconvert_exporter": "python",
   "pygments_lexer": "ipython3",
   "version": "3.8.8"
  }
 },
 "nbformat": 4,
 "nbformat_minor": 5
}
