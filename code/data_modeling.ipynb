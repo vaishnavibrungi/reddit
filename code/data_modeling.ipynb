{
 "cells": [
  {
   "cell_type": "markdown",
   "id": "7f1f39d2",
   "metadata": {},
   "source": [
    "# Project 3: Reddit"
   ]
  },
  {
   "cell_type": "markdown",
   "id": "691ff265",
   "metadata": {},
   "source": [
    "## Data Modeling and Evaluation"
   ]
  },
  {
   "cell_type": "code",
   "execution_count": 371,
   "id": "a3894fe1",
   "metadata": {},
   "outputs": [],
   "source": [
    "#import libraries\n",
    "import pandas as pd \n",
    "import matplotlib.pyplot as plt\n",
    "from sklearn.linear_model import LogisticRegression\n",
    "from sklearn.feature_extraction.text import CountVectorizer, TfidfVectorizer\n",
    "from sklearn.model_selection import train_test_split, cross_val_score, GridSearchCV\n",
    "from sklearn.tree import DecisionTreeClassifier\n",
    "from sklearn.ensemble import ExtraTreesClassifier, RandomForestClassifier,BaggingClassifier\n",
    "from sklearn.naive_bayes import MultinomialNB\n",
    "from sklearn.metrics import plot_confusion_matrix,plot_roc_curve\n",
    "from sklearn.metrics import confusion_matrix,accuracy_score"
   ]
  },
  {
   "cell_type": "markdown",
   "id": "a2289e5b",
   "metadata": {},
   "source": [
    "**Read in combined Violinist and Cello csv \"reddit_data\" to begin modeling**"
   ]
  },
  {
   "cell_type": "code",
   "execution_count": 122,
   "id": "1fb424d9",
   "metadata": {},
   "outputs": [],
   "source": [
    "reddit_data = pd.read_csv('../data/reddit_data.csv')"
   ]
  },
  {
   "cell_type": "code",
   "execution_count": 123,
   "id": "fcf2404a",
   "metadata": {},
   "outputs": [
    {
     "data": {
      "text/html": [
       "<div>\n",
       "<style scoped>\n",
       "    .dataframe tbody tr th:only-of-type {\n",
       "        vertical-align: middle;\n",
       "    }\n",
       "\n",
       "    .dataframe tbody tr th {\n",
       "        vertical-align: top;\n",
       "    }\n",
       "\n",
       "    .dataframe thead th {\n",
       "        text-align: right;\n",
       "    }\n",
       "</style>\n",
       "<table border=\"1\" class=\"dataframe\">\n",
       "  <thead>\n",
       "    <tr style=\"text-align: right;\">\n",
       "      <th></th>\n",
       "      <th>author_id</th>\n",
       "      <th>posted_on</th>\n",
       "      <th>author_tag</th>\n",
       "      <th>post_title</th>\n",
       "      <th>post_description</th>\n",
       "      <th>subreddit_name</th>\n",
       "    </tr>\n",
       "  </thead>\n",
       "  <tbody>\n",
       "    <tr>\n",
       "      <th>0</th>\n",
       "      <td>o24eoj</td>\n",
       "      <td>2021-06-17 18:41:15</td>\n",
       "      <td>Advanced</td>\n",
       "      <td>ysaÿe violin concerto e minor first movement l...</td>\n",
       "      <td>[https://www.youtube.com/watch?v=PONbtxcPcKQ](...</td>\n",
       "      <td>1</td>\n",
       "    </tr>\n",
       "    <tr>\n",
       "      <th>1</th>\n",
       "      <td>o23xyv</td>\n",
       "      <td>2021-06-17 18:21:58</td>\n",
       "      <td>NaN</td>\n",
       "      <td>video perform exampl great vibrato</td>\n",
       "      <td>I've been struggling with my vibrato and am lo...</td>\n",
       "      <td>1</td>\n",
       "    </tr>\n",
       "    <tr>\n",
       "      <th>2</th>\n",
       "      <td>o20e4w</td>\n",
       "      <td>2021-06-17 15:48:10</td>\n",
       "      <td>Adult Beginner</td>\n",
       "      <td>count time 6 8</td>\n",
       "      <td>My current rhythm exercise is in 6/8 time.\\n\\n...</td>\n",
       "      <td>1</td>\n",
       "    </tr>\n",
       "    <tr>\n",
       "      <th>3</th>\n",
       "      <td>o1vxwd</td>\n",
       "      <td>2021-06-17 12:22:01</td>\n",
       "      <td>NaN</td>\n",
       "      <td>interest pick violin</td>\n",
       "      <td>Hello everyone, as you can tell by the title I...</td>\n",
       "      <td>1</td>\n",
       "    </tr>\n",
       "    <tr>\n",
       "      <th>4</th>\n",
       "      <td>o1rmpe</td>\n",
       "      <td>2021-06-17 07:49:56</td>\n",
       "      <td>NaN</td>\n",
       "      <td>question beginn</td>\n",
       "      <td>When the score says Sul G, Sul D, IVeme chord,...</td>\n",
       "      <td>1</td>\n",
       "    </tr>\n",
       "  </tbody>\n",
       "</table>\n",
       "</div>"
      ],
      "text/plain": [
       "  author_id            posted_on      author_tag  \\\n",
       "0    o24eoj  2021-06-17 18:41:15        Advanced   \n",
       "1    o23xyv  2021-06-17 18:21:58             NaN   \n",
       "2    o20e4w  2021-06-17 15:48:10  Adult Beginner   \n",
       "3    o1vxwd  2021-06-17 12:22:01             NaN   \n",
       "4    o1rmpe  2021-06-17 07:49:56             NaN   \n",
       "\n",
       "                                          post_title  \\\n",
       "0  ysaÿe violin concerto e minor first movement l...   \n",
       "1                 video perform exampl great vibrato   \n",
       "2                                     count time 6 8   \n",
       "3                               interest pick violin   \n",
       "4                                    question beginn   \n",
       "\n",
       "                                    post_description  subreddit_name  \n",
       "0  [https://www.youtube.com/watch?v=PONbtxcPcKQ](...               1  \n",
       "1  I've been struggling with my vibrato and am lo...               1  \n",
       "2  My current rhythm exercise is in 6/8 time.\\n\\n...               1  \n",
       "3  Hello everyone, as you can tell by the title I...               1  \n",
       "4  When the score says Sul G, Sul D, IVeme chord,...               1  "
      ]
     },
     "execution_count": 123,
     "metadata": {},
     "output_type": "execute_result"
    }
   ],
   "source": [
    "# Check dataframe\n",
    "reddit_data.head()"
   ]
  },
  {
   "cell_type": "code",
   "execution_count": 124,
   "id": "c3a7b7be",
   "metadata": {},
   "outputs": [
    {
     "data": {
      "text/html": [
       "<div>\n",
       "<style scoped>\n",
       "    .dataframe tbody tr th:only-of-type {\n",
       "        vertical-align: middle;\n",
       "    }\n",
       "\n",
       "    .dataframe tbody tr th {\n",
       "        vertical-align: top;\n",
       "    }\n",
       "\n",
       "    .dataframe thead th {\n",
       "        text-align: right;\n",
       "    }\n",
       "</style>\n",
       "<table border=\"1\" class=\"dataframe\">\n",
       "  <thead>\n",
       "    <tr style=\"text-align: right;\">\n",
       "      <th></th>\n",
       "      <th>author_id</th>\n",
       "      <th>posted_on</th>\n",
       "      <th>author_tag</th>\n",
       "      <th>post_title</th>\n",
       "      <th>post_description</th>\n",
       "      <th>subreddit_name</th>\n",
       "    </tr>\n",
       "  </thead>\n",
       "  <tbody>\n",
       "    <tr>\n",
       "      <th>381</th>\n",
       "      <td>n9jckr</td>\n",
       "      <td>2021-05-10 23:34:01</td>\n",
       "      <td>NaN</td>\n",
       "      <td>NaN</td>\n",
       "      <td>f</td>\n",
       "      <td>1</td>\n",
       "    </tr>\n",
       "  </tbody>\n",
       "</table>\n",
       "</div>"
      ],
      "text/plain": [
       "    author_id            posted_on author_tag post_title post_description  \\\n",
       "381    n9jckr  2021-05-10 23:34:01        NaN        NaN                f   \n",
       "\n",
       "     subreddit_name  \n",
       "381               1  "
      ]
     },
     "execution_count": 124,
     "metadata": {},
     "output_type": "execute_result"
    }
   ],
   "source": [
    "# Pull out rows in the dataframe with null values \n",
    "# Since there are no titles or post text for these rows, we will drop them\n",
    "reddit_data[reddit_data['post_title'].isna()]"
   ]
  },
  {
   "cell_type": "code",
   "execution_count": 125,
   "id": "466195bf",
   "metadata": {},
   "outputs": [],
   "source": [
    "# Drop all row with 'nan' values\n",
    "reddit_data.drop(reddit_data.index[381],inplace=True)"
   ]
  },
  {
   "cell_type": "code",
   "execution_count": 126,
   "id": "77a8eb4e",
   "metadata": {},
   "outputs": [
    {
     "data": {
      "text/html": [
       "<div>\n",
       "<style scoped>\n",
       "    .dataframe tbody tr th:only-of-type {\n",
       "        vertical-align: middle;\n",
       "    }\n",
       "\n",
       "    .dataframe tbody tr th {\n",
       "        vertical-align: top;\n",
       "    }\n",
       "\n",
       "    .dataframe thead th {\n",
       "        text-align: right;\n",
       "    }\n",
       "</style>\n",
       "<table border=\"1\" class=\"dataframe\">\n",
       "  <thead>\n",
       "    <tr style=\"text-align: right;\">\n",
       "      <th></th>\n",
       "      <th>author_id</th>\n",
       "      <th>posted_on</th>\n",
       "      <th>author_tag</th>\n",
       "      <th>post_title</th>\n",
       "      <th>post_description</th>\n",
       "      <th>subreddit_name</th>\n",
       "    </tr>\n",
       "  </thead>\n",
       "  <tbody>\n",
       "  </tbody>\n",
       "</table>\n",
       "</div>"
      ],
      "text/plain": [
       "Empty DataFrame\n",
       "Columns: [author_id, posted_on, author_tag, post_title, post_description, subreddit_name]\n",
       "Index: []"
      ]
     },
     "execution_count": 126,
     "metadata": {},
     "output_type": "execute_result"
    }
   ],
   "source": [
    "#check if row got dropped\n",
    "reddit_data[reddit_data['post_title'].isna()]"
   ]
  },
  {
   "cell_type": "markdown",
   "id": "39c2cc74",
   "metadata": {},
   "source": [
    "**Set X and y**"
   ]
  },
  {
   "cell_type": "code",
   "execution_count": 127,
   "id": "f5274440",
   "metadata": {},
   "outputs": [],
   "source": [
    "X = reddit_data['post_title']\n",
    "y = reddit_data['subreddit_name']"
   ]
  },
  {
   "cell_type": "code",
   "execution_count": 128,
   "id": "8c627bac",
   "metadata": {},
   "outputs": [
    {
     "name": "stdout",
     "output_type": "stream",
     "text": [
      "Shape of X: (2086,)\n",
      "Shape of y: (2086,)\n"
     ]
    }
   ],
   "source": [
    "# Check shape of X and y\n",
    "print(f'Shape of X: {X.shape}')\n",
    "print(f'Shape of y: {y.shape}')"
   ]
  },
  {
   "cell_type": "code",
   "execution_count": 129,
   "id": "7e3f5b0e",
   "metadata": {
    "scrolled": true
   },
   "outputs": [
    {
     "data": {
      "text/plain": [
       "0    ysaÿe violin concerto e minor first movement l...\n",
       "1                   video perform exampl great vibrato\n",
       "2                                       count time 6 8\n",
       "Name: post_title, dtype: object"
      ]
     },
     "execution_count": 129,
     "metadata": {},
     "output_type": "execute_result"
    }
   ],
   "source": [
    "#Display X first three rows\n",
    "X.head(3)"
   ]
  },
  {
   "cell_type": "code",
   "execution_count": 130,
   "id": "8845b61a",
   "metadata": {},
   "outputs": [
    {
     "data": {
      "text/plain": [
       "0    1\n",
       "1    1\n",
       "2    1\n",
       "Name: subreddit_name, dtype: int64"
      ]
     },
     "execution_count": 130,
     "metadata": {},
     "output_type": "execute_result"
    }
   ],
   "source": [
    "#Display y first three rows\n",
    "y.head(3)"
   ]
  },
  {
   "cell_type": "code",
   "execution_count": 131,
   "id": "309e89a0",
   "metadata": {},
   "outputs": [
    {
     "data": {
      "text/plain": [
       "2084    0\n",
       "2085    0\n",
       "2086    0\n",
       "Name: subreddit_name, dtype: int64"
      ]
     },
     "execution_count": 131,
     "metadata": {},
     "output_type": "execute_result"
    }
   ],
   "source": [
    "#Display y last three rows\n",
    "y.tail(3)"
   ]
  },
  {
   "cell_type": "markdown",
   "id": "a8dcc693",
   "metadata": {},
   "source": [
    "**Baseline Accuracy**"
   ]
  },
  {
   "cell_type": "code",
   "execution_count": 436,
   "id": "d7874022",
   "metadata": {},
   "outputs": [
    {
     "data": {
      "text/plain": [
       "1    0.507191\n",
       "0    0.492809\n",
       "Name: subreddit_name, dtype: float64"
      ]
     },
     "execution_count": 436,
     "metadata": {},
     "output_type": "execute_result"
    }
   ],
   "source": [
    "y.value_counts(normalize=True)"
   ]
  },
  {
   "cell_type": "markdown",
   "id": "b00041fa",
   "metadata": {},
   "source": [
    "- Violinist = 1 and Cello = 0\n",
    "- The baseline Accuracy is the score of the majority class. Since the majority class is Violinist, the baseline score is about 0.507"
   ]
  },
  {
   "cell_type": "markdown",
   "id": "f4df7cc2",
   "metadata": {},
   "source": [
    "**Train Test Split**"
   ]
  },
  {
   "cell_type": "code",
   "execution_count": 133,
   "id": "f4624ba4",
   "metadata": {},
   "outputs": [],
   "source": [
    "X_train, X_test, y_train, y_test = train_test_split(X, y, \n",
    "                                                    random_state=42, \n",
    "                                                    stratify=y)# account for slight class unbalance"
   ]
  },
  {
   "cell_type": "code",
   "execution_count": 356,
   "id": "659901e8",
   "metadata": {},
   "outputs": [
    {
     "name": "stdout",
     "output_type": "stream",
     "text": [
      "Shape of cv_train: (1564,)\n",
      "Shape of cv_test: (522,)\n"
     ]
    }
   ],
   "source": [
    "# Check shape of X_train and X_test\n",
    "print(f'Shape of X_train: {X_train.shape}')\n",
    "print(f'Shape of X_test: {X_test.shape}')"
   ]
  },
  {
   "cell_type": "markdown",
   "id": "b60201c0",
   "metadata": {},
   "source": [
    "### CountVectorize the data"
   ]
  },
  {
   "cell_type": "code",
   "execution_count": 134,
   "id": "e7bf20e9",
   "metadata": {},
   "outputs": [],
   "source": [
    "# Instantiate a CountVectorizer.\n",
    "cv = CountVectorizer(min_df=2,                   # Ignore words that do not occur at least 2 times\n",
    "                    ngram_range=(1,5))          # Set ngram_range"
   ]
  },
  {
   "cell_type": "code",
   "execution_count": 135,
   "id": "86255a3c",
   "metadata": {},
   "outputs": [],
   "source": [
    "# Fit the CountVectorizer to the training and testing data\n",
    "cv_train = cv.fit_transform(X_train)            \n",
    "cv_test = cv.transform(X_test)"
   ]
  },
  {
   "cell_type": "code",
   "execution_count": 136,
   "id": "7db71fc6",
   "metadata": {},
   "outputs": [
    {
     "data": {
      "text/html": [
       "<div>\n",
       "<style scoped>\n",
       "    .dataframe tbody tr th:only-of-type {\n",
       "        vertical-align: middle;\n",
       "    }\n",
       "\n",
       "    .dataframe tbody tr th {\n",
       "        vertical-align: top;\n",
       "    }\n",
       "\n",
       "    .dataframe thead th {\n",
       "        text-align: right;\n",
       "    }\n",
       "</style>\n",
       "<table border=\"1\" class=\"dataframe\">\n",
       "  <thead>\n",
       "    <tr style=\"text-align: right;\">\n",
       "      <th></th>\n",
       "      <th>10</th>\n",
       "      <th>100</th>\n",
       "      <th>11</th>\n",
       "      <th>15</th>\n",
       "      <th>18</th>\n",
       "      <th>18 year</th>\n",
       "      <th>18 year old</th>\n",
       "      <th>1965</th>\n",
       "      <th>1965 sure</th>\n",
       "      <th>1st</th>\n",
       "      <th>...</th>\n",
       "      <th>yamaha</th>\n",
       "      <th>yamaha svc</th>\n",
       "      <th>year</th>\n",
       "      <th>year break</th>\n",
       "      <th>year old</th>\n",
       "      <th>young</th>\n",
       "      <th>youth</th>\n",
       "      <th>youtub</th>\n",
       "      <th>zoom</th>\n",
       "      <th>zoom meetup</th>\n",
       "    </tr>\n",
       "  </thead>\n",
       "  <tbody>\n",
       "    <tr>\n",
       "      <th>0</th>\n",
       "      <td>0</td>\n",
       "      <td>0</td>\n",
       "      <td>0</td>\n",
       "      <td>0</td>\n",
       "      <td>0</td>\n",
       "      <td>0</td>\n",
       "      <td>0</td>\n",
       "      <td>0</td>\n",
       "      <td>0</td>\n",
       "      <td>0</td>\n",
       "      <td>...</td>\n",
       "      <td>0</td>\n",
       "      <td>0</td>\n",
       "      <td>0</td>\n",
       "      <td>0</td>\n",
       "      <td>0</td>\n",
       "      <td>0</td>\n",
       "      <td>0</td>\n",
       "      <td>0</td>\n",
       "      <td>0</td>\n",
       "      <td>0</td>\n",
       "    </tr>\n",
       "    <tr>\n",
       "      <th>1</th>\n",
       "      <td>0</td>\n",
       "      <td>0</td>\n",
       "      <td>0</td>\n",
       "      <td>0</td>\n",
       "      <td>0</td>\n",
       "      <td>0</td>\n",
       "      <td>0</td>\n",
       "      <td>0</td>\n",
       "      <td>0</td>\n",
       "      <td>0</td>\n",
       "      <td>...</td>\n",
       "      <td>0</td>\n",
       "      <td>0</td>\n",
       "      <td>0</td>\n",
       "      <td>0</td>\n",
       "      <td>0</td>\n",
       "      <td>0</td>\n",
       "      <td>0</td>\n",
       "      <td>0</td>\n",
       "      <td>0</td>\n",
       "      <td>0</td>\n",
       "    </tr>\n",
       "    <tr>\n",
       "      <th>2</th>\n",
       "      <td>0</td>\n",
       "      <td>0</td>\n",
       "      <td>0</td>\n",
       "      <td>0</td>\n",
       "      <td>0</td>\n",
       "      <td>0</td>\n",
       "      <td>0</td>\n",
       "      <td>0</td>\n",
       "      <td>0</td>\n",
       "      <td>1</td>\n",
       "      <td>...</td>\n",
       "      <td>0</td>\n",
       "      <td>0</td>\n",
       "      <td>0</td>\n",
       "      <td>0</td>\n",
       "      <td>0</td>\n",
       "      <td>0</td>\n",
       "      <td>0</td>\n",
       "      <td>0</td>\n",
       "      <td>0</td>\n",
       "      <td>0</td>\n",
       "    </tr>\n",
       "    <tr>\n",
       "      <th>3</th>\n",
       "      <td>0</td>\n",
       "      <td>0</td>\n",
       "      <td>0</td>\n",
       "      <td>0</td>\n",
       "      <td>0</td>\n",
       "      <td>0</td>\n",
       "      <td>0</td>\n",
       "      <td>0</td>\n",
       "      <td>0</td>\n",
       "      <td>0</td>\n",
       "      <td>...</td>\n",
       "      <td>0</td>\n",
       "      <td>0</td>\n",
       "      <td>0</td>\n",
       "      <td>0</td>\n",
       "      <td>0</td>\n",
       "      <td>0</td>\n",
       "      <td>0</td>\n",
       "      <td>0</td>\n",
       "      <td>0</td>\n",
       "      <td>0</td>\n",
       "    </tr>\n",
       "    <tr>\n",
       "      <th>4</th>\n",
       "      <td>0</td>\n",
       "      <td>0</td>\n",
       "      <td>0</td>\n",
       "      <td>0</td>\n",
       "      <td>0</td>\n",
       "      <td>0</td>\n",
       "      <td>0</td>\n",
       "      <td>0</td>\n",
       "      <td>0</td>\n",
       "      <td>0</td>\n",
       "      <td>...</td>\n",
       "      <td>0</td>\n",
       "      <td>0</td>\n",
       "      <td>0</td>\n",
       "      <td>0</td>\n",
       "      <td>0</td>\n",
       "      <td>0</td>\n",
       "      <td>0</td>\n",
       "      <td>0</td>\n",
       "      <td>0</td>\n",
       "      <td>0</td>\n",
       "    </tr>\n",
       "  </tbody>\n",
       "</table>\n",
       "<p>5 rows × 1332 columns</p>\n",
       "</div>"
      ],
      "text/plain": [
       "   10  100  11  15  18  18 year  18 year old  1965  1965 sure  1st  ...  \\\n",
       "0   0    0   0   0   0        0            0     0          0    0  ...   \n",
       "1   0    0   0   0   0        0            0     0          0    0  ...   \n",
       "2   0    0   0   0   0        0            0     0          0    1  ...   \n",
       "3   0    0   0   0   0        0            0     0          0    0  ...   \n",
       "4   0    0   0   0   0        0            0     0          0    0  ...   \n",
       "\n",
       "   yamaha  yamaha svc  year  year break  year old  young  youth  youtub  zoom  \\\n",
       "0       0           0     0           0         0      0      0       0     0   \n",
       "1       0           0     0           0         0      0      0       0     0   \n",
       "2       0           0     0           0         0      0      0       0     0   \n",
       "3       0           0     0           0         0      0      0       0     0   \n",
       "4       0           0     0           0         0      0      0       0     0   \n",
       "\n",
       "   zoom meetup  \n",
       "0            0  \n",
       "1            0  \n",
       "2            0  \n",
       "3            0  \n",
       "4            0  \n",
       "\n",
       "[5 rows x 1332 columns]"
      ]
     },
     "execution_count": 136,
     "metadata": {},
     "output_type": "execute_result"
    }
   ],
   "source": [
    "# Create cv_train dataframe\n",
    "cv_train_df = pd.DataFrame(cv_train.toarray(), columns = cv.get_feature_names())\n",
    "cv_train_df.head()"
   ]
  },
  {
   "cell_type": "code",
   "execution_count": 137,
   "id": "37b4d54d",
   "metadata": {},
   "outputs": [
    {
     "data": {
      "text/html": [
       "<div>\n",
       "<style scoped>\n",
       "    .dataframe tbody tr th:only-of-type {\n",
       "        vertical-align: middle;\n",
       "    }\n",
       "\n",
       "    .dataframe tbody tr th {\n",
       "        vertical-align: top;\n",
       "    }\n",
       "\n",
       "    .dataframe thead th {\n",
       "        text-align: right;\n",
       "    }\n",
       "</style>\n",
       "<table border=\"1\" class=\"dataframe\">\n",
       "  <thead>\n",
       "    <tr style=\"text-align: right;\">\n",
       "      <th></th>\n",
       "      <th>10</th>\n",
       "      <th>100</th>\n",
       "      <th>11</th>\n",
       "      <th>15</th>\n",
       "      <th>18</th>\n",
       "      <th>18 year</th>\n",
       "      <th>18 year old</th>\n",
       "      <th>1965</th>\n",
       "      <th>1965 sure</th>\n",
       "      <th>1st</th>\n",
       "      <th>...</th>\n",
       "      <th>yamaha</th>\n",
       "      <th>yamaha svc</th>\n",
       "      <th>year</th>\n",
       "      <th>year break</th>\n",
       "      <th>year old</th>\n",
       "      <th>young</th>\n",
       "      <th>youth</th>\n",
       "      <th>youtub</th>\n",
       "      <th>zoom</th>\n",
       "      <th>zoom meetup</th>\n",
       "    </tr>\n",
       "  </thead>\n",
       "  <tbody>\n",
       "    <tr>\n",
       "      <th>0</th>\n",
       "      <td>0</td>\n",
       "      <td>0</td>\n",
       "      <td>0</td>\n",
       "      <td>0</td>\n",
       "      <td>0</td>\n",
       "      <td>0</td>\n",
       "      <td>0</td>\n",
       "      <td>0</td>\n",
       "      <td>0</td>\n",
       "      <td>0</td>\n",
       "      <td>...</td>\n",
       "      <td>0</td>\n",
       "      <td>0</td>\n",
       "      <td>0</td>\n",
       "      <td>0</td>\n",
       "      <td>0</td>\n",
       "      <td>0</td>\n",
       "      <td>0</td>\n",
       "      <td>0</td>\n",
       "      <td>0</td>\n",
       "      <td>0</td>\n",
       "    </tr>\n",
       "    <tr>\n",
       "      <th>1</th>\n",
       "      <td>0</td>\n",
       "      <td>0</td>\n",
       "      <td>0</td>\n",
       "      <td>0</td>\n",
       "      <td>0</td>\n",
       "      <td>0</td>\n",
       "      <td>0</td>\n",
       "      <td>0</td>\n",
       "      <td>0</td>\n",
       "      <td>0</td>\n",
       "      <td>...</td>\n",
       "      <td>0</td>\n",
       "      <td>0</td>\n",
       "      <td>0</td>\n",
       "      <td>0</td>\n",
       "      <td>0</td>\n",
       "      <td>0</td>\n",
       "      <td>0</td>\n",
       "      <td>0</td>\n",
       "      <td>0</td>\n",
       "      <td>0</td>\n",
       "    </tr>\n",
       "    <tr>\n",
       "      <th>2</th>\n",
       "      <td>0</td>\n",
       "      <td>0</td>\n",
       "      <td>0</td>\n",
       "      <td>0</td>\n",
       "      <td>0</td>\n",
       "      <td>0</td>\n",
       "      <td>0</td>\n",
       "      <td>0</td>\n",
       "      <td>0</td>\n",
       "      <td>0</td>\n",
       "      <td>...</td>\n",
       "      <td>0</td>\n",
       "      <td>0</td>\n",
       "      <td>0</td>\n",
       "      <td>0</td>\n",
       "      <td>0</td>\n",
       "      <td>0</td>\n",
       "      <td>0</td>\n",
       "      <td>0</td>\n",
       "      <td>0</td>\n",
       "      <td>0</td>\n",
       "    </tr>\n",
       "    <tr>\n",
       "      <th>3</th>\n",
       "      <td>0</td>\n",
       "      <td>0</td>\n",
       "      <td>0</td>\n",
       "      <td>0</td>\n",
       "      <td>0</td>\n",
       "      <td>0</td>\n",
       "      <td>0</td>\n",
       "      <td>0</td>\n",
       "      <td>0</td>\n",
       "      <td>0</td>\n",
       "      <td>...</td>\n",
       "      <td>0</td>\n",
       "      <td>0</td>\n",
       "      <td>0</td>\n",
       "      <td>0</td>\n",
       "      <td>0</td>\n",
       "      <td>0</td>\n",
       "      <td>0</td>\n",
       "      <td>0</td>\n",
       "      <td>0</td>\n",
       "      <td>0</td>\n",
       "    </tr>\n",
       "    <tr>\n",
       "      <th>4</th>\n",
       "      <td>0</td>\n",
       "      <td>0</td>\n",
       "      <td>0</td>\n",
       "      <td>0</td>\n",
       "      <td>0</td>\n",
       "      <td>0</td>\n",
       "      <td>0</td>\n",
       "      <td>0</td>\n",
       "      <td>0</td>\n",
       "      <td>0</td>\n",
       "      <td>...</td>\n",
       "      <td>0</td>\n",
       "      <td>0</td>\n",
       "      <td>0</td>\n",
       "      <td>0</td>\n",
       "      <td>0</td>\n",
       "      <td>0</td>\n",
       "      <td>0</td>\n",
       "      <td>0</td>\n",
       "      <td>0</td>\n",
       "      <td>0</td>\n",
       "    </tr>\n",
       "  </tbody>\n",
       "</table>\n",
       "<p>5 rows × 1332 columns</p>\n",
       "</div>"
      ],
      "text/plain": [
       "   10  100  11  15  18  18 year  18 year old  1965  1965 sure  1st  ...  \\\n",
       "0   0    0   0   0   0        0            0     0          0    0  ...   \n",
       "1   0    0   0   0   0        0            0     0          0    0  ...   \n",
       "2   0    0   0   0   0        0            0     0          0    0  ...   \n",
       "3   0    0   0   0   0        0            0     0          0    0  ...   \n",
       "4   0    0   0   0   0        0            0     0          0    0  ...   \n",
       "\n",
       "   yamaha  yamaha svc  year  year break  year old  young  youth  youtub  zoom  \\\n",
       "0       0           0     0           0         0      0      0       0     0   \n",
       "1       0           0     0           0         0      0      0       0     0   \n",
       "2       0           0     0           0         0      0      0       0     0   \n",
       "3       0           0     0           0         0      0      0       0     0   \n",
       "4       0           0     0           0         0      0      0       0     0   \n",
       "\n",
       "   zoom meetup  \n",
       "0            0  \n",
       "1            0  \n",
       "2            0  \n",
       "3            0  \n",
       "4            0  \n",
       "\n",
       "[5 rows x 1332 columns]"
      ]
     },
     "execution_count": 137,
     "metadata": {},
     "output_type": "execute_result"
    }
   ],
   "source": [
    "# Create cv_test dataframe\n",
    "cv_test_df = pd.DataFrame(cv_test.toarray(), columns = cv.get_feature_names())\n",
    "cv_test_df.head()"
   ]
  },
  {
   "cell_type": "code",
   "execution_count": 138,
   "id": "4563d773",
   "metadata": {},
   "outputs": [
    {
     "name": "stdout",
     "output_type": "stream",
     "text": [
      "Shape of cv_train: (1564, 1332)\n",
      "Shape of cv_test: (522, 1332)\n"
     ]
    }
   ],
   "source": [
    "# Check shape of cv_train and cv_test\n",
    "print(f'Shape of cv_train: {cv_train.shape}')\n",
    "print(f'Shape of cv_test: {cv_test.shape}')"
   ]
  },
  {
   "cell_type": "markdown",
   "id": "188074c2",
   "metadata": {},
   "source": [
    "**Logistic Regression**"
   ]
  },
  {
   "cell_type": "code",
   "execution_count": 182,
   "id": "37c76e26",
   "metadata": {},
   "outputs": [
    {
     "name": "stdout",
     "output_type": "stream",
     "text": [
      "===Logistic Regression===\n",
      "0.9597186700767263\n",
      "0.7145593869731801\n",
      "\n"
     ]
    }
   ],
   "source": [
    "# Instantiate model \n",
    "lr = LogisticRegression(penalty = 'l1', C =10 ,solver=\"liblinear\") #Lasso Regularization\n",
    "# Fit model\n",
    "lr.fit(cv_train, y_train)\n",
    "# Evaluate model.\n",
    "print(\"Logistic Regression\".center(25, \"=\"))\n",
    "print(lr.score(cv_train, y_train))\n",
    "print(lr.score(cv_test, y_test))\n",
    "print()"
   ]
  },
  {
   "cell_type": "code",
   "execution_count": 181,
   "id": "6948b617",
   "metadata": {},
   "outputs": [
    {
     "name": "stdout",
     "output_type": "stream",
     "text": [
      "===Logistic Regression===\n",
      "0.9526854219948849\n",
      "0.7509578544061303\n",
      "\n"
     ]
    }
   ],
   "source": [
    "# Instantiate model \n",
    "lr = LogisticRegression(penalty = 'l2', C =10 ,solver=\"liblinear\") #Ridge Regularization\n",
    "# Fit model\n",
    "lr.fit(cv_train, y_train)\n",
    "# Evaluate model.\n",
    "print(\"Logistic Regression\".center(25, \"=\"))\n",
    "print(lr.score(cv_train, y_train))\n",
    "print(lr.score(cv_test, y_test))\n",
    "print()"
   ]
  },
  {
   "cell_type": "markdown",
   "id": "3c7ef462",
   "metadata": {},
   "source": [
    "- The Logistic Regression model has a higher training score than the testing score under both Lasso and Ridge penalties  meaning that the model is overfit.\n",
    "-  In both cases, the model performs well on the training data, but there is a significan dropoff in performance in the testing data."
   ]
  },
  {
   "cell_type": "code",
   "execution_count": 141,
   "id": "28fb16d8",
   "metadata": {},
   "outputs": [],
   "source": [
    "# Created a dataframe of all coefficients and sorted by descending values\n",
    "# The top features and coefficients that will determine whether a post is a Violin post\n",
    "coef_df = pd.DataFrame(lr.coef_, columns=cv_train_df.columns).T.sort_values(by=0, ascending=False)"
   ]
  },
  {
   "cell_type": "code",
   "execution_count": 142,
   "id": "f938681e",
   "metadata": {},
   "outputs": [
    {
     "data": {
      "text/html": [
       "<div>\n",
       "<style scoped>\n",
       "    .dataframe tbody tr th:only-of-type {\n",
       "        vertical-align: middle;\n",
       "    }\n",
       "\n",
       "    .dataframe tbody tr th {\n",
       "        vertical-align: top;\n",
       "    }\n",
       "\n",
       "    .dataframe thead th {\n",
       "        text-align: right;\n",
       "    }\n",
       "</style>\n",
       "<table border=\"1\" class=\"dataframe\">\n",
       "  <thead>\n",
       "    <tr style=\"text-align: right;\">\n",
       "      <th></th>\n",
       "      <th>0</th>\n",
       "    </tr>\n",
       "  </thead>\n",
       "  <tbody>\n",
       "    <tr>\n",
       "      <th>soundpost</th>\n",
       "      <td>10.640272</td>\n",
       "    </tr>\n",
       "    <tr>\n",
       "      <th>practic get</th>\n",
       "      <td>9.096194</td>\n",
       "    </tr>\n",
       "    <tr>\n",
       "      <th>violin</th>\n",
       "      <td>8.597852</td>\n",
       "    </tr>\n",
       "    <tr>\n",
       "      <th>gener</th>\n",
       "      <td>7.713353</td>\n",
       "    </tr>\n",
       "    <tr>\n",
       "      <th>stress</th>\n",
       "      <td>6.094440</td>\n",
       "    </tr>\n",
       "    <tr>\n",
       "      <th>want start</th>\n",
       "      <td>6.043691</td>\n",
       "    </tr>\n",
       "    <tr>\n",
       "      <th>pirastro</th>\n",
       "      <td>5.698319</td>\n",
       "    </tr>\n",
       "    <tr>\n",
       "      <th>wieniawski</th>\n",
       "      <td>5.594659</td>\n",
       "    </tr>\n",
       "    <tr>\n",
       "      <th>get new</th>\n",
       "      <td>5.356538</td>\n",
       "    </tr>\n",
       "    <tr>\n",
       "      <th>anywher</th>\n",
       "      <td>5.183559</td>\n",
       "    </tr>\n",
       "  </tbody>\n",
       "</table>\n",
       "</div>"
      ],
      "text/plain": [
       "                     0\n",
       "soundpost    10.640272\n",
       "practic get   9.096194\n",
       "violin        8.597852\n",
       "gener         7.713353\n",
       "stress        6.094440\n",
       "want start    6.043691\n",
       "pirastro      5.698319\n",
       "wieniawski    5.594659\n",
       "get new       5.356538\n",
       "anywher       5.183559"
      ]
     },
     "execution_count": 142,
     "metadata": {},
     "output_type": "execute_result"
    }
   ],
   "source": [
    "# Top 10 features that determine a Violin post\n",
    "coef_df.head(10)"
   ]
  },
  {
   "cell_type": "code",
   "execution_count": 143,
   "id": "e7743c70",
   "metadata": {},
   "outputs": [
    {
     "data": {
      "text/html": [
       "<div>\n",
       "<style scoped>\n",
       "    .dataframe tbody tr th:only-of-type {\n",
       "        vertical-align: middle;\n",
       "    }\n",
       "\n",
       "    .dataframe tbody tr th {\n",
       "        vertical-align: top;\n",
       "    }\n",
       "\n",
       "    .dataframe thead th {\n",
       "        text-align: right;\n",
       "    }\n",
       "</style>\n",
       "<table border=\"1\" class=\"dataframe\">\n",
       "  <thead>\n",
       "    <tr style=\"text-align: right;\">\n",
       "      <th></th>\n",
       "      <th>0</th>\n",
       "    </tr>\n",
       "  </thead>\n",
       "  <tbody>\n",
       "    <tr>\n",
       "      <th>postur</th>\n",
       "      <td>-6.273414</td>\n",
       "    </tr>\n",
       "    <tr>\n",
       "      <th>love</th>\n",
       "      <td>-6.504940</td>\n",
       "    </tr>\n",
       "    <tr>\n",
       "      <th>suit</th>\n",
       "      <td>-6.539485</td>\n",
       "    </tr>\n",
       "    <tr>\n",
       "      <th>absolut beginn</th>\n",
       "      <td>-6.639627</td>\n",
       "    </tr>\n",
       "    <tr>\n",
       "      <th>begginn</th>\n",
       "      <td>-6.741757</td>\n",
       "    </tr>\n",
       "    <tr>\n",
       "      <th>thumb</th>\n",
       "      <td>-6.802629</td>\n",
       "    </tr>\n",
       "    <tr>\n",
       "      <th>happen</th>\n",
       "      <td>-6.944252</td>\n",
       "    </tr>\n",
       "    <tr>\n",
       "      <th>cellist</th>\n",
       "      <td>-7.132152</td>\n",
       "    </tr>\n",
       "    <tr>\n",
       "      <th>move</th>\n",
       "      <td>-9.329826</td>\n",
       "    </tr>\n",
       "    <tr>\n",
       "      <th>cello</th>\n",
       "      <td>-10.302320</td>\n",
       "    </tr>\n",
       "  </tbody>\n",
       "</table>\n",
       "</div>"
      ],
      "text/plain": [
       "                        0\n",
       "postur          -6.273414\n",
       "love            -6.504940\n",
       "suit            -6.539485\n",
       "absolut beginn  -6.639627\n",
       "begginn         -6.741757\n",
       "thumb           -6.802629\n",
       "happen          -6.944252\n",
       "cellist         -7.132152\n",
       "move            -9.329826\n",
       "cello          -10.302320"
      ]
     },
     "execution_count": 143,
     "metadata": {},
     "output_type": "execute_result"
    }
   ],
   "source": [
    "# Top 10 features that determine an Cello post\n",
    "coef_df.tail(10)"
   ]
  },
  {
   "cell_type": "markdown",
   "id": "318c1f1b",
   "metadata": {},
   "source": [
    "**Multinomial Naive Bayes Model**"
   ]
  },
  {
   "cell_type": "code",
   "execution_count": 144,
   "id": "53508007",
   "metadata": {},
   "outputs": [
    {
     "name": "stdout",
     "output_type": "stream",
     "text": [
      "=======MNB========\n",
      "0.860613810741688\n",
      "0.7298850574712644\n",
      "\n"
     ]
    }
   ],
   "source": [
    "# Instantiate model \n",
    "mnb = MultinomialNB()\n",
    "# Fit model\n",
    "mnb.fit(cv_train, y_train)\n",
    "# Evaluate model.\n",
    "print(\"MNB\".center(18, \"=\"))\n",
    "print(mnb.score(cv_train, y_train))\n",
    "print(mnb.score(cv_test, y_test))\n",
    "print()"
   ]
  },
  {
   "cell_type": "markdown",
   "id": "47b65b2b",
   "metadata": {},
   "source": [
    "- Multinomial Naive Bayes Model is also overfit. \n",
    "- When compared to Logistic Regression ,this model performs worse on the training data and similarly on the testing data."
   ]
  },
  {
   "cell_type": "markdown",
   "id": "a81ffce3",
   "metadata": {},
   "source": [
    "**Decision Tree Classifier**"
   ]
  },
  {
   "cell_type": "code",
   "execution_count": 271,
   "id": "e1873fcf",
   "metadata": {},
   "outputs": [
    {
     "name": "stdout",
     "output_type": "stream",
     "text": [
      "==Decision Tree===\n",
      "0.9763427109974424\n",
      "0.7088122605363985\n",
      "\n"
     ]
    }
   ],
   "source": [
    "# Instantiate model with random_state = 42.\n",
    "dt = DecisionTreeClassifier(random_state=42,max_depth=500)\n",
    "# Fit model\n",
    "dt.fit(cv_train, y_train)\n",
    "# Evaluate model.\n",
    "print(\"Decision Tree\".center(18, \"=\"))\n",
    "print(dt.score(cv_train, y_train))\n",
    "print(dt.score(cv_test, y_test))\n",
    "print()"
   ]
  },
  {
   "cell_type": "markdown",
   "id": "9cb11169",
   "metadata": {},
   "source": [
    "- Decision Tree Classififer is also overfit.\n",
    "- When compared to Logistic Regression and Multinomial Naive Bayes testing score is lower\n",
    "- When compared to Logistic Regression and Multinomial Naive Bayes training score is higher"
   ]
  },
  {
   "cell_type": "markdown",
   "id": "fdde9688",
   "metadata": {},
   "source": [
    "**Bagging Classifier**"
   ]
  },
  {
   "cell_type": "code",
   "execution_count": 148,
   "id": "e19962fa",
   "metadata": {},
   "outputs": [
    {
     "name": "stdout",
     "output_type": "stream",
     "text": [
      "Bagging Classifier\n",
      "0.9763427109974424\n",
      "0.7030651340996169\n",
      "\n"
     ]
    }
   ],
   "source": [
    "# Instantiate model\n",
    "bag = BaggingClassifier(random_state=42, n_estimators=100)\n",
    "# Fit model\n",
    "bag.fit(cv_train, y_train)\n",
    "# Evaluate model.\n",
    "print(\"Bagging Classifier\".center(18, \"=\"))\n",
    "print(bag.score(cv_train, y_train))\n",
    "print(bag.score(cv_test, y_test))\n",
    "print()"
   ]
  },
  {
   "cell_type": "markdown",
   "id": "21dbabff",
   "metadata": {},
   "source": [
    "- Bagging Classifier is also overfit."
   ]
  },
  {
   "cell_type": "markdown",
   "id": "d71c68ce",
   "metadata": {},
   "source": [
    "**Extra Trees Classifier**"
   ]
  },
  {
   "cell_type": "code",
   "execution_count": 164,
   "id": "7600777e",
   "metadata": {},
   "outputs": [
    {
     "name": "stdout",
     "output_type": "stream",
     "text": [
      "Extra Trees Classifier\n",
      "0.9763427109974424\n",
      "0.7241379310344828\n",
      "\n"
     ]
    }
   ],
   "source": [
    "# Instantiate model\n",
    "et = ExtraTreesClassifier(random_state=42, n_estimators=50,max_depth=1000)\n",
    "# Fit model\n",
    "et.fit(cv_train, y_train)\n",
    "# Evaluate model.\n",
    "print(\"Extra Trees Classifier\".center(18, \"=\"))\n",
    "print(et.score(cv_train, y_train))\n",
    "print(et.score(cv_test, y_test))\n",
    "print()"
   ]
  },
  {
   "cell_type": "markdown",
   "id": "9d1cfa7d",
   "metadata": {},
   "source": [
    "- Extra Trees Classifier is also overfit."
   ]
  },
  {
   "cell_type": "markdown",
   "id": "f94385b3",
   "metadata": {},
   "source": [
    "**Random Forest Classifier**"
   ]
  },
  {
   "cell_type": "code",
   "execution_count": 172,
   "id": "ed8b0f3a",
   "metadata": {},
   "outputs": [
    {
     "name": "stdout",
     "output_type": "stream",
     "text": [
      "Random Forest Classifier\n",
      "0.9763427109974424\n",
      "0.7068965517241379\n",
      "\n"
     ]
    }
   ],
   "source": [
    "# Instantiate model\n",
    "rfc = RandomForestClassifier(random_state=42, n_estimators=500,max_depth=1000)\n",
    "# Fit model\n",
    "rfc.fit(cv_train, y_train)\n",
    "# Evaluate model.\n",
    "print(\"Random Forest Classifier\".center(18, \"=\"))\n",
    "print(rfc.score(cv_train, y_train))\n",
    "print(rfc.score(cv_test, y_test))\n",
    "print()"
   ]
  },
  {
   "cell_type": "markdown",
   "id": "b9e6ebf7",
   "metadata": {},
   "source": [
    "- The Random Forest Model is also overfit and performs very similarly to the Extra Trees and Bagging classifier  on  training data."
   ]
  },
  {
   "cell_type": "markdown",
   "id": "5ce5319c",
   "metadata": {},
   "source": [
    "**The best model under CountVectorizer is  Logistic Regression Model (Ridge) based on test scores**"
   ]
  },
  {
   "cell_type": "markdown",
   "id": "d97f4aee",
   "metadata": {},
   "source": [
    "|                \t| LogisticRegression(Lasso) \t| LogisticRegression(Ridge) \t|  MNB  \t| Decision Tree  \t| Bagging Classifier \t|  Extra Trees  \t| Random Forest  \t|\n",
    "|:--------------:\t|:-------------------------:\t|:-------------------------:\t|:-----:\t|:--------------:\t|:------------------:\t|:-------------:\t|:--------------:\t|\n",
    "| Training score \t|           0.959           \t|           0.952           \t| 0.860 \t|      0.976     \t|        0.976       \t|     0.976     \t|      0.976     \t|\n",
    "|  Testing score \t|           0.714           \t|           0.750           \t| 0.729 \t|      0.708     \t|        0.703       \t|     0.724     \t|      0.706     \t|"
   ]
  },
  {
   "cell_type": "markdown",
   "id": "22969d8a",
   "metadata": {},
   "source": [
    "**GridSearch**"
   ]
  },
  {
   "cell_type": "code",
   "execution_count": 422,
   "id": "50878866",
   "metadata": {},
   "outputs": [
    {
     "name": "stdout",
     "output_type": "stream",
     "text": [
      "Fitting 5 folds for each of 10 candidates, totalling 50 fits\n",
      "Best Score: 0.7333579093962481\n",
      "Best Parameters:{'C': 0.1, 'penalty': 'l2'}\n",
      "===Grid Search====\n",
      "0.8478260869565217\n",
      "0.7145593869731801\n",
      "\n"
     ]
    }
   ],
   "source": [
    "# Instantiate model\n",
    "lr_gs = LogisticRegression(random_state=42,solver='liblinear')\n",
    "# Create dictionary of hyperparameters.\n",
    "# The keys MUST match the names of the arguments!\n",
    "lr_params = {'penalty': ['l1', 'l2'],\n",
    "         'C': [0.01,0.1,1.0,10.0,50.0]}\n",
    "# Instantiate our GridSearchCV object.\n",
    "gs = GridSearchCV(estimator=lr_gs, param_grid=lr_params, cv=5,verbose=1)\n",
    "# Fit the GridSearchCV object to the data\n",
    "gs.fit(cv_train, y_train)\n",
    "# Print out the score.\n",
    "print(f'Best Score: {gs.best_score_}')\n",
    "print(f'Best Parameters:{gs.best_params_}')\n",
    "print(\"Grid Search\".center(18, \"=\"))\n",
    "print(gs.score(cv_train, y_train))\n",
    "print(gs.score(cv_test, y_test))\n",
    "print()"
   ]
  },
  {
   "cell_type": "markdown",
   "id": "9b1dbd28",
   "metadata": {},
   "source": [
    "- After running our GridSearch model we see that our best score is a 0.733. \n",
    "- However, when we score our Gridsearch model to the training and testing data, the model doesn't perform better compared to the original model that we ran. "
   ]
  },
  {
   "cell_type": "markdown",
   "id": "83601299",
   "metadata": {},
   "source": [
    "### TfidfVectorizer"
   ]
  },
  {
   "cell_type": "code",
   "execution_count": 195,
   "id": "4cfcf769",
   "metadata": {},
   "outputs": [],
   "source": [
    "# Instantiate the transformer.\n",
    "tf = TfidfVectorizer(min_df=2,                   # Ignore words that do not occur at least 2 times\n",
    "                    ngram_range=(1,5))          # Set ngram_range"
   ]
  },
  {
   "cell_type": "code",
   "execution_count": 196,
   "id": "e86df030",
   "metadata": {},
   "outputs": [],
   "source": [
    "tf_train = tf.fit_transform(X_train)            # Fit the TfidfVectorizer to the training data\n",
    "tf_test = tf.transform(X_test)                  # Fit the TfidfVectorizer to the testing data"
   ]
  },
  {
   "cell_type": "code",
   "execution_count": 197,
   "id": "6e406c84",
   "metadata": {},
   "outputs": [
    {
     "data": {
      "text/html": [
       "<div>\n",
       "<style scoped>\n",
       "    .dataframe tbody tr th:only-of-type {\n",
       "        vertical-align: middle;\n",
       "    }\n",
       "\n",
       "    .dataframe tbody tr th {\n",
       "        vertical-align: top;\n",
       "    }\n",
       "\n",
       "    .dataframe thead th {\n",
       "        text-align: right;\n",
       "    }\n",
       "</style>\n",
       "<table border=\"1\" class=\"dataframe\">\n",
       "  <thead>\n",
       "    <tr style=\"text-align: right;\">\n",
       "      <th></th>\n",
       "      <th>10</th>\n",
       "      <th>100</th>\n",
       "      <th>11</th>\n",
       "      <th>15</th>\n",
       "      <th>18</th>\n",
       "      <th>18 year</th>\n",
       "      <th>18 year old</th>\n",
       "      <th>1965</th>\n",
       "      <th>1965 sure</th>\n",
       "      <th>1st</th>\n",
       "      <th>...</th>\n",
       "      <th>yamaha</th>\n",
       "      <th>yamaha svc</th>\n",
       "      <th>year</th>\n",
       "      <th>year break</th>\n",
       "      <th>year old</th>\n",
       "      <th>young</th>\n",
       "      <th>youth</th>\n",
       "      <th>youtub</th>\n",
       "      <th>zoom</th>\n",
       "      <th>zoom meetup</th>\n",
       "    </tr>\n",
       "  </thead>\n",
       "  <tbody>\n",
       "    <tr>\n",
       "      <th>0</th>\n",
       "      <td>0.0</td>\n",
       "      <td>0.0</td>\n",
       "      <td>0.0</td>\n",
       "      <td>0.0</td>\n",
       "      <td>0.0</td>\n",
       "      <td>0.0</td>\n",
       "      <td>0.0</td>\n",
       "      <td>0.0</td>\n",
       "      <td>0.0</td>\n",
       "      <td>0.000000</td>\n",
       "      <td>...</td>\n",
       "      <td>0.0</td>\n",
       "      <td>0.0</td>\n",
       "      <td>0.0</td>\n",
       "      <td>0.0</td>\n",
       "      <td>0.0</td>\n",
       "      <td>0.0</td>\n",
       "      <td>0.0</td>\n",
       "      <td>0.0</td>\n",
       "      <td>0.0</td>\n",
       "      <td>0.0</td>\n",
       "    </tr>\n",
       "    <tr>\n",
       "      <th>1</th>\n",
       "      <td>0.0</td>\n",
       "      <td>0.0</td>\n",
       "      <td>0.0</td>\n",
       "      <td>0.0</td>\n",
       "      <td>0.0</td>\n",
       "      <td>0.0</td>\n",
       "      <td>0.0</td>\n",
       "      <td>0.0</td>\n",
       "      <td>0.0</td>\n",
       "      <td>0.000000</td>\n",
       "      <td>...</td>\n",
       "      <td>0.0</td>\n",
       "      <td>0.0</td>\n",
       "      <td>0.0</td>\n",
       "      <td>0.0</td>\n",
       "      <td>0.0</td>\n",
       "      <td>0.0</td>\n",
       "      <td>0.0</td>\n",
       "      <td>0.0</td>\n",
       "      <td>0.0</td>\n",
       "      <td>0.0</td>\n",
       "    </tr>\n",
       "    <tr>\n",
       "      <th>2</th>\n",
       "      <td>0.0</td>\n",
       "      <td>0.0</td>\n",
       "      <td>0.0</td>\n",
       "      <td>0.0</td>\n",
       "      <td>0.0</td>\n",
       "      <td>0.0</td>\n",
       "      <td>0.0</td>\n",
       "      <td>0.0</td>\n",
       "      <td>0.0</td>\n",
       "      <td>0.639188</td>\n",
       "      <td>...</td>\n",
       "      <td>0.0</td>\n",
       "      <td>0.0</td>\n",
       "      <td>0.0</td>\n",
       "      <td>0.0</td>\n",
       "      <td>0.0</td>\n",
       "      <td>0.0</td>\n",
       "      <td>0.0</td>\n",
       "      <td>0.0</td>\n",
       "      <td>0.0</td>\n",
       "      <td>0.0</td>\n",
       "    </tr>\n",
       "    <tr>\n",
       "      <th>3</th>\n",
       "      <td>0.0</td>\n",
       "      <td>0.0</td>\n",
       "      <td>0.0</td>\n",
       "      <td>0.0</td>\n",
       "      <td>0.0</td>\n",
       "      <td>0.0</td>\n",
       "      <td>0.0</td>\n",
       "      <td>0.0</td>\n",
       "      <td>0.0</td>\n",
       "      <td>0.000000</td>\n",
       "      <td>...</td>\n",
       "      <td>0.0</td>\n",
       "      <td>0.0</td>\n",
       "      <td>0.0</td>\n",
       "      <td>0.0</td>\n",
       "      <td>0.0</td>\n",
       "      <td>0.0</td>\n",
       "      <td>0.0</td>\n",
       "      <td>0.0</td>\n",
       "      <td>0.0</td>\n",
       "      <td>0.0</td>\n",
       "    </tr>\n",
       "    <tr>\n",
       "      <th>4</th>\n",
       "      <td>0.0</td>\n",
       "      <td>0.0</td>\n",
       "      <td>0.0</td>\n",
       "      <td>0.0</td>\n",
       "      <td>0.0</td>\n",
       "      <td>0.0</td>\n",
       "      <td>0.0</td>\n",
       "      <td>0.0</td>\n",
       "      <td>0.0</td>\n",
       "      <td>0.000000</td>\n",
       "      <td>...</td>\n",
       "      <td>0.0</td>\n",
       "      <td>0.0</td>\n",
       "      <td>0.0</td>\n",
       "      <td>0.0</td>\n",
       "      <td>0.0</td>\n",
       "      <td>0.0</td>\n",
       "      <td>0.0</td>\n",
       "      <td>0.0</td>\n",
       "      <td>0.0</td>\n",
       "      <td>0.0</td>\n",
       "    </tr>\n",
       "  </tbody>\n",
       "</table>\n",
       "<p>5 rows × 1332 columns</p>\n",
       "</div>"
      ],
      "text/plain": [
       "    10  100   11   15   18  18 year  18 year old  1965  1965 sure       1st  \\\n",
       "0  0.0  0.0  0.0  0.0  0.0      0.0          0.0   0.0        0.0  0.000000   \n",
       "1  0.0  0.0  0.0  0.0  0.0      0.0          0.0   0.0        0.0  0.000000   \n",
       "2  0.0  0.0  0.0  0.0  0.0      0.0          0.0   0.0        0.0  0.639188   \n",
       "3  0.0  0.0  0.0  0.0  0.0      0.0          0.0   0.0        0.0  0.000000   \n",
       "4  0.0  0.0  0.0  0.0  0.0      0.0          0.0   0.0        0.0  0.000000   \n",
       "\n",
       "   ...  yamaha  yamaha svc  year  year break  year old  young  youth  youtub  \\\n",
       "0  ...     0.0         0.0   0.0         0.0       0.0    0.0    0.0     0.0   \n",
       "1  ...     0.0         0.0   0.0         0.0       0.0    0.0    0.0     0.0   \n",
       "2  ...     0.0         0.0   0.0         0.0       0.0    0.0    0.0     0.0   \n",
       "3  ...     0.0         0.0   0.0         0.0       0.0    0.0    0.0     0.0   \n",
       "4  ...     0.0         0.0   0.0         0.0       0.0    0.0    0.0     0.0   \n",
       "\n",
       "   zoom  zoom meetup  \n",
       "0   0.0          0.0  \n",
       "1   0.0          0.0  \n",
       "2   0.0          0.0  \n",
       "3   0.0          0.0  \n",
       "4   0.0          0.0  \n",
       "\n",
       "[5 rows x 1332 columns]"
      ]
     },
     "execution_count": 197,
     "metadata": {},
     "output_type": "execute_result"
    }
   ],
   "source": [
    "# Create tf_train dataframe\n",
    "tf_train_df = pd.DataFrame(tf_train.toarray(), columns = tf.get_feature_names())\n",
    "tf_train_df.head()"
   ]
  },
  {
   "cell_type": "code",
   "execution_count": 198,
   "id": "24ef296a",
   "metadata": {},
   "outputs": [
    {
     "data": {
      "text/html": [
       "<div>\n",
       "<style scoped>\n",
       "    .dataframe tbody tr th:only-of-type {\n",
       "        vertical-align: middle;\n",
       "    }\n",
       "\n",
       "    .dataframe tbody tr th {\n",
       "        vertical-align: top;\n",
       "    }\n",
       "\n",
       "    .dataframe thead th {\n",
       "        text-align: right;\n",
       "    }\n",
       "</style>\n",
       "<table border=\"1\" class=\"dataframe\">\n",
       "  <thead>\n",
       "    <tr style=\"text-align: right;\">\n",
       "      <th></th>\n",
       "      <th>10</th>\n",
       "      <th>100</th>\n",
       "      <th>11</th>\n",
       "      <th>15</th>\n",
       "      <th>18</th>\n",
       "      <th>18 year</th>\n",
       "      <th>18 year old</th>\n",
       "      <th>1965</th>\n",
       "      <th>1965 sure</th>\n",
       "      <th>1st</th>\n",
       "      <th>...</th>\n",
       "      <th>yamaha</th>\n",
       "      <th>yamaha svc</th>\n",
       "      <th>year</th>\n",
       "      <th>year break</th>\n",
       "      <th>year old</th>\n",
       "      <th>young</th>\n",
       "      <th>youth</th>\n",
       "      <th>youtub</th>\n",
       "      <th>zoom</th>\n",
       "      <th>zoom meetup</th>\n",
       "    </tr>\n",
       "  </thead>\n",
       "  <tbody>\n",
       "    <tr>\n",
       "      <th>0</th>\n",
       "      <td>0.0</td>\n",
       "      <td>0.0</td>\n",
       "      <td>0.0</td>\n",
       "      <td>0.0</td>\n",
       "      <td>0.0</td>\n",
       "      <td>0.0</td>\n",
       "      <td>0.0</td>\n",
       "      <td>0.0</td>\n",
       "      <td>0.0</td>\n",
       "      <td>0.0</td>\n",
       "      <td>...</td>\n",
       "      <td>0.0</td>\n",
       "      <td>0.0</td>\n",
       "      <td>0.0</td>\n",
       "      <td>0.0</td>\n",
       "      <td>0.0</td>\n",
       "      <td>0.0</td>\n",
       "      <td>0.0</td>\n",
       "      <td>0.0</td>\n",
       "      <td>0.0</td>\n",
       "      <td>0.0</td>\n",
       "    </tr>\n",
       "    <tr>\n",
       "      <th>1</th>\n",
       "      <td>0.0</td>\n",
       "      <td>0.0</td>\n",
       "      <td>0.0</td>\n",
       "      <td>0.0</td>\n",
       "      <td>0.0</td>\n",
       "      <td>0.0</td>\n",
       "      <td>0.0</td>\n",
       "      <td>0.0</td>\n",
       "      <td>0.0</td>\n",
       "      <td>0.0</td>\n",
       "      <td>...</td>\n",
       "      <td>0.0</td>\n",
       "      <td>0.0</td>\n",
       "      <td>0.0</td>\n",
       "      <td>0.0</td>\n",
       "      <td>0.0</td>\n",
       "      <td>0.0</td>\n",
       "      <td>0.0</td>\n",
       "      <td>0.0</td>\n",
       "      <td>0.0</td>\n",
       "      <td>0.0</td>\n",
       "    </tr>\n",
       "    <tr>\n",
       "      <th>2</th>\n",
       "      <td>0.0</td>\n",
       "      <td>0.0</td>\n",
       "      <td>0.0</td>\n",
       "      <td>0.0</td>\n",
       "      <td>0.0</td>\n",
       "      <td>0.0</td>\n",
       "      <td>0.0</td>\n",
       "      <td>0.0</td>\n",
       "      <td>0.0</td>\n",
       "      <td>0.0</td>\n",
       "      <td>...</td>\n",
       "      <td>0.0</td>\n",
       "      <td>0.0</td>\n",
       "      <td>0.0</td>\n",
       "      <td>0.0</td>\n",
       "      <td>0.0</td>\n",
       "      <td>0.0</td>\n",
       "      <td>0.0</td>\n",
       "      <td>0.0</td>\n",
       "      <td>0.0</td>\n",
       "      <td>0.0</td>\n",
       "    </tr>\n",
       "    <tr>\n",
       "      <th>3</th>\n",
       "      <td>0.0</td>\n",
       "      <td>0.0</td>\n",
       "      <td>0.0</td>\n",
       "      <td>0.0</td>\n",
       "      <td>0.0</td>\n",
       "      <td>0.0</td>\n",
       "      <td>0.0</td>\n",
       "      <td>0.0</td>\n",
       "      <td>0.0</td>\n",
       "      <td>0.0</td>\n",
       "      <td>...</td>\n",
       "      <td>0.0</td>\n",
       "      <td>0.0</td>\n",
       "      <td>0.0</td>\n",
       "      <td>0.0</td>\n",
       "      <td>0.0</td>\n",
       "      <td>0.0</td>\n",
       "      <td>0.0</td>\n",
       "      <td>0.0</td>\n",
       "      <td>0.0</td>\n",
       "      <td>0.0</td>\n",
       "    </tr>\n",
       "    <tr>\n",
       "      <th>4</th>\n",
       "      <td>0.0</td>\n",
       "      <td>0.0</td>\n",
       "      <td>0.0</td>\n",
       "      <td>0.0</td>\n",
       "      <td>0.0</td>\n",
       "      <td>0.0</td>\n",
       "      <td>0.0</td>\n",
       "      <td>0.0</td>\n",
       "      <td>0.0</td>\n",
       "      <td>0.0</td>\n",
       "      <td>...</td>\n",
       "      <td>0.0</td>\n",
       "      <td>0.0</td>\n",
       "      <td>0.0</td>\n",
       "      <td>0.0</td>\n",
       "      <td>0.0</td>\n",
       "      <td>0.0</td>\n",
       "      <td>0.0</td>\n",
       "      <td>0.0</td>\n",
       "      <td>0.0</td>\n",
       "      <td>0.0</td>\n",
       "    </tr>\n",
       "  </tbody>\n",
       "</table>\n",
       "<p>5 rows × 1332 columns</p>\n",
       "</div>"
      ],
      "text/plain": [
       "    10  100   11   15   18  18 year  18 year old  1965  1965 sure  1st  ...  \\\n",
       "0  0.0  0.0  0.0  0.0  0.0      0.0          0.0   0.0        0.0  0.0  ...   \n",
       "1  0.0  0.0  0.0  0.0  0.0      0.0          0.0   0.0        0.0  0.0  ...   \n",
       "2  0.0  0.0  0.0  0.0  0.0      0.0          0.0   0.0        0.0  0.0  ...   \n",
       "3  0.0  0.0  0.0  0.0  0.0      0.0          0.0   0.0        0.0  0.0  ...   \n",
       "4  0.0  0.0  0.0  0.0  0.0      0.0          0.0   0.0        0.0  0.0  ...   \n",
       "\n",
       "   yamaha  yamaha svc  year  year break  year old  young  youth  youtub  zoom  \\\n",
       "0     0.0         0.0   0.0         0.0       0.0    0.0    0.0     0.0   0.0   \n",
       "1     0.0         0.0   0.0         0.0       0.0    0.0    0.0     0.0   0.0   \n",
       "2     0.0         0.0   0.0         0.0       0.0    0.0    0.0     0.0   0.0   \n",
       "3     0.0         0.0   0.0         0.0       0.0    0.0    0.0     0.0   0.0   \n",
       "4     0.0         0.0   0.0         0.0       0.0    0.0    0.0     0.0   0.0   \n",
       "\n",
       "   zoom meetup  \n",
       "0          0.0  \n",
       "1          0.0  \n",
       "2          0.0  \n",
       "3          0.0  \n",
       "4          0.0  \n",
       "\n",
       "[5 rows x 1332 columns]"
      ]
     },
     "execution_count": 198,
     "metadata": {},
     "output_type": "execute_result"
    }
   ],
   "source": [
    "# Create tf_test dataframe\n",
    "tf_test_df = pd.DataFrame(tf_test.todense(), columns = tf.get_feature_names())\n",
    "tf_test_df.head()"
   ]
  },
  {
   "cell_type": "code",
   "execution_count": 199,
   "id": "f110b623",
   "metadata": {},
   "outputs": [
    {
     "name": "stdout",
     "output_type": "stream",
     "text": [
      "Shape of tf_train: (1564, 1332)\n",
      "Shape of tf_test: (522, 1332)\n"
     ]
    }
   ],
   "source": [
    "# Check shape of tf_train and tf_test\n",
    "print(f'Shape of tf_train: {tf_train.shape}')\n",
    "print(f'Shape of tf_test: {tf_test.shape}')"
   ]
  },
  {
   "cell_type": "markdown",
   "id": "56a0d9cb",
   "metadata": {},
   "source": [
    "**Logistic Regression**"
   ]
  },
  {
   "cell_type": "code",
   "execution_count": 216,
   "id": "2181313a",
   "metadata": {},
   "outputs": [
    {
     "name": "stdout",
     "output_type": "stream",
     "text": [
      "===Logistic Regression===\n",
      "0.9661125319693095\n",
      "0.7260536398467433\n",
      "\n"
     ]
    }
   ],
   "source": [
    "# Instantiate model \n",
    "logreg = LogisticRegression(penalty = 'l1', C =500 ,solver=\"liblinear\") #Lasso Regularization\n",
    "# Fit model\n",
    "logreg.fit(tf_train, y_train)\n",
    "# Evaluate model.\n",
    "print(\"Logistic Regression\".center(25, \"=\"))\n",
    "print(logreg.score(tf_train, y_train))\n",
    "print(logreg.score(tf_test, y_test))\n",
    "print()"
   ]
  },
  {
   "cell_type": "code",
   "execution_count": 219,
   "id": "b67bb97a",
   "metadata": {},
   "outputs": [
    {
     "name": "stdout",
     "output_type": "stream",
     "text": [
      "===Logistic Regression===\n",
      "0.9661125319693095\n",
      "0.7241379310344828\n",
      "\n"
     ]
    }
   ],
   "source": [
    "# Instantiate model \n",
    "logreg = LogisticRegression(penalty = 'l2', C =500 ,solver=\"liblinear\") #Ridge Regularization\n",
    "# Fit model\n",
    "logreg.fit(tf_train, y_train)\n",
    "# Evaluate model.\n",
    "print(\"Logistic Regression\".center(25, \"=\"))\n",
    "print(logreg.score(tf_train, y_train))\n",
    "print(logreg.score(tf_test, y_test))\n",
    "print()"
   ]
  },
  {
   "cell_type": "markdown",
   "id": "2cf91029",
   "metadata": {},
   "source": [
    "- The Logistic Regression model has a higher training score than the testing score under both Lasso and Ridge penalties meaning that the model is overfit. \n",
    "- In both cases, the model performs well on the training data, but there is a significant dropoff in performance in the testing data."
   ]
  },
  {
   "cell_type": "markdown",
   "id": "362ba0d8",
   "metadata": {},
   "source": [
    "| TFIDF \t| Train Score \t| Test Score \t|\n",
    "|:-----:\t|:-----------:\t|:----------:\t|\n",
    "| Lasso \t|     0.966     |     0.726     |\n",
    "| Ridge \t|     0.966     |     0.724     |"
   ]
  },
  {
   "cell_type": "markdown",
   "id": "e2d84a6f",
   "metadata": {},
   "source": [
    "|  CV    \t| Train Score \t| Test Score \t|\n",
    "|:-----:\t|:-----------:\t|:----------:\t|\n",
    "| Lasso \t|     0.959     |     0.714     |\n",
    "| Ridge \t|     0.952     |        0.750  |"
   ]
  },
  {
   "cell_type": "markdown",
   "id": "4c21ccd4",
   "metadata": {},
   "source": [
    "- In comparison with the CountVectorizer, the training score for both Lasso and Ridge are higher under the Tfidf\n",
    "- Ridge testing score was lower  in Tfidf compared to CV Ridge test score , however Lasso test score was higher in Tfidf compared to CV"
   ]
  },
  {
   "cell_type": "code",
   "execution_count": 220,
   "id": "9bebbb96",
   "metadata": {},
   "outputs": [],
   "source": [
    "# Created a dataframe of all coefficients and sorted by descending values\n",
    "# The top features and coefficients that will determine whether a post is a Violinist post\n",
    "coef_tfidf = pd.DataFrame(logreg.coef_, columns=tf_train_df.columns).T.sort_values(by=0, ascending=False)"
   ]
  },
  {
   "cell_type": "code",
   "execution_count": 221,
   "id": "ba8e2ec7",
   "metadata": {},
   "outputs": [
    {
     "data": {
      "text/html": [
       "<div>\n",
       "<style scoped>\n",
       "    .dataframe tbody tr th:only-of-type {\n",
       "        vertical-align: middle;\n",
       "    }\n",
       "\n",
       "    .dataframe tbody tr th {\n",
       "        vertical-align: top;\n",
       "    }\n",
       "\n",
       "    .dataframe thead th {\n",
       "        text-align: right;\n",
       "    }\n",
       "</style>\n",
       "<table border=\"1\" class=\"dataframe\">\n",
       "  <thead>\n",
       "    <tr style=\"text-align: right;\">\n",
       "      <th></th>\n",
       "      <th>0</th>\n",
       "    </tr>\n",
       "  </thead>\n",
       "  <tbody>\n",
       "    <tr>\n",
       "      <th>violin</th>\n",
       "      <td>41.017613</td>\n",
       "    </tr>\n",
       "    <tr>\n",
       "      <th>practic get</th>\n",
       "      <td>25.775201</td>\n",
       "    </tr>\n",
       "    <tr>\n",
       "      <th>soundpost</th>\n",
       "      <td>23.179182</td>\n",
       "    </tr>\n",
       "    <tr>\n",
       "      <th>gener</th>\n",
       "      <td>19.793397</td>\n",
       "    </tr>\n",
       "    <tr>\n",
       "      <th>stress</th>\n",
       "      <td>17.248411</td>\n",
       "    </tr>\n",
       "    <tr>\n",
       "      <th>get better</th>\n",
       "      <td>15.295711</td>\n",
       "    </tr>\n",
       "    <tr>\n",
       "      <th>violinist</th>\n",
       "      <td>14.473175</td>\n",
       "    </tr>\n",
       "    <tr>\n",
       "      <th>fun</th>\n",
       "      <td>14.422716</td>\n",
       "    </tr>\n",
       "    <tr>\n",
       "      <th>pirastro</th>\n",
       "      <td>14.390366</td>\n",
       "    </tr>\n",
       "    <tr>\n",
       "      <th>want start</th>\n",
       "      <td>14.100232</td>\n",
       "    </tr>\n",
       "  </tbody>\n",
       "</table>\n",
       "</div>"
      ],
      "text/plain": [
       "                     0\n",
       "violin       41.017613\n",
       "practic get  25.775201\n",
       "soundpost    23.179182\n",
       "gener        19.793397\n",
       "stress       17.248411\n",
       "get better   15.295711\n",
       "violinist    14.473175\n",
       "fun          14.422716\n",
       "pirastro     14.390366\n",
       "want start   14.100232"
      ]
     },
     "execution_count": 221,
     "metadata": {},
     "output_type": "execute_result"
    }
   ],
   "source": [
    "# Top 10 features that determine a Violin post\n",
    "coef_tfidf.head(10)"
   ]
  },
  {
   "cell_type": "code",
   "execution_count": 222,
   "id": "2f86074f",
   "metadata": {},
   "outputs": [
    {
     "data": {
      "text/html": [
       "<div>\n",
       "<style scoped>\n",
       "    .dataframe tbody tr th:only-of-type {\n",
       "        vertical-align: middle;\n",
       "    }\n",
       "\n",
       "    .dataframe tbody tr th {\n",
       "        vertical-align: top;\n",
       "    }\n",
       "\n",
       "    .dataframe thead th {\n",
       "        text-align: right;\n",
       "    }\n",
       "</style>\n",
       "<table border=\"1\" class=\"dataframe\">\n",
       "  <thead>\n",
       "    <tr style=\"text-align: right;\">\n",
       "      <th></th>\n",
       "      <th>0</th>\n",
       "    </tr>\n",
       "  </thead>\n",
       "  <tbody>\n",
       "    <tr>\n",
       "      <th>love</th>\n",
       "      <td>-15.597142</td>\n",
       "    </tr>\n",
       "    <tr>\n",
       "      <th>app</th>\n",
       "      <td>-15.686813</td>\n",
       "    </tr>\n",
       "    <tr>\n",
       "      <th>begginn</th>\n",
       "      <td>-15.733275</td>\n",
       "    </tr>\n",
       "    <tr>\n",
       "      <th>suit</th>\n",
       "      <td>-15.953926</td>\n",
       "    </tr>\n",
       "    <tr>\n",
       "      <th>thumb</th>\n",
       "      <td>-16.137648</td>\n",
       "    </tr>\n",
       "    <tr>\n",
       "      <th>cellist</th>\n",
       "      <td>-17.746982</td>\n",
       "    </tr>\n",
       "    <tr>\n",
       "      <th>absolut beginn</th>\n",
       "      <td>-18.168731</td>\n",
       "    </tr>\n",
       "    <tr>\n",
       "      <th>jazz</th>\n",
       "      <td>-18.551886</td>\n",
       "    </tr>\n",
       "    <tr>\n",
       "      <th>move</th>\n",
       "      <td>-21.480286</td>\n",
       "    </tr>\n",
       "    <tr>\n",
       "      <th>cello</th>\n",
       "      <td>-42.236940</td>\n",
       "    </tr>\n",
       "  </tbody>\n",
       "</table>\n",
       "</div>"
      ],
      "text/plain": [
       "                        0\n",
       "love           -15.597142\n",
       "app            -15.686813\n",
       "begginn        -15.733275\n",
       "suit           -15.953926\n",
       "thumb          -16.137648\n",
       "cellist        -17.746982\n",
       "absolut beginn -18.168731\n",
       "jazz           -18.551886\n",
       "move           -21.480286\n",
       "cello          -42.236940"
      ]
     },
     "execution_count": 222,
     "metadata": {},
     "output_type": "execute_result"
    }
   ],
   "source": [
    "# Top 10 features that determine a Cello post\n",
    "coef_tfidf.tail(10)"
   ]
  },
  {
   "cell_type": "markdown",
   "id": "706e53a1",
   "metadata": {},
   "source": [
    "**Multinomial Naive Bayes Model**"
   ]
  },
  {
   "cell_type": "code",
   "execution_count": 223,
   "id": "046c11e0",
   "metadata": {},
   "outputs": [
    {
     "name": "stdout",
     "output_type": "stream",
     "text": [
      "=======MNB========\n",
      "0.8734015345268542\n",
      "0.7375478927203065\n",
      "\n"
     ]
    }
   ],
   "source": [
    "# Instantiate model \n",
    "mnb_tf = MultinomialNB()\n",
    "# Fit model\n",
    "mnb_tf.fit(tf_train, y_train)\n",
    "# Evaluate model.\n",
    "print(\"MNB\".center(18, \"=\"))\n",
    "print(mnb_tf.score(tf_train, y_train))\n",
    "print(mnb_tf.score(tf_test, y_test))\n",
    "print()"
   ]
  },
  {
   "cell_type": "markdown",
   "id": "d39c2c94",
   "metadata": {},
   "source": [
    "|       \t| Train Score \t| Test Score \t|\n",
    "|:-----:\t|:-----------:\t|:----------:\t|\n",
    "| TFIDF \t|     0.873     |   0.737       |\n",
    "|   CV  \t|     0.860     |   0.729       |"
   ]
  },
  {
   "cell_type": "markdown",
   "id": "9b262b0e",
   "metadata": {},
   "source": [
    "- Model is still overfit under the Tfidf.\n",
    "- The training and testing score performed better than the model under the CountVectorizer."
   ]
  },
  {
   "cell_type": "markdown",
   "id": "481278dd",
   "metadata": {},
   "source": [
    "**Decision Tree Classifier**"
   ]
  },
  {
   "cell_type": "code",
   "execution_count": 255,
   "id": "bcfcc0f6",
   "metadata": {
    "scrolled": true
   },
   "outputs": [
    {
     "name": "stdout",
     "output_type": "stream",
     "text": [
      "==Decision Tree===\n",
      "0.909846547314578\n",
      "0.7452107279693486\n",
      "\n"
     ]
    }
   ],
   "source": [
    "# Instantiate model with random_state = 42.\n",
    "dt_tf = DecisionTreeClassifier(random_state=42,max_depth=100)\n",
    "# Fit model\n",
    "dt_tf.fit(tf_train, y_train)\n",
    "# Evaluate model.\n",
    "print(\"Decision Tree\".center(18, \"=\"))\n",
    "print(dt_tf.score(tf_train, y_train))\n",
    "print(dt_tf.score(tf_test, y_test))\n",
    "print()"
   ]
  },
  {
   "cell_type": "markdown",
   "id": "2437dcde",
   "metadata": {},
   "source": [
    "|       \t| Train Score \t| Test Score \t|\n",
    "|:-----:\t|:-----------:\t|:----------:\t|\n",
    "| TFIDF \t|     0.909     |   0.745       |\n",
    "|   CV  \t|     0.976     |   0.708       |"
   ]
  },
  {
   "cell_type": "markdown",
   "id": "a44d1c6a",
   "metadata": {},
   "source": [
    "- Model is still overfit under the Tfidf.\n",
    "- Testing score performed better than the model under the CountVectorizer.\n",
    "- Training score performed better in the CountVectorizer than under the Tfidf."
   ]
  },
  {
   "cell_type": "markdown",
   "id": "850e41d2",
   "metadata": {},
   "source": [
    "**Bagging Classifier**"
   ]
  },
  {
   "cell_type": "code",
   "execution_count": 231,
   "id": "1d9b4e47",
   "metadata": {
    "scrolled": true
   },
   "outputs": [
    {
     "name": "stdout",
     "output_type": "stream",
     "text": [
      "Bagging Classifier\n",
      "0.9763427109974424\n",
      "0.7164750957854407\n",
      "\n"
     ]
    }
   ],
   "source": [
    "# Instantiate model\n",
    "bag_tf = BaggingClassifier(random_state=42, n_estimators=500)\n",
    "# Fit model\n",
    "bag_tf.fit(tf_train, y_train)\n",
    "# Evaluate model.\n",
    "print(\"Bagging Classifier\".center(18, \"=\"))\n",
    "print(bag_tf.score(tf_train, y_train))\n",
    "print(bag_tf.score(tf_test, y_test))\n",
    "print()"
   ]
  },
  {
   "cell_type": "markdown",
   "id": "f9fb1773",
   "metadata": {},
   "source": [
    "|       \t| Train Score \t| Test Score \t|\n",
    "|:-----:\t|:-----------:\t|:----------:\t|\n",
    "| TFIDF \t|     0.976     |    0.716      |\n",
    "|   CV  \t|     0.976     |    0.703      |"
   ]
  },
  {
   "cell_type": "markdown",
   "id": "88c2f911",
   "metadata": {},
   "source": [
    "- Model is still overfit under the Tfidf.\n",
    "- Testing score performed slightly better than the model under the CountVectorizer."
   ]
  },
  {
   "cell_type": "markdown",
   "id": "eb401781",
   "metadata": {},
   "source": [
    "**Extra Trees Classifier**"
   ]
  },
  {
   "cell_type": "code",
   "execution_count": 238,
   "id": "5be4f756",
   "metadata": {
    "scrolled": true
   },
   "outputs": [
    {
     "name": "stdout",
     "output_type": "stream",
     "text": [
      "Extra Trees Classifier\n",
      "0.9763427109974424\n",
      "0.7337164750957854\n",
      "\n"
     ]
    }
   ],
   "source": [
    "# Instantiate model\n",
    "et_tf = ExtraTreesClassifier(random_state=42, n_estimators=50,max_depth=1000)\n",
    "# Fit model\n",
    "et_tf.fit(tf_train, y_train)\n",
    "# Evaluate model.\n",
    "print(\"Extra Trees Classifier\".center(18, \"=\"))\n",
    "print(et_tf.score(tf_train, y_train))\n",
    "print(et_tf.score(tf_test, y_test))\n",
    "print()"
   ]
  },
  {
   "cell_type": "markdown",
   "id": "671c5182",
   "metadata": {},
   "source": [
    "|       \t| Train Score \t| Test Score \t|\n",
    "|:-----:\t|:-----------:\t|:----------:\t|\n",
    "| TFIDF \t|    0.976      |    0.733      |\n",
    "|   CV  \t|    0.976      |    0.724      |"
   ]
  },
  {
   "cell_type": "markdown",
   "id": "28a5b868",
   "metadata": {},
   "source": [
    "- Model is still overfit under the Tfidf.\n",
    "- Testing score performed slightly better than the model under the CountVectorizer."
   ]
  },
  {
   "cell_type": "markdown",
   "id": "1d9e46be",
   "metadata": {},
   "source": [
    "**Random Forest Classifier**"
   ]
  },
  {
   "cell_type": "code",
   "execution_count": 266,
   "id": "d42cc264",
   "metadata": {},
   "outputs": [
    {
     "name": "stdout",
     "output_type": "stream",
     "text": [
      "Random Forest Classifier\n",
      "0.9763427109974424\n",
      "0.7203065134099617\n",
      "\n"
     ]
    }
   ],
   "source": [
    "# Instantiate model\n",
    "rfc_tf = RandomForestClassifier(random_state=42, n_estimators=50,max_depth=1000)\n",
    "# Fit model\n",
    "rfc_tf.fit(tf_train, y_train)\n",
    "# Evaluate model.\n",
    "print(\"Random Forest Classifier\".center(18, \"=\"))\n",
    "print(rfc_tf.score(tf_train, y_train))\n",
    "print(rfc_tf.score(tf_test, y_test))\n",
    "print()"
   ]
  },
  {
   "cell_type": "markdown",
   "id": "3f12978e",
   "metadata": {},
   "source": [
    "|       \t| Train Score \t| Test Score \t|\n",
    "|:-----:\t|:-----------:\t|:----------:\t|\n",
    "| TFIDF \t|   0.976       |     0.720     |\n",
    "|   CV  \t|   0.976     \t|     0.706    \t|"
   ]
  },
  {
   "cell_type": "markdown",
   "id": "1b72c2b6",
   "metadata": {},
   "source": [
    "- Model is still overfit under the Tfidf.\n",
    "- Testing score performed slightly better than the model under the CountVectorizer."
   ]
  },
  {
   "cell_type": "markdown",
   "id": "5e954fc0",
   "metadata": {},
   "source": [
    "**The best model under Tfidf Vectorizer is Random Forest based on test and train scores**"
   ]
  },
  {
   "cell_type": "markdown",
   "id": "8ab88b94",
   "metadata": {},
   "source": [
    "|                \t| LogisticRegression(Lasso) \t| LogisticRegression(Ridge) \t|  MNB  \t| Decision Tree \t| Bagging Classifier \t| Extra Trees \t| Random Forest \t|\n",
    "|:--------------:\t|:-------------------------:\t|:-------------------------:\t|:-----:\t|:-------------:\t|:------------------:\t|:-----------:\t|:-------------:\t|\n",
    "| Training score \t|           0.966           \t|           0.966           \t| 0.873 \t|     0.909     \t|        0.976       \t|    0.976    \t|     0.976     \t|\n",
    "|  Testing score \t|           0.726           \t|           0.724           \t| 0.737 \t|     0.745     \t|        0.716       \t|    0.733    \t|     0.720     \t|"
   ]
  },
  {
   "cell_type": "markdown",
   "id": "bae78146",
   "metadata": {},
   "source": [
    "**GridSearch**"
   ]
  },
  {
   "cell_type": "code",
   "execution_count": 276,
   "id": "60e3f07b",
   "metadata": {},
   "outputs": [
    {
     "name": "stdout",
     "output_type": "stream",
     "text": [
      "Fitting 5 folds for each of 16 candidates, totalling 80 fits\n",
      "Best Score: 0.7327312197919227\n",
      "Best Parameters:{'max_depth': 100, 'n_estimators': 50}\n",
      "===Grid Search====\n",
      "0.698849104859335\n",
      "0.5804597701149425\n",
      "\n"
     ]
    }
   ],
   "source": [
    "# Instantiate model\n",
    "rfc_gs = RandomForestClassifier(random_state=42)\n",
    "# Create dictionary of hyperparameters.\n",
    "# The keys MUST match the names of the arguments!\n",
    "param_grid = {\n",
    "    'n_estimators': [10, 50, 100,500],\n",
    "    'max_depth': [10,20,50,100]\n",
    "}\n",
    "# Instantiate our GridSearchCV object.\n",
    "gs_tf = GridSearchCV(estimator=rfc_gs, param_grid=param_grid, cv=5,verbose=1)\n",
    "# Fit the GridSearchCV object to the data\n",
    "gs_tf.fit(cv_train, y_train)\n",
    "# Print out the score.\n",
    "print(f'Best Score: {gs_tf.best_score_}')\n",
    "print(f'Best Parameters:{gs_tf.best_params_}')\n",
    "print(\"Grid Search\".center(18, \"=\"))\n",
    "print(gs_tf.score(tf_train, y_train))\n",
    "print(gs_tf.score(tf_test, y_test))\n",
    "print()"
   ]
  },
  {
   "cell_type": "markdown",
   "id": "d66b0a10",
   "metadata": {},
   "source": [
    "- After running our GridSearch model we see that our best score is a 0.732.\n",
    "- However, when we score our Gridsearch model to the training and testing data, the model doesn't perform better compared to the original model that we ran."
   ]
  },
  {
   "cell_type": "markdown",
   "id": "b7dc7807",
   "metadata": {},
   "source": [
    "### Evaluation"
   ]
  },
  {
   "cell_type": "markdown",
   "id": "b071f2f0",
   "metadata": {},
   "source": [
    "|             \t    |      **Count Vectorizer**         |     **TFIDF Vectorizer**      |\n",
    "|:-----------:\t    |:--------------------------:\t    |:------------------------:\t    |\n",
    "|  **GridSearch** \t| **Logistic Regression(Ridge)** \t| **Random Forest Classifier** \t|\n",
    "|  **Best Score** \t|            **0.733**              |            **0.732**          |\n",
    "| **Train Score**\t|            **0.847**              |            **0.698**          |\n",
    "|  **Test Score** \t|            **0.714**              |            **0.580**          |"
   ]
  },
  {
   "cell_type": "markdown",
   "id": "affff723",
   "metadata": {},
   "source": [
    "- Data Modeling has been done using Logistic Regression, Multinomial Naive Bayes, Decision Tree, Bagging Tree, Random Forest and Extra Trees models under both CountVectorizer and TfidfVectorizer.\n",
    "- **Based on the above  Grid Search scores,we can conclude that the most accurate model is the Logistic Regression model under the CountVectorizer.**"
   ]
  },
  {
   "cell_type": "markdown",
   "id": "dff321e1",
   "metadata": {},
   "source": [
    "#check features that are highest contributors in best estimator#"
   ]
  },
  {
   "cell_type": "code",
   "execution_count": 429,
   "id": "5061b174",
   "metadata": {},
   "outputs": [],
   "source": [
    "#gs_df = pd.DataFrame({\n",
    "   # 'columns' : cv_train_df.columns.tolist(),\n",
    "  #  'coef'   : gs.best_estimator_.coef_[0]\n",
    "#})\n",
    "#gs_df['coef'] = gs_df['coef'].astype('string')"
   ]
  },
  {
   "cell_type": "code",
   "execution_count": 430,
   "id": "60c86b23",
   "metadata": {},
   "outputs": [],
   "source": [
    "#violin = gs_df.sort_values(by='coef',ascending=False).head(5)\n",
    "#violin"
   ]
  },
  {
   "cell_type": "code",
   "execution_count": 431,
   "id": "e3ac2a11",
   "metadata": {},
   "outputs": [],
   "source": [
    "#cello = gs_df.sort_values(by='coef',ascending=False).tail(5)\n",
    "#cello"
   ]
  },
  {
   "cell_type": "code",
   "execution_count": 362,
   "id": "02aa046b",
   "metadata": {},
   "outputs": [
    {
     "data": {
      "text/plain": [
       "array([[167,  90],\n",
       "       [ 59, 206]])"
      ]
     },
     "execution_count": 362,
     "metadata": {},
     "output_type": "execute_result"
    }
   ],
   "source": [
    "# Use best scoring model to evaluate\n",
    "predictions = gs.predict(cv_test)\n",
    "cm = confusion_matrix(y_test, predictions)\n",
    "cm"
   ]
  },
  {
   "cell_type": "code",
   "execution_count": 291,
   "id": "a19aec79",
   "metadata": {},
   "outputs": [
    {
     "data": {
      "text/html": [
       "<div>\n",
       "<style scoped>\n",
       "    .dataframe tbody tr th:only-of-type {\n",
       "        vertical-align: middle;\n",
       "    }\n",
       "\n",
       "    .dataframe tbody tr th {\n",
       "        vertical-align: top;\n",
       "    }\n",
       "\n",
       "    .dataframe thead th {\n",
       "        text-align: right;\n",
       "    }\n",
       "</style>\n",
       "<table border=\"1\" class=\"dataframe\">\n",
       "  <thead>\n",
       "    <tr style=\"text-align: right;\">\n",
       "      <th></th>\n",
       "      <th>predicted violin</th>\n",
       "      <th>predicted cello</th>\n",
       "    </tr>\n",
       "  </thead>\n",
       "  <tbody>\n",
       "    <tr>\n",
       "      <th>actual violin</th>\n",
       "      <td>167</td>\n",
       "      <td>90</td>\n",
       "    </tr>\n",
       "    <tr>\n",
       "      <th>actual cello</th>\n",
       "      <td>59</td>\n",
       "      <td>206</td>\n",
       "    </tr>\n",
       "  </tbody>\n",
       "</table>\n",
       "</div>"
      ],
      "text/plain": [
       "               predicted violin  predicted cello\n",
       "actual violin               167               90\n",
       "actual cello                 59              206"
      ]
     },
     "execution_count": 291,
     "metadata": {},
     "output_type": "execute_result"
    }
   ],
   "source": [
    "# Convert confusion matrix to dataframe\n",
    "cm_df = pd.DataFrame(cm,\n",
    "                    columns = ['predicted violin', 'predicted cello'],\n",
    "                    index = ['actual violin', 'actual cello'])\n",
    "cm_df"
   ]
  },
  {
   "cell_type": "code",
   "execution_count": 363,
   "id": "9db8be23",
   "metadata": {
    "scrolled": true
   },
   "outputs": [
    {
     "data": {
      "text/plain": [
       "<sklearn.metrics._plot.confusion_matrix.ConfusionMatrixDisplay at 0x7f88cc3c9c40>"
      ]
     },
     "execution_count": 363,
     "metadata": {},
     "output_type": "execute_result"
    },
    {
     "data": {
      "image/png": "[encoded data removed]",
      "text/plain": [
       "<Figure size 432x288 with 2 Axes>"
      ]
     },
     "metadata": {
      "needs_background": "light"
     },
     "output_type": "display_data"
    }
   ],
   "source": [
    "#plot confusion matrix\n",
    "plot_confusion_matrix(gs, cv_test, y_test)"
   ]
  },
  {
   "cell_type": "code",
   "execution_count": 434,
   "id": "ac4e6bb2",
   "metadata": {},
   "outputs": [
    {
     "data": {
      "text/plain": [
       "0.7145593869731801"
      ]
     },
     "execution_count": 434,
     "metadata": {},
     "output_type": "execute_result"
    }
   ],
   "source": [
    "# Calculate model accuracy\n",
    "accuracy = accuracy_score(y_test, predictions)\n",
    "accuracy"
   ]
  },
  {
   "cell_type": "markdown",
   "id": "c4d37505",
   "metadata": {},
   "source": [
    "|**Baseline Accuracy**| **Model Accuracy**|\n",
    "|-------------------|---------------|\n",
    "|     **0.507**   |      **0.714**|"
   ]
  },
  {
   "cell_type": "markdown",
   "id": "b49a4b14",
   "metadata": {},
   "source": [
    "**Based on the above scores,we can conclude that our model performs better than baseline model**"
   ]
  },
  {
   "cell_type": "code",
   "execution_count": 353,
   "id": "3707a66b",
   "metadata": {
    "scrolled": true
   },
   "outputs": [],
   "source": [
    "# mash up X and y test vals into one df\n",
    "test_df = pd.concat([X_test, y_test], axis=1)\n",
    "\n",
    "# add predictions to df\n",
    "test_df['predictions'] = predictions"
   ]
  },
  {
   "cell_type": "code",
   "execution_count": 355,
   "id": "3b090c76",
   "metadata": {
    "scrolled": false
   },
   "outputs": [
    {
     "data": {
      "text/html": [
       "<div>\n",
       "<style scoped>\n",
       "    .dataframe tbody tr th:only-of-type {\n",
       "        vertical-align: middle;\n",
       "    }\n",
       "\n",
       "    .dataframe tbody tr th {\n",
       "        vertical-align: top;\n",
       "    }\n",
       "\n",
       "    .dataframe thead th {\n",
       "        text-align: right;\n",
       "    }\n",
       "</style>\n",
       "<table border=\"1\" class=\"dataframe\">\n",
       "  <thead>\n",
       "    <tr style=\"text-align: right;\">\n",
       "      <th></th>\n",
       "      <th>post_title</th>\n",
       "      <th>subreddit_name</th>\n",
       "      <th>predictions</th>\n",
       "    </tr>\n",
       "  </thead>\n",
       "  <tbody>\n",
       "    <tr>\n",
       "      <th>1750</th>\n",
       "      <td>ginastera vs ligeti term difficulti</td>\n",
       "      <td>0</td>\n",
       "      <td>1</td>\n",
       "    </tr>\n",
       "    <tr>\n",
       "      <th>360</th>\n",
       "      <td>adult beginn look onlin learn resourc</td>\n",
       "      <td>1</td>\n",
       "      <td>0</td>\n",
       "    </tr>\n",
       "    <tr>\n",
       "      <th>529</th>\n",
       "      <td>pandem mood shostakovich concerto 1 1st movement</td>\n",
       "      <td>1</td>\n",
       "      <td>0</td>\n",
       "    </tr>\n",
       "    <tr>\n",
       "      <th>644</th>\n",
       "      <td>beginn piec</td>\n",
       "      <td>1</td>\n",
       "      <td>0</td>\n",
       "    </tr>\n",
       "    <tr>\n",
       "      <th>452</th>\n",
       "      <td>mother day piec recommend</td>\n",
       "      <td>1</td>\n",
       "      <td>0</td>\n",
       "    </tr>\n",
       "    <tr>\n",
       "      <th>...</th>\n",
       "      <td>...</td>\n",
       "      <td>...</td>\n",
       "      <td>...</td>\n",
       "    </tr>\n",
       "    <tr>\n",
       "      <th>1745</th>\n",
       "      <td>simpl trick improv shift</td>\n",
       "      <td>0</td>\n",
       "      <td>1</td>\n",
       "    </tr>\n",
       "    <tr>\n",
       "      <th>117</th>\n",
       "      <td>time three free onlin event 6 8 21 6pm pacif</td>\n",
       "      <td>1</td>\n",
       "      <td>0</td>\n",
       "    </tr>\n",
       "    <tr>\n",
       "      <th>1749</th>\n",
       "      <td>develop bad habit practic without instructor</td>\n",
       "      <td>0</td>\n",
       "      <td>1</td>\n",
       "    </tr>\n",
       "    <tr>\n",
       "      <th>1099</th>\n",
       "      <td>know readi mayb recit</td>\n",
       "      <td>0</td>\n",
       "      <td>1</td>\n",
       "    </tr>\n",
       "    <tr>\n",
       "      <th>129</th>\n",
       "      <td>tablet music</td>\n",
       "      <td>1</td>\n",
       "      <td>0</td>\n",
       "    </tr>\n",
       "  </tbody>\n",
       "</table>\n",
       "<p>149 rows × 3 columns</p>\n",
       "</div>"
      ],
      "text/plain": [
       "                                            post_title  subreddit_name  \\\n",
       "1750               ginastera vs ligeti term difficulti               0   \n",
       "360              adult beginn look onlin learn resourc               1   \n",
       "529   pandem mood shostakovich concerto 1 1st movement               1   \n",
       "644                                        beginn piec               1   \n",
       "452                          mother day piec recommend               1   \n",
       "...                                                ...             ...   \n",
       "1745                          simpl trick improv shift               0   \n",
       "117       time three free onlin event 6 8 21 6pm pacif               1   \n",
       "1749      develop bad habit practic without instructor               0   \n",
       "1099                             know readi mayb recit               0   \n",
       "129                                       tablet music               1   \n",
       "\n",
       "      predictions  \n",
       "1750            1  \n",
       "360             0  \n",
       "529             0  \n",
       "644             0  \n",
       "452             0  \n",
       "...           ...  \n",
       "1745            1  \n",
       "117             0  \n",
       "1749            1  \n",
       "1099            1  \n",
       "129             0  \n",
       "\n",
       "[149 rows x 3 columns]"
      ]
     },
     "execution_count": 355,
     "metadata": {},
     "output_type": "execute_result"
    }
   ],
   "source": [
    "#rows where predictions were misclassified\n",
    "test_df[test_df['subreddit_name'] != test_df['predictions']]"
   ]
  },
  {
   "cell_type": "code",
   "execution_count": 437,
   "id": "6db4e636",
   "metadata": {},
   "outputs": [
    {
     "data": {
      "text/plain": [
       "0.2854406130268199"
      ]
     },
     "execution_count": 437,
     "metadata": {},
     "output_type": "execute_result"
    }
   ],
   "source": [
    "# calculate Misclassification\n",
    "Error = 1-accuracy\n",
    "Error"
   ]
  },
  {
   "cell_type": "markdown",
   "id": "a1a1a32e",
   "metadata": {},
   "source": [
    "**Misclassification Report**"
   ]
  },
  {
   "cell_type": "markdown",
   "id": "b45c7a8d",
   "metadata": {},
   "source": [
    "- Accuracy score is 0.714 whereas Error Score is 0.285 \n",
    "- 149 predictions were misclassified"
   ]
  }
 ],
 "metadata": {
  "kernelspec": {
   "display_name": "Python 3",
   "language": "python",
   "name": "python3"
  },
  "language_info": {
   "codemirror_mode": {
    "name": "ipython",
    "version": 3
   },
   "file_extension": ".py",
   "mimetype": "text/x-python",
   "name": "python",
   "nbconvert_exporter": "python",
   "pygments_lexer": "ipython3",
   "version": "3.8.8"
  }
 },
 "nbformat": 4,
 "nbformat_minor": 5
}
