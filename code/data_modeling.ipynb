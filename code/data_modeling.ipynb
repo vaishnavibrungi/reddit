{
 "cells": [
  {
   "cell_type": "markdown",
   "id": "7f1f39d2",
   "metadata": {},
   "source": [
    "# Project 3: Reddit"
   ]
  },
  {
   "cell_type": "markdown",
   "id": "691ff265",
   "metadata": {},
   "source": [
    "### Data Modeling"
   ]
  },
  {
   "cell_type": "code",
   "execution_count": 106,
   "id": "a3894fe1",
   "metadata": {},
   "outputs": [],
   "source": [
    "#import libraries\n",
    "import pandas as pd \n",
    "import matplotlib.pyplot as plt\n",
    "from sklearn.linear_model import LogisticRegression\n",
    "from sklearn.feature_extraction.text import CountVectorizer, TfidfVectorizer\n",
    "from sklearn.model_selection import train_test_split, cross_val_score, GridSearchCV\n",
    "from sklearn.tree import DecisionTreeClassifier\n",
    "from sklearn.ensemble import ExtraTreesClassifier, RandomForestClassifier,BaggingClassifier\n",
    "from sklearn.naive_bayes import MultinomialNB, BernoulliNB\n",
    "from sklearn.pipeline import Pipeline\n",
    "from sklearn.metrics import confusion_matrix"
   ]
  },
  {
   "cell_type": "markdown",
   "id": "a2289e5b",
   "metadata": {},
   "source": [
    "**Read in combined Violinist and Cello csv \"reddit_data\" to begin modeling**"
   ]
  },
  {
   "cell_type": "code",
   "execution_count": 43,
   "id": "1fb424d9",
   "metadata": {},
   "outputs": [],
   "source": [
    "reddit_data = pd.read_csv('../data/reddit_data.csv')"
   ]
  },
  {
   "cell_type": "code",
   "execution_count": 44,
   "id": "fcf2404a",
   "metadata": {},
   "outputs": [
    {
     "data": {
      "text/html": [
       "<div>\n",
       "<style scoped>\n",
       "    .dataframe tbody tr th:only-of-type {\n",
       "        vertical-align: middle;\n",
       "    }\n",
       "\n",
       "    .dataframe tbody tr th {\n",
       "        vertical-align: top;\n",
       "    }\n",
       "\n",
       "    .dataframe thead th {\n",
       "        text-align: right;\n",
       "    }\n",
       "</style>\n",
       "<table border=\"1\" class=\"dataframe\">\n",
       "  <thead>\n",
       "    <tr style=\"text-align: right;\">\n",
       "      <th></th>\n",
       "      <th>author_id</th>\n",
       "      <th>posted_on</th>\n",
       "      <th>author_tag</th>\n",
       "      <th>post_title</th>\n",
       "      <th>post_description</th>\n",
       "      <th>subreddit_name</th>\n",
       "    </tr>\n",
       "  </thead>\n",
       "  <tbody>\n",
       "    <tr>\n",
       "      <th>0</th>\n",
       "      <td>o24eoj</td>\n",
       "      <td>2021-06-17 18:41:15</td>\n",
       "      <td>Advanced</td>\n",
       "      <td>ysaÿe violin concerto e minor first movement l...</td>\n",
       "      <td>[https://www.youtube.com/watch?v=PONbtxcPcKQ](...</td>\n",
       "      <td>1</td>\n",
       "    </tr>\n",
       "    <tr>\n",
       "      <th>1</th>\n",
       "      <td>o23xyv</td>\n",
       "      <td>2021-06-17 18:21:58</td>\n",
       "      <td>NaN</td>\n",
       "      <td>video perform exampl great vibrato</td>\n",
       "      <td>I've been struggling with my vibrato and am lo...</td>\n",
       "      <td>1</td>\n",
       "    </tr>\n",
       "    <tr>\n",
       "      <th>2</th>\n",
       "      <td>o20e4w</td>\n",
       "      <td>2021-06-17 15:48:10</td>\n",
       "      <td>Adult Beginner</td>\n",
       "      <td>count time 6 8</td>\n",
       "      <td>My current rhythm exercise is in 6/8 time.\\n\\n...</td>\n",
       "      <td>1</td>\n",
       "    </tr>\n",
       "    <tr>\n",
       "      <th>3</th>\n",
       "      <td>o1vxwd</td>\n",
       "      <td>2021-06-17 12:22:01</td>\n",
       "      <td>NaN</td>\n",
       "      <td>interest pick violin</td>\n",
       "      <td>Hello everyone, as you can tell by the title I...</td>\n",
       "      <td>1</td>\n",
       "    </tr>\n",
       "    <tr>\n",
       "      <th>4</th>\n",
       "      <td>o1rmpe</td>\n",
       "      <td>2021-06-17 07:49:56</td>\n",
       "      <td>NaN</td>\n",
       "      <td>question beginn</td>\n",
       "      <td>When the score says Sul G, Sul D, IVeme chord,...</td>\n",
       "      <td>1</td>\n",
       "    </tr>\n",
       "  </tbody>\n",
       "</table>\n",
       "</div>"
      ],
      "text/plain": [
       "  author_id            posted_on      author_tag  \\\n",
       "0    o24eoj  2021-06-17 18:41:15        Advanced   \n",
       "1    o23xyv  2021-06-17 18:21:58             NaN   \n",
       "2    o20e4w  2021-06-17 15:48:10  Adult Beginner   \n",
       "3    o1vxwd  2021-06-17 12:22:01             NaN   \n",
       "4    o1rmpe  2021-06-17 07:49:56             NaN   \n",
       "\n",
       "                                          post_title  \\\n",
       "0  ysaÿe violin concerto e minor first movement l...   \n",
       "1                 video perform exampl great vibrato   \n",
       "2                                     count time 6 8   \n",
       "3                               interest pick violin   \n",
       "4                                    question beginn   \n",
       "\n",
       "                                    post_description  subreddit_name  \n",
       "0  [https://www.youtube.com/watch?v=PONbtxcPcKQ](...               1  \n",
       "1  I've been struggling with my vibrato and am lo...               1  \n",
       "2  My current rhythm exercise is in 6/8 time.\\n\\n...               1  \n",
       "3  Hello everyone, as you can tell by the title I...               1  \n",
       "4  When the score says Sul G, Sul D, IVeme chord,...               1  "
      ]
     },
     "execution_count": 44,
     "metadata": {},
     "output_type": "execute_result"
    }
   ],
   "source": [
    "# Check dataframe\n",
    "reddit_data.head()"
   ]
  },
  {
   "cell_type": "code",
   "execution_count": 45,
   "id": "c3a7b7be",
   "metadata": {},
   "outputs": [
    {
     "data": {
      "text/html": [
       "<div>\n",
       "<style scoped>\n",
       "    .dataframe tbody tr th:only-of-type {\n",
       "        vertical-align: middle;\n",
       "    }\n",
       "\n",
       "    .dataframe tbody tr th {\n",
       "        vertical-align: top;\n",
       "    }\n",
       "\n",
       "    .dataframe thead th {\n",
       "        text-align: right;\n",
       "    }\n",
       "</style>\n",
       "<table border=\"1\" class=\"dataframe\">\n",
       "  <thead>\n",
       "    <tr style=\"text-align: right;\">\n",
       "      <th></th>\n",
       "      <th>author_id</th>\n",
       "      <th>posted_on</th>\n",
       "      <th>author_tag</th>\n",
       "      <th>post_title</th>\n",
       "      <th>post_description</th>\n",
       "      <th>subreddit_name</th>\n",
       "    </tr>\n",
       "  </thead>\n",
       "  <tbody>\n",
       "    <tr>\n",
       "      <th>381</th>\n",
       "      <td>n9jckr</td>\n",
       "      <td>2021-05-10 23:34:01</td>\n",
       "      <td>NaN</td>\n",
       "      <td>NaN</td>\n",
       "      <td>f</td>\n",
       "      <td>1</td>\n",
       "    </tr>\n",
       "  </tbody>\n",
       "</table>\n",
       "</div>"
      ],
      "text/plain": [
       "    author_id            posted_on author_tag post_title post_description  \\\n",
       "381    n9jckr  2021-05-10 23:34:01        NaN        NaN                f   \n",
       "\n",
       "     subreddit_name  \n",
       "381               1  "
      ]
     },
     "execution_count": 45,
     "metadata": {},
     "output_type": "execute_result"
    }
   ],
   "source": [
    "# Pull out rows in the dataframe with null values \n",
    "# Since there are no titles or post text for these rows, we will drop them\n",
    "reddit_data[reddit_data['post_title'].isna()]"
   ]
  },
  {
   "cell_type": "code",
   "execution_count": 47,
   "id": "466195bf",
   "metadata": {},
   "outputs": [],
   "source": [
    "# Drop all row with 'nan' values\n",
    "reddit_data.drop(reddit_data.index[381],inplace=True)"
   ]
  },
  {
   "cell_type": "code",
   "execution_count": 49,
   "id": "77a8eb4e",
   "metadata": {},
   "outputs": [
    {
     "data": {
      "text/html": [
       "<div>\n",
       "<style scoped>\n",
       "    .dataframe tbody tr th:only-of-type {\n",
       "        vertical-align: middle;\n",
       "    }\n",
       "\n",
       "    .dataframe tbody tr th {\n",
       "        vertical-align: top;\n",
       "    }\n",
       "\n",
       "    .dataframe thead th {\n",
       "        text-align: right;\n",
       "    }\n",
       "</style>\n",
       "<table border=\"1\" class=\"dataframe\">\n",
       "  <thead>\n",
       "    <tr style=\"text-align: right;\">\n",
       "      <th></th>\n",
       "      <th>author_id</th>\n",
       "      <th>posted_on</th>\n",
       "      <th>author_tag</th>\n",
       "      <th>post_title</th>\n",
       "      <th>post_description</th>\n",
       "      <th>subreddit_name</th>\n",
       "    </tr>\n",
       "  </thead>\n",
       "  <tbody>\n",
       "  </tbody>\n",
       "</table>\n",
       "</div>"
      ],
      "text/plain": [
       "Empty DataFrame\n",
       "Columns: [author_id, posted_on, author_tag, post_title, post_description, subreddit_name]\n",
       "Index: []"
      ]
     },
     "execution_count": 49,
     "metadata": {},
     "output_type": "execute_result"
    }
   ],
   "source": [
    "#check if row got dropped\n",
    "reddit_data[reddit_data['post_title'].isna()]"
   ]
  },
  {
   "cell_type": "markdown",
   "id": "39c2cc74",
   "metadata": {},
   "source": [
    "**Set X and y**"
   ]
  },
  {
   "cell_type": "code",
   "execution_count": 50,
   "id": "f5274440",
   "metadata": {},
   "outputs": [],
   "source": [
    "X = reddit_data['post_title']\n",
    "y = reddit_data['subreddit_name']"
   ]
  },
  {
   "cell_type": "code",
   "execution_count": 51,
   "id": "8c627bac",
   "metadata": {},
   "outputs": [
    {
     "name": "stdout",
     "output_type": "stream",
     "text": [
      "Shape of X: (2086,)\n",
      "Shape of y: (2086,)\n"
     ]
    }
   ],
   "source": [
    "# Check shape of X and y\n",
    "print(f'Shape of X: {X.shape}')\n",
    "print(f'Shape of y: {y.shape}')"
   ]
  },
  {
   "cell_type": "code",
   "execution_count": 52,
   "id": "7e3f5b0e",
   "metadata": {
    "scrolled": true
   },
   "outputs": [
    {
     "data": {
      "text/plain": [
       "0    ysaÿe violin concerto e minor first movement l...\n",
       "1                   video perform exampl great vibrato\n",
       "2                                       count time 6 8\n",
       "Name: post_title, dtype: object"
      ]
     },
     "execution_count": 52,
     "metadata": {},
     "output_type": "execute_result"
    }
   ],
   "source": [
    "#Display X first three rows\n",
    "X.head(3)"
   ]
  },
  {
   "cell_type": "code",
   "execution_count": 53,
   "id": "8845b61a",
   "metadata": {},
   "outputs": [
    {
     "data": {
      "text/plain": [
       "0    1\n",
       "1    1\n",
       "2    1\n",
       "Name: subreddit_name, dtype: int64"
      ]
     },
     "execution_count": 53,
     "metadata": {},
     "output_type": "execute_result"
    }
   ],
   "source": [
    "#Display y first three rows\n",
    "y.head(3)"
   ]
  },
  {
   "cell_type": "code",
   "execution_count": 54,
   "id": "309e89a0",
   "metadata": {},
   "outputs": [
    {
     "data": {
      "text/plain": [
       "2084    0\n",
       "2085    0\n",
       "2086    0\n",
       "Name: subreddit_name, dtype: int64"
      ]
     },
     "execution_count": 54,
     "metadata": {},
     "output_type": "execute_result"
    }
   ],
   "source": [
    "#Display y last three rows\n",
    "y.tail(3)"
   ]
  },
  {
   "cell_type": "markdown",
   "id": "a8dcc693",
   "metadata": {},
   "source": [
    "**Baseline Score**"
   ]
  },
  {
   "cell_type": "code",
   "execution_count": 55,
   "id": "d7874022",
   "metadata": {},
   "outputs": [
    {
     "data": {
      "text/plain": [
       "1    0.507191\n",
       "0    0.492809\n",
       "Name: subreddit_name, dtype: float64"
      ]
     },
     "execution_count": 55,
     "metadata": {},
     "output_type": "execute_result"
    }
   ],
   "source": [
    "y.value_counts(normalize=True)"
   ]
  },
  {
   "cell_type": "markdown",
   "id": "b00041fa",
   "metadata": {},
   "source": [
    "- Violinist = 1 and Cello = 0\n",
    "- The baseline score is the score of the majority class. Since the majority class is Violinist, the baseline score is about .507"
   ]
  },
  {
   "cell_type": "markdown",
   "id": "f4df7cc2",
   "metadata": {},
   "source": [
    "**Train Test Split**"
   ]
  },
  {
   "cell_type": "code",
   "execution_count": 56,
   "id": "f4624ba4",
   "metadata": {},
   "outputs": [],
   "source": [
    "X_train, X_test, y_train, y_test = train_test_split(X, y, \n",
    "                                                    random_state=42, \n",
    "                                                    stratify=y)# account for slight class unbalance"
   ]
  },
  {
   "cell_type": "markdown",
   "id": "b60201c0",
   "metadata": {},
   "source": [
    "**CountVectorize the data**"
   ]
  },
  {
   "cell_type": "code",
   "execution_count": 57,
   "id": "e7bf20e9",
   "metadata": {},
   "outputs": [],
   "source": [
    "cv = CountVectorizer(min_df=2,                   # Ignore words that do not occur at least 2 times\n",
    "                    ngram_range=(1,5))          # Set ngram_range"
   ]
  },
  {
   "cell_type": "code",
   "execution_count": 58,
   "id": "86255a3c",
   "metadata": {},
   "outputs": [],
   "source": [
    "# Fit the CountVectorizer to the training and testing data\n",
    "cv_train = cv.fit_transform(X_train)            \n",
    "cv_test = cv.transform(X_test)"
   ]
  },
  {
   "cell_type": "code",
   "execution_count": 59,
   "id": "7db71fc6",
   "metadata": {},
   "outputs": [
    {
     "data": {
      "text/html": [
       "<div>\n",
       "<style scoped>\n",
       "    .dataframe tbody tr th:only-of-type {\n",
       "        vertical-align: middle;\n",
       "    }\n",
       "\n",
       "    .dataframe tbody tr th {\n",
       "        vertical-align: top;\n",
       "    }\n",
       "\n",
       "    .dataframe thead th {\n",
       "        text-align: right;\n",
       "    }\n",
       "</style>\n",
       "<table border=\"1\" class=\"dataframe\">\n",
       "  <thead>\n",
       "    <tr style=\"text-align: right;\">\n",
       "      <th></th>\n",
       "      <th>10</th>\n",
       "      <th>100</th>\n",
       "      <th>11</th>\n",
       "      <th>15</th>\n",
       "      <th>18</th>\n",
       "      <th>18 year</th>\n",
       "      <th>18 year old</th>\n",
       "      <th>1965</th>\n",
       "      <th>1965 sure</th>\n",
       "      <th>1st</th>\n",
       "      <th>...</th>\n",
       "      <th>yamaha</th>\n",
       "      <th>yamaha svc</th>\n",
       "      <th>year</th>\n",
       "      <th>year break</th>\n",
       "      <th>year old</th>\n",
       "      <th>young</th>\n",
       "      <th>youth</th>\n",
       "      <th>youtub</th>\n",
       "      <th>zoom</th>\n",
       "      <th>zoom meetup</th>\n",
       "    </tr>\n",
       "  </thead>\n",
       "  <tbody>\n",
       "    <tr>\n",
       "      <th>0</th>\n",
       "      <td>0</td>\n",
       "      <td>0</td>\n",
       "      <td>0</td>\n",
       "      <td>0</td>\n",
       "      <td>0</td>\n",
       "      <td>0</td>\n",
       "      <td>0</td>\n",
       "      <td>0</td>\n",
       "      <td>0</td>\n",
       "      <td>0</td>\n",
       "      <td>...</td>\n",
       "      <td>0</td>\n",
       "      <td>0</td>\n",
       "      <td>0</td>\n",
       "      <td>0</td>\n",
       "      <td>0</td>\n",
       "      <td>0</td>\n",
       "      <td>0</td>\n",
       "      <td>0</td>\n",
       "      <td>0</td>\n",
       "      <td>0</td>\n",
       "    </tr>\n",
       "    <tr>\n",
       "      <th>1</th>\n",
       "      <td>0</td>\n",
       "      <td>0</td>\n",
       "      <td>0</td>\n",
       "      <td>0</td>\n",
       "      <td>0</td>\n",
       "      <td>0</td>\n",
       "      <td>0</td>\n",
       "      <td>0</td>\n",
       "      <td>0</td>\n",
       "      <td>0</td>\n",
       "      <td>...</td>\n",
       "      <td>0</td>\n",
       "      <td>0</td>\n",
       "      <td>0</td>\n",
       "      <td>0</td>\n",
       "      <td>0</td>\n",
       "      <td>0</td>\n",
       "      <td>0</td>\n",
       "      <td>0</td>\n",
       "      <td>0</td>\n",
       "      <td>0</td>\n",
       "    </tr>\n",
       "    <tr>\n",
       "      <th>2</th>\n",
       "      <td>0</td>\n",
       "      <td>0</td>\n",
       "      <td>0</td>\n",
       "      <td>0</td>\n",
       "      <td>0</td>\n",
       "      <td>0</td>\n",
       "      <td>0</td>\n",
       "      <td>0</td>\n",
       "      <td>0</td>\n",
       "      <td>1</td>\n",
       "      <td>...</td>\n",
       "      <td>0</td>\n",
       "      <td>0</td>\n",
       "      <td>0</td>\n",
       "      <td>0</td>\n",
       "      <td>0</td>\n",
       "      <td>0</td>\n",
       "      <td>0</td>\n",
       "      <td>0</td>\n",
       "      <td>0</td>\n",
       "      <td>0</td>\n",
       "    </tr>\n",
       "    <tr>\n",
       "      <th>3</th>\n",
       "      <td>0</td>\n",
       "      <td>0</td>\n",
       "      <td>0</td>\n",
       "      <td>0</td>\n",
       "      <td>0</td>\n",
       "      <td>0</td>\n",
       "      <td>0</td>\n",
       "      <td>0</td>\n",
       "      <td>0</td>\n",
       "      <td>0</td>\n",
       "      <td>...</td>\n",
       "      <td>0</td>\n",
       "      <td>0</td>\n",
       "      <td>0</td>\n",
       "      <td>0</td>\n",
       "      <td>0</td>\n",
       "      <td>0</td>\n",
       "      <td>0</td>\n",
       "      <td>0</td>\n",
       "      <td>0</td>\n",
       "      <td>0</td>\n",
       "    </tr>\n",
       "    <tr>\n",
       "      <th>4</th>\n",
       "      <td>0</td>\n",
       "      <td>0</td>\n",
       "      <td>0</td>\n",
       "      <td>0</td>\n",
       "      <td>0</td>\n",
       "      <td>0</td>\n",
       "      <td>0</td>\n",
       "      <td>0</td>\n",
       "      <td>0</td>\n",
       "      <td>0</td>\n",
       "      <td>...</td>\n",
       "      <td>0</td>\n",
       "      <td>0</td>\n",
       "      <td>0</td>\n",
       "      <td>0</td>\n",
       "      <td>0</td>\n",
       "      <td>0</td>\n",
       "      <td>0</td>\n",
       "      <td>0</td>\n",
       "      <td>0</td>\n",
       "      <td>0</td>\n",
       "    </tr>\n",
       "  </tbody>\n",
       "</table>\n",
       "<p>5 rows × 1332 columns</p>\n",
       "</div>"
      ],
      "text/plain": [
       "   10  100  11  15  18  18 year  18 year old  1965  1965 sure  1st  ...  \\\n",
       "0   0    0   0   0   0        0            0     0          0    0  ...   \n",
       "1   0    0   0   0   0        0            0     0          0    0  ...   \n",
       "2   0    0   0   0   0        0            0     0          0    1  ...   \n",
       "3   0    0   0   0   0        0            0     0          0    0  ...   \n",
       "4   0    0   0   0   0        0            0     0          0    0  ...   \n",
       "\n",
       "   yamaha  yamaha svc  year  year break  year old  young  youth  youtub  zoom  \\\n",
       "0       0           0     0           0         0      0      0       0     0   \n",
       "1       0           0     0           0         0      0      0       0     0   \n",
       "2       0           0     0           0         0      0      0       0     0   \n",
       "3       0           0     0           0         0      0      0       0     0   \n",
       "4       0           0     0           0         0      0      0       0     0   \n",
       "\n",
       "   zoom meetup  \n",
       "0            0  \n",
       "1            0  \n",
       "2            0  \n",
       "3            0  \n",
       "4            0  \n",
       "\n",
       "[5 rows x 1332 columns]"
      ]
     },
     "execution_count": 59,
     "metadata": {},
     "output_type": "execute_result"
    }
   ],
   "source": [
    "# Create cv_train dataframe\n",
    "cv_train_df = pd.DataFrame(cv_train.toarray(), columns = cv.get_feature_names())\n",
    "cv_train_df.head()"
   ]
  },
  {
   "cell_type": "code",
   "execution_count": 60,
   "id": "37b4d54d",
   "metadata": {},
   "outputs": [
    {
     "data": {
      "text/html": [
       "<div>\n",
       "<style scoped>\n",
       "    .dataframe tbody tr th:only-of-type {\n",
       "        vertical-align: middle;\n",
       "    }\n",
       "\n",
       "    .dataframe tbody tr th {\n",
       "        vertical-align: top;\n",
       "    }\n",
       "\n",
       "    .dataframe thead th {\n",
       "        text-align: right;\n",
       "    }\n",
       "</style>\n",
       "<table border=\"1\" class=\"dataframe\">\n",
       "  <thead>\n",
       "    <tr style=\"text-align: right;\">\n",
       "      <th></th>\n",
       "      <th>10</th>\n",
       "      <th>100</th>\n",
       "      <th>11</th>\n",
       "      <th>15</th>\n",
       "      <th>18</th>\n",
       "      <th>18 year</th>\n",
       "      <th>18 year old</th>\n",
       "      <th>1965</th>\n",
       "      <th>1965 sure</th>\n",
       "      <th>1st</th>\n",
       "      <th>...</th>\n",
       "      <th>yamaha</th>\n",
       "      <th>yamaha svc</th>\n",
       "      <th>year</th>\n",
       "      <th>year break</th>\n",
       "      <th>year old</th>\n",
       "      <th>young</th>\n",
       "      <th>youth</th>\n",
       "      <th>youtub</th>\n",
       "      <th>zoom</th>\n",
       "      <th>zoom meetup</th>\n",
       "    </tr>\n",
       "  </thead>\n",
       "  <tbody>\n",
       "    <tr>\n",
       "      <th>0</th>\n",
       "      <td>0</td>\n",
       "      <td>0</td>\n",
       "      <td>0</td>\n",
       "      <td>0</td>\n",
       "      <td>0</td>\n",
       "      <td>0</td>\n",
       "      <td>0</td>\n",
       "      <td>0</td>\n",
       "      <td>0</td>\n",
       "      <td>0</td>\n",
       "      <td>...</td>\n",
       "      <td>0</td>\n",
       "      <td>0</td>\n",
       "      <td>0</td>\n",
       "      <td>0</td>\n",
       "      <td>0</td>\n",
       "      <td>0</td>\n",
       "      <td>0</td>\n",
       "      <td>0</td>\n",
       "      <td>0</td>\n",
       "      <td>0</td>\n",
       "    </tr>\n",
       "    <tr>\n",
       "      <th>1</th>\n",
       "      <td>0</td>\n",
       "      <td>0</td>\n",
       "      <td>0</td>\n",
       "      <td>0</td>\n",
       "      <td>0</td>\n",
       "      <td>0</td>\n",
       "      <td>0</td>\n",
       "      <td>0</td>\n",
       "      <td>0</td>\n",
       "      <td>0</td>\n",
       "      <td>...</td>\n",
       "      <td>0</td>\n",
       "      <td>0</td>\n",
       "      <td>0</td>\n",
       "      <td>0</td>\n",
       "      <td>0</td>\n",
       "      <td>0</td>\n",
       "      <td>0</td>\n",
       "      <td>0</td>\n",
       "      <td>0</td>\n",
       "      <td>0</td>\n",
       "    </tr>\n",
       "    <tr>\n",
       "      <th>2</th>\n",
       "      <td>0</td>\n",
       "      <td>0</td>\n",
       "      <td>0</td>\n",
       "      <td>0</td>\n",
       "      <td>0</td>\n",
       "      <td>0</td>\n",
       "      <td>0</td>\n",
       "      <td>0</td>\n",
       "      <td>0</td>\n",
       "      <td>0</td>\n",
       "      <td>...</td>\n",
       "      <td>0</td>\n",
       "      <td>0</td>\n",
       "      <td>0</td>\n",
       "      <td>0</td>\n",
       "      <td>0</td>\n",
       "      <td>0</td>\n",
       "      <td>0</td>\n",
       "      <td>0</td>\n",
       "      <td>0</td>\n",
       "      <td>0</td>\n",
       "    </tr>\n",
       "    <tr>\n",
       "      <th>3</th>\n",
       "      <td>0</td>\n",
       "      <td>0</td>\n",
       "      <td>0</td>\n",
       "      <td>0</td>\n",
       "      <td>0</td>\n",
       "      <td>0</td>\n",
       "      <td>0</td>\n",
       "      <td>0</td>\n",
       "      <td>0</td>\n",
       "      <td>0</td>\n",
       "      <td>...</td>\n",
       "      <td>0</td>\n",
       "      <td>0</td>\n",
       "      <td>0</td>\n",
       "      <td>0</td>\n",
       "      <td>0</td>\n",
       "      <td>0</td>\n",
       "      <td>0</td>\n",
       "      <td>0</td>\n",
       "      <td>0</td>\n",
       "      <td>0</td>\n",
       "    </tr>\n",
       "    <tr>\n",
       "      <th>4</th>\n",
       "      <td>0</td>\n",
       "      <td>0</td>\n",
       "      <td>0</td>\n",
       "      <td>0</td>\n",
       "      <td>0</td>\n",
       "      <td>0</td>\n",
       "      <td>0</td>\n",
       "      <td>0</td>\n",
       "      <td>0</td>\n",
       "      <td>0</td>\n",
       "      <td>...</td>\n",
       "      <td>0</td>\n",
       "      <td>0</td>\n",
       "      <td>0</td>\n",
       "      <td>0</td>\n",
       "      <td>0</td>\n",
       "      <td>0</td>\n",
       "      <td>0</td>\n",
       "      <td>0</td>\n",
       "      <td>0</td>\n",
       "      <td>0</td>\n",
       "    </tr>\n",
       "  </tbody>\n",
       "</table>\n",
       "<p>5 rows × 1332 columns</p>\n",
       "</div>"
      ],
      "text/plain": [
       "   10  100  11  15  18  18 year  18 year old  1965  1965 sure  1st  ...  \\\n",
       "0   0    0   0   0   0        0            0     0          0    0  ...   \n",
       "1   0    0   0   0   0        0            0     0          0    0  ...   \n",
       "2   0    0   0   0   0        0            0     0          0    0  ...   \n",
       "3   0    0   0   0   0        0            0     0          0    0  ...   \n",
       "4   0    0   0   0   0        0            0     0          0    0  ...   \n",
       "\n",
       "   yamaha  yamaha svc  year  year break  year old  young  youth  youtub  zoom  \\\n",
       "0       0           0     0           0         0      0      0       0     0   \n",
       "1       0           0     0           0         0      0      0       0     0   \n",
       "2       0           0     0           0         0      0      0       0     0   \n",
       "3       0           0     0           0         0      0      0       0     0   \n",
       "4       0           0     0           0         0      0      0       0     0   \n",
       "\n",
       "   zoom meetup  \n",
       "0            0  \n",
       "1            0  \n",
       "2            0  \n",
       "3            0  \n",
       "4            0  \n",
       "\n",
       "[5 rows x 1332 columns]"
      ]
     },
     "execution_count": 60,
     "metadata": {},
     "output_type": "execute_result"
    }
   ],
   "source": [
    "# Create cv_test dataframe\n",
    "cv_test_df = pd.DataFrame(cv_test.toarray(), columns = cv.get_feature_names())\n",
    "cv_test_df.head()"
   ]
  },
  {
   "cell_type": "code",
   "execution_count": 85,
   "id": "4563d773",
   "metadata": {},
   "outputs": [
    {
     "name": "stdout",
     "output_type": "stream",
     "text": [
      "Shape of cv_train: (1564, 1332)\n",
      "Shape of cv_test: (522, 1332)\n"
     ]
    }
   ],
   "source": [
    "# Check shape of cv_train and cv_test\n",
    "print(f'Shape of cv_train: {cv_train.shape}')\n",
    "print(f'Shape of cv_test: {cv_test.shape}')"
   ]
  },
  {
   "cell_type": "markdown",
   "id": "188074c2",
   "metadata": {},
   "source": [
    "**Logistic Regression**"
   ]
  },
  {
   "cell_type": "code",
   "execution_count": 120,
   "id": "37c76e26",
   "metadata": {},
   "outputs": [
    {
     "name": "stdout",
     "output_type": "stream",
     "text": [
      "===Logistic Regression===\n",
      "0.9661125319693095\n",
      "0.7203065134099617\n",
      "\n"
     ]
    }
   ],
   "source": [
    "# Instantiate model \n",
    "lr = LogisticRegression(penalty = 'l1', C =50 ,solver=\"liblinear\")\n",
    "# Fit model\n",
    "lr.fit(cv_train, y_train)\n",
    "# Evaluate model.\n",
    "print(\"Logistic Regression\".center(25, \"=\"))\n",
    "print(lr.score(cv_train, y_train))\n",
    "print(lr.score(cv_test, y_test))\n",
    "print()"
   ]
  },
  {
   "cell_type": "code",
   "execution_count": 119,
   "id": "6948b617",
   "metadata": {},
   "outputs": [
    {
     "name": "stdout",
     "output_type": "stream",
     "text": [
      "===Logistic Regression===\n",
      "0.9635549872122762\n",
      "0.7337164750957854\n",
      "\n"
     ]
    }
   ],
   "source": [
    "# Instantiate model \n",
    "lr = LogisticRegression(penalty = 'l2', C =50 ,solver=\"liblinear\")\n",
    "# Fit model\n",
    "lr.fit(cv_train, y_train)\n",
    "# Evaluate model.\n",
    "print(\"Logistic Regression\".center(25, \"=\"))\n",
    "print(lr.score(cv_train, y_train))\n",
    "print(lr.score(cv_test, y_test))\n",
    "print()"
   ]
  },
  {
   "cell_type": "markdown",
   "id": "3c7ef462",
   "metadata": {},
   "source": [
    "- The Logistic Regression model has a higher training score than the testing score meaning that the model is overfit."
   ]
  },
  {
   "cell_type": "code",
   "execution_count": 75,
   "id": "28fb16d8",
   "metadata": {},
   "outputs": [],
   "source": [
    "# Created a dataframe of all coefficients and sorted by descending values\n",
    "# The top features and coefficients that will determine whether a post is a Violin post\n",
    "coef_df = pd.DataFrame(lr.coef_, columns=cv_train_df.columns).T.sort_values(by=0, ascending=False)"
   ]
  },
  {
   "cell_type": "code",
   "execution_count": 93,
   "id": "f938681e",
   "metadata": {},
   "outputs": [
    {
     "data": {
      "text/html": [
       "<div>\n",
       "<style scoped>\n",
       "    .dataframe tbody tr th:only-of-type {\n",
       "        vertical-align: middle;\n",
       "    }\n",
       "\n",
       "    .dataframe tbody tr th {\n",
       "        vertical-align: top;\n",
       "    }\n",
       "\n",
       "    .dataframe thead th {\n",
       "        text-align: right;\n",
       "    }\n",
       "</style>\n",
       "<table border=\"1\" class=\"dataframe\">\n",
       "  <thead>\n",
       "    <tr style=\"text-align: right;\">\n",
       "      <th></th>\n",
       "      <th>0</th>\n",
       "    </tr>\n",
       "  </thead>\n",
       "  <tbody>\n",
       "    <tr>\n",
       "      <th>violin</th>\n",
       "      <td>3.825757</td>\n",
       "    </tr>\n",
       "    <tr>\n",
       "      <th>violinist</th>\n",
       "      <td>2.005478</td>\n",
       "    </tr>\n",
       "    <tr>\n",
       "      <th>gener</th>\n",
       "      <td>1.312008</td>\n",
       "    </tr>\n",
       "    <tr>\n",
       "      <th>keep</th>\n",
       "      <td>1.084604</td>\n",
       "    </tr>\n",
       "    <tr>\n",
       "      <th>techniqu</th>\n",
       "      <td>1.060101</td>\n",
       "    </tr>\n",
       "    <tr>\n",
       "      <th>becom</th>\n",
       "      <td>0.995871</td>\n",
       "    </tr>\n",
       "    <tr>\n",
       "      <th>rest</th>\n",
       "      <td>0.983141</td>\n",
       "    </tr>\n",
       "    <tr>\n",
       "      <th>pleas</th>\n",
       "      <td>0.961132</td>\n",
       "    </tr>\n",
       "    <tr>\n",
       "      <th>paganini</th>\n",
       "      <td>0.957701</td>\n",
       "    </tr>\n",
       "    <tr>\n",
       "      <th>post</th>\n",
       "      <td>0.947658</td>\n",
       "    </tr>\n",
       "  </tbody>\n",
       "</table>\n",
       "</div>"
      ],
      "text/plain": [
       "                  0\n",
       "violin     3.825757\n",
       "violinist  2.005478\n",
       "gener      1.312008\n",
       "keep       1.084604\n",
       "techniqu   1.060101\n",
       "becom      0.995871\n",
       "rest       0.983141\n",
       "pleas      0.961132\n",
       "paganini   0.957701\n",
       "post       0.947658"
      ]
     },
     "execution_count": 93,
     "metadata": {},
     "output_type": "execute_result"
    }
   ],
   "source": [
    "# Top 10 features that determine a Violin post\n",
    "coef_df.head(10)"
   ]
  },
  {
   "cell_type": "code",
   "execution_count": 94,
   "id": "e7743c70",
   "metadata": {},
   "outputs": [
    {
     "data": {
      "text/html": [
       "<div>\n",
       "<style scoped>\n",
       "    .dataframe tbody tr th:only-of-type {\n",
       "        vertical-align: middle;\n",
       "    }\n",
       "\n",
       "    .dataframe tbody tr th {\n",
       "        vertical-align: top;\n",
       "    }\n",
       "\n",
       "    .dataframe thead th {\n",
       "        text-align: right;\n",
       "    }\n",
       "</style>\n",
       "<table border=\"1\" class=\"dataframe\">\n",
       "  <thead>\n",
       "    <tr style=\"text-align: right;\">\n",
       "      <th></th>\n",
       "      <th>0</th>\n",
       "    </tr>\n",
       "  </thead>\n",
       "  <tbody>\n",
       "    <tr>\n",
       "      <th>hey guy</th>\n",
       "      <td>-0.927045</td>\n",
       "    </tr>\n",
       "    <tr>\n",
       "      <th>piano</th>\n",
       "      <td>-0.966948</td>\n",
       "    </tr>\n",
       "    <tr>\n",
       "      <th>major</th>\n",
       "      <td>-0.983423</td>\n",
       "    </tr>\n",
       "    <tr>\n",
       "      <th>prelud</th>\n",
       "      <td>-1.007672</td>\n",
       "    </tr>\n",
       "    <tr>\n",
       "      <th>postur</th>\n",
       "      <td>-1.041721</td>\n",
       "    </tr>\n",
       "    <tr>\n",
       "      <th>posit</th>\n",
       "      <td>-1.272672</td>\n",
       "    </tr>\n",
       "    <tr>\n",
       "      <th>zoom</th>\n",
       "      <td>-1.276807</td>\n",
       "    </tr>\n",
       "    <tr>\n",
       "      <th>suit</th>\n",
       "      <td>-1.362779</td>\n",
       "    </tr>\n",
       "    <tr>\n",
       "      <th>cellist</th>\n",
       "      <td>-2.112829</td>\n",
       "    </tr>\n",
       "    <tr>\n",
       "      <th>cello</th>\n",
       "      <td>-4.230653</td>\n",
       "    </tr>\n",
       "  </tbody>\n",
       "</table>\n",
       "</div>"
      ],
      "text/plain": [
       "                0\n",
       "hey guy -0.927045\n",
       "piano   -0.966948\n",
       "major   -0.983423\n",
       "prelud  -1.007672\n",
       "postur  -1.041721\n",
       "posit   -1.272672\n",
       "zoom    -1.276807\n",
       "suit    -1.362779\n",
       "cellist -2.112829\n",
       "cello   -4.230653"
      ]
     },
     "execution_count": 94,
     "metadata": {},
     "output_type": "execute_result"
    }
   ],
   "source": [
    "# Top 10 features that determine an Cello post\n",
    "coef_df.tail(10)"
   ]
  },
  {
   "cell_type": "markdown",
   "id": "318c1f1b",
   "metadata": {},
   "source": [
    "**Multinomial Naive Bayes Model**"
   ]
  },
  {
   "cell_type": "code",
   "execution_count": 97,
   "id": "53508007",
   "metadata": {},
   "outputs": [
    {
     "name": "stdout",
     "output_type": "stream",
     "text": [
      "=======MNB========\n",
      "0.860613810741688\n",
      "0.7298850574712644\n",
      "\n"
     ]
    }
   ],
   "source": [
    "# Instantiate model \n",
    "mnb = MultinomialNB()\n",
    "# Fit model\n",
    "mnb.fit(cv_train, y_train)\n",
    "# Evaluate model.\n",
    "print(\"MNB\".center(18, \"=\"))\n",
    "print(mnb.score(cv_train, y_train))\n",
    "print(mnb.score(cv_test, y_test))\n",
    "print()"
   ]
  },
  {
   "cell_type": "markdown",
   "id": "47b65b2b",
   "metadata": {},
   "source": [
    "- Multinomial Naive Bayes Model is also overfit. \n",
    "- When compared to Logistic Regression ,this model performs worse on the training data and similarly on the testing data."
   ]
  },
  {
   "cell_type": "markdown",
   "id": "a81ffce3",
   "metadata": {},
   "source": [
    "**Decision Tree Classififer**"
   ]
  },
  {
   "cell_type": "code",
   "execution_count": 103,
   "id": "e1873fcf",
   "metadata": {},
   "outputs": [
    {
     "name": "stdout",
     "output_type": "stream",
     "text": [
      "==Decision Tree===\n",
      "0.9763427109974424\n",
      "0.7088122605363985\n",
      "\n"
     ]
    }
   ],
   "source": [
    "# Instantiate model with random_state = 42.\n",
    "dt = DecisionTreeClassifier(random_state=42)\n",
    "# Fit model\n",
    "dt.fit(cv_train, y_train)\n",
    "# Evaluate model.\n",
    "print(\"Decision Tree\".center(18, \"=\"))\n",
    "print(dt.score(cv_train, y_train))\n",
    "print(dt.score(cv_test, y_test))\n",
    "print()"
   ]
  },
  {
   "cell_type": "markdown",
   "id": "9cb11169",
   "metadata": {},
   "source": [
    "- Decision Tree Classififer is also overfit.\n",
    "- When compared to Logistic Regression and Multinomial Naive Bayes testing score is lower\n",
    "- When compared to Logistic Regression and Multinomial Naive Bayes training score is higher"
   ]
  },
  {
   "cell_type": "markdown",
   "id": "fdde9688",
   "metadata": {},
   "source": [
    "**Bagging Classifier**"
   ]
  },
  {
   "cell_type": "code",
   "execution_count": 109,
   "id": "e19962fa",
   "metadata": {},
   "outputs": [
    {
     "name": "stdout",
     "output_type": "stream",
     "text": [
      "===Bagging Tree===\n",
      "0.9763427109974424\n",
      "0.7030651340996169\n",
      "\n"
     ]
    }
   ],
   "source": [
    "# Instantiate model\n",
    "bag = BaggingClassifier(random_state=42, n_estimators=100)\n",
    "# Fit model\n",
    "bag.fit(cv_train, y_train)\n",
    "# Evaluate model.\n",
    "print(\"Bagging Tree\".center(18, \"=\"))\n",
    "print(bag.score(cv_train, y_train))\n",
    "print(bag.score(cv_test, y_test))\n",
    "print()"
   ]
  },
  {
   "cell_type": "markdown",
   "id": "21dbabff",
   "metadata": {},
   "source": [
    "- Bagging Classifier is also overfit."
   ]
  },
  {
   "cell_type": "code",
   "execution_count": null,
   "id": "7600777e",
   "metadata": {},
   "outputs": [],
   "source": []
  }
 ],
 "metadata": {
  "kernelspec": {
   "display_name": "Python 3",
   "language": "python",
   "name": "python3"
  },
  "language_info": {
   "codemirror_mode": {
    "name": "ipython",
    "version": 3
   },
   "file_extension": ".py",
   "mimetype": "text/x-python",
   "name": "python",
   "nbconvert_exporter": "python",
   "pygments_lexer": "ipython3",
   "version": "3.8.8"
  }
 },
 "nbformat": 4,
 "nbformat_minor": 5
}
