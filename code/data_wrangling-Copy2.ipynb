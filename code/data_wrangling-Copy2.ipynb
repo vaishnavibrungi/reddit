{
 "cells": [
  {
   "cell_type": "markdown",
   "id": "8c9f7a0d",
   "metadata": {},
   "source": [
    "# Project 3: Reddit "
   ]
  },
  {
   "cell_type": "markdown",
   "id": "2f832c95",
   "metadata": {},
   "source": [
    "**Import libraries**"
   ]
  },
  {
   "cell_type": "code",
   "execution_count": 1,
   "id": "350d0e5e",
   "metadata": {},
   "outputs": [],
   "source": [
    "import pandas as pd \n",
    "import matplotlib.pyplot as plt\n",
    "import seaborn as sns\n",
    "import requests\n",
    "import time\n",
    "from sklearn.feature_extraction.text import CountVectorizer, TfidfVectorizer\n",
    "from sklearn.linear_model import LogisticRegressionCV\n",
    "from sklearn.metrics import confusion_matrix\n",
    "from sklearn.metrics import plot_confusion_matrix\n",
    "from sklearn.model_selection import train_test_split\n",
    "from sklearn.naive_bayes import MultinomialNB\n",
    "from sklearn.pipeline import Pipeline\n",
    "from sklearn.model_selection import GridSearchCV\n",
    "from sklearn.ensemble import ExtraTreesClassifier, RandomForestClassifier\n",
    "from sklearn.tree import DecisionTreeClassifier"
   ]
  },
  {
   "cell_type": "code",
   "execution_count": 2,
   "id": "e58db3e2",
   "metadata": {},
   "outputs": [],
   "source": [
    "#https://stackoverflow.com/questions/59799041/why-reddit-return-502-error-when-accessing-a-page-using-beautifulsoup4\n",
    "# Set user agent to prevent status code issue\n",
    "headers = {'user-agent':'Mozilla/5.0 (Linux; Android 6.0; Nexus 5 Build/MRA58N) AppleWebKit/537.36 (KHTML, like Gecko) Chrome/79.0.3945.130 Mobile Safari/537.36'}\n",
    "url = \"https://api.pushshift.io/reddit/search/submission/\" #Get the url\n",
    "def read_data(params):\n",
    "    response = requests.get(url, headers=headers,params=params)\n",
    "    if response.status_code == 200: #Check status code for requests to ensure we are not getting a 400 or 500 code\n",
    "        return response.json()['data'] \n",
    "    else:\n",
    "        return []"
   ]
  },
  {
   "cell_type": "code",
   "execution_count": 3,
   "id": "02649ea4",
   "metadata": {},
   "outputs": [],
   "source": [
    "def read_reddit_data(subreddit,num_records):\n",
    "    before = None\n",
    "    posts = []\n",
    "    \n",
    "    while(len(posts)<num_records):\n",
    "        response = read_data({'subreddit': subreddit, \n",
    "                              'size':100, \n",
    "                              'sort':'desc',\n",
    "                              'sort_type':'created_utc', \n",
    "                              'before':before, \n",
    "                              'fields':[\"id\", \"created_utc\", \"title\", \"selftext\", \"subreddit\",\n",
    "                                        \"author_flair_text\",\"link_flair_text\"]})\n",
    "        for post in response:\n",
    "             if post.get('selftext', \"\").strip(\" \") != \"\" :\n",
    "                    posts.append(post)\n",
    "        before = response[-1].get(\"created_utc\")\n",
    " #https://stackoverflow.com/questions/20592808/add-all-elements-of-an-iterable-to-list\n",
    "        time.sleep(1) # pauses for a second between each requests\n",
    "    return posts"
   ]
  },
  {
   "cell_type": "code",
   "execution_count": 4,
   "id": "2d816da5",
   "metadata": {},
   "outputs": [],
   "source": [
    "#get 'violinist' subreddit\n",
    "violin_subreddit = read_reddit_data(\"violinist\",1000)"
   ]
  },
  {
   "cell_type": "code",
   "execution_count": 5,
   "id": "7569dcae",
   "metadata": {},
   "outputs": [
    {
     "data": {
      "text/plain": [
       "1063"
      ]
     },
     "execution_count": 5,
     "metadata": {},
     "output_type": "execute_result"
    }
   ],
   "source": [
    "#check length of subreddit\n",
    "len(violin_subreddit)"
   ]
  },
  {
   "cell_type": "code",
   "execution_count": 6,
   "id": "5b9dff00",
   "metadata": {},
   "outputs": [],
   "source": [
    "#get 'cello' subreddit\n",
    "cello_subreddit = read_reddit_data(\"cello\",1000)"
   ]
  },
  {
   "cell_type": "code",
   "execution_count": 7,
   "id": "ca6dc708",
   "metadata": {},
   "outputs": [
    {
     "data": {
      "text/plain": [
       "1027"
      ]
     },
     "execution_count": 7,
     "metadata": {},
     "output_type": "execute_result"
    }
   ],
   "source": [
    "#check length of subreddit\n",
    "len(cello_subreddit)"
   ]
  },
  {
   "cell_type": "code",
   "execution_count": 8,
   "id": "3d06bfc6",
   "metadata": {
    "scrolled": true
   },
   "outputs": [
    {
     "data": {
      "text/html": [
       "<div>\n",
       "<style scoped>\n",
       "    .dataframe tbody tr th:only-of-type {\n",
       "        vertical-align: middle;\n",
       "    }\n",
       "\n",
       "    .dataframe tbody tr th {\n",
       "        vertical-align: top;\n",
       "    }\n",
       "\n",
       "    .dataframe thead th {\n",
       "        text-align: right;\n",
       "    }\n",
       "</style>\n",
       "<table border=\"1\" class=\"dataframe\">\n",
       "  <thead>\n",
       "    <tr style=\"text-align: right;\">\n",
       "      <th></th>\n",
       "      <th>author_flair_text</th>\n",
       "      <th>created_utc</th>\n",
       "      <th>id</th>\n",
       "      <th>link_flair_text</th>\n",
       "      <th>selftext</th>\n",
       "      <th>subreddit</th>\n",
       "      <th>title</th>\n",
       "    </tr>\n",
       "  </thead>\n",
       "  <tbody>\n",
       "    <tr>\n",
       "      <th>0</th>\n",
       "      <td>None</td>\n",
       "      <td>1623916196</td>\n",
       "      <td>o1rmpe</td>\n",
       "      <td>Technique</td>\n",
       "      <td>When the score says Sul G, Sul D, IVeme chord,...</td>\n",
       "      <td>violinist</td>\n",
       "      <td>Question (as a beginner)</td>\n",
       "    </tr>\n",
       "    <tr>\n",
       "      <th>1</th>\n",
       "      <td>Expert</td>\n",
       "      <td>1623901354</td>\n",
       "      <td>o1nle1</td>\n",
       "      <td>NaN</td>\n",
       "      <td>I mean anything ranging from posture, books, e...</td>\n",
       "      <td>violinist</td>\n",
       "      <td>If you could change one thing about how you le...</td>\n",
       "    </tr>\n",
       "    <tr>\n",
       "      <th>2</th>\n",
       "      <td>Beginner</td>\n",
       "      <td>1623897478</td>\n",
       "      <td>o1mcaq</td>\n",
       "      <td>NaN</td>\n",
       "      <td>I got my current violin in December, and idk i...</td>\n",
       "      <td>violinist</td>\n",
       "      <td>Time for new strings?</td>\n",
       "    </tr>\n",
       "    <tr>\n",
       "      <th>3</th>\n",
       "      <td>None</td>\n",
       "      <td>1623896598</td>\n",
       "      <td>o1m1xq</td>\n",
       "      <td>NaN</td>\n",
       "      <td>[removed]</td>\n",
       "      <td>violinist</td>\n",
       "      <td>Success story</td>\n",
       "    </tr>\n",
       "    <tr>\n",
       "      <th>4</th>\n",
       "      <td>None</td>\n",
       "      <td>1623884222</td>\n",
       "      <td>o1i0fi</td>\n",
       "      <td>Setup/Equipment</td>\n",
       "      <td>My daughter (12) and I went to a luthier yeste...</td>\n",
       "      <td>violinist</td>\n",
       "      <td>Trialing 1/2 size violins</td>\n",
       "    </tr>\n",
       "    <tr>\n",
       "      <th>5</th>\n",
       "      <td>None</td>\n",
       "      <td>1623878748</td>\n",
       "      <td>o1fz34</td>\n",
       "      <td>NaN</td>\n",
       "      <td>I have a late 19th century workshop violin out...</td>\n",
       "      <td>violinist</td>\n",
       "      <td>Violin out on trial: take to luthier?</td>\n",
       "    </tr>\n",
       "    <tr>\n",
       "      <th>6</th>\n",
       "      <td>None</td>\n",
       "      <td>1623866739</td>\n",
       "      <td>o1b7t4</td>\n",
       "      <td>Setup/Equipment</td>\n",
       "      <td>I just got my first violin last week and I am ...</td>\n",
       "      <td>violinist</td>\n",
       "      <td>Bridge Question</td>\n",
       "    </tr>\n",
       "    <tr>\n",
       "      <th>7</th>\n",
       "      <td>None</td>\n",
       "      <td>1623864467</td>\n",
       "      <td>o1aamm</td>\n",
       "      <td>NaN</td>\n",
       "      <td>Hi, I'm sorry if I'm in the wrong subreddit!  ...</td>\n",
       "      <td>violinist</td>\n",
       "      <td>Donating Violin?</td>\n",
       "    </tr>\n",
       "    <tr>\n",
       "      <th>8</th>\n",
       "      <td>None</td>\n",
       "      <td>1623854143</td>\n",
       "      <td>o16ckr</td>\n",
       "      <td>NaN</td>\n",
       "      <td>Hi, I'm a beginner musician but I want to work...</td>\n",
       "      <td>violinist</td>\n",
       "      <td>How to become music tutor</td>\n",
       "    </tr>\n",
       "    <tr>\n",
       "      <th>9</th>\n",
       "      <td>Student</td>\n",
       "      <td>1623849616</td>\n",
       "      <td>o14pqh</td>\n",
       "      <td>Setup/Equipment</td>\n",
       "      <td>How do you practice when it is so hot inside?</td>\n",
       "      <td>violinist</td>\n",
       "      <td>Practice in heat</td>\n",
       "    </tr>\n",
       "  </tbody>\n",
       "</table>\n",
       "</div>"
      ],
      "text/plain": [
       "  author_flair_text  created_utc      id  link_flair_text  \\\n",
       "0              None   1623916196  o1rmpe        Technique   \n",
       "1            Expert   1623901354  o1nle1              NaN   \n",
       "2          Beginner   1623897478  o1mcaq              NaN   \n",
       "3              None   1623896598  o1m1xq              NaN   \n",
       "4              None   1623884222  o1i0fi  Setup/Equipment   \n",
       "5              None   1623878748  o1fz34              NaN   \n",
       "6              None   1623866739  o1b7t4  Setup/Equipment   \n",
       "7              None   1623864467  o1aamm              NaN   \n",
       "8              None   1623854143  o16ckr              NaN   \n",
       "9           Student   1623849616  o14pqh  Setup/Equipment   \n",
       "\n",
       "                                            selftext  subreddit  \\\n",
       "0  When the score says Sul G, Sul D, IVeme chord,...  violinist   \n",
       "1  I mean anything ranging from posture, books, e...  violinist   \n",
       "2  I got my current violin in December, and idk i...  violinist   \n",
       "3                                          [removed]  violinist   \n",
       "4  My daughter (12) and I went to a luthier yeste...  violinist   \n",
       "5  I have a late 19th century workshop violin out...  violinist   \n",
       "6  I just got my first violin last week and I am ...  violinist   \n",
       "7  Hi, I'm sorry if I'm in the wrong subreddit!  ...  violinist   \n",
       "8  Hi, I'm a beginner musician but I want to work...  violinist   \n",
       "9      How do you practice when it is so hot inside?  violinist   \n",
       "\n",
       "                                               title  \n",
       "0                           Question (as a beginner)  \n",
       "1  If you could change one thing about how you le...  \n",
       "2                              Time for new strings?  \n",
       "3                                      Success story  \n",
       "4                          Trialing 1/2 size violins  \n",
       "5              Violin out on trial: take to luthier?  \n",
       "6                                    Bridge Question  \n",
       "7                                   Donating Violin?  \n",
       "8                          How to become music tutor  \n",
       "9                                   Practice in heat  "
      ]
     },
     "execution_count": 8,
     "metadata": {},
     "output_type": "execute_result"
    }
   ],
   "source": [
    "# Turn list of dictionaries to a data frame!\n",
    "violinist_df = pd.DataFrame(violin_subreddit)\n",
    "violinist_df.head(10)"
   ]
  },
  {
   "cell_type": "code",
   "execution_count": 9,
   "id": "11184f14",
   "metadata": {},
   "outputs": [
    {
     "data": {
      "text/html": [
       "<div>\n",
       "<style scoped>\n",
       "    .dataframe tbody tr th:only-of-type {\n",
       "        vertical-align: middle;\n",
       "    }\n",
       "\n",
       "    .dataframe tbody tr th {\n",
       "        vertical-align: top;\n",
       "    }\n",
       "\n",
       "    .dataframe thead th {\n",
       "        text-align: right;\n",
       "    }\n",
       "</style>\n",
       "<table border=\"1\" class=\"dataframe\">\n",
       "  <thead>\n",
       "    <tr style=\"text-align: right;\">\n",
       "      <th></th>\n",
       "      <th>author_flair_text</th>\n",
       "      <th>created_utc</th>\n",
       "      <th>id</th>\n",
       "      <th>selftext</th>\n",
       "      <th>subreddit</th>\n",
       "      <th>title</th>\n",
       "    </tr>\n",
       "  </thead>\n",
       "  <tbody>\n",
       "    <tr>\n",
       "      <th>0</th>\n",
       "      <td>None</td>\n",
       "      <td>1623898632</td>\n",
       "      <td>o1mpqb</td>\n",
       "      <td>Long story short my beloved Cello is now Firew...</td>\n",
       "      <td>Cello</td>\n",
       "      <td>About to Purchase Hidersine Vivente, Need Pers...</td>\n",
       "    </tr>\n",
       "    <tr>\n",
       "      <th>1</th>\n",
       "      <td>None</td>\n",
       "      <td>1623829311</td>\n",
       "      <td>o0zfou</td>\n",
       "      <td>I played the cello for ~10 years, but haven’t ...</td>\n",
       "      <td>Cello</td>\n",
       "      <td>String Recommendations</td>\n",
       "    </tr>\n",
       "    <tr>\n",
       "      <th>2</th>\n",
       "      <td>None</td>\n",
       "      <td>1623812767</td>\n",
       "      <td>o0v9gr</td>\n",
       "      <td>How feasible would it be to self-teach myself ...</td>\n",
       "      <td>Cello</td>\n",
       "      <td>Self-teaching myself the cello</td>\n",
       "    </tr>\n",
       "    <tr>\n",
       "      <th>3</th>\n",
       "      <td>None</td>\n",
       "      <td>1623808690</td>\n",
       "      <td>o0u325</td>\n",
       "      <td>[deleted]</td>\n",
       "      <td>Cello</td>\n",
       "      <td>\"Blackbird\" Cello Cover by Jacob Staron</td>\n",
       "    </tr>\n",
       "    <tr>\n",
       "      <th>4</th>\n",
       "      <td>None</td>\n",
       "      <td>1623804745</td>\n",
       "      <td>o0sy1b</td>\n",
       "      <td>I'm looking to do some fun pedal stuff with my...</td>\n",
       "      <td>Cello</td>\n",
       "      <td>Best pick up for cello?</td>\n",
       "    </tr>\n",
       "    <tr>\n",
       "      <th>5</th>\n",
       "      <td>None</td>\n",
       "      <td>1623791621</td>\n",
       "      <td>o0or64</td>\n",
       "      <td>This is embarrassing to say but honestly my in...</td>\n",
       "      <td>Cello</td>\n",
       "      <td>Any tips on improving intonation?</td>\n",
       "    </tr>\n",
       "    <tr>\n",
       "      <th>6</th>\n",
       "      <td>None</td>\n",
       "      <td>1623772571</td>\n",
       "      <td>o0hn28</td>\n",
       "      <td>Hey there people from r/Cello!\\n\\nI'm looking ...</td>\n",
       "      <td>Cello</td>\n",
       "      <td>I'm looking for a cello player for a Zelda Arr...</td>\n",
       "    </tr>\n",
       "    <tr>\n",
       "      <th>7</th>\n",
       "      <td>None</td>\n",
       "      <td>1623770561</td>\n",
       "      <td>o0gvzw</td>\n",
       "      <td>[removed]</td>\n",
       "      <td>Cello</td>\n",
       "      <td>I can't relax... help</td>\n",
       "    </tr>\n",
       "    <tr>\n",
       "      <th>8</th>\n",
       "      <td>None</td>\n",
       "      <td>1623763528</td>\n",
       "      <td>o0eawx</td>\n",
       "      <td>Hi everyone,\\n\\nBeen playing cello off and on ...</td>\n",
       "      <td>Cello</td>\n",
       "      <td>How do you all practice?</td>\n",
       "    </tr>\n",
       "    <tr>\n",
       "      <th>9</th>\n",
       "      <td>None</td>\n",
       "      <td>1623681716</td>\n",
       "      <td>nzocca</td>\n",
       "      <td>I'm a good month into learning the cello and n...</td>\n",
       "      <td>Cello</td>\n",
       "      <td>Struggle with stretching my fingers</td>\n",
       "    </tr>\n",
       "  </tbody>\n",
       "</table>\n",
       "</div>"
      ],
      "text/plain": [
       "  author_flair_text  created_utc      id  \\\n",
       "0              None   1623898632  o1mpqb   \n",
       "1              None   1623829311  o0zfou   \n",
       "2              None   1623812767  o0v9gr   \n",
       "3              None   1623808690  o0u325   \n",
       "4              None   1623804745  o0sy1b   \n",
       "5              None   1623791621  o0or64   \n",
       "6              None   1623772571  o0hn28   \n",
       "7              None   1623770561  o0gvzw   \n",
       "8              None   1623763528  o0eawx   \n",
       "9              None   1623681716  nzocca   \n",
       "\n",
       "                                            selftext subreddit  \\\n",
       "0  Long story short my beloved Cello is now Firew...     Cello   \n",
       "1  I played the cello for ~10 years, but haven’t ...     Cello   \n",
       "2  How feasible would it be to self-teach myself ...     Cello   \n",
       "3                                          [deleted]     Cello   \n",
       "4  I'm looking to do some fun pedal stuff with my...     Cello   \n",
       "5  This is embarrassing to say but honestly my in...     Cello   \n",
       "6  Hey there people from r/Cello!\\n\\nI'm looking ...     Cello   \n",
       "7                                          [removed]     Cello   \n",
       "8  Hi everyone,\\n\\nBeen playing cello off and on ...     Cello   \n",
       "9  I'm a good month into learning the cello and n...     Cello   \n",
       "\n",
       "                                               title  \n",
       "0  About to Purchase Hidersine Vivente, Need Pers...  \n",
       "1                             String Recommendations  \n",
       "2                     Self-teaching myself the cello  \n",
       "3            \"Blackbird\" Cello Cover by Jacob Staron  \n",
       "4                            Best pick up for cello?  \n",
       "5                  Any tips on improving intonation?  \n",
       "6  I'm looking for a cello player for a Zelda Arr...  \n",
       "7                              I can't relax... help  \n",
       "8                           How do you all practice?  \n",
       "9                Struggle with stretching my fingers  "
      ]
     },
     "execution_count": 9,
     "metadata": {},
     "output_type": "execute_result"
    }
   ],
   "source": [
    "# Turn list of dictionaries to a data frame!\n",
    "cello_df = pd.DataFrame(cello_subreddit)\n",
    "cello_df.head(10)"
   ]
  },
  {
   "cell_type": "code",
   "execution_count": 10,
   "id": "26a5b3e3",
   "metadata": {
    "scrolled": true
   },
   "outputs": [
    {
     "data": {
      "text/plain": [
       "Student                44\n",
       "Bachelor of Music       3\n",
       "Arrangements/Comp       1\n",
       "cello prof.             1\n",
       "Name of your group      1\n",
       "High School Student     1\n",
       "Name: author_flair_text, dtype: int64"
      ]
     },
     "execution_count": 10,
     "metadata": {},
     "output_type": "execute_result"
    }
   ],
   "source": [
    "cello_df['author_flair_text'].value_counts()"
   ]
  },
  {
   "cell_type": "code",
   "execution_count": 11,
   "id": "3784060f",
   "metadata": {
    "scrolled": true
   },
   "outputs": [
    {
     "data": {
      "text/plain": [
       "Adult Beginner      64\n",
       "Student             31\n",
       "Intermediate        24\n",
       "Teacher             17\n",
       "Beginner            17\n",
       "Amateur             16\n",
       "Expert              13\n",
       "Soloist              8\n",
       "Music Major          7\n",
       "Advanced             2\n",
       "Viola                2\n",
       "Gigging Musician     1\n",
       "Name: author_flair_text, dtype: int64"
      ]
     },
     "execution_count": 11,
     "metadata": {},
     "output_type": "execute_result"
    }
   ],
   "source": [
    "violinist_df['author_flair_text'].value_counts()"
   ]
  },
  {
   "cell_type": "code",
   "execution_count": 12,
   "id": "59f56037",
   "metadata": {
    "scrolled": true
   },
   "outputs": [
    {
     "data": {
      "text/plain": [
       "Setup/Equipment               115\n",
       "Technique                      76\n",
       "Feedback                       53\n",
       "Original                       24\n",
       "Definitely Not About Cases     10\n",
       "Violin Jam                      7\n",
       "Share Your Playing              2\n",
       "Composing                       1\n",
       "Question                        1\n",
       "**IMPORTANT**                   1\n",
       "Help me Find Resources          1\n",
       "Name: link_flair_text, dtype: int64"
      ]
     },
     "execution_count": 12,
     "metadata": {},
     "output_type": "execute_result"
    }
   ],
   "source": [
    "violinist_df['link_flair_text'].value_counts()"
   ]
  },
  {
   "cell_type": "code",
   "execution_count": 13,
   "id": "1fea4955",
   "metadata": {
    "scrolled": false
   },
   "outputs": [
    {
     "data": {
      "image/png": "[encoded data removed]",
      "text/plain": [
       "<Figure size 432x288 with 1 Axes>"
      ]
     },
     "metadata": {
      "needs_background": "light"
     },
     "output_type": "display_data"
    }
   ],
   "source": [
    "violinist_df['link_flair_text'].value_counts().plot(kind='barh');"
   ]
  },
  {
   "cell_type": "code",
   "execution_count": 14,
   "id": "4e86db9d",
   "metadata": {},
   "outputs": [
    {
     "data": {
      "text/plain": [
       "<AxesSubplot:>"
      ]
     },
     "execution_count": 14,
     "metadata": {},
     "output_type": "execute_result"
    },
    {
     "data": {
      "image/png": "[encoded data removed]",
      "text/plain": [
       "<Figure size 432x288 with 1 Axes>"
      ]
     },
     "metadata": {
      "needs_background": "light"
     },
     "output_type": "display_data"
    }
   ],
   "source": [
    "violinist_df['author_flair_text'].value_counts().plot(kind='barh')"
   ]
  },
  {
   "cell_type": "code",
   "execution_count": 15,
   "id": "a6ad89a9",
   "metadata": {},
   "outputs": [
    {
     "data": {
      "text/plain": [
       "<AxesSubplot:>"
      ]
     },
     "execution_count": 15,
     "metadata": {},
     "output_type": "execute_result"
    },
    {
     "data": {
      "image/png": "[encoded data removed]",
      "text/plain": [
       "<Figure size 432x288 with 1 Axes>"
      ]
     },
     "metadata": {
      "needs_background": "light"
     },
     "output_type": "display_data"
    }
   ],
   "source": [
    "cello_df['author_flair_text'].value_counts().plot(kind='barh')"
   ]
  },
  {
   "cell_type": "code",
   "execution_count": 16,
   "id": "86795836",
   "metadata": {},
   "outputs": [],
   "source": [
    "#instantiate counter vectorizer\n",
    "cv = CountVectorizer(stop_words='english')"
   ]
  },
  {
   "cell_type": "code",
   "execution_count": 17,
   "id": "920f6e99",
   "metadata": {},
   "outputs": [
    {
     "data": {
      "text/html": [
       "<div>\n",
       "<style scoped>\n",
       "    .dataframe tbody tr th:only-of-type {\n",
       "        vertical-align: middle;\n",
       "    }\n",
       "\n",
       "    .dataframe tbody tr th {\n",
       "        vertical-align: top;\n",
       "    }\n",
       "\n",
       "    .dataframe thead th {\n",
       "        text-align: right;\n",
       "    }\n",
       "</style>\n",
       "<table border=\"1\" class=\"dataframe\">\n",
       "  <thead>\n",
       "    <tr style=\"text-align: right;\">\n",
       "      <th></th>\n",
       "      <th>02</th>\n",
       "      <th>10</th>\n",
       "      <th>100</th>\n",
       "      <th>1000</th>\n",
       "      <th>11</th>\n",
       "      <th>110</th>\n",
       "      <th>122</th>\n",
       "      <th>14</th>\n",
       "      <th>1400</th>\n",
       "      <th>170</th>\n",
       "      <th>...</th>\n",
       "      <th>zoom</th>\n",
       "      <th>аbоut</th>\n",
       "      <th>аnd</th>\n",
       "      <th>еxpеriеnсe</th>\n",
       "      <th>нis</th>\n",
       "      <th>оf</th>\n",
       "      <th>оnly</th>\n",
       "      <th>раssed</th>\n",
       "      <th>сallеd</th>\n",
       "      <th>тhеre</th>\n",
       "    </tr>\n",
       "  </thead>\n",
       "  <tbody>\n",
       "    <tr>\n",
       "      <th>0</th>\n",
       "      <td>0</td>\n",
       "      <td>0</td>\n",
       "      <td>0</td>\n",
       "      <td>0</td>\n",
       "      <td>0</td>\n",
       "      <td>0</td>\n",
       "      <td>0</td>\n",
       "      <td>0</td>\n",
       "      <td>0</td>\n",
       "      <td>0</td>\n",
       "      <td>...</td>\n",
       "      <td>0</td>\n",
       "      <td>0</td>\n",
       "      <td>0</td>\n",
       "      <td>0</td>\n",
       "      <td>0</td>\n",
       "      <td>0</td>\n",
       "      <td>0</td>\n",
       "      <td>0</td>\n",
       "      <td>0</td>\n",
       "      <td>0</td>\n",
       "    </tr>\n",
       "    <tr>\n",
       "      <th>1</th>\n",
       "      <td>0</td>\n",
       "      <td>0</td>\n",
       "      <td>0</td>\n",
       "      <td>0</td>\n",
       "      <td>0</td>\n",
       "      <td>0</td>\n",
       "      <td>0</td>\n",
       "      <td>0</td>\n",
       "      <td>0</td>\n",
       "      <td>0</td>\n",
       "      <td>...</td>\n",
       "      <td>0</td>\n",
       "      <td>0</td>\n",
       "      <td>0</td>\n",
       "      <td>0</td>\n",
       "      <td>0</td>\n",
       "      <td>0</td>\n",
       "      <td>0</td>\n",
       "      <td>0</td>\n",
       "      <td>0</td>\n",
       "      <td>0</td>\n",
       "    </tr>\n",
       "    <tr>\n",
       "      <th>2</th>\n",
       "      <td>0</td>\n",
       "      <td>0</td>\n",
       "      <td>0</td>\n",
       "      <td>0</td>\n",
       "      <td>0</td>\n",
       "      <td>0</td>\n",
       "      <td>0</td>\n",
       "      <td>0</td>\n",
       "      <td>0</td>\n",
       "      <td>0</td>\n",
       "      <td>...</td>\n",
       "      <td>0</td>\n",
       "      <td>0</td>\n",
       "      <td>0</td>\n",
       "      <td>0</td>\n",
       "      <td>0</td>\n",
       "      <td>0</td>\n",
       "      <td>0</td>\n",
       "      <td>0</td>\n",
       "      <td>0</td>\n",
       "      <td>0</td>\n",
       "    </tr>\n",
       "    <tr>\n",
       "      <th>3</th>\n",
       "      <td>0</td>\n",
       "      <td>0</td>\n",
       "      <td>0</td>\n",
       "      <td>0</td>\n",
       "      <td>0</td>\n",
       "      <td>0</td>\n",
       "      <td>0</td>\n",
       "      <td>0</td>\n",
       "      <td>0</td>\n",
       "      <td>0</td>\n",
       "      <td>...</td>\n",
       "      <td>0</td>\n",
       "      <td>0</td>\n",
       "      <td>0</td>\n",
       "      <td>0</td>\n",
       "      <td>0</td>\n",
       "      <td>0</td>\n",
       "      <td>0</td>\n",
       "      <td>0</td>\n",
       "      <td>0</td>\n",
       "      <td>0</td>\n",
       "    </tr>\n",
       "    <tr>\n",
       "      <th>4</th>\n",
       "      <td>0</td>\n",
       "      <td>0</td>\n",
       "      <td>0</td>\n",
       "      <td>0</td>\n",
       "      <td>0</td>\n",
       "      <td>0</td>\n",
       "      <td>0</td>\n",
       "      <td>0</td>\n",
       "      <td>0</td>\n",
       "      <td>0</td>\n",
       "      <td>...</td>\n",
       "      <td>0</td>\n",
       "      <td>0</td>\n",
       "      <td>0</td>\n",
       "      <td>0</td>\n",
       "      <td>0</td>\n",
       "      <td>0</td>\n",
       "      <td>0</td>\n",
       "      <td>0</td>\n",
       "      <td>0</td>\n",
       "      <td>0</td>\n",
       "    </tr>\n",
       "  </tbody>\n",
       "</table>\n",
       "<p>5 rows × 1634 columns</p>\n",
       "</div>"
      ],
      "text/plain": [
       "   02  10  100  1000  11  110  122  14  1400  170  ...  zoom  аbоut  аnd  \\\n",
       "0   0   0    0     0   0    0    0   0     0    0  ...     0      0    0   \n",
       "1   0   0    0     0   0    0    0   0     0    0  ...     0      0    0   \n",
       "2   0   0    0     0   0    0    0   0     0    0  ...     0      0    0   \n",
       "3   0   0    0     0   0    0    0   0     0    0  ...     0      0    0   \n",
       "4   0   0    0     0   0    0    0   0     0    0  ...     0      0    0   \n",
       "\n",
       "   еxpеriеnсe  нis  оf  оnly  раssed  сallеd  тhеre  \n",
       "0           0    0   0     0       0       0      0  \n",
       "1           0    0   0     0       0       0      0  \n",
       "2           0    0   0     0       0       0      0  \n",
       "3           0    0   0     0       0       0      0  \n",
       "4           0    0   0     0       0       0      0  \n",
       "\n",
       "[5 rows x 1634 columns]"
      ]
     },
     "execution_count": 17,
     "metadata": {},
     "output_type": "execute_result"
    }
   ],
   "source": [
    "cv.fit(cello_df['title'])\n",
    "cello_cv = cv.transform(cello_df['title'])\n",
    "cello_cv_df = pd.DataFrame(cello_cv.todense(),columns=cv.get_feature_names())\n",
    "cello_cv_df.head()"
   ]
  },
  {
   "cell_type": "code",
   "execution_count": 18,
   "id": "72c3bbf6",
   "metadata": {
    "scrolled": true
   },
   "outputs": [
    {
     "data": {
      "text/plain": [
       "Text(0.5, 1.0, 'key words')"
      ]
     },
     "execution_count": 18,
     "metadata": {},
     "output_type": "execute_result"
    },
    {
     "data": {
      "image/png": "[encoded data removed]",
      "text/plain": [
       "<Figure size 432x288 with 1 Axes>"
      ]
     },
     "metadata": {
      "needs_background": "light"
     },
     "output_type": "display_data"
    }
   ],
   "source": [
    "cello_cv_df.sum().sort_values(ascending=False).head(5).plot(kind='barh')\n",
    "plt.title('key words')"
   ]
  },
  {
   "cell_type": "code",
   "execution_count": 19,
   "id": "06d256bf",
   "metadata": {
    "scrolled": true
   },
   "outputs": [
    {
     "data": {
      "text/html": [
       "<div>\n",
       "<style scoped>\n",
       "    .dataframe tbody tr th:only-of-type {\n",
       "        vertical-align: middle;\n",
       "    }\n",
       "\n",
       "    .dataframe tbody tr th {\n",
       "        vertical-align: top;\n",
       "    }\n",
       "\n",
       "    .dataframe thead th {\n",
       "        text-align: right;\n",
       "    }\n",
       "</style>\n",
       "<table border=\"1\" class=\"dataframe\">\n",
       "  <thead>\n",
       "    <tr style=\"text-align: right;\">\n",
       "      <th></th>\n",
       "      <th>07</th>\n",
       "      <th>10</th>\n",
       "      <th>100</th>\n",
       "      <th>101</th>\n",
       "      <th>1099</th>\n",
       "      <th>11</th>\n",
       "      <th>13</th>\n",
       "      <th>15</th>\n",
       "      <th>1500</th>\n",
       "      <th>16ths</th>\n",
       "      <th>...</th>\n",
       "      <th>ysaye</th>\n",
       "      <th>ysaÿe</th>\n",
       "      <th>ysv104</th>\n",
       "      <th>zdzislaw</th>\n",
       "      <th>zigeunerweisen</th>\n",
       "      <th>zimmer</th>\n",
       "      <th>zoom</th>\n",
       "      <th>сriticism</th>\n",
       "      <th>バージョン</th>\n",
       "      <th>春のソナタ</th>\n",
       "    </tr>\n",
       "  </thead>\n",
       "  <tbody>\n",
       "    <tr>\n",
       "      <th>0</th>\n",
       "      <td>0</td>\n",
       "      <td>0</td>\n",
       "      <td>0</td>\n",
       "      <td>0</td>\n",
       "      <td>0</td>\n",
       "      <td>0</td>\n",
       "      <td>0</td>\n",
       "      <td>0</td>\n",
       "      <td>0</td>\n",
       "      <td>0</td>\n",
       "      <td>...</td>\n",
       "      <td>0</td>\n",
       "      <td>0</td>\n",
       "      <td>0</td>\n",
       "      <td>0</td>\n",
       "      <td>0</td>\n",
       "      <td>0</td>\n",
       "      <td>0</td>\n",
       "      <td>0</td>\n",
       "      <td>0</td>\n",
       "      <td>0</td>\n",
       "    </tr>\n",
       "    <tr>\n",
       "      <th>1</th>\n",
       "      <td>0</td>\n",
       "      <td>0</td>\n",
       "      <td>0</td>\n",
       "      <td>0</td>\n",
       "      <td>0</td>\n",
       "      <td>0</td>\n",
       "      <td>0</td>\n",
       "      <td>0</td>\n",
       "      <td>0</td>\n",
       "      <td>0</td>\n",
       "      <td>...</td>\n",
       "      <td>0</td>\n",
       "      <td>0</td>\n",
       "      <td>0</td>\n",
       "      <td>0</td>\n",
       "      <td>0</td>\n",
       "      <td>0</td>\n",
       "      <td>0</td>\n",
       "      <td>0</td>\n",
       "      <td>0</td>\n",
       "      <td>0</td>\n",
       "    </tr>\n",
       "    <tr>\n",
       "      <th>2</th>\n",
       "      <td>0</td>\n",
       "      <td>0</td>\n",
       "      <td>0</td>\n",
       "      <td>0</td>\n",
       "      <td>0</td>\n",
       "      <td>0</td>\n",
       "      <td>0</td>\n",
       "      <td>0</td>\n",
       "      <td>0</td>\n",
       "      <td>0</td>\n",
       "      <td>...</td>\n",
       "      <td>0</td>\n",
       "      <td>0</td>\n",
       "      <td>0</td>\n",
       "      <td>0</td>\n",
       "      <td>0</td>\n",
       "      <td>0</td>\n",
       "      <td>0</td>\n",
       "      <td>0</td>\n",
       "      <td>0</td>\n",
       "      <td>0</td>\n",
       "    </tr>\n",
       "    <tr>\n",
       "      <th>3</th>\n",
       "      <td>0</td>\n",
       "      <td>0</td>\n",
       "      <td>0</td>\n",
       "      <td>0</td>\n",
       "      <td>0</td>\n",
       "      <td>0</td>\n",
       "      <td>0</td>\n",
       "      <td>0</td>\n",
       "      <td>0</td>\n",
       "      <td>0</td>\n",
       "      <td>...</td>\n",
       "      <td>0</td>\n",
       "      <td>0</td>\n",
       "      <td>0</td>\n",
       "      <td>0</td>\n",
       "      <td>0</td>\n",
       "      <td>0</td>\n",
       "      <td>0</td>\n",
       "      <td>0</td>\n",
       "      <td>0</td>\n",
       "      <td>0</td>\n",
       "    </tr>\n",
       "    <tr>\n",
       "      <th>4</th>\n",
       "      <td>0</td>\n",
       "      <td>0</td>\n",
       "      <td>0</td>\n",
       "      <td>0</td>\n",
       "      <td>0</td>\n",
       "      <td>0</td>\n",
       "      <td>0</td>\n",
       "      <td>0</td>\n",
       "      <td>0</td>\n",
       "      <td>0</td>\n",
       "      <td>...</td>\n",
       "      <td>0</td>\n",
       "      <td>0</td>\n",
       "      <td>0</td>\n",
       "      <td>0</td>\n",
       "      <td>0</td>\n",
       "      <td>0</td>\n",
       "      <td>0</td>\n",
       "      <td>0</td>\n",
       "      <td>0</td>\n",
       "      <td>0</td>\n",
       "    </tr>\n",
       "  </tbody>\n",
       "</table>\n",
       "<p>5 rows × 1684 columns</p>\n",
       "</div>"
      ],
      "text/plain": [
       "   07  10  100  101  1099  11  13  15  1500  16ths  ...  ysaye  ysaÿe  ysv104  \\\n",
       "0   0   0    0    0     0   0   0   0     0      0  ...      0      0       0   \n",
       "1   0   0    0    0     0   0   0   0     0      0  ...      0      0       0   \n",
       "2   0   0    0    0     0   0   0   0     0      0  ...      0      0       0   \n",
       "3   0   0    0    0     0   0   0   0     0      0  ...      0      0       0   \n",
       "4   0   0    0    0     0   0   0   0     0      0  ...      0      0       0   \n",
       "\n",
       "   zdzislaw  zigeunerweisen  zimmer  zoom  сriticism  バージョン  春のソナタ  \n",
       "0         0               0       0     0          0      0      0  \n",
       "1         0               0       0     0          0      0      0  \n",
       "2         0               0       0     0          0      0      0  \n",
       "3         0               0       0     0          0      0      0  \n",
       "4         0               0       0     0          0      0      0  \n",
       "\n",
       "[5 rows x 1684 columns]"
      ]
     },
     "execution_count": 19,
     "metadata": {},
     "output_type": "execute_result"
    }
   ],
   "source": [
    "cv.fit(violinist_df['title'])\n",
    "violinist_cv = cv.transform(violinist_df['title'])\n",
    "violinist_cv_df = pd.DataFrame(violinist_cv.todense(),columns=cv.get_feature_names())\n",
    "violinist_cv_df.head()"
   ]
  },
  {
   "cell_type": "code",
   "execution_count": 20,
   "id": "4a91180c",
   "metadata": {
    "scrolled": true
   },
   "outputs": [
    {
     "data": {
      "text/plain": [
       "cello       362\n",
       "music        66\n",
       "string       47\n",
       "bow          43\n",
       "help         39\n",
       "question     37\n",
       "looking      35\n",
       "beginner     32\n",
       "new          32\n",
       "playing      31\n",
       "zoom         31\n",
       "play         29\n",
       "does         28\n",
       "advice       28\n",
       "need         28\n",
       "dtype: int64"
      ]
     },
     "execution_count": 20,
     "metadata": {},
     "output_type": "execute_result"
    }
   ],
   "source": [
    "cello_cv_df.sum().sort_values(ascending=False).head(15)"
   ]
  },
  {
   "cell_type": "code",
   "execution_count": 21,
   "id": "53755f26",
   "metadata": {
    "scrolled": false
   },
   "outputs": [
    {
     "data": {
      "text/plain": [
       "violin       311\n",
       "bow           64\n",
       "help          54\n",
       "question      47\n",
       "music         44\n",
       "beginner      44\n",
       "play          44\n",
       "playing       43\n",
       "string        40\n",
       "strings       37\n",
       "new           37\n",
       "violinist     36\n",
       "practice      32\n",
       "good          31\n",
       "does          29\n",
       "dtype: int64"
      ]
     },
     "execution_count": 21,
     "metadata": {},
     "output_type": "execute_result"
    }
   ],
   "source": [
    "violinist_cv_df.sum().sort_values(ascending=False).head(15)"
   ]
  },
  {
   "cell_type": "code",
   "execution_count": 22,
   "id": "5e4ade9f",
   "metadata": {
    "scrolled": true
   },
   "outputs": [
    {
     "data": {
      "text/plain": [
       "Text(0.5, 1.0, 'key words')"
      ]
     },
     "execution_count": 22,
     "metadata": {},
     "output_type": "execute_result"
    },
    {
     "data": {
      "image/png": "[encoded data removed]",
      "text/plain": [
       "<Figure size 432x288 with 1 Axes>"
      ]
     },
     "metadata": {
      "needs_background": "light"
     },
     "output_type": "display_data"
    }
   ],
   "source": [
    "violinist_cv_df.sum().sort_values(ascending=False).head(5).plot(kind='barh')\n",
    "plt.title('key words')"
   ]
  },
  {
   "cell_type": "code",
   "execution_count": 23,
   "id": "90388afd",
   "metadata": {},
   "outputs": [],
   "source": [
    "reddit_data = pd.concat([violinist_df,cello_df])"
   ]
  },
  {
   "cell_type": "code",
   "execution_count": 24,
   "id": "225cc1b1",
   "metadata": {},
   "outputs": [
    {
     "data": {
      "text/html": [
       "<div>\n",
       "<style scoped>\n",
       "    .dataframe tbody tr th:only-of-type {\n",
       "        vertical-align: middle;\n",
       "    }\n",
       "\n",
       "    .dataframe tbody tr th {\n",
       "        vertical-align: top;\n",
       "    }\n",
       "\n",
       "    .dataframe thead th {\n",
       "        text-align: right;\n",
       "    }\n",
       "</style>\n",
       "<table border=\"1\" class=\"dataframe\">\n",
       "  <thead>\n",
       "    <tr style=\"text-align: right;\">\n",
       "      <th></th>\n",
       "      <th>author_flair_text</th>\n",
       "      <th>created_utc</th>\n",
       "      <th>id</th>\n",
       "      <th>link_flair_text</th>\n",
       "      <th>selftext</th>\n",
       "      <th>subreddit</th>\n",
       "      <th>title</th>\n",
       "    </tr>\n",
       "  </thead>\n",
       "  <tbody>\n",
       "    <tr>\n",
       "      <th>0</th>\n",
       "      <td>None</td>\n",
       "      <td>1623916196</td>\n",
       "      <td>o1rmpe</td>\n",
       "      <td>Technique</td>\n",
       "      <td>When the score says Sul G, Sul D, IVeme chord,...</td>\n",
       "      <td>violinist</td>\n",
       "      <td>Question (as a beginner)</td>\n",
       "    </tr>\n",
       "    <tr>\n",
       "      <th>1</th>\n",
       "      <td>Expert</td>\n",
       "      <td>1623901354</td>\n",
       "      <td>o1nle1</td>\n",
       "      <td>NaN</td>\n",
       "      <td>I mean anything ranging from posture, books, e...</td>\n",
       "      <td>violinist</td>\n",
       "      <td>If you could change one thing about how you le...</td>\n",
       "    </tr>\n",
       "    <tr>\n",
       "      <th>2</th>\n",
       "      <td>Beginner</td>\n",
       "      <td>1623897478</td>\n",
       "      <td>o1mcaq</td>\n",
       "      <td>NaN</td>\n",
       "      <td>I got my current violin in December, and idk i...</td>\n",
       "      <td>violinist</td>\n",
       "      <td>Time for new strings?</td>\n",
       "    </tr>\n",
       "  </tbody>\n",
       "</table>\n",
       "</div>"
      ],
      "text/plain": [
       "  author_flair_text  created_utc      id link_flair_text  \\\n",
       "0              None   1623916196  o1rmpe       Technique   \n",
       "1            Expert   1623901354  o1nle1             NaN   \n",
       "2          Beginner   1623897478  o1mcaq             NaN   \n",
       "\n",
       "                                            selftext  subreddit  \\\n",
       "0  When the score says Sul G, Sul D, IVeme chord,...  violinist   \n",
       "1  I mean anything ranging from posture, books, e...  violinist   \n",
       "2  I got my current violin in December, and idk i...  violinist   \n",
       "\n",
       "                                               title  \n",
       "0                           Question (as a beginner)  \n",
       "1  If you could change one thing about how you le...  \n",
       "2                              Time for new strings?  "
      ]
     },
     "execution_count": 24,
     "metadata": {},
     "output_type": "execute_result"
    }
   ],
   "source": [
    "reddit_data.head(3)"
   ]
  },
  {
   "cell_type": "code",
   "execution_count": 25,
   "id": "ba30346b",
   "metadata": {},
   "outputs": [
    {
     "data": {
      "text/plain": [
       "Student                75\n",
       "Adult Beginner         64\n",
       "Intermediate           24\n",
       "Beginner               17\n",
       "Teacher                17\n",
       "Amateur                16\n",
       "Expert                 13\n",
       "Soloist                 8\n",
       "Music Major             7\n",
       "Bachelor of Music       3\n",
       "Viola                   2\n",
       "Advanced                2\n",
       "Arrangements/Comp       1\n",
       "Name of your group      1\n",
       "High School Student     1\n",
       "cello prof.             1\n",
       "Gigging Musician        1\n",
       "Name: author_flair_text, dtype: int64"
      ]
     },
     "execution_count": 25,
     "metadata": {},
     "output_type": "execute_result"
    }
   ],
   "source": [
    "reddit_data['author_flair_text'].value_counts()"
   ]
  },
  {
   "cell_type": "code",
   "execution_count": 26,
   "id": "2d4f6675",
   "metadata": {},
   "outputs": [
    {
     "data": {
      "text/plain": [
       "<AxesSubplot:>"
      ]
     },
     "execution_count": 26,
     "metadata": {},
     "output_type": "execute_result"
    },
    {
     "data": {
      "image/png": "[encoded data removed]",
      "text/plain": [
       "<Figure size 432x288 with 1 Axes>"
      ]
     },
     "metadata": {
      "needs_background": "light"
     },
     "output_type": "display_data"
    }
   ],
   "source": [
    "reddit_data['author_flair_text'].value_counts().plot(kind='barh')"
   ]
  },
  {
   "cell_type": "code",
   "execution_count": 27,
   "id": "2dfabc23",
   "metadata": {},
   "outputs": [
    {
     "data": {
      "text/html": [
       "<div>\n",
       "<style scoped>\n",
       "    .dataframe tbody tr th:only-of-type {\n",
       "        vertical-align: middle;\n",
       "    }\n",
       "\n",
       "    .dataframe tbody tr th {\n",
       "        vertical-align: top;\n",
       "    }\n",
       "\n",
       "    .dataframe thead th {\n",
       "        text-align: right;\n",
       "    }\n",
       "</style>\n",
       "<table border=\"1\" class=\"dataframe\">\n",
       "  <thead>\n",
       "    <tr style=\"text-align: right;\">\n",
       "      <th></th>\n",
       "      <th>02</th>\n",
       "      <th>07</th>\n",
       "      <th>10</th>\n",
       "      <th>100</th>\n",
       "      <th>1000</th>\n",
       "      <th>101</th>\n",
       "      <th>1099</th>\n",
       "      <th>11</th>\n",
       "      <th>110</th>\n",
       "      <th>122</th>\n",
       "      <th>...</th>\n",
       "      <th>еxpеriеnсe</th>\n",
       "      <th>нis</th>\n",
       "      <th>оf</th>\n",
       "      <th>оnly</th>\n",
       "      <th>раssed</th>\n",
       "      <th>сallеd</th>\n",
       "      <th>сriticism</th>\n",
       "      <th>тhеre</th>\n",
       "      <th>バージョン</th>\n",
       "      <th>春のソナタ</th>\n",
       "    </tr>\n",
       "  </thead>\n",
       "  <tbody>\n",
       "    <tr>\n",
       "      <th>0</th>\n",
       "      <td>0</td>\n",
       "      <td>0</td>\n",
       "      <td>0</td>\n",
       "      <td>0</td>\n",
       "      <td>0</td>\n",
       "      <td>0</td>\n",
       "      <td>0</td>\n",
       "      <td>0</td>\n",
       "      <td>0</td>\n",
       "      <td>0</td>\n",
       "      <td>...</td>\n",
       "      <td>0</td>\n",
       "      <td>0</td>\n",
       "      <td>0</td>\n",
       "      <td>0</td>\n",
       "      <td>0</td>\n",
       "      <td>0</td>\n",
       "      <td>0</td>\n",
       "      <td>0</td>\n",
       "      <td>0</td>\n",
       "      <td>0</td>\n",
       "    </tr>\n",
       "    <tr>\n",
       "      <th>1</th>\n",
       "      <td>0</td>\n",
       "      <td>0</td>\n",
       "      <td>0</td>\n",
       "      <td>0</td>\n",
       "      <td>0</td>\n",
       "      <td>0</td>\n",
       "      <td>0</td>\n",
       "      <td>0</td>\n",
       "      <td>0</td>\n",
       "      <td>0</td>\n",
       "      <td>...</td>\n",
       "      <td>0</td>\n",
       "      <td>0</td>\n",
       "      <td>0</td>\n",
       "      <td>0</td>\n",
       "      <td>0</td>\n",
       "      <td>0</td>\n",
       "      <td>0</td>\n",
       "      <td>0</td>\n",
       "      <td>0</td>\n",
       "      <td>0</td>\n",
       "    </tr>\n",
       "    <tr>\n",
       "      <th>2</th>\n",
       "      <td>0</td>\n",
       "      <td>0</td>\n",
       "      <td>0</td>\n",
       "      <td>0</td>\n",
       "      <td>0</td>\n",
       "      <td>0</td>\n",
       "      <td>0</td>\n",
       "      <td>0</td>\n",
       "      <td>0</td>\n",
       "      <td>0</td>\n",
       "      <td>...</td>\n",
       "      <td>0</td>\n",
       "      <td>0</td>\n",
       "      <td>0</td>\n",
       "      <td>0</td>\n",
       "      <td>0</td>\n",
       "      <td>0</td>\n",
       "      <td>0</td>\n",
       "      <td>0</td>\n",
       "      <td>0</td>\n",
       "      <td>0</td>\n",
       "    </tr>\n",
       "    <tr>\n",
       "      <th>3</th>\n",
       "      <td>0</td>\n",
       "      <td>0</td>\n",
       "      <td>0</td>\n",
       "      <td>0</td>\n",
       "      <td>0</td>\n",
       "      <td>0</td>\n",
       "      <td>0</td>\n",
       "      <td>0</td>\n",
       "      <td>0</td>\n",
       "      <td>0</td>\n",
       "      <td>...</td>\n",
       "      <td>0</td>\n",
       "      <td>0</td>\n",
       "      <td>0</td>\n",
       "      <td>0</td>\n",
       "      <td>0</td>\n",
       "      <td>0</td>\n",
       "      <td>0</td>\n",
       "      <td>0</td>\n",
       "      <td>0</td>\n",
       "      <td>0</td>\n",
       "    </tr>\n",
       "    <tr>\n",
       "      <th>4</th>\n",
       "      <td>0</td>\n",
       "      <td>0</td>\n",
       "      <td>0</td>\n",
       "      <td>0</td>\n",
       "      <td>0</td>\n",
       "      <td>0</td>\n",
       "      <td>0</td>\n",
       "      <td>0</td>\n",
       "      <td>0</td>\n",
       "      <td>0</td>\n",
       "      <td>...</td>\n",
       "      <td>0</td>\n",
       "      <td>0</td>\n",
       "      <td>0</td>\n",
       "      <td>0</td>\n",
       "      <td>0</td>\n",
       "      <td>0</td>\n",
       "      <td>0</td>\n",
       "      <td>0</td>\n",
       "      <td>0</td>\n",
       "      <td>0</td>\n",
       "    </tr>\n",
       "  </tbody>\n",
       "</table>\n",
       "<p>5 rows × 2663 columns</p>\n",
       "</div>"
      ],
      "text/plain": [
       "   02  07  10  100  1000  101  1099  11  110  122  ...  еxpеriеnсe  нis  оf  \\\n",
       "0   0   0   0    0     0    0     0   0    0    0  ...           0    0   0   \n",
       "1   0   0   0    0     0    0     0   0    0    0  ...           0    0   0   \n",
       "2   0   0   0    0     0    0     0   0    0    0  ...           0    0   0   \n",
       "3   0   0   0    0     0    0     0   0    0    0  ...           0    0   0   \n",
       "4   0   0   0    0     0    0     0   0    0    0  ...           0    0   0   \n",
       "\n",
       "   оnly  раssed  сallеd  сriticism  тhеre  バージョン  春のソナタ  \n",
       "0     0       0       0          0      0      0      0  \n",
       "1     0       0       0          0      0      0      0  \n",
       "2     0       0       0          0      0      0      0  \n",
       "3     0       0       0          0      0      0      0  \n",
       "4     0       0       0          0      0      0      0  \n",
       "\n",
       "[5 rows x 2663 columns]"
      ]
     },
     "execution_count": 27,
     "metadata": {},
     "output_type": "execute_result"
    }
   ],
   "source": [
    "cv.fit(reddit_data['title'])\n",
    "reddit_data_cv = cv.transform(reddit_data['title'])\n",
    "reddit_df = pd.DataFrame(reddit_data_cv.todense(),columns=cv.get_feature_names())\n",
    "reddit_df.head()"
   ]
  },
  {
   "cell_type": "code",
   "execution_count": 28,
   "id": "219419c7",
   "metadata": {
    "scrolled": false
   },
   "outputs": [
    {
     "data": {
      "text/plain": [
       "<AxesSubplot:>"
      ]
     },
     "execution_count": 28,
     "metadata": {},
     "output_type": "execute_result"
    },
    {
     "data": {
      "image/png": "[encoded data removed]",
      "text/plain": [
       "<Figure size 432x288 with 1 Axes>"
      ]
     },
     "metadata": {
      "needs_background": "light"
     },
     "output_type": "display_data"
    }
   ],
   "source": [
    "reddit_df.sum().sort_values(ascending=False).head(5).plot(kind='barh')"
   ]
  },
  {
   "cell_type": "code",
   "execution_count": 29,
   "id": "a4fcbece",
   "metadata": {},
   "outputs": [],
   "source": [
    "# Create Binary y column based on subreddit name\n",
    "reddit_data['y'] = reddit_data['subreddit'].map(lambda x: 1 if x == 'violinist'else 0)"
   ]
  },
  {
   "cell_type": "code",
   "execution_count": 30,
   "id": "d9b3a24a",
   "metadata": {},
   "outputs": [],
   "source": [
    "# Save data frame to csv\n",
    "reddit_data.to_csv('../data/reddit_data.csv', index=False)"
   ]
  },
  {
   "cell_type": "code",
   "execution_count": 31,
   "id": "e4ed2f6f",
   "metadata": {
    "scrolled": true
   },
   "outputs": [
    {
     "data": {
      "text/html": [
       "<div>\n",
       "<style scoped>\n",
       "    .dataframe tbody tr th:only-of-type {\n",
       "        vertical-align: middle;\n",
       "    }\n",
       "\n",
       "    .dataframe tbody tr th {\n",
       "        vertical-align: top;\n",
       "    }\n",
       "\n",
       "    .dataframe thead th {\n",
       "        text-align: right;\n",
       "    }\n",
       "</style>\n",
       "<table border=\"1\" class=\"dataframe\">\n",
       "  <thead>\n",
       "    <tr style=\"text-align: right;\">\n",
       "      <th></th>\n",
       "      <th>author_flair_text</th>\n",
       "      <th>created_utc</th>\n",
       "      <th>id</th>\n",
       "      <th>link_flair_text</th>\n",
       "      <th>selftext</th>\n",
       "      <th>subreddit</th>\n",
       "      <th>title</th>\n",
       "      <th>y</th>\n",
       "    </tr>\n",
       "  </thead>\n",
       "  <tbody>\n",
       "    <tr>\n",
       "      <th>0</th>\n",
       "      <td>NaN</td>\n",
       "      <td>1623916196</td>\n",
       "      <td>o1rmpe</td>\n",
       "      <td>Technique</td>\n",
       "      <td>When the score says Sul G, Sul D, IVeme chord,...</td>\n",
       "      <td>violinist</td>\n",
       "      <td>Question (as a beginner)</td>\n",
       "      <td>1</td>\n",
       "    </tr>\n",
       "    <tr>\n",
       "      <th>1</th>\n",
       "      <td>Expert</td>\n",
       "      <td>1623901354</td>\n",
       "      <td>o1nle1</td>\n",
       "      <td>NaN</td>\n",
       "      <td>I mean anything ranging from posture, books, e...</td>\n",
       "      <td>violinist</td>\n",
       "      <td>If you could change one thing about how you le...</td>\n",
       "      <td>1</td>\n",
       "    </tr>\n",
       "    <tr>\n",
       "      <th>2</th>\n",
       "      <td>Beginner</td>\n",
       "      <td>1623897478</td>\n",
       "      <td>o1mcaq</td>\n",
       "      <td>NaN</td>\n",
       "      <td>I got my current violin in December, and idk i...</td>\n",
       "      <td>violinist</td>\n",
       "      <td>Time for new strings?</td>\n",
       "      <td>1</td>\n",
       "    </tr>\n",
       "  </tbody>\n",
       "</table>\n",
       "</div>"
      ],
      "text/plain": [
       "  author_flair_text  created_utc      id link_flair_text  \\\n",
       "0               NaN   1623916196  o1rmpe       Technique   \n",
       "1            Expert   1623901354  o1nle1             NaN   \n",
       "2          Beginner   1623897478  o1mcaq             NaN   \n",
       "\n",
       "                                            selftext  subreddit  \\\n",
       "0  When the score says Sul G, Sul D, IVeme chord,...  violinist   \n",
       "1  I mean anything ranging from posture, books, e...  violinist   \n",
       "2  I got my current violin in December, and idk i...  violinist   \n",
       "\n",
       "                                               title  y  \n",
       "0                           Question (as a beginner)  1  \n",
       "1  If you could change one thing about how you le...  1  \n",
       "2                              Time for new strings?  1  "
      ]
     },
     "execution_count": 31,
     "metadata": {},
     "output_type": "execute_result"
    }
   ],
   "source": [
    "# read in collected subreddits\n",
    "reddit_data = pd.read_csv('../data/reddit_data.csv')\n",
    "reddit_data.head(3)"
   ]
  },
  {
   "cell_type": "code",
   "execution_count": 32,
   "id": "758a9742",
   "metadata": {},
   "outputs": [
    {
     "data": {
      "text/plain": [
       "'Trialing 1/2 size violins'"
      ]
     },
     "execution_count": 32,
     "metadata": {},
     "output_type": "execute_result"
    }
   ],
   "source": [
    "# check random row 'title'\n",
    "reddit_data['title'][4]"
   ]
  },
  {
   "cell_type": "code",
   "execution_count": 33,
   "id": "8b864077",
   "metadata": {},
   "outputs": [
    {
     "data": {
      "text/plain": [
       "(2090, 8)"
      ]
     },
     "execution_count": 33,
     "metadata": {},
     "output_type": "execute_result"
    }
   ],
   "source": [
    "#check shape of the data\n",
    "reddit_data.shape"
   ]
  },
  {
   "cell_type": "code",
   "execution_count": 34,
   "id": "380714d7",
   "metadata": {},
   "outputs": [
    {
     "data": {
      "text/plain": [
       "author_flair_text    1837\n",
       "created_utc             0\n",
       "id                      0\n",
       "link_flair_text      1799\n",
       "selftext                0\n",
       "subreddit               0\n",
       "title                   0\n",
       "y                       0\n",
       "dtype: int64"
      ]
     },
     "execution_count": 34,
     "metadata": {},
     "output_type": "execute_result"
    }
   ],
   "source": [
    "#check for missing values\n",
    "reddit_data.isnull().sum()"
   ]
  },
  {
   "cell_type": "code",
   "execution_count": 35,
   "id": "8239f2a5",
   "metadata": {},
   "outputs": [
    {
     "data": {
      "text/plain": [
       "1    0.508612\n",
       "0    0.491388\n",
       "Name: y, dtype: float64"
      ]
     },
     "execution_count": 35,
     "metadata": {},
     "output_type": "execute_result"
    }
   ],
   "source": [
    "reddit_data['y'].value_counts(normalize=True)"
   ]
  },
  {
   "cell_type": "code",
   "execution_count": 36,
   "id": "2354c4c4",
   "metadata": {},
   "outputs": [],
   "source": [
    "features='title'\n",
    "X = reddit_data[features]\n",
    "y = reddit_data['y']"
   ]
  },
  {
   "cell_type": "code",
   "execution_count": 37,
   "id": "95a2e54b",
   "metadata": {},
   "outputs": [],
   "source": [
    "X_train,X_test,y_train,y_test = train_test_split(X,y,\n",
    "                                                 random_state=42,\n",
    "                                                 stratify=y) "
   ]
  },
  {
   "cell_type": "code",
   "execution_count": 105,
   "id": "7271e704",
   "metadata": {},
   "outputs": [
    {
     "name": "stdout",
     "output_type": "stream",
     "text": [
      "(1567,)\n",
      "(523,)\n"
     ]
    }
   ],
   "source": [
    "print(X_train.shape)\n",
    "print(X_test.shape)"
   ]
  },
  {
   "cell_type": "code",
   "execution_count": 106,
   "id": "be376fcf",
   "metadata": {
    "scrolled": false
   },
   "outputs": [
    {
     "data": {
      "text/plain": [
       "(0.9987236758136566, 0.7361376673040153)"
      ]
     },
     "execution_count": 106,
     "metadata": {},
     "output_type": "execute_result"
    }
   ],
   "source": [
    "#cv,rf\n",
    "pipe = Pipeline([\n",
    "    ('cv', CountVectorizer()),\n",
    "    ('rfc', RandomForestClassifier())\n",
    "])\n",
    "\n",
    "pipe.fit(X_train, y_train)\n",
    "pipe.score(X_train, y_train), pipe.score(X_test, y_test)"
   ]
  },
  {
   "cell_type": "code",
   "execution_count": 107,
   "id": "843154f3",
   "metadata": {},
   "outputs": [
    {
     "data": {
      "text/plain": [
       "(0.9157626037013401, 0.7151051625239006)"
      ]
     },
     "execution_count": 107,
     "metadata": {},
     "output_type": "execute_result"
    }
   ],
   "source": [
    "#cv,lg\n",
    "pipe = Pipeline([\n",
    "    ('cv', CountVectorizer()),\n",
    "    ('lg', LogisticRegressionCV(solver='liblinear'))\n",
    "])\n",
    "\n",
    "pipe.fit(X_train, y_train)\n",
    "pipe.score(X_train, y_train), pipe.score(X_test, y_test)"
   ]
  },
  {
   "cell_type": "code",
   "execution_count": 69,
   "id": "39e58306",
   "metadata": {},
   "outputs": [
    {
     "data": {
      "text/plain": [
       "(0.9987236758136566, 0.7093690248565966)"
      ]
     },
     "execution_count": 69,
     "metadata": {},
     "output_type": "execute_result"
    }
   ],
   "source": [
    "#cv,dt\n",
    "pipe = Pipeline([\n",
    "    ('cv', CountVectorizer()),\n",
    "    ('dt', DecisionTreeClassifier())\n",
    "])\n",
    "\n",
    "pipe.fit(X_train, y_train)\n",
    "pipe.score(X_train, y_train), pipe.score(X_test, y_test)"
   ]
  },
  {
   "cell_type": "code",
   "execution_count": 70,
   "id": "597efa23",
   "metadata": {},
   "outputs": [
    {
     "data": {
      "text/plain": [
       "(0.9151244416081685, 0.7495219885277247)"
      ]
     },
     "execution_count": 70,
     "metadata": {},
     "output_type": "execute_result"
    }
   ],
   "source": [
    "#cv,mnb\n",
    "pipe = Pipeline([\n",
    "    ('cv', CountVectorizer()),\n",
    "    ('mnb', MultinomialNB())\n",
    "])\n",
    "\n",
    "pipe.fit(X_train, y_train)\n",
    "pipe.score(X_train, y_train), pipe.score(X_test, y_test)"
   ]
  },
  {
   "cell_type": "code",
   "execution_count": 71,
   "id": "f49e29c0",
   "metadata": {},
   "outputs": [
    {
     "data": {
      "text/plain": [
       "(0.8781110402042118, 0.7208413001912046)"
      ]
     },
     "execution_count": 71,
     "metadata": {},
     "output_type": "execute_result"
    }
   ],
   "source": [
    "#tfidf,logreg\n",
    "pipe = Pipeline([\n",
    "    ('tfidf', TfidfVectorizer()),\n",
    "    ('lr', LogisticRegressionCV(solver='liblinear'))\n",
    "])\n",
    "\n",
    "pipe.fit(X_train, y_train)\n",
    "pipe.score(X_train, y_train), pipe.score(X_test, y_test)"
   ]
  },
  {
   "cell_type": "code",
   "execution_count": 72,
   "id": "f8e61588",
   "metadata": {},
   "outputs": [
    {
     "data": {
      "text/plain": [
       "(0.9215060625398851, 0.7284894837476099)"
      ]
     },
     "execution_count": 72,
     "metadata": {},
     "output_type": "execute_result"
    }
   ],
   "source": [
    "#tfidf,mnb\n",
    "pipe = Pipeline([\n",
    "    ('tfidf', TfidfVectorizer()),\n",
    "    ('mnb', MultinomialNB())\n",
    "])\n",
    "\n",
    "pipe.fit(X_train, y_train)\n",
    "pipe.score(X_train, y_train), pipe.score(X_test, y_test)"
   ]
  },
  {
   "cell_type": "code",
   "execution_count": 108,
   "id": "569669d7",
   "metadata": {},
   "outputs": [],
   "source": [
    "best_pipe = Pipeline([\n",
    "    ('cv',CountVectorizer()),\n",
    "    ('rfc',RandomForestClassifier())])"
   ]
  },
  {
   "cell_type": "code",
   "execution_count": 109,
   "id": "99448dfa",
   "metadata": {},
   "outputs": [],
   "source": [
    "params_grid = {\n",
    "    'rfc__n_estimators': [50, 100, 150, 200],\n",
    "    'rfc__max_depth': [ 1, 2, 3, 4, 5]\n",
    "}"
   ]
  },
  {
   "cell_type": "code",
   "execution_count": 113,
   "id": "1f541c6d",
   "metadata": {
    "scrolled": false
   },
   "outputs": [],
   "source": [
    "gs = GridSearchCV(estimator = best_pipe, param_grid = params_grid, cv = 5)"
   ]
  },
  {
   "cell_type": "code",
   "execution_count": 114,
   "id": "3c013a5d",
   "metadata": {
    "scrolled": true
   },
   "outputs": [
    {
     "data": {
      "text/plain": [
       "dict_keys(['memory', 'steps', 'verbose', 'cv', 'rfc', 'cv__analyzer', 'cv__binary', 'cv__decode_error', 'cv__dtype', 'cv__encoding', 'cv__input', 'cv__lowercase', 'cv__max_df', 'cv__max_features', 'cv__min_df', 'cv__ngram_range', 'cv__preprocessor', 'cv__stop_words', 'cv__strip_accents', 'cv__token_pattern', 'cv__tokenizer', 'cv__vocabulary', 'rfc__bootstrap', 'rfc__ccp_alpha', 'rfc__class_weight', 'rfc__criterion', 'rfc__max_depth', 'rfc__max_features', 'rfc__max_leaf_nodes', 'rfc__max_samples', 'rfc__min_impurity_decrease', 'rfc__min_impurity_split', 'rfc__min_samples_leaf', 'rfc__min_samples_split', 'rfc__min_weight_fraction_leaf', 'rfc__n_estimators', 'rfc__n_jobs', 'rfc__oob_score', 'rfc__random_state', 'rfc__verbose', 'rfc__warm_start'])"
      ]
     },
     "execution_count": 114,
     "metadata": {},
     "output_type": "execute_result"
    }
   ],
   "source": [
    "gs.estimator.get_params().keys()"
   ]
  },
  {
   "cell_type": "code",
   "execution_count": 115,
   "id": "c6d487a2",
   "metadata": {
    "scrolled": true
   },
   "outputs": [
    {
     "data": {
      "text/plain": [
       "GridSearchCV(cv=5,\n",
       "             estimator=Pipeline(steps=[('cv', CountVectorizer()),\n",
       "                                       ('rfc', RandomForestClassifier())]),\n",
       "             param_grid={'rfc__max_depth': [1, 2, 3, 4, 5],\n",
       "                         'rfc__n_estimators': [50, 100, 150, 200]})"
      ]
     },
     "execution_count": 115,
     "metadata": {},
     "output_type": "execute_result"
    }
   ],
   "source": [
    "gs.fit(X_train, y_train)"
   ]
  },
  {
   "cell_type": "code",
   "execution_count": 116,
   "id": "4d219709",
   "metadata": {},
   "outputs": [
    {
     "data": {
      "text/plain": [
       "0.7274943529842697"
      ]
     },
     "execution_count": 116,
     "metadata": {},
     "output_type": "execute_result"
    }
   ],
   "source": [
    "gs.best_score_"
   ]
  },
  {
   "cell_type": "code",
   "execution_count": 117,
   "id": "3cb78f75",
   "metadata": {},
   "outputs": [
    {
     "name": "stdout",
     "output_type": "stream",
     "text": [
      "Score on training set: 0.7638800255264837\n",
      "Score on testing set: 0.7323135755258127\n"
     ]
    }
   ],
   "source": [
    "# Evaluate model.\n",
    "print(f'Score on training set: {gs.score(X_train, y_train)}')\n",
    "print(f'Score on testing set: {gs.score(X_test, y_test)}')"
   ]
  },
  {
   "cell_type": "code",
   "execution_count": 118,
   "id": "146ad875",
   "metadata": {},
   "outputs": [
    {
     "data": {
      "text/plain": [
       "240                                              Bow hold\n",
       "703                                  songs to collab with\n",
       "945                                       Buying a violin\n",
       "207                                 FIRST NOTE OF A PIECE\n",
       "151     Online Middle School String Camps? (Perhaps in...\n",
       "                              ...                        \n",
       "485             Improving articulation with broken pinky?\n",
       "751            Hi! Do you have some advice for busking? 👇\n",
       "583     Can I make a right handed \"electric\" violin le...\n",
       "1729    Do any of you here know where I can buy a bow ...\n",
       "912     A list of concertos for anybody that doesn’t k...\n",
       "Name: title, Length: 1567, dtype: object"
      ]
     },
     "execution_count": 118,
     "metadata": {},
     "output_type": "execute_result"
    }
   ],
   "source": [
    "X_train"
   ]
  },
  {
   "cell_type": "code",
   "execution_count": 93,
   "id": "c1c3b843",
   "metadata": {},
   "outputs": [
    {
     "ename": "NotFittedError",
     "evalue": "This RandomForestClassifier instance is not fitted yet. Call 'fit' with appropriate arguments before using this estimator.",
     "output_type": "error",
     "traceback": [
      "\u001b[0;31m---------------------------------------------------------------------------\u001b[0m",
      "\u001b[0;31mNotFittedError\u001b[0m                            Traceback (most recent call last)",
      "\u001b[0;32m<ipython-input-93-95a4456b477c>\u001b[0m in \u001b[0;36m<module>\u001b[0;34m\u001b[0m\n\u001b[1;32m      1\u001b[0m pd.DataFrame({\n\u001b[1;32m      2\u001b[0m     \u001b[0;34m'features'\u001b[0m\u001b[0;34m:\u001b[0m \u001b[0mX_train\u001b[0m\u001b[0;34m.\u001b[0m\u001b[0mtolist\u001b[0m\u001b[0;34m(\u001b[0m\u001b[0;34m)\u001b[0m\u001b[0;34m,\u001b[0m\u001b[0;34m\u001b[0m\u001b[0;34m\u001b[0m\u001b[0m\n\u001b[0;32m----> 3\u001b[0;31m     \u001b[0;34m'feature importance'\u001b[0m\u001b[0;34m:\u001b[0m \u001b[0mgs\u001b[0m\u001b[0;34m.\u001b[0m\u001b[0mbest_estimator_\u001b[0m\u001b[0;34m.\u001b[0m\u001b[0mfeature_importances_\u001b[0m\u001b[0;34m\u001b[0m\u001b[0;34m\u001b[0m\u001b[0m\n\u001b[0m\u001b[1;32m      4\u001b[0m }).sort_values(by='feature importance', ascending=False)\n",
      "\u001b[0;32m~/opt/anaconda3/lib/python3.8/site-packages/sklearn/ensemble/_forest.py\u001b[0m in \u001b[0;36mfeature_importances_\u001b[0;34m(self)\u001b[0m\n\u001b[1;32m    443\u001b[0m             \u001b[0marray\u001b[0m \u001b[0mof\u001b[0m \u001b[0mzeros\u001b[0m\u001b[0;34m.\u001b[0m\u001b[0;34m\u001b[0m\u001b[0;34m\u001b[0m\u001b[0m\n\u001b[1;32m    444\u001b[0m         \"\"\"\n\u001b[0;32m--> 445\u001b[0;31m         \u001b[0mcheck_is_fitted\u001b[0m\u001b[0;34m(\u001b[0m\u001b[0mself\u001b[0m\u001b[0;34m)\u001b[0m\u001b[0;34m\u001b[0m\u001b[0;34m\u001b[0m\u001b[0m\n\u001b[0m\u001b[1;32m    446\u001b[0m \u001b[0;34m\u001b[0m\u001b[0m\n\u001b[1;32m    447\u001b[0m         all_importances = Parallel(n_jobs=self.n_jobs,\n",
      "\u001b[0;32m~/opt/anaconda3/lib/python3.8/site-packages/sklearn/utils/validation.py\u001b[0m in \u001b[0;36minner_f\u001b[0;34m(*args, **kwargs)\u001b[0m\n\u001b[1;32m     61\u001b[0m             \u001b[0mextra_args\u001b[0m \u001b[0;34m=\u001b[0m \u001b[0mlen\u001b[0m\u001b[0;34m(\u001b[0m\u001b[0margs\u001b[0m\u001b[0;34m)\u001b[0m \u001b[0;34m-\u001b[0m \u001b[0mlen\u001b[0m\u001b[0;34m(\u001b[0m\u001b[0mall_args\u001b[0m\u001b[0;34m)\u001b[0m\u001b[0;34m\u001b[0m\u001b[0;34m\u001b[0m\u001b[0m\n\u001b[1;32m     62\u001b[0m             \u001b[0;32mif\u001b[0m \u001b[0mextra_args\u001b[0m \u001b[0;34m<=\u001b[0m \u001b[0;36m0\u001b[0m\u001b[0;34m:\u001b[0m\u001b[0;34m\u001b[0m\u001b[0;34m\u001b[0m\u001b[0m\n\u001b[0;32m---> 63\u001b[0;31m                 \u001b[0;32mreturn\u001b[0m \u001b[0mf\u001b[0m\u001b[0;34m(\u001b[0m\u001b[0;34m*\u001b[0m\u001b[0margs\u001b[0m\u001b[0;34m,\u001b[0m \u001b[0;34m**\u001b[0m\u001b[0mkwargs\u001b[0m\u001b[0;34m)\u001b[0m\u001b[0;34m\u001b[0m\u001b[0;34m\u001b[0m\u001b[0m\n\u001b[0m\u001b[1;32m     64\u001b[0m \u001b[0;34m\u001b[0m\u001b[0m\n\u001b[1;32m     65\u001b[0m             \u001b[0;31m# extra_args > 0\u001b[0m\u001b[0;34m\u001b[0m\u001b[0;34m\u001b[0m\u001b[0;34m\u001b[0m\u001b[0m\n",
      "\u001b[0;32m~/opt/anaconda3/lib/python3.8/site-packages/sklearn/utils/validation.py\u001b[0m in \u001b[0;36mcheck_is_fitted\u001b[0;34m(estimator, attributes, msg, all_or_any)\u001b[0m\n\u001b[1;32m   1039\u001b[0m \u001b[0;34m\u001b[0m\u001b[0m\n\u001b[1;32m   1040\u001b[0m     \u001b[0;32mif\u001b[0m \u001b[0;32mnot\u001b[0m \u001b[0mattrs\u001b[0m\u001b[0;34m:\u001b[0m\u001b[0;34m\u001b[0m\u001b[0;34m\u001b[0m\u001b[0m\n\u001b[0;32m-> 1041\u001b[0;31m         \u001b[0;32mraise\u001b[0m \u001b[0mNotFittedError\u001b[0m\u001b[0;34m(\u001b[0m\u001b[0mmsg\u001b[0m \u001b[0;34m%\u001b[0m \u001b[0;34m{\u001b[0m\u001b[0;34m'name'\u001b[0m\u001b[0;34m:\u001b[0m \u001b[0mtype\u001b[0m\u001b[0;34m(\u001b[0m\u001b[0mestimator\u001b[0m\u001b[0;34m)\u001b[0m\u001b[0;34m.\u001b[0m\u001b[0m__name__\u001b[0m\u001b[0;34m}\u001b[0m\u001b[0;34m)\u001b[0m\u001b[0;34m\u001b[0m\u001b[0;34m\u001b[0m\u001b[0m\n\u001b[0m\u001b[1;32m   1042\u001b[0m \u001b[0;34m\u001b[0m\u001b[0m\n\u001b[1;32m   1043\u001b[0m \u001b[0;34m\u001b[0m\u001b[0m\n",
      "\u001b[0;31mNotFittedError\u001b[0m: This RandomForestClassifier instance is not fitted yet. Call 'fit' with appropriate arguments before using this estimator."
     ]
    }
   ],
   "source": [
    "pd.DataFrame({\n",
    "    'features': X_train.tolist(),\n",
    "    'feature importance': gs.best_estimator_.feature_importances_\n",
    "}).sort_values(by='feature importance', ascending=False)"
   ]
  },
  {
   "cell_type": "code",
   "execution_count": 119,
   "id": "18987ce1",
   "metadata": {},
   "outputs": [],
   "source": [
    "# Use best scoring model to evaluate\n",
    "predictions = gs.predict(X_test)\n",
    "cm = confusion_matrix(y_test, predictions)"
   ]
  },
  {
   "cell_type": "code",
   "execution_count": 120,
   "id": "1dd2495e",
   "metadata": {},
   "outputs": [
    {
     "data": {
      "text/html": [
       "<div>\n",
       "<style scoped>\n",
       "    .dataframe tbody tr th:only-of-type {\n",
       "        vertical-align: middle;\n",
       "    }\n",
       "\n",
       "    .dataframe tbody tr th {\n",
       "        vertical-align: top;\n",
       "    }\n",
       "\n",
       "    .dataframe thead th {\n",
       "        text-align: right;\n",
       "    }\n",
       "</style>\n",
       "<table border=\"1\" class=\"dataframe\">\n",
       "  <thead>\n",
       "    <tr style=\"text-align: right;\">\n",
       "      <th></th>\n",
       "      <th>predicted negative</th>\n",
       "      <th>predicted positive</th>\n",
       "    </tr>\n",
       "  </thead>\n",
       "  <tbody>\n",
       "    <tr>\n",
       "      <th>actual negative</th>\n",
       "      <td>125</td>\n",
       "      <td>132</td>\n",
       "    </tr>\n",
       "    <tr>\n",
       "      <th>actual positive</th>\n",
       "      <td>8</td>\n",
       "      <td>258</td>\n",
       "    </tr>\n",
       "  </tbody>\n",
       "</table>\n",
       "</div>"
      ],
      "text/plain": [
       "                 predicted negative  predicted positive\n",
       "actual negative                 125                 132\n",
       "actual positive                   8                 258"
      ]
     },
     "execution_count": 120,
     "metadata": {},
     "output_type": "execute_result"
    }
   ],
   "source": [
    "# Convert confusion matrix to dataframe\n",
    "cm_df = pd.DataFrame(cm,\n",
    "                    columns = ['predicted negative', 'predicted positive'],\n",
    "                    index = ['actual negative', 'actual positive'])\n",
    "cm_df"
   ]
  },
  {
   "cell_type": "code",
   "execution_count": 125,
   "id": "6f906bbf",
   "metadata": {},
   "outputs": [
    {
     "data": {
      "text/plain": [
       "73.23135755258127"
      ]
     },
     "execution_count": 125,
     "metadata": {},
     "output_type": "execute_result"
    }
   ],
   "source": [
    "# Calculate model accuracy\n",
    "accuracy =(125+258)/(125+258+132+8)\n",
    "accuracy*100"
   ]
  },
  {
   "cell_type": "code",
   "execution_count": 122,
   "id": "e5419382",
   "metadata": {},
   "outputs": [
    {
     "data": {
      "text/plain": [
       "<sklearn.metrics._plot.confusion_matrix.ConfusionMatrixDisplay at 0x7faa13ce8bb0>"
      ]
     },
     "execution_count": 122,
     "metadata": {},
     "output_type": "execute_result"
    },
    {
     "data": {
      "image/png": "[encoded data removed]",
      "text/plain": [
       "<Figure size 432x288 with 2 Axes>"
      ]
     },
     "metadata": {
      "needs_background": "light"
     },
     "output_type": "display_data"
    }
   ],
   "source": [
    "plot_confusion_matrix(gs, X_test, y_test)"
   ]
  },
  {
   "cell_type": "code",
   "execution_count": 123,
   "id": "dcf95f2c",
   "metadata": {},
   "outputs": [],
   "source": [
    "# mash up X and y test vals into one df\n",
    "test_df = pd.concat([X_test, y_test], axis=1)\n",
    "\n",
    "# add preds to df\n",
    "test_df['predictions'] = predictions"
   ]
  },
  {
   "cell_type": "code",
   "execution_count": 124,
   "id": "ce80c043",
   "metadata": {
    "scrolled": false
   },
   "outputs": [
    {
     "data": {
      "text/html": [
       "<div>\n",
       "<style scoped>\n",
       "    .dataframe tbody tr th:only-of-type {\n",
       "        vertical-align: middle;\n",
       "    }\n",
       "\n",
       "    .dataframe tbody tr th {\n",
       "        vertical-align: top;\n",
       "    }\n",
       "\n",
       "    .dataframe thead th {\n",
       "        text-align: right;\n",
       "    }\n",
       "</style>\n",
       "<table border=\"1\" class=\"dataframe\">\n",
       "  <thead>\n",
       "    <tr style=\"text-align: right;\">\n",
       "      <th></th>\n",
       "      <th>title</th>\n",
       "      <th>y</th>\n",
       "      <th>predictions</th>\n",
       "    </tr>\n",
       "  </thead>\n",
       "  <tbody>\n",
       "    <tr>\n",
       "      <th>1982</th>\n",
       "      <td>Dance of the Green Devil Story?</td>\n",
       "      <td>0</td>\n",
       "      <td>1</td>\n",
       "    </tr>\n",
       "    <tr>\n",
       "      <th>1148</th>\n",
       "      <td>Тhеre is а Yоutuber сallеd \"Lеоn Fаrаdаy\" thаt...</td>\n",
       "      <td>0</td>\n",
       "      <td>1</td>\n",
       "    </tr>\n",
       "    <tr>\n",
       "      <th>1796</th>\n",
       "      <td>Is Vibrato Even Real?</td>\n",
       "      <td>0</td>\n",
       "      <td>1</td>\n",
       "    </tr>\n",
       "    <tr>\n",
       "      <th>1923</th>\n",
       "      <td>A dream I had last night</td>\n",
       "      <td>0</td>\n",
       "      <td>1</td>\n",
       "    </tr>\n",
       "    <tr>\n",
       "      <th>1572</th>\n",
       "      <td>Exercises to loosen the bow hand?</td>\n",
       "      <td>0</td>\n",
       "      <td>1</td>\n",
       "    </tr>\n",
       "    <tr>\n",
       "      <th>...</th>\n",
       "      <td>...</td>\n",
       "      <td>...</td>\n",
       "      <td>...</td>\n",
       "    </tr>\n",
       "    <tr>\n",
       "      <th>1296</th>\n",
       "      <td>The Legend of Afro Geisha</td>\n",
       "      <td>0</td>\n",
       "      <td>1</td>\n",
       "    </tr>\n",
       "    <tr>\n",
       "      <th>1788</th>\n",
       "      <td>Any tips for getting good time on sustained qu...</td>\n",
       "      <td>0</td>\n",
       "      <td>1</td>\n",
       "    </tr>\n",
       "    <tr>\n",
       "      <th>1339</th>\n",
       "      <td>Hi, I'm a beginner and would love advice on so...</td>\n",
       "      <td>0</td>\n",
       "      <td>1</td>\n",
       "    </tr>\n",
       "    <tr>\n",
       "      <th>1670</th>\n",
       "      <td>Does anyone want to go on a journey creating t...</td>\n",
       "      <td>0</td>\n",
       "      <td>1</td>\n",
       "    </tr>\n",
       "    <tr>\n",
       "      <th>1064</th>\n",
       "      <td>String Recommendations</td>\n",
       "      <td>0</td>\n",
       "      <td>1</td>\n",
       "    </tr>\n",
       "  </tbody>\n",
       "</table>\n",
       "<p>140 rows × 3 columns</p>\n",
       "</div>"
      ],
      "text/plain": [
       "                                                  title  y  predictions\n",
       "1982                    Dance of the Green Devil Story?  0            1\n",
       "1148  Тhеre is а Yоutuber сallеd \"Lеоn Fаrаdаy\" thаt...  0            1\n",
       "1796                              Is Vibrato Even Real?  0            1\n",
       "1923                           A dream I had last night  0            1\n",
       "1572                  Exercises to loosen the bow hand?  0            1\n",
       "...                                                 ... ..          ...\n",
       "1296                          The Legend of Afro Geisha  0            1\n",
       "1788  Any tips for getting good time on sustained qu...  0            1\n",
       "1339  Hi, I'm a beginner and would love advice on so...  0            1\n",
       "1670  Does anyone want to go on a journey creating t...  0            1\n",
       "1064                             String Recommendations  0            1\n",
       "\n",
       "[140 rows x 3 columns]"
      ]
     },
     "execution_count": 124,
     "metadata": {},
     "output_type": "execute_result"
    }
   ],
   "source": [
    "test_df[test_df['y'] != test_df['predictions']]"
   ]
  },
  {
   "cell_type": "code",
   "execution_count": null,
   "id": "bfb22a14",
   "metadata": {},
   "outputs": [],
   "source": []
  }
 ],
 "metadata": {
  "kernelspec": {
   "display_name": "Python 3",
   "language": "python",
   "name": "python3"
  },
  "language_info": {
   "codemirror_mode": {
    "name": "ipython",
    "version": 3
   },
   "file_extension": ".py",
   "mimetype": "text/x-python",
   "name": "python",
   "nbconvert_exporter": "python",
   "pygments_lexer": "ipython3",
   "version": "3.8.8"
  }
 },
 "nbformat": 4,
 "nbformat_minor": 5
}
