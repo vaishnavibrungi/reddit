{
 "cells": [
  {
   "cell_type": "markdown",
   "id": "141bf6d7",
   "metadata": {},
   "source": [
    "# Project 3: Reddit"
   ]
  },
  {
   "cell_type": "markdown",
   "id": "c0674f26",
   "metadata": {},
   "source": [
    "### Data Cleaning and EDA"
   ]
  },
  {
   "cell_type": "code",
   "execution_count": 287,
   "id": "ca89fbbb",
   "metadata": {},
   "outputs": [],
   "source": [
    "import pandas as pd \n",
    "import matplotlib.pyplot as plt\n",
    "import requests\n",
    "import time\n",
    "import re"
   ]
  },
  {
   "cell_type": "markdown",
   "id": "8ba2b95e",
   "metadata": {},
   "source": [
    "**Read in both Violinist and Cello**"
   ]
  },
  {
   "cell_type": "code",
   "execution_count": 288,
   "id": "05dbeb9d",
   "metadata": {},
   "outputs": [],
   "source": [
    "violinist_df = pd.read_csv('../data/Violinist.csv')\n",
    "cello_df = pd.read_csv('../data/Cello.csv')"
   ]
  },
  {
   "cell_type": "markdown",
   "id": "2f2cfb84",
   "metadata": {},
   "source": [
    "**Violinist dataframe cleaning and EDA**"
   ]
  },
  {
   "cell_type": "code",
   "execution_count": 289,
   "id": "abea74a2",
   "metadata": {},
   "outputs": [
    {
     "data": {
      "text/html": [
       "<div>\n",
       "<style scoped>\n",
       "    .dataframe tbody tr th:only-of-type {\n",
       "        vertical-align: middle;\n",
       "    }\n",
       "\n",
       "    .dataframe tbody tr th {\n",
       "        vertical-align: top;\n",
       "    }\n",
       "\n",
       "    .dataframe thead th {\n",
       "        text-align: right;\n",
       "    }\n",
       "</style>\n",
       "<table border=\"1\" class=\"dataframe\">\n",
       "  <thead>\n",
       "    <tr style=\"text-align: right;\">\n",
       "      <th></th>\n",
       "      <th>Unnamed: 0</th>\n",
       "      <th>author_flair_text</th>\n",
       "      <th>created_utc</th>\n",
       "      <th>id</th>\n",
       "      <th>selftext</th>\n",
       "      <th>subreddit</th>\n",
       "      <th>title</th>\n",
       "    </tr>\n",
       "  </thead>\n",
       "  <tbody>\n",
       "    <tr>\n",
       "      <th>0</th>\n",
       "      <td>0</td>\n",
       "      <td>Advanced</td>\n",
       "      <td>1623955275</td>\n",
       "      <td>o24eoj</td>\n",
       "      <td>[https://www.youtube.com/watch?v=PONbtxcPcKQ](...</td>\n",
       "      <td>violinist</td>\n",
       "      <td>Ysaÿe violin concerto in E minor, the first mo...</td>\n",
       "    </tr>\n",
       "    <tr>\n",
       "      <th>1</th>\n",
       "      <td>1</td>\n",
       "      <td>NaN</td>\n",
       "      <td>1623954118</td>\n",
       "      <td>o23xyv</td>\n",
       "      <td>I've been struggling with my vibrato and am lo...</td>\n",
       "      <td>violinist</td>\n",
       "      <td>Video performance examples with great vibrato</td>\n",
       "    </tr>\n",
       "    <tr>\n",
       "      <th>2</th>\n",
       "      <td>2</td>\n",
       "      <td>Adult Beginner</td>\n",
       "      <td>1623944890</td>\n",
       "      <td>o20e4w</td>\n",
       "      <td>My current rhythm exercise is in 6/8 time.\\n\\n...</td>\n",
       "      <td>violinist</td>\n",
       "      <td>Counting time (6/8)</td>\n",
       "    </tr>\n",
       "  </tbody>\n",
       "</table>\n",
       "</div>"
      ],
      "text/plain": [
       "   Unnamed: 0 author_flair_text  created_utc      id  \\\n",
       "0           0          Advanced   1623955275  o24eoj   \n",
       "1           1               NaN   1623954118  o23xyv   \n",
       "2           2    Adult Beginner   1623944890  o20e4w   \n",
       "\n",
       "                                            selftext  subreddit  \\\n",
       "0  [https://www.youtube.com/watch?v=PONbtxcPcKQ](...  violinist   \n",
       "1  I've been struggling with my vibrato and am lo...  violinist   \n",
       "2  My current rhythm exercise is in 6/8 time.\\n\\n...  violinist   \n",
       "\n",
       "                                               title  \n",
       "0  Ysaÿe violin concerto in E minor, the first mo...  \n",
       "1      Video performance examples with great vibrato  \n",
       "2                                Counting time (6/8)  "
      ]
     },
     "execution_count": 289,
     "metadata": {},
     "output_type": "execute_result"
    }
   ],
   "source": [
    "violinist_df.head(3)"
   ]
  },
  {
   "cell_type": "markdown",
   "id": "cbc28320",
   "metadata": {},
   "source": [
    "**Drop Unnamed: 0 column**"
   ]
  },
  {
   "cell_type": "code",
   "execution_count": 290,
   "id": "9a944ea4",
   "metadata": {},
   "outputs": [],
   "source": [
    "violinist_df.drop('Unnamed: 0', axis=1, inplace=True)"
   ]
  },
  {
   "cell_type": "markdown",
   "id": "4f6d0c94",
   "metadata": {},
   "source": [
    "**Rename the columns**"
   ]
  },
  {
   "cell_type": "code",
   "execution_count": 291,
   "id": "ec53c10f",
   "metadata": {},
   "outputs": [],
   "source": [
    "rename_columns_dict = {\n",
    "    'id':'author_id',\n",
    "    'created_utc' : 'posted_on',\n",
    "    'author_flair_text': 'author_tag', \n",
    "    'title': 'post_title',\n",
    "    'selftext':'post_description',\n",
    "    'subreddit':'subreddit_name'}"
   ]
  },
  {
   "cell_type": "code",
   "execution_count": 292,
   "id": "d8435689",
   "metadata": {},
   "outputs": [],
   "source": [
    "violinist_df.rename(columns=rename_columns_dict, inplace=True) "
   ]
  },
  {
   "cell_type": "markdown",
   "id": "7a295efd",
   "metadata": {},
   "source": [
    "**Change column order**"
   ]
  },
  {
   "cell_type": "code",
   "execution_count": 293,
   "id": "f226326c",
   "metadata": {
    "scrolled": false
   },
   "outputs": [],
   "source": [
    "# Moving the subreddit column to the end for the eventual merge with the Cello dataframe\n",
    "# This will be the y_value\n",
    "violinist_df = violinist_df[['author_id','posted_on','author_tag','post_title','post_description','subreddit_name']]"
   ]
  },
  {
   "cell_type": "markdown",
   "id": "b8257c64",
   "metadata": {},
   "source": [
    "**Convert unix/epoch time to a regular time stamp in UTC**"
   ]
  },
  {
   "cell_type": "code",
   "execution_count": 294,
   "id": "87e4e174",
   "metadata": {},
   "outputs": [
    {
     "data": {
      "text/html": [
       "<div>\n",
       "<style scoped>\n",
       "    .dataframe tbody tr th:only-of-type {\n",
       "        vertical-align: middle;\n",
       "    }\n",
       "\n",
       "    .dataframe tbody tr th {\n",
       "        vertical-align: top;\n",
       "    }\n",
       "\n",
       "    .dataframe thead th {\n",
       "        text-align: right;\n",
       "    }\n",
       "</style>\n",
       "<table border=\"1\" class=\"dataframe\">\n",
       "  <thead>\n",
       "    <tr style=\"text-align: right;\">\n",
       "      <th></th>\n",
       "      <th>author_id</th>\n",
       "      <th>posted_on</th>\n",
       "      <th>author_tag</th>\n",
       "      <th>post_title</th>\n",
       "      <th>post_description</th>\n",
       "      <th>subreddit_name</th>\n",
       "    </tr>\n",
       "  </thead>\n",
       "  <tbody>\n",
       "    <tr>\n",
       "      <th>0</th>\n",
       "      <td>o24eoj</td>\n",
       "      <td>2021-06-17 18:41:15</td>\n",
       "      <td>Advanced</td>\n",
       "      <td>Ysaÿe violin concerto in E minor, the first mo...</td>\n",
       "      <td>[https://www.youtube.com/watch?v=PONbtxcPcKQ](...</td>\n",
       "      <td>violinist</td>\n",
       "    </tr>\n",
       "    <tr>\n",
       "      <th>1</th>\n",
       "      <td>o23xyv</td>\n",
       "      <td>2021-06-17 18:21:58</td>\n",
       "      <td>NaN</td>\n",
       "      <td>Video performance examples with great vibrato</td>\n",
       "      <td>I've been struggling with my vibrato and am lo...</td>\n",
       "      <td>violinist</td>\n",
       "    </tr>\n",
       "    <tr>\n",
       "      <th>2</th>\n",
       "      <td>o20e4w</td>\n",
       "      <td>2021-06-17 15:48:10</td>\n",
       "      <td>Adult Beginner</td>\n",
       "      <td>Counting time (6/8)</td>\n",
       "      <td>My current rhythm exercise is in 6/8 time.\\n\\n...</td>\n",
       "      <td>violinist</td>\n",
       "    </tr>\n",
       "  </tbody>\n",
       "</table>\n",
       "</div>"
      ],
      "text/plain": [
       "  author_id           posted_on      author_tag  \\\n",
       "0    o24eoj 2021-06-17 18:41:15        Advanced   \n",
       "1    o23xyv 2021-06-17 18:21:58             NaN   \n",
       "2    o20e4w 2021-06-17 15:48:10  Adult Beginner   \n",
       "\n",
       "                                          post_title  \\\n",
       "0  Ysaÿe violin concerto in E minor, the first mo...   \n",
       "1      Video performance examples with great vibrato   \n",
       "2                                Counting time (6/8)   \n",
       "\n",
       "                                    post_description subreddit_name  \n",
       "0  [https://www.youtube.com/watch?v=PONbtxcPcKQ](...      violinist  \n",
       "1  I've been struggling with my vibrato and am lo...      violinist  \n",
       "2  My current rhythm exercise is in 6/8 time.\\n\\n...      violinist  "
      ]
     },
     "execution_count": 294,
     "metadata": {},
     "output_type": "execute_result"
    }
   ],
   "source": [
    "#https://www.w3resource.com/python-exercises/pandas/time-series/pandas-time-series-exercise-17.php\n",
    "violinist_df['posted_on']=pd.to_datetime(violinist_df['posted_on'], unit='s')\n",
    "violinist_df.head(3)"
   ]
  },
  {
   "cell_type": "markdown",
   "id": "1d0ae3ee",
   "metadata": {},
   "source": [
    "**check data types**"
   ]
  },
  {
   "cell_type": "code",
   "execution_count": 295,
   "id": "e14870ff",
   "metadata": {
    "scrolled": false
   },
   "outputs": [
    {
     "data": {
      "text/plain": [
       "author_id                   object\n",
       "posted_on           datetime64[ns]\n",
       "author_tag                  object\n",
       "post_title                  object\n",
       "post_description            object\n",
       "subreddit_name              object\n",
       "dtype: object"
      ]
     },
     "execution_count": 295,
     "metadata": {},
     "output_type": "execute_result"
    }
   ],
   "source": [
    "violinist_df.dtypes"
   ]
  },
  {
   "cell_type": "code",
   "execution_count": 296,
   "id": "65bf25a7",
   "metadata": {
    "scrolled": true
   },
   "outputs": [
    {
     "data": {
      "text/plain": [
       "<AxesSubplot:>"
      ]
     },
     "execution_count": 296,
     "metadata": {},
     "output_type": "execute_result"
    },
    {
     "data": {
      "image/png": "[encoded data removed]",
      "text/plain": [
       "<Figure size 432x288 with 1 Axes>"
      ]
     },
     "metadata": {
      "needs_background": "light"
     },
     "output_type": "display_data"
    }
   ],
   "source": [
    "violinist_df['author_tag'].value_counts().plot(kind='barh')"
   ]
  },
  {
   "cell_type": "markdown",
   "id": "93ec1b91",
   "metadata": {},
   "source": [
    "**Cello dataframe cleaning and EDA**"
   ]
  },
  {
   "cell_type": "code",
   "execution_count": 297,
   "id": "a7b595cc",
   "metadata": {
    "scrolled": true
   },
   "outputs": [
    {
     "data": {
      "text/html": [
       "<div>\n",
       "<style scoped>\n",
       "    .dataframe tbody tr th:only-of-type {\n",
       "        vertical-align: middle;\n",
       "    }\n",
       "\n",
       "    .dataframe tbody tr th {\n",
       "        vertical-align: top;\n",
       "    }\n",
       "\n",
       "    .dataframe thead th {\n",
       "        text-align: right;\n",
       "    }\n",
       "</style>\n",
       "<table border=\"1\" class=\"dataframe\">\n",
       "  <thead>\n",
       "    <tr style=\"text-align: right;\">\n",
       "      <th></th>\n",
       "      <th>Unnamed: 0</th>\n",
       "      <th>author_flair_text</th>\n",
       "      <th>created_utc</th>\n",
       "      <th>id</th>\n",
       "      <th>selftext</th>\n",
       "      <th>subreddit</th>\n",
       "      <th>title</th>\n",
       "    </tr>\n",
       "  </thead>\n",
       "  <tbody>\n",
       "    <tr>\n",
       "      <th>0</th>\n",
       "      <td>0</td>\n",
       "      <td>NaN</td>\n",
       "      <td>1623949192</td>\n",
       "      <td>o220ak</td>\n",
       "      <td>Hey everyone,\\n\\nI was thinking of playing the...</td>\n",
       "      <td>Cello</td>\n",
       "      <td>Difficulty of Halvorsen Passacaglia</td>\n",
       "    </tr>\n",
       "    <tr>\n",
       "      <th>1</th>\n",
       "      <td>1</td>\n",
       "      <td>NaN</td>\n",
       "      <td>1623938843</td>\n",
       "      <td>o1y3l8</td>\n",
       "      <td>Hi all! I've been taking lessons for about a m...</td>\n",
       "      <td>Cello</td>\n",
       "      <td>Self care tips?</td>\n",
       "    </tr>\n",
       "    <tr>\n",
       "      <th>2</th>\n",
       "      <td>2</td>\n",
       "      <td>NaN</td>\n",
       "      <td>1623898632</td>\n",
       "      <td>o1mpqb</td>\n",
       "      <td>Long story short my beloved Cello is now Firew...</td>\n",
       "      <td>Cello</td>\n",
       "      <td>About to Purchase Hidersine Vivente, Need Pers...</td>\n",
       "    </tr>\n",
       "  </tbody>\n",
       "</table>\n",
       "</div>"
      ],
      "text/plain": [
       "   Unnamed: 0 author_flair_text  created_utc      id  \\\n",
       "0           0               NaN   1623949192  o220ak   \n",
       "1           1               NaN   1623938843  o1y3l8   \n",
       "2           2               NaN   1623898632  o1mpqb   \n",
       "\n",
       "                                            selftext subreddit  \\\n",
       "0  Hey everyone,\\n\\nI was thinking of playing the...     Cello   \n",
       "1  Hi all! I've been taking lessons for about a m...     Cello   \n",
       "2  Long story short my beloved Cello is now Firew...     Cello   \n",
       "\n",
       "                                               title  \n",
       "0                Difficulty of Halvorsen Passacaglia  \n",
       "1                                    Self care tips?  \n",
       "2  About to Purchase Hidersine Vivente, Need Pers...  "
      ]
     },
     "execution_count": 297,
     "metadata": {},
     "output_type": "execute_result"
    }
   ],
   "source": [
    "cello_df.head(3)"
   ]
  },
  {
   "cell_type": "markdown",
   "id": "73660058",
   "metadata": {},
   "source": [
    "**Drop Unnamed: 0 column**"
   ]
  },
  {
   "cell_type": "code",
   "execution_count": 298,
   "id": "7c427ee3",
   "metadata": {},
   "outputs": [],
   "source": [
    "cello_df.drop('Unnamed: 0', axis=1, inplace=True)"
   ]
  },
  {
   "cell_type": "markdown",
   "id": "eacc8971",
   "metadata": {},
   "source": [
    "**Rename the columns**"
   ]
  },
  {
   "cell_type": "code",
   "execution_count": 299,
   "id": "1dacbb9b",
   "metadata": {},
   "outputs": [],
   "source": [
    "rename_columns_dict = {\n",
    "    'id':'author_id',\n",
    "    'created_utc' : 'posted_on',\n",
    "    'author_flair_text': 'author_tag', \n",
    "    'title': 'post_title',\n",
    "    'selftext':'post_description',\n",
    "    'subreddit':'subreddit_name'}"
   ]
  },
  {
   "cell_type": "code",
   "execution_count": 300,
   "id": "2ef244de",
   "metadata": {},
   "outputs": [],
   "source": [
    "cello_df.rename(columns=rename_columns_dict, inplace=True) "
   ]
  },
  {
   "cell_type": "markdown",
   "id": "a8e2a02a",
   "metadata": {},
   "source": [
    "**Change column order**"
   ]
  },
  {
   "cell_type": "code",
   "execution_count": 301,
   "id": "481104ab",
   "metadata": {
    "scrolled": false
   },
   "outputs": [],
   "source": [
    "# Moving the subreddit column to the end for the eventual merge with the Cello dataframe\n",
    "# This will be the y_value\n",
    "#['author_id','author_tag', 'created_time', 'post_text', 'post_title','post_tag','subreddit_name']\n",
    "cello_df = cello_df[['author_id','posted_on','author_tag','post_title','post_description','subreddit_name']]"
   ]
  },
  {
   "cell_type": "markdown",
   "id": "74696462",
   "metadata": {},
   "source": [
    "**Convert unix/epoch time to a regular time stamp in UTC**"
   ]
  },
  {
   "cell_type": "code",
   "execution_count": 302,
   "id": "2b4e99c8",
   "metadata": {},
   "outputs": [
    {
     "data": {
      "text/html": [
       "<div>\n",
       "<style scoped>\n",
       "    .dataframe tbody tr th:only-of-type {\n",
       "        vertical-align: middle;\n",
       "    }\n",
       "\n",
       "    .dataframe tbody tr th {\n",
       "        vertical-align: top;\n",
       "    }\n",
       "\n",
       "    .dataframe thead th {\n",
       "        text-align: right;\n",
       "    }\n",
       "</style>\n",
       "<table border=\"1\" class=\"dataframe\">\n",
       "  <thead>\n",
       "    <tr style=\"text-align: right;\">\n",
       "      <th></th>\n",
       "      <th>author_id</th>\n",
       "      <th>posted_on</th>\n",
       "      <th>author_tag</th>\n",
       "      <th>post_title</th>\n",
       "      <th>post_description</th>\n",
       "      <th>subreddit_name</th>\n",
       "    </tr>\n",
       "  </thead>\n",
       "  <tbody>\n",
       "    <tr>\n",
       "      <th>0</th>\n",
       "      <td>o220ak</td>\n",
       "      <td>2021-06-17 16:59:52</td>\n",
       "      <td>NaN</td>\n",
       "      <td>Difficulty of Halvorsen Passacaglia</td>\n",
       "      <td>Hey everyone,\\n\\nI was thinking of playing the...</td>\n",
       "      <td>Cello</td>\n",
       "    </tr>\n",
       "    <tr>\n",
       "      <th>1</th>\n",
       "      <td>o1y3l8</td>\n",
       "      <td>2021-06-17 14:07:23</td>\n",
       "      <td>NaN</td>\n",
       "      <td>Self care tips?</td>\n",
       "      <td>Hi all! I've been taking lessons for about a m...</td>\n",
       "      <td>Cello</td>\n",
       "    </tr>\n",
       "    <tr>\n",
       "      <th>2</th>\n",
       "      <td>o1mpqb</td>\n",
       "      <td>2021-06-17 02:57:12</td>\n",
       "      <td>NaN</td>\n",
       "      <td>About to Purchase Hidersine Vivente, Need Pers...</td>\n",
       "      <td>Long story short my beloved Cello is now Firew...</td>\n",
       "      <td>Cello</td>\n",
       "    </tr>\n",
       "  </tbody>\n",
       "</table>\n",
       "</div>"
      ],
      "text/plain": [
       "  author_id           posted_on author_tag  \\\n",
       "0    o220ak 2021-06-17 16:59:52        NaN   \n",
       "1    o1y3l8 2021-06-17 14:07:23        NaN   \n",
       "2    o1mpqb 2021-06-17 02:57:12        NaN   \n",
       "\n",
       "                                          post_title  \\\n",
       "0                Difficulty of Halvorsen Passacaglia   \n",
       "1                                    Self care tips?   \n",
       "2  About to Purchase Hidersine Vivente, Need Pers...   \n",
       "\n",
       "                                    post_description subreddit_name  \n",
       "0  Hey everyone,\\n\\nI was thinking of playing the...          Cello  \n",
       "1  Hi all! I've been taking lessons for about a m...          Cello  \n",
       "2  Long story short my beloved Cello is now Firew...          Cello  "
      ]
     },
     "execution_count": 302,
     "metadata": {},
     "output_type": "execute_result"
    }
   ],
   "source": [
    "cello_df['posted_on']=pd.to_datetime(cello_df['posted_on'], unit='s')\n",
    "cello_df.head(3)"
   ]
  },
  {
   "cell_type": "markdown",
   "id": "e10c27ee",
   "metadata": {},
   "source": [
    "**check data types**"
   ]
  },
  {
   "cell_type": "code",
   "execution_count": 303,
   "id": "22b7c893",
   "metadata": {
    "scrolled": true
   },
   "outputs": [
    {
     "name": "stdout",
     "output_type": "stream",
     "text": [
      "<class 'pandas.core.frame.DataFrame'>\n",
      "RangeIndex: 1028 entries, 0 to 1027\n",
      "Data columns (total 6 columns):\n",
      " #   Column            Non-Null Count  Dtype         \n",
      "---  ------            --------------  -----         \n",
      " 0   author_id         1028 non-null   object        \n",
      " 1   posted_on         1028 non-null   datetime64[ns]\n",
      " 2   author_tag        51 non-null     object        \n",
      " 3   post_title        1028 non-null   object        \n",
      " 4   post_description  1028 non-null   object        \n",
      " 5   subreddit_name    1028 non-null   object        \n",
      "dtypes: datetime64[ns](1), object(5)\n",
      "memory usage: 48.3+ KB\n"
     ]
    }
   ],
   "source": [
    "cello_df.info()"
   ]
  },
  {
   "cell_type": "code",
   "execution_count": 305,
   "id": "b34fe7ea",
   "metadata": {},
   "outputs": [
    {
     "data": {
      "image/png": "[encoded data removed]",
      "text/plain": [
       "<Figure size 432x288 with 1 Axes>"
      ]
     },
     "metadata": {
      "needs_background": "light"
     },
     "output_type": "display_data"
    }
   ],
   "source": [
    "cello_df['author_tag'].value_counts().plot(kind='barh');"
   ]
  },
  {
   "cell_type": "markdown",
   "id": "ac4cd958",
   "metadata": {},
   "source": [
    "**Merge both dataframes**"
   ]
  },
  {
   "cell_type": "code",
   "execution_count": 306,
   "id": "21dd15f1",
   "metadata": {},
   "outputs": [],
   "source": [
    "reddit_data = pd.concat([violinist_df,cello_df])"
   ]
  },
  {
   "cell_type": "code",
   "execution_count": 307,
   "id": "28025aeb",
   "metadata": {},
   "outputs": [
    {
     "data": {
      "text/html": [
       "<div>\n",
       "<style scoped>\n",
       "    .dataframe tbody tr th:only-of-type {\n",
       "        vertical-align: middle;\n",
       "    }\n",
       "\n",
       "    .dataframe tbody tr th {\n",
       "        vertical-align: top;\n",
       "    }\n",
       "\n",
       "    .dataframe thead th {\n",
       "        text-align: right;\n",
       "    }\n",
       "</style>\n",
       "<table border=\"1\" class=\"dataframe\">\n",
       "  <thead>\n",
       "    <tr style=\"text-align: right;\">\n",
       "      <th></th>\n",
       "      <th>author_id</th>\n",
       "      <th>posted_on</th>\n",
       "      <th>author_tag</th>\n",
       "      <th>post_title</th>\n",
       "      <th>post_description</th>\n",
       "      <th>subreddit_name</th>\n",
       "    </tr>\n",
       "  </thead>\n",
       "  <tbody>\n",
       "    <tr>\n",
       "      <th>0</th>\n",
       "      <td>o24eoj</td>\n",
       "      <td>2021-06-17 18:41:15</td>\n",
       "      <td>Advanced</td>\n",
       "      <td>Ysaÿe violin concerto in E minor, the first mo...</td>\n",
       "      <td>[https://www.youtube.com/watch?v=PONbtxcPcKQ](...</td>\n",
       "      <td>violinist</td>\n",
       "    </tr>\n",
       "    <tr>\n",
       "      <th>1</th>\n",
       "      <td>o23xyv</td>\n",
       "      <td>2021-06-17 18:21:58</td>\n",
       "      <td>NaN</td>\n",
       "      <td>Video performance examples with great vibrato</td>\n",
       "      <td>I've been struggling with my vibrato and am lo...</td>\n",
       "      <td>violinist</td>\n",
       "    </tr>\n",
       "    <tr>\n",
       "      <th>2</th>\n",
       "      <td>o20e4w</td>\n",
       "      <td>2021-06-17 15:48:10</td>\n",
       "      <td>Adult Beginner</td>\n",
       "      <td>Counting time (6/8)</td>\n",
       "      <td>My current rhythm exercise is in 6/8 time.\\n\\n...</td>\n",
       "      <td>violinist</td>\n",
       "    </tr>\n",
       "  </tbody>\n",
       "</table>\n",
       "</div>"
      ],
      "text/plain": [
       "  author_id           posted_on      author_tag  \\\n",
       "0    o24eoj 2021-06-17 18:41:15        Advanced   \n",
       "1    o23xyv 2021-06-17 18:21:58             NaN   \n",
       "2    o20e4w 2021-06-17 15:48:10  Adult Beginner   \n",
       "\n",
       "                                          post_title  \\\n",
       "0  Ysaÿe violin concerto in E minor, the first mo...   \n",
       "1      Video performance examples with great vibrato   \n",
       "2                                Counting time (6/8)   \n",
       "\n",
       "                                    post_description subreddit_name  \n",
       "0  [https://www.youtube.com/watch?v=PONbtxcPcKQ](...      violinist  \n",
       "1  I've been struggling with my vibrato and am lo...      violinist  \n",
       "2  My current rhythm exercise is in 6/8 time.\\n\\n...      violinist  "
      ]
     },
     "execution_count": 307,
     "metadata": {},
     "output_type": "execute_result"
    }
   ],
   "source": [
    "reddit_data.head(3)"
   ]
  },
  {
   "cell_type": "code",
   "execution_count": 308,
   "id": "304ec2cf",
   "metadata": {},
   "outputs": [
    {
     "name": "stdout",
     "output_type": "stream",
     "text": [
      "Shape of Reddit data  dataframe: (2087, 6)\n"
     ]
    }
   ],
   "source": [
    "# Check shape of the dataframe\n",
    "print(f'Shape of Reddit data  dataframe: {reddit_data.shape}')"
   ]
  },
  {
   "cell_type": "markdown",
   "id": "87734fb1",
   "metadata": {},
   "source": [
    "**check data types**"
   ]
  },
  {
   "cell_type": "code",
   "execution_count": 322,
   "id": "0814b49c",
   "metadata": {},
   "outputs": [
    {
     "name": "stdout",
     "output_type": "stream",
     "text": [
      "<class 'pandas.core.frame.DataFrame'>\n",
      "Int64Index: 2087 entries, 0 to 1027\n",
      "Data columns (total 6 columns):\n",
      " #   Column            Non-Null Count  Dtype         \n",
      "---  ------            --------------  -----         \n",
      " 0   author_id         2087 non-null   object        \n",
      " 1   posted_on         2087 non-null   datetime64[ns]\n",
      " 2   author_tag        253 non-null    object        \n",
      " 3   post_title        2087 non-null   object        \n",
      " 4   post_description  2087 non-null   object        \n",
      " 5   subreddit_name    2087 non-null   int64         \n",
      "dtypes: datetime64[ns](1), int64(1), object(4)\n",
      "memory usage: 114.1+ KB\n"
     ]
    }
   ],
   "source": [
    "reddit_data.info()"
   ]
  },
  {
   "cell_type": "markdown",
   "id": "b15c4eee",
   "metadata": {},
   "source": [
    "**Binarize the subreddit column\\\n",
    "Violinist = 1 and Cello = 0**"
   ]
  },
  {
   "cell_type": "code",
   "execution_count": 309,
   "id": "7e814b40",
   "metadata": {},
   "outputs": [],
   "source": [
    "reddit_data['subreddit_name'] = reddit_data['subreddit_name'].map(lambda x: 1 if x == 'violinist'else 0)"
   ]
  },
  {
   "cell_type": "code",
   "execution_count": 310,
   "id": "9ae38fe2",
   "metadata": {},
   "outputs": [
    {
     "data": {
      "text/html": [
       "<div>\n",
       "<style scoped>\n",
       "    .dataframe tbody tr th:only-of-type {\n",
       "        vertical-align: middle;\n",
       "    }\n",
       "\n",
       "    .dataframe tbody tr th {\n",
       "        vertical-align: top;\n",
       "    }\n",
       "\n",
       "    .dataframe thead th {\n",
       "        text-align: right;\n",
       "    }\n",
       "</style>\n",
       "<table border=\"1\" class=\"dataframe\">\n",
       "  <thead>\n",
       "    <tr style=\"text-align: right;\">\n",
       "      <th></th>\n",
       "      <th>author_id</th>\n",
       "      <th>posted_on</th>\n",
       "      <th>author_tag</th>\n",
       "      <th>post_title</th>\n",
       "      <th>post_description</th>\n",
       "      <th>subreddit_name</th>\n",
       "    </tr>\n",
       "  </thead>\n",
       "  <tbody>\n",
       "    <tr>\n",
       "      <th>0</th>\n",
       "      <td>o24eoj</td>\n",
       "      <td>2021-06-17 18:41:15</td>\n",
       "      <td>Advanced</td>\n",
       "      <td>Ysaÿe violin concerto in E minor, the first mo...</td>\n",
       "      <td>[https://www.youtube.com/watch?v=PONbtxcPcKQ](...</td>\n",
       "      <td>1</td>\n",
       "    </tr>\n",
       "    <tr>\n",
       "      <th>1</th>\n",
       "      <td>o23xyv</td>\n",
       "      <td>2021-06-17 18:21:58</td>\n",
       "      <td>NaN</td>\n",
       "      <td>Video performance examples with great vibrato</td>\n",
       "      <td>I've been struggling with my vibrato and am lo...</td>\n",
       "      <td>1</td>\n",
       "    </tr>\n",
       "    <tr>\n",
       "      <th>2</th>\n",
       "      <td>o20e4w</td>\n",
       "      <td>2021-06-17 15:48:10</td>\n",
       "      <td>Adult Beginner</td>\n",
       "      <td>Counting time (6/8)</td>\n",
       "      <td>My current rhythm exercise is in 6/8 time.\\n\\n...</td>\n",
       "      <td>1</td>\n",
       "    </tr>\n",
       "    <tr>\n",
       "      <th>3</th>\n",
       "      <td>o1vxwd</td>\n",
       "      <td>2021-06-17 12:22:01</td>\n",
       "      <td>NaN</td>\n",
       "      <td>I’m interested in picking up violin</td>\n",
       "      <td>Hello everyone, as you can tell by the title I...</td>\n",
       "      <td>1</td>\n",
       "    </tr>\n",
       "    <tr>\n",
       "      <th>4</th>\n",
       "      <td>o1rmpe</td>\n",
       "      <td>2021-06-17 07:49:56</td>\n",
       "      <td>NaN</td>\n",
       "      <td>Question (as a beginner)</td>\n",
       "      <td>When the score says Sul G, Sul D, IVeme chord,...</td>\n",
       "      <td>1</td>\n",
       "    </tr>\n",
       "    <tr>\n",
       "      <th>5</th>\n",
       "      <td>o1nle1</td>\n",
       "      <td>2021-06-17 03:42:34</td>\n",
       "      <td>Expert</td>\n",
       "      <td>If you could change one thing about how you le...</td>\n",
       "      <td>I mean anything ranging from posture, books, e...</td>\n",
       "      <td>1</td>\n",
       "    </tr>\n",
       "    <tr>\n",
       "      <th>6</th>\n",
       "      <td>o1mcaq</td>\n",
       "      <td>2021-06-17 02:37:58</td>\n",
       "      <td>Beginner</td>\n",
       "      <td>Time for new strings?</td>\n",
       "      <td>I got my current violin in December, and idk i...</td>\n",
       "      <td>1</td>\n",
       "    </tr>\n",
       "    <tr>\n",
       "      <th>7</th>\n",
       "      <td>o1m1xq</td>\n",
       "      <td>2021-06-17 02:23:18</td>\n",
       "      <td>NaN</td>\n",
       "      <td>Success story</td>\n",
       "      <td>[removed]</td>\n",
       "      <td>1</td>\n",
       "    </tr>\n",
       "    <tr>\n",
       "      <th>8</th>\n",
       "      <td>o1i0fi</td>\n",
       "      <td>2021-06-16 22:57:02</td>\n",
       "      <td>NaN</td>\n",
       "      <td>Trialing 1/2 size violins</td>\n",
       "      <td>My daughter (12) and I went to a luthier yeste...</td>\n",
       "      <td>1</td>\n",
       "    </tr>\n",
       "    <tr>\n",
       "      <th>9</th>\n",
       "      <td>o1fz34</td>\n",
       "      <td>2021-06-16 21:25:48</td>\n",
       "      <td>NaN</td>\n",
       "      <td>Violin out on trial: take to luthier?</td>\n",
       "      <td>I have a late 19th century workshop violin out...</td>\n",
       "      <td>1</td>\n",
       "    </tr>\n",
       "  </tbody>\n",
       "</table>\n",
       "</div>"
      ],
      "text/plain": [
       "  author_id           posted_on      author_tag  \\\n",
       "0    o24eoj 2021-06-17 18:41:15        Advanced   \n",
       "1    o23xyv 2021-06-17 18:21:58             NaN   \n",
       "2    o20e4w 2021-06-17 15:48:10  Adult Beginner   \n",
       "3    o1vxwd 2021-06-17 12:22:01             NaN   \n",
       "4    o1rmpe 2021-06-17 07:49:56             NaN   \n",
       "5    o1nle1 2021-06-17 03:42:34          Expert   \n",
       "6    o1mcaq 2021-06-17 02:37:58        Beginner   \n",
       "7    o1m1xq 2021-06-17 02:23:18             NaN   \n",
       "8    o1i0fi 2021-06-16 22:57:02             NaN   \n",
       "9    o1fz34 2021-06-16 21:25:48             NaN   \n",
       "\n",
       "                                          post_title  \\\n",
       "0  Ysaÿe violin concerto in E minor, the first mo...   \n",
       "1      Video performance examples with great vibrato   \n",
       "2                                Counting time (6/8)   \n",
       "3                I’m interested in picking up violin   \n",
       "4                           Question (as a beginner)   \n",
       "5  If you could change one thing about how you le...   \n",
       "6                              Time for new strings?   \n",
       "7                                      Success story   \n",
       "8                          Trialing 1/2 size violins   \n",
       "9              Violin out on trial: take to luthier?   \n",
       "\n",
       "                                    post_description  subreddit_name  \n",
       "0  [https://www.youtube.com/watch?v=PONbtxcPcKQ](...               1  \n",
       "1  I've been struggling with my vibrato and am lo...               1  \n",
       "2  My current rhythm exercise is in 6/8 time.\\n\\n...               1  \n",
       "3  Hello everyone, as you can tell by the title I...               1  \n",
       "4  When the score says Sul G, Sul D, IVeme chord,...               1  \n",
       "5  I mean anything ranging from posture, books, e...               1  \n",
       "6  I got my current violin in December, and idk i...               1  \n",
       "7                                          [removed]               1  \n",
       "8  My daughter (12) and I went to a luthier yeste...               1  \n",
       "9  I have a late 19th century workshop violin out...               1  "
      ]
     },
     "execution_count": 310,
     "metadata": {},
     "output_type": "execute_result"
    }
   ],
   "source": [
    "reddit_data.head(10)"
   ]
  },
  {
   "cell_type": "markdown",
   "id": "c2530c76",
   "metadata": {},
   "source": [
    "**Removing special characters**"
   ]
  },
  {
   "cell_type": "code",
   "execution_count": 311,
   "id": "d10b09fc",
   "metadata": {},
   "outputs": [],
   "source": [
    "#https://stackoverflow.com/questions/56375850/how-to-remove-parentheses-from-string\n",
    "#reddit_data['post_title'] = reddit_data['post_title'].map(lambda x: re.sub('[()]', '', x))"
   ]
  },
  {
   "cell_type": "code",
   "execution_count": 312,
   "id": "a8f83e15",
   "metadata": {},
   "outputs": [],
   "source": [
    "#reddit_data.head(3)"
   ]
  },
  {
   "cell_type": "code",
   "execution_count": 313,
   "id": "10503e3c",
   "metadata": {},
   "outputs": [],
   "source": [
    "#reddit_data['post_title']  = reddit_data['post_title'].apply(lambda x: x.encode('ascii','ignore'))"
   ]
  },
  {
   "cell_type": "code",
   "execution_count": 314,
   "id": "8e8466c1",
   "metadata": {},
   "outputs": [],
   "source": [
    "#reddit_data.head(3)"
   ]
  },
  {
   "cell_type": "code",
   "execution_count": 315,
   "id": "f2f5a68b",
   "metadata": {},
   "outputs": [],
   "source": [
    "# Setting tokenized words to a variable\n",
    "tokenized_words = [x.split(' ') for x in reddit_data['post_title']]"
   ]
  },
  {
   "cell_type": "code",
   "execution_count": 316,
   "id": "c3b7f9d4",
   "metadata": {},
   "outputs": [
    {
     "data": {
      "text/plain": [
       "'Ysaÿe'"
      ]
     },
     "execution_count": 316,
     "metadata": {},
     "output_type": "execute_result"
    }
   ],
   "source": [
    "tokenized_words[0][0]"
   ]
  },
  {
   "cell_type": "code",
   "execution_count": 317,
   "id": "4e0f6bd8",
   "metadata": {},
   "outputs": [],
   "source": [
    "# Import PortStemmer\n",
    "from nltk.stem.porter import PorterStemmer"
   ]
  },
  {
   "cell_type": "code",
   "execution_count": 318,
   "id": "fbac4d64",
   "metadata": {},
   "outputs": [],
   "source": [
    "# Instantiate PortStemmer\n",
    "stemmer = PorterStemmer()"
   ]
  },
  {
   "cell_type": "code",
   "execution_count": 319,
   "id": "7b369622",
   "metadata": {},
   "outputs": [],
   "source": [
    "stemmed_titles = []\n",
    "for all_lists in tokenized_words:\n",
    "    empty_list = []\n",
    "    for word in all_lists:\n",
    "        empty_list.append(re.sub(\"[()]\", '', stemmer.stem(word)))\n",
    "    stemmed_titles.append(empty_list)"
   ]
  },
  {
   "cell_type": "code",
   "execution_count": 320,
   "id": "18301bcc",
   "metadata": {},
   "outputs": [],
   "source": [
    "joined_titles = []\n",
    "for lists in stemmed_titles:\n",
    "    joined_titles.append(' '.join(lists))"
   ]
  },
  {
   "cell_type": "code",
   "execution_count": 321,
   "id": "3db5aecf",
   "metadata": {},
   "outputs": [
    {
     "data": {
      "text/plain": [
       "0     ysaÿe violin concerto in e minor, the first mo...\n",
       "1               video perform exampl with great vibrato\n",
       "2                                        count time 6/8\n",
       "3                        i’m interest in pick up violin\n",
       "4                                 question a a beginner\n",
       "5     if you could chang one thing about how you lea...\n",
       "6                                 time for new strings?\n",
       "7                                         success stori\n",
       "8                                 trial 1/2 size violin\n",
       "9                 violin out on trial: take to luthier?\n",
       "10                                       bridg question\n",
       "11                                        donat violin?\n",
       "12                             how to becom music tutor\n",
       "13                                      practic in heat\n",
       "14    what the first thing you do when you pick up y...\n",
       "15              what' a good way to improv your bowing?\n",
       "16                    practic journal 07 - 13 june 2021\n",
       "17        drone machin that allow multipl tone at once?\n",
       "18                                                help!\n",
       "19                                       rosin question\n",
       "Name: post_title, dtype: object"
      ]
     },
     "execution_count": 321,
     "metadata": {},
     "output_type": "execute_result"
    }
   ],
   "source": [
    "# Place new lists of stemmed words into the 'title' column in the final dataframe\n",
    "reddit_data['post_title'] = joined_titles\n",
    "\n",
    "# Check to see that the 'title' column is how it should look\n",
    "reddit_data['post_title'].head(20)"
   ]
  },
  {
   "cell_type": "code",
   "execution_count": null,
   "id": "32f4304a",
   "metadata": {},
   "outputs": [],
   "source": []
  },
  {
   "cell_type": "code",
   "execution_count": null,
   "id": "918fce90",
   "metadata": {},
   "outputs": [],
   "source": []
  }
 ],
 "metadata": {
  "kernelspec": {
   "display_name": "Python 3",
   "language": "python",
   "name": "python3"
  },
  "language_info": {
   "codemirror_mode": {
    "name": "ipython",
    "version": 3
   },
   "file_extension": ".py",
   "mimetype": "text/x-python",
   "name": "python",
   "nbconvert_exporter": "python",
   "pygments_lexer": "ipython3",
   "version": "3.8.8"
  }
 },
 "nbformat": 4,
 "nbformat_minor": 5
}
