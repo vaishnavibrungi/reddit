{
 "cells": [
  {
   "cell_type": "markdown",
   "id": "141bf6d7",
   "metadata": {},
   "source": [
    "# Project 3: Reddit"
   ]
  },
  {
   "cell_type": "markdown",
   "id": "c0674f26",
   "metadata": {},
   "source": [
    "### Data Cleaning and EDA"
   ]
  },
  {
   "cell_type": "code",
   "execution_count": 168,
   "id": "ca89fbbb",
   "metadata": {},
   "outputs": [],
   "source": [
    "#import libraries\n",
    "import pandas as pd \n",
    "import matplotlib.pyplot as plt\n",
    "from nltk.tokenize import RegexpTokenizer\n",
    "from nltk.stem.porter import PorterStemmer\n",
    "from nltk.corpus import stopwords"
   ]
  },
  {
   "cell_type": "markdown",
   "id": "8ba2b95e",
   "metadata": {},
   "source": [
    "**Read in both Violinist and Cello**"
   ]
  },
  {
   "cell_type": "code",
   "execution_count": 169,
   "id": "05dbeb9d",
   "metadata": {},
   "outputs": [],
   "source": [
    "violinist_df = pd.read_csv('../data/Violinist.csv')\n",
    "cello_df = pd.read_csv('../data/Cello.csv')"
   ]
  },
  {
   "cell_type": "markdown",
   "id": "2f2cfb84",
   "metadata": {},
   "source": [
    "**Violinist dataframe cleaning and EDA**"
   ]
  },
  {
   "cell_type": "code",
   "execution_count": 170,
   "id": "abea74a2",
   "metadata": {},
   "outputs": [
    {
     "data": {
      "text/html": [
       "<div>\n",
       "<style scoped>\n",
       "    .dataframe tbody tr th:only-of-type {\n",
       "        vertical-align: middle;\n",
       "    }\n",
       "\n",
       "    .dataframe tbody tr th {\n",
       "        vertical-align: top;\n",
       "    }\n",
       "\n",
       "    .dataframe thead th {\n",
       "        text-align: right;\n",
       "    }\n",
       "</style>\n",
       "<table border=\"1\" class=\"dataframe\">\n",
       "  <thead>\n",
       "    <tr style=\"text-align: right;\">\n",
       "      <th></th>\n",
       "      <th>Unnamed: 0</th>\n",
       "      <th>author_flair_text</th>\n",
       "      <th>created_utc</th>\n",
       "      <th>id</th>\n",
       "      <th>selftext</th>\n",
       "      <th>subreddit</th>\n",
       "      <th>title</th>\n",
       "    </tr>\n",
       "  </thead>\n",
       "  <tbody>\n",
       "    <tr>\n",
       "      <th>0</th>\n",
       "      <td>0</td>\n",
       "      <td>Advanced</td>\n",
       "      <td>1623955275</td>\n",
       "      <td>o24eoj</td>\n",
       "      <td>[https://www.youtube.com/watch?v=PONbtxcPcKQ](...</td>\n",
       "      <td>violinist</td>\n",
       "      <td>Ysaÿe violin concerto in E minor, the first mo...</td>\n",
       "    </tr>\n",
       "    <tr>\n",
       "      <th>1</th>\n",
       "      <td>1</td>\n",
       "      <td>NaN</td>\n",
       "      <td>1623954118</td>\n",
       "      <td>o23xyv</td>\n",
       "      <td>I've been struggling with my vibrato and am lo...</td>\n",
       "      <td>violinist</td>\n",
       "      <td>Video performance examples with great vibrato</td>\n",
       "    </tr>\n",
       "    <tr>\n",
       "      <th>2</th>\n",
       "      <td>2</td>\n",
       "      <td>Adult Beginner</td>\n",
       "      <td>1623944890</td>\n",
       "      <td>o20e4w</td>\n",
       "      <td>My current rhythm exercise is in 6/8 time.\\n\\n...</td>\n",
       "      <td>violinist</td>\n",
       "      <td>Counting time (6/8)</td>\n",
       "    </tr>\n",
       "  </tbody>\n",
       "</table>\n",
       "</div>"
      ],
      "text/plain": [
       "   Unnamed: 0 author_flair_text  created_utc      id  \\\n",
       "0           0          Advanced   1623955275  o24eoj   \n",
       "1           1               NaN   1623954118  o23xyv   \n",
       "2           2    Adult Beginner   1623944890  o20e4w   \n",
       "\n",
       "                                            selftext  subreddit  \\\n",
       "0  [https://www.youtube.com/watch?v=PONbtxcPcKQ](...  violinist   \n",
       "1  I've been struggling with my vibrato and am lo...  violinist   \n",
       "2  My current rhythm exercise is in 6/8 time.\\n\\n...  violinist   \n",
       "\n",
       "                                               title  \n",
       "0  Ysaÿe violin concerto in E minor, the first mo...  \n",
       "1      Video performance examples with great vibrato  \n",
       "2                                Counting time (6/8)  "
      ]
     },
     "execution_count": 170,
     "metadata": {},
     "output_type": "execute_result"
    }
   ],
   "source": [
    "violinist_df.head(3)"
   ]
  },
  {
   "cell_type": "markdown",
   "id": "cbc28320",
   "metadata": {},
   "source": [
    "**Drop Unnamed: 0 column**"
   ]
  },
  {
   "cell_type": "code",
   "execution_count": 171,
   "id": "9a944ea4",
   "metadata": {},
   "outputs": [],
   "source": [
    "violinist_df.drop('Unnamed: 0', axis=1, inplace=True)"
   ]
  },
  {
   "cell_type": "markdown",
   "id": "4f6d0c94",
   "metadata": {},
   "source": [
    "**Rename the columns**"
   ]
  },
  {
   "cell_type": "code",
   "execution_count": 172,
   "id": "ec53c10f",
   "metadata": {},
   "outputs": [],
   "source": [
    "rename_columns_dict = {\n",
    "    'id':'author_id',\n",
    "    'created_utc' : 'posted_on',\n",
    "    'author_flair_text': 'author_tag', \n",
    "    'title': 'post_title',\n",
    "    'selftext':'post_description',\n",
    "    'subreddit':'subreddit_name'}"
   ]
  },
  {
   "cell_type": "code",
   "execution_count": 173,
   "id": "d8435689",
   "metadata": {},
   "outputs": [],
   "source": [
    "violinist_df.rename(columns=rename_columns_dict, inplace=True) "
   ]
  },
  {
   "cell_type": "markdown",
   "id": "7a295efd",
   "metadata": {},
   "source": [
    "**Change column order**"
   ]
  },
  {
   "cell_type": "code",
   "execution_count": 174,
   "id": "f226326c",
   "metadata": {
    "scrolled": false
   },
   "outputs": [],
   "source": [
    "# Moving the subreddit column to the end for the eventual merge with the Cello dataframe\n",
    "# This will be the y_value\n",
    "violinist_df = violinist_df[['author_id','posted_on','author_tag','post_title','post_description','subreddit_name']]"
   ]
  },
  {
   "cell_type": "markdown",
   "id": "b8257c64",
   "metadata": {},
   "source": [
    "**Convert unix/epoch time to a regular time stamp in UTC**"
   ]
  },
  {
   "cell_type": "code",
   "execution_count": 175,
   "id": "87e4e174",
   "metadata": {},
   "outputs": [
    {
     "data": {
      "text/html": [
       "<div>\n",
       "<style scoped>\n",
       "    .dataframe tbody tr th:only-of-type {\n",
       "        vertical-align: middle;\n",
       "    }\n",
       "\n",
       "    .dataframe tbody tr th {\n",
       "        vertical-align: top;\n",
       "    }\n",
       "\n",
       "    .dataframe thead th {\n",
       "        text-align: right;\n",
       "    }\n",
       "</style>\n",
       "<table border=\"1\" class=\"dataframe\">\n",
       "  <thead>\n",
       "    <tr style=\"text-align: right;\">\n",
       "      <th></th>\n",
       "      <th>author_id</th>\n",
       "      <th>posted_on</th>\n",
       "      <th>author_tag</th>\n",
       "      <th>post_title</th>\n",
       "      <th>post_description</th>\n",
       "      <th>subreddit_name</th>\n",
       "    </tr>\n",
       "  </thead>\n",
       "  <tbody>\n",
       "    <tr>\n",
       "      <th>0</th>\n",
       "      <td>o24eoj</td>\n",
       "      <td>2021-06-17 18:41:15</td>\n",
       "      <td>Advanced</td>\n",
       "      <td>Ysaÿe violin concerto in E minor, the first mo...</td>\n",
       "      <td>[https://www.youtube.com/watch?v=PONbtxcPcKQ](...</td>\n",
       "      <td>violinist</td>\n",
       "    </tr>\n",
       "    <tr>\n",
       "      <th>1</th>\n",
       "      <td>o23xyv</td>\n",
       "      <td>2021-06-17 18:21:58</td>\n",
       "      <td>NaN</td>\n",
       "      <td>Video performance examples with great vibrato</td>\n",
       "      <td>I've been struggling with my vibrato and am lo...</td>\n",
       "      <td>violinist</td>\n",
       "    </tr>\n",
       "    <tr>\n",
       "      <th>2</th>\n",
       "      <td>o20e4w</td>\n",
       "      <td>2021-06-17 15:48:10</td>\n",
       "      <td>Adult Beginner</td>\n",
       "      <td>Counting time (6/8)</td>\n",
       "      <td>My current rhythm exercise is in 6/8 time.\\n\\n...</td>\n",
       "      <td>violinist</td>\n",
       "    </tr>\n",
       "  </tbody>\n",
       "</table>\n",
       "</div>"
      ],
      "text/plain": [
       "  author_id           posted_on      author_tag  \\\n",
       "0    o24eoj 2021-06-17 18:41:15        Advanced   \n",
       "1    o23xyv 2021-06-17 18:21:58             NaN   \n",
       "2    o20e4w 2021-06-17 15:48:10  Adult Beginner   \n",
       "\n",
       "                                          post_title  \\\n",
       "0  Ysaÿe violin concerto in E minor, the first mo...   \n",
       "1      Video performance examples with great vibrato   \n",
       "2                                Counting time (6/8)   \n",
       "\n",
       "                                    post_description subreddit_name  \n",
       "0  [https://www.youtube.com/watch?v=PONbtxcPcKQ](...      violinist  \n",
       "1  I've been struggling with my vibrato and am lo...      violinist  \n",
       "2  My current rhythm exercise is in 6/8 time.\\n\\n...      violinist  "
      ]
     },
     "execution_count": 175,
     "metadata": {},
     "output_type": "execute_result"
    }
   ],
   "source": [
    "#https://www.w3resource.com/python-exercises/pandas/time-series/pandas-time-series-exercise-17.php\n",
    "violinist_df['posted_on']=pd.to_datetime(violinist_df['posted_on'], unit='s')\n",
    "violinist_df.head(3)"
   ]
  },
  {
   "cell_type": "markdown",
   "id": "1d0ae3ee",
   "metadata": {},
   "source": [
    "**check data types**"
   ]
  },
  {
   "cell_type": "code",
   "execution_count": 176,
   "id": "e14870ff",
   "metadata": {
    "scrolled": false
   },
   "outputs": [
    {
     "data": {
      "text/plain": [
       "author_id                   object\n",
       "posted_on           datetime64[ns]\n",
       "author_tag                  object\n",
       "post_title                  object\n",
       "post_description            object\n",
       "subreddit_name              object\n",
       "dtype: object"
      ]
     },
     "execution_count": 176,
     "metadata": {},
     "output_type": "execute_result"
    }
   ],
   "source": [
    "violinist_df.dtypes"
   ]
  },
  {
   "cell_type": "markdown",
   "id": "812ac1c2",
   "metadata": {},
   "source": [
    "**plot author_tag to check the type of tags**"
   ]
  },
  {
   "cell_type": "code",
   "execution_count": 177,
   "id": "65bf25a7",
   "metadata": {
    "scrolled": true
   },
   "outputs": [
    {
     "data": {
      "text/plain": [
       "Text(0.5, 1.0, 'Types of Author Tags')"
      ]
     },
     "execution_count": 177,
     "metadata": {},
     "output_type": "execute_result"
    },
    {
     "data": {
      "image/png": "[encoded data removed]",
      "text/plain": [
       "<Figure size 432x288 with 1 Axes>"
      ]
     },
     "metadata": {
      "needs_background": "light"
     },
     "output_type": "display_data"
    }
   ],
   "source": [
    "violinist_df['author_tag'].value_counts().plot(kind='barh')\n",
    "plt.title(\"Types of Author Tags\")"
   ]
  },
  {
   "cell_type": "markdown",
   "id": "93ec1b91",
   "metadata": {},
   "source": [
    "**Cello dataframe cleaning and EDA**"
   ]
  },
  {
   "cell_type": "code",
   "execution_count": 178,
   "id": "a7b595cc",
   "metadata": {
    "scrolled": true
   },
   "outputs": [
    {
     "data": {
      "text/html": [
       "<div>\n",
       "<style scoped>\n",
       "    .dataframe tbody tr th:only-of-type {\n",
       "        vertical-align: middle;\n",
       "    }\n",
       "\n",
       "    .dataframe tbody tr th {\n",
       "        vertical-align: top;\n",
       "    }\n",
       "\n",
       "    .dataframe thead th {\n",
       "        text-align: right;\n",
       "    }\n",
       "</style>\n",
       "<table border=\"1\" class=\"dataframe\">\n",
       "  <thead>\n",
       "    <tr style=\"text-align: right;\">\n",
       "      <th></th>\n",
       "      <th>Unnamed: 0</th>\n",
       "      <th>author_flair_text</th>\n",
       "      <th>created_utc</th>\n",
       "      <th>id</th>\n",
       "      <th>selftext</th>\n",
       "      <th>subreddit</th>\n",
       "      <th>title</th>\n",
       "    </tr>\n",
       "  </thead>\n",
       "  <tbody>\n",
       "    <tr>\n",
       "      <th>0</th>\n",
       "      <td>0</td>\n",
       "      <td>NaN</td>\n",
       "      <td>1623949192</td>\n",
       "      <td>o220ak</td>\n",
       "      <td>Hey everyone,\\n\\nI was thinking of playing the...</td>\n",
       "      <td>Cello</td>\n",
       "      <td>Difficulty of Halvorsen Passacaglia</td>\n",
       "    </tr>\n",
       "    <tr>\n",
       "      <th>1</th>\n",
       "      <td>1</td>\n",
       "      <td>NaN</td>\n",
       "      <td>1623938843</td>\n",
       "      <td>o1y3l8</td>\n",
       "      <td>Hi all! I've been taking lessons for about a m...</td>\n",
       "      <td>Cello</td>\n",
       "      <td>Self care tips?</td>\n",
       "    </tr>\n",
       "    <tr>\n",
       "      <th>2</th>\n",
       "      <td>2</td>\n",
       "      <td>NaN</td>\n",
       "      <td>1623898632</td>\n",
       "      <td>o1mpqb</td>\n",
       "      <td>Long story short my beloved Cello is now Firew...</td>\n",
       "      <td>Cello</td>\n",
       "      <td>About to Purchase Hidersine Vivente, Need Pers...</td>\n",
       "    </tr>\n",
       "  </tbody>\n",
       "</table>\n",
       "</div>"
      ],
      "text/plain": [
       "   Unnamed: 0 author_flair_text  created_utc      id  \\\n",
       "0           0               NaN   1623949192  o220ak   \n",
       "1           1               NaN   1623938843  o1y3l8   \n",
       "2           2               NaN   1623898632  o1mpqb   \n",
       "\n",
       "                                            selftext subreddit  \\\n",
       "0  Hey everyone,\\n\\nI was thinking of playing the...     Cello   \n",
       "1  Hi all! I've been taking lessons for about a m...     Cello   \n",
       "2  Long story short my beloved Cello is now Firew...     Cello   \n",
       "\n",
       "                                               title  \n",
       "0                Difficulty of Halvorsen Passacaglia  \n",
       "1                                    Self care tips?  \n",
       "2  About to Purchase Hidersine Vivente, Need Pers...  "
      ]
     },
     "execution_count": 178,
     "metadata": {},
     "output_type": "execute_result"
    }
   ],
   "source": [
    "cello_df.head(3)"
   ]
  },
  {
   "cell_type": "markdown",
   "id": "73660058",
   "metadata": {},
   "source": [
    "**Drop Unnamed: 0 column**"
   ]
  },
  {
   "cell_type": "code",
   "execution_count": 179,
   "id": "7c427ee3",
   "metadata": {},
   "outputs": [],
   "source": [
    "cello_df.drop('Unnamed: 0', axis=1, inplace=True)"
   ]
  },
  {
   "cell_type": "markdown",
   "id": "eacc8971",
   "metadata": {},
   "source": [
    "**Rename the columns**"
   ]
  },
  {
   "cell_type": "code",
   "execution_count": 180,
   "id": "1dacbb9b",
   "metadata": {},
   "outputs": [],
   "source": [
    "rename_columns_dict = {\n",
    "    'id':'author_id',\n",
    "    'created_utc' : 'posted_on',\n",
    "    'author_flair_text': 'author_tag', \n",
    "    'title': 'post_title',\n",
    "    'selftext':'post_description',\n",
    "    'subreddit':'subreddit_name'}"
   ]
  },
  {
   "cell_type": "code",
   "execution_count": 181,
   "id": "2ef244de",
   "metadata": {},
   "outputs": [],
   "source": [
    "cello_df.rename(columns=rename_columns_dict, inplace=True) "
   ]
  },
  {
   "cell_type": "markdown",
   "id": "a8e2a02a",
   "metadata": {},
   "source": [
    "**Change column order**"
   ]
  },
  {
   "cell_type": "code",
   "execution_count": 182,
   "id": "481104ab",
   "metadata": {
    "scrolled": false
   },
   "outputs": [],
   "source": [
    "# Moving the subreddit column to the end for the eventual merge with the Cello dataframe\n",
    "# This will be the y_value\n",
    "cello_df = cello_df[['author_id','posted_on','author_tag','post_title','post_description','subreddit_name']]"
   ]
  },
  {
   "cell_type": "markdown",
   "id": "74696462",
   "metadata": {},
   "source": [
    "**Convert unix/epoch time to a regular time stamp in UTC**"
   ]
  },
  {
   "cell_type": "code",
   "execution_count": 183,
   "id": "2b4e99c8",
   "metadata": {},
   "outputs": [
    {
     "data": {
      "text/html": [
       "<div>\n",
       "<style scoped>\n",
       "    .dataframe tbody tr th:only-of-type {\n",
       "        vertical-align: middle;\n",
       "    }\n",
       "\n",
       "    .dataframe tbody tr th {\n",
       "        vertical-align: top;\n",
       "    }\n",
       "\n",
       "    .dataframe thead th {\n",
       "        text-align: right;\n",
       "    }\n",
       "</style>\n",
       "<table border=\"1\" class=\"dataframe\">\n",
       "  <thead>\n",
       "    <tr style=\"text-align: right;\">\n",
       "      <th></th>\n",
       "      <th>author_id</th>\n",
       "      <th>posted_on</th>\n",
       "      <th>author_tag</th>\n",
       "      <th>post_title</th>\n",
       "      <th>post_description</th>\n",
       "      <th>subreddit_name</th>\n",
       "    </tr>\n",
       "  </thead>\n",
       "  <tbody>\n",
       "    <tr>\n",
       "      <th>0</th>\n",
       "      <td>o220ak</td>\n",
       "      <td>2021-06-17 16:59:52</td>\n",
       "      <td>NaN</td>\n",
       "      <td>Difficulty of Halvorsen Passacaglia</td>\n",
       "      <td>Hey everyone,\\n\\nI was thinking of playing the...</td>\n",
       "      <td>Cello</td>\n",
       "    </tr>\n",
       "    <tr>\n",
       "      <th>1</th>\n",
       "      <td>o1y3l8</td>\n",
       "      <td>2021-06-17 14:07:23</td>\n",
       "      <td>NaN</td>\n",
       "      <td>Self care tips?</td>\n",
       "      <td>Hi all! I've been taking lessons for about a m...</td>\n",
       "      <td>Cello</td>\n",
       "    </tr>\n",
       "    <tr>\n",
       "      <th>2</th>\n",
       "      <td>o1mpqb</td>\n",
       "      <td>2021-06-17 02:57:12</td>\n",
       "      <td>NaN</td>\n",
       "      <td>About to Purchase Hidersine Vivente, Need Pers...</td>\n",
       "      <td>Long story short my beloved Cello is now Firew...</td>\n",
       "      <td>Cello</td>\n",
       "    </tr>\n",
       "  </tbody>\n",
       "</table>\n",
       "</div>"
      ],
      "text/plain": [
       "  author_id           posted_on author_tag  \\\n",
       "0    o220ak 2021-06-17 16:59:52        NaN   \n",
       "1    o1y3l8 2021-06-17 14:07:23        NaN   \n",
       "2    o1mpqb 2021-06-17 02:57:12        NaN   \n",
       "\n",
       "                                          post_title  \\\n",
       "0                Difficulty of Halvorsen Passacaglia   \n",
       "1                                    Self care tips?   \n",
       "2  About to Purchase Hidersine Vivente, Need Pers...   \n",
       "\n",
       "                                    post_description subreddit_name  \n",
       "0  Hey everyone,\\n\\nI was thinking of playing the...          Cello  \n",
       "1  Hi all! I've been taking lessons for about a m...          Cello  \n",
       "2  Long story short my beloved Cello is now Firew...          Cello  "
      ]
     },
     "execution_count": 183,
     "metadata": {},
     "output_type": "execute_result"
    }
   ],
   "source": [
    "cello_df['posted_on']=pd.to_datetime(cello_df['posted_on'], unit='s')\n",
    "cello_df.head(3)"
   ]
  },
  {
   "cell_type": "markdown",
   "id": "e10c27ee",
   "metadata": {},
   "source": [
    "**check data types**"
   ]
  },
  {
   "cell_type": "code",
   "execution_count": 184,
   "id": "22b7c893",
   "metadata": {
    "scrolled": true
   },
   "outputs": [
    {
     "data": {
      "text/plain": [
       "author_id                   object\n",
       "posted_on           datetime64[ns]\n",
       "author_tag                  object\n",
       "post_title                  object\n",
       "post_description            object\n",
       "subreddit_name              object\n",
       "dtype: object"
      ]
     },
     "execution_count": 184,
     "metadata": {},
     "output_type": "execute_result"
    }
   ],
   "source": [
    "cello_df.dtypes"
   ]
  },
  {
   "cell_type": "markdown",
   "id": "54ad053f",
   "metadata": {},
   "source": [
    "**plot author_tag to check the type of tags**"
   ]
  },
  {
   "cell_type": "code",
   "execution_count": 185,
   "id": "b34fe7ea",
   "metadata": {
    "scrolled": true
   },
   "outputs": [
    {
     "data": {
      "text/plain": [
       "Text(0.5, 1.0, 'Types of Author Tags')"
      ]
     },
     "execution_count": 185,
     "metadata": {},
     "output_type": "execute_result"
    },
    {
     "data": {
      "image/png": "[encoded data removed]",
      "text/plain": [
       "<Figure size 432x288 with 1 Axes>"
      ]
     },
     "metadata": {
      "needs_background": "light"
     },
     "output_type": "display_data"
    }
   ],
   "source": [
    "cello_df['author_tag'].value_counts().plot(kind='barh');\n",
    "plt.title(\"Types of Author Tags\")"
   ]
  },
  {
   "cell_type": "markdown",
   "id": "ac4cd958",
   "metadata": {},
   "source": [
    "**Merge both dataframes**"
   ]
  },
  {
   "cell_type": "code",
   "execution_count": 195,
   "id": "21dd15f1",
   "metadata": {},
   "outputs": [],
   "source": [
    "reddit_data = pd.concat([violinist_df,cello_df])"
   ]
  },
  {
   "cell_type": "code",
   "execution_count": 198,
   "id": "69fa411c",
   "metadata": {},
   "outputs": [],
   "source": [
    "#reset the index\n",
    "reddit_data.reset_index(drop=True , inplace=True)"
   ]
  },
  {
   "cell_type": "code",
   "execution_count": 199,
   "id": "b1a26884",
   "metadata": {},
   "outputs": [
    {
     "data": {
      "text/plain": [
       "'Question (as a beginner)'"
      ]
     },
     "execution_count": 199,
     "metadata": {},
     "output_type": "execute_result"
    }
   ],
   "source": [
    "# check random row 'title'\n",
    "reddit_data['post_title'][4]"
   ]
  },
  {
   "cell_type": "code",
   "execution_count": 200,
   "id": "28025aeb",
   "metadata": {
    "scrolled": true
   },
   "outputs": [
    {
     "data": {
      "text/html": [
       "<div>\n",
       "<style scoped>\n",
       "    .dataframe tbody tr th:only-of-type {\n",
       "        vertical-align: middle;\n",
       "    }\n",
       "\n",
       "    .dataframe tbody tr th {\n",
       "        vertical-align: top;\n",
       "    }\n",
       "\n",
       "    .dataframe thead th {\n",
       "        text-align: right;\n",
       "    }\n",
       "</style>\n",
       "<table border=\"1\" class=\"dataframe\">\n",
       "  <thead>\n",
       "    <tr style=\"text-align: right;\">\n",
       "      <th></th>\n",
       "      <th>author_id</th>\n",
       "      <th>posted_on</th>\n",
       "      <th>author_tag</th>\n",
       "      <th>post_title</th>\n",
       "      <th>post_description</th>\n",
       "      <th>subreddit_name</th>\n",
       "    </tr>\n",
       "  </thead>\n",
       "  <tbody>\n",
       "    <tr>\n",
       "      <th>0</th>\n",
       "      <td>o24eoj</td>\n",
       "      <td>2021-06-17 18:41:15</td>\n",
       "      <td>Advanced</td>\n",
       "      <td>Ysaÿe violin concerto in E minor, the first mo...</td>\n",
       "      <td>[https://www.youtube.com/watch?v=PONbtxcPcKQ](...</td>\n",
       "      <td>violinist</td>\n",
       "    </tr>\n",
       "    <tr>\n",
       "      <th>1</th>\n",
       "      <td>o23xyv</td>\n",
       "      <td>2021-06-17 18:21:58</td>\n",
       "      <td>NaN</td>\n",
       "      <td>Video performance examples with great vibrato</td>\n",
       "      <td>I've been struggling with my vibrato and am lo...</td>\n",
       "      <td>violinist</td>\n",
       "    </tr>\n",
       "    <tr>\n",
       "      <th>2</th>\n",
       "      <td>o20e4w</td>\n",
       "      <td>2021-06-17 15:48:10</td>\n",
       "      <td>Adult Beginner</td>\n",
       "      <td>Counting time (6/8)</td>\n",
       "      <td>My current rhythm exercise is in 6/8 time.\\n\\n...</td>\n",
       "      <td>violinist</td>\n",
       "    </tr>\n",
       "  </tbody>\n",
       "</table>\n",
       "</div>"
      ],
      "text/plain": [
       "  author_id           posted_on      author_tag  \\\n",
       "0    o24eoj 2021-06-17 18:41:15        Advanced   \n",
       "1    o23xyv 2021-06-17 18:21:58             NaN   \n",
       "2    o20e4w 2021-06-17 15:48:10  Adult Beginner   \n",
       "\n",
       "                                          post_title  \\\n",
       "0  Ysaÿe violin concerto in E minor, the first mo...   \n",
       "1      Video performance examples with great vibrato   \n",
       "2                                Counting time (6/8)   \n",
       "\n",
       "                                    post_description subreddit_name  \n",
       "0  [https://www.youtube.com/watch?v=PONbtxcPcKQ](...      violinist  \n",
       "1  I've been struggling with my vibrato and am lo...      violinist  \n",
       "2  My current rhythm exercise is in 6/8 time.\\n\\n...      violinist  "
      ]
     },
     "execution_count": 200,
     "metadata": {},
     "output_type": "execute_result"
    }
   ],
   "source": [
    "#display the first five rows\n",
    "reddit_data.head(3)"
   ]
  },
  {
   "cell_type": "code",
   "execution_count": 201,
   "id": "304ec2cf",
   "metadata": {
    "scrolled": true
   },
   "outputs": [
    {
     "name": "stdout",
     "output_type": "stream",
     "text": [
      "Shape of Reddit data  dataframe: (2087, 6)\n"
     ]
    }
   ],
   "source": [
    "# Check shape of the dataframe\n",
    "print(f'Shape of Reddit data  dataframe: {reddit_data.shape}')"
   ]
  },
  {
   "cell_type": "markdown",
   "id": "87734fb1",
   "metadata": {},
   "source": [
    "**check data types**"
   ]
  },
  {
   "cell_type": "code",
   "execution_count": 202,
   "id": "0814b49c",
   "metadata": {},
   "outputs": [
    {
     "data": {
      "text/plain": [
       "author_id                   object\n",
       "posted_on           datetime64[ns]\n",
       "author_tag                  object\n",
       "post_title                  object\n",
       "post_description            object\n",
       "subreddit_name              object\n",
       "dtype: object"
      ]
     },
     "execution_count": 202,
     "metadata": {},
     "output_type": "execute_result"
    }
   ],
   "source": [
    "reddit_data.dtypes"
   ]
  },
  {
   "cell_type": "markdown",
   "id": "b15c4eee",
   "metadata": {},
   "source": [
    "**Binarize the subreddit column\\\n",
    "Violinist = 1 and Cello = 0**"
   ]
  },
  {
   "cell_type": "code",
   "execution_count": 203,
   "id": "7e814b40",
   "metadata": {},
   "outputs": [],
   "source": [
    "reddit_data['subreddit_name'] = reddit_data['subreddit_name'].map(lambda x: 1 if x == 'violinist'else 0)"
   ]
  },
  {
   "cell_type": "code",
   "execution_count": 204,
   "id": "9ae38fe2",
   "metadata": {},
   "outputs": [
    {
     "data": {
      "text/html": [
       "<div>\n",
       "<style scoped>\n",
       "    .dataframe tbody tr th:only-of-type {\n",
       "        vertical-align: middle;\n",
       "    }\n",
       "\n",
       "    .dataframe tbody tr th {\n",
       "        vertical-align: top;\n",
       "    }\n",
       "\n",
       "    .dataframe thead th {\n",
       "        text-align: right;\n",
       "    }\n",
       "</style>\n",
       "<table border=\"1\" class=\"dataframe\">\n",
       "  <thead>\n",
       "    <tr style=\"text-align: right;\">\n",
       "      <th></th>\n",
       "      <th>author_id</th>\n",
       "      <th>posted_on</th>\n",
       "      <th>author_tag</th>\n",
       "      <th>post_title</th>\n",
       "      <th>post_description</th>\n",
       "      <th>subreddit_name</th>\n",
       "    </tr>\n",
       "  </thead>\n",
       "  <tbody>\n",
       "    <tr>\n",
       "      <th>0</th>\n",
       "      <td>o24eoj</td>\n",
       "      <td>2021-06-17 18:41:15</td>\n",
       "      <td>Advanced</td>\n",
       "      <td>Ysaÿe violin concerto in E minor, the first mo...</td>\n",
       "      <td>[https://www.youtube.com/watch?v=PONbtxcPcKQ](...</td>\n",
       "      <td>1</td>\n",
       "    </tr>\n",
       "    <tr>\n",
       "      <th>1</th>\n",
       "      <td>o23xyv</td>\n",
       "      <td>2021-06-17 18:21:58</td>\n",
       "      <td>NaN</td>\n",
       "      <td>Video performance examples with great vibrato</td>\n",
       "      <td>I've been struggling with my vibrato and am lo...</td>\n",
       "      <td>1</td>\n",
       "    </tr>\n",
       "    <tr>\n",
       "      <th>2</th>\n",
       "      <td>o20e4w</td>\n",
       "      <td>2021-06-17 15:48:10</td>\n",
       "      <td>Adult Beginner</td>\n",
       "      <td>Counting time (6/8)</td>\n",
       "      <td>My current rhythm exercise is in 6/8 time.\\n\\n...</td>\n",
       "      <td>1</td>\n",
       "    </tr>\n",
       "    <tr>\n",
       "      <th>3</th>\n",
       "      <td>o1vxwd</td>\n",
       "      <td>2021-06-17 12:22:01</td>\n",
       "      <td>NaN</td>\n",
       "      <td>I’m interested in picking up violin</td>\n",
       "      <td>Hello everyone, as you can tell by the title I...</td>\n",
       "      <td>1</td>\n",
       "    </tr>\n",
       "    <tr>\n",
       "      <th>4</th>\n",
       "      <td>o1rmpe</td>\n",
       "      <td>2021-06-17 07:49:56</td>\n",
       "      <td>NaN</td>\n",
       "      <td>Question (as a beginner)</td>\n",
       "      <td>When the score says Sul G, Sul D, IVeme chord,...</td>\n",
       "      <td>1</td>\n",
       "    </tr>\n",
       "  </tbody>\n",
       "</table>\n",
       "</div>"
      ],
      "text/plain": [
       "  author_id           posted_on      author_tag  \\\n",
       "0    o24eoj 2021-06-17 18:41:15        Advanced   \n",
       "1    o23xyv 2021-06-17 18:21:58             NaN   \n",
       "2    o20e4w 2021-06-17 15:48:10  Adult Beginner   \n",
       "3    o1vxwd 2021-06-17 12:22:01             NaN   \n",
       "4    o1rmpe 2021-06-17 07:49:56             NaN   \n",
       "\n",
       "                                          post_title  \\\n",
       "0  Ysaÿe violin concerto in E minor, the first mo...   \n",
       "1      Video performance examples with great vibrato   \n",
       "2                                Counting time (6/8)   \n",
       "3                I’m interested in picking up violin   \n",
       "4                           Question (as a beginner)   \n",
       "\n",
       "                                    post_description  subreddit_name  \n",
       "0  [https://www.youtube.com/watch?v=PONbtxcPcKQ](...               1  \n",
       "1  I've been struggling with my vibrato and am lo...               1  \n",
       "2  My current rhythm exercise is in 6/8 time.\\n\\n...               1  \n",
       "3  Hello everyone, as you can tell by the title I...               1  \n",
       "4  When the score says Sul G, Sul D, IVeme chord,...               1  "
      ]
     },
     "execution_count": 204,
     "metadata": {},
     "output_type": "execute_result"
    }
   ],
   "source": [
    "#display the first five rows\n",
    "reddit_data.head(5)"
   ]
  },
  {
   "cell_type": "code",
   "execution_count": 205,
   "id": "66a5aebc",
   "metadata": {},
   "outputs": [
    {
     "data": {
      "text/html": [
       "<div>\n",
       "<style scoped>\n",
       "    .dataframe tbody tr th:only-of-type {\n",
       "        vertical-align: middle;\n",
       "    }\n",
       "\n",
       "    .dataframe tbody tr th {\n",
       "        vertical-align: top;\n",
       "    }\n",
       "\n",
       "    .dataframe thead th {\n",
       "        text-align: right;\n",
       "    }\n",
       "</style>\n",
       "<table border=\"1\" class=\"dataframe\">\n",
       "  <thead>\n",
       "    <tr style=\"text-align: right;\">\n",
       "      <th></th>\n",
       "      <th>author_id</th>\n",
       "      <th>posted_on</th>\n",
       "      <th>author_tag</th>\n",
       "      <th>post_title</th>\n",
       "      <th>post_description</th>\n",
       "      <th>subreddit_name</th>\n",
       "    </tr>\n",
       "  </thead>\n",
       "  <tbody>\n",
       "    <tr>\n",
       "      <th>2082</th>\n",
       "      <td>jmsjwd</td>\n",
       "      <td>2020-11-02 18:00:04</td>\n",
       "      <td>NaN</td>\n",
       "      <td>Can someone provide a sound file or video of j...</td>\n",
       "      <td>[removed]</td>\n",
       "      <td>0</td>\n",
       "    </tr>\n",
       "    <tr>\n",
       "      <th>2083</th>\n",
       "      <td>jms9vh</td>\n",
       "      <td>2020-11-02 17:46:46</td>\n",
       "      <td>NaN</td>\n",
       "      <td>Double bass tuner for C string on cello?</td>\n",
       "      <td>I have a really cheap cello, and there is no w...</td>\n",
       "      <td>0</td>\n",
       "    </tr>\n",
       "    <tr>\n",
       "      <th>2084</th>\n",
       "      <td>jmmj7y</td>\n",
       "      <td>2020-11-02 12:28:52</td>\n",
       "      <td>NaN</td>\n",
       "      <td>Buying in Boston area</td>\n",
       "      <td>Hi all, adult recent learner looking to buy my...</td>\n",
       "      <td>0</td>\n",
       "    </tr>\n",
       "    <tr>\n",
       "      <th>2085</th>\n",
       "      <td>jm7dux</td>\n",
       "      <td>2020-11-01 18:38:33</td>\n",
       "      <td>NaN</td>\n",
       "      <td>Injuries in the workforce?</td>\n",
       "      <td>How often do injuries happen to those who are ...</td>\n",
       "      <td>0</td>\n",
       "    </tr>\n",
       "    <tr>\n",
       "      <th>2086</th>\n",
       "      <td>jm04c7</td>\n",
       "      <td>2020-11-01 10:24:17</td>\n",
       "      <td>NaN</td>\n",
       "      <td>So here is my attempt on Bach Suite(s)...</td>\n",
       "      <td>Don't know what came across my head to record ...</td>\n",
       "      <td>0</td>\n",
       "    </tr>\n",
       "  </tbody>\n",
       "</table>\n",
       "</div>"
      ],
      "text/plain": [
       "     author_id           posted_on author_tag  \\\n",
       "2082    jmsjwd 2020-11-02 18:00:04        NaN   \n",
       "2083    jms9vh 2020-11-02 17:46:46        NaN   \n",
       "2084    jmmj7y 2020-11-02 12:28:52        NaN   \n",
       "2085    jm7dux 2020-11-01 18:38:33        NaN   \n",
       "2086    jm04c7 2020-11-01 10:24:17        NaN   \n",
       "\n",
       "                                             post_title  \\\n",
       "2082  Can someone provide a sound file or video of j...   \n",
       "2083           Double bass tuner for C string on cello?   \n",
       "2084                              Buying in Boston area   \n",
       "2085                         Injuries in the workforce?   \n",
       "2086          So here is my attempt on Bach Suite(s)...   \n",
       "\n",
       "                                       post_description  subreddit_name  \n",
       "2082                                          [removed]               0  \n",
       "2083  I have a really cheap cello, and there is no w...               0  \n",
       "2084  Hi all, adult recent learner looking to buy my...               0  \n",
       "2085  How often do injuries happen to those who are ...               0  \n",
       "2086  Don't know what came across my head to record ...               0  "
      ]
     },
     "execution_count": 205,
     "metadata": {},
     "output_type": "execute_result"
    }
   ],
   "source": [
    "#display the last five rows\n",
    "reddit_data.tail(5)"
   ]
  },
  {
   "cell_type": "markdown",
   "id": "c2530c76",
   "metadata": {},
   "source": [
    "**Removing special characters , Tokenizing & stemming**"
   ]
  },
  {
   "cell_type": "code",
   "execution_count": 206,
   "id": "84c8aaa2",
   "metadata": {
    "scrolled": true
   },
   "outputs": [],
   "source": [
    "p_stemmer = PorterStemmer() # Instantiate PortStemmer\n",
    "tokenizer = RegexpTokenizer(pattern=r'\\w+') #collect words only\n",
    "words = list(map(lambda x: x.lower(), reddit_data['post_title'])) #convert words in string to lowercase\n",
    "tokenized_words = [tokenizer.tokenize(x) for x in words]  #convert one long string into a list of strings\n",
    "clean_column_list = []\n",
    "for word_list in tokenized_words:\n",
    "    ##itearate each row\n",
    "    cleanlist = []\n",
    "    for word in word_list:\n",
    "        ##itearate each word in row\n",
    "        if word not in stopwords.words('english'): #removing  stop words\n",
    "            cleanlist.append(p_stemmer.stem(word)) #using stemmer take words and attempt to return a base form of the word\n",
    "    ##convert each clean row list to string and append to main list         \n",
    "    clean_column_list.append((\" \").join(cleanlist))"
   ]
  },
  {
   "cell_type": "code",
   "execution_count": 207,
   "id": "13efb28d",
   "metadata": {},
   "outputs": [
    {
     "data": {
      "text/html": [
       "<div>\n",
       "<style scoped>\n",
       "    .dataframe tbody tr th:only-of-type {\n",
       "        vertical-align: middle;\n",
       "    }\n",
       "\n",
       "    .dataframe tbody tr th {\n",
       "        vertical-align: top;\n",
       "    }\n",
       "\n",
       "    .dataframe thead th {\n",
       "        text-align: right;\n",
       "    }\n",
       "</style>\n",
       "<table border=\"1\" class=\"dataframe\">\n",
       "  <thead>\n",
       "    <tr style=\"text-align: right;\">\n",
       "      <th></th>\n",
       "      <th>post_title</th>\n",
       "    </tr>\n",
       "  </thead>\n",
       "  <tbody>\n",
       "    <tr>\n",
       "      <th>0</th>\n",
       "      <td>ysaÿe violin concerto e minor first movement l...</td>\n",
       "    </tr>\n",
       "    <tr>\n",
       "      <th>1</th>\n",
       "      <td>video perform exampl great vibrato</td>\n",
       "    </tr>\n",
       "    <tr>\n",
       "      <th>2</th>\n",
       "      <td>count time 6 8</td>\n",
       "    </tr>\n",
       "    <tr>\n",
       "      <th>3</th>\n",
       "      <td>interest pick violin</td>\n",
       "    </tr>\n",
       "    <tr>\n",
       "      <th>4</th>\n",
       "      <td>question beginn</td>\n",
       "    </tr>\n",
       "  </tbody>\n",
       "</table>\n",
       "</div>"
      ],
      "text/plain": [
       "                                          post_title\n",
       "0  ysaÿe violin concerto e minor first movement l...\n",
       "1                 video perform exampl great vibrato\n",
       "2                                     count time 6 8\n",
       "3                               interest pick violin\n",
       "4                                    question beginn"
      ]
     },
     "execution_count": 207,
     "metadata": {},
     "output_type": "execute_result"
    }
   ],
   "source": [
    "# Place new lists of stemmed words into the 'title' column in the final dataframe\n",
    "reddit_data['post_title'] = clean_column_list\n",
    "# Check to see that the 'title' column is how it should look\n",
    "reddit_data[['post_title']].head()"
   ]
  },
  {
   "cell_type": "code",
   "execution_count": 208,
   "id": "e0d438b6",
   "metadata": {},
   "outputs": [],
   "source": [
    "# create a csv of the finalized dataframe\n",
    "reddit_data.to_csv('../data/reddit_data.csv',index=False)"
   ]
  }
 ],
 "metadata": {
  "kernelspec": {
   "display_name": "Python 3",
   "language": "python",
   "name": "python3"
  },
  "language_info": {
   "codemirror_mode": {
    "name": "ipython",
    "version": 3
   },
   "file_extension": ".py",
   "mimetype": "text/x-python",
   "name": "python",
   "nbconvert_exporter": "python",
   "pygments_lexer": "ipython3",
   "version": "3.8.8"
  }
 },
 "nbformat": 4,
 "nbformat_minor": 5
}
