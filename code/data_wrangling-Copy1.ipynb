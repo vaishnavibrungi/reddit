{
 "cells": [
  {
   "cell_type": "markdown",
   "id": "8c9f7a0d",
   "metadata": {},
   "source": [
    "# Project 3: Reddit "
   ]
  },
  {
   "cell_type": "markdown",
   "id": "53f14995",
   "metadata": {},
   "source": [
    "## Part 1 - Data Wrangling"
   ]
  },
  {
   "cell_type": "markdown",
   "id": "2f832c95",
   "metadata": {},
   "source": [
    "**Import libraries**"
   ]
  },
  {
   "cell_type": "code",
   "execution_count": 45,
   "id": "350d0e5e",
   "metadata": {},
   "outputs": [],
   "source": [
    "import pandas as pd \n",
    "import matplotlib.pyplot as plt\n",
    "import seaborn as sns\n",
    "import requests\n",
    "import time\n",
    "from sklearn.feature_extraction.text import CountVectorizer\n",
    "from sklearn.linear_model import LogisticRegressionCV\n",
    "from sklearn.metrics import plot_confusion_matrix\n",
    "from sklearn.model_selection import train_test_split\n",
    "from sklearn.naive_bayes import MultinomialNB\n",
    "from sklearn.pipeline import Pipeline"
   ]
  },
  {
   "cell_type": "code",
   "execution_count": 2,
   "id": "e58db3e2",
   "metadata": {},
   "outputs": [],
   "source": [
    "#https://stackoverflow.com/questions/59799041/why-reddit-return-502-error-when-accessing-a-page-using-beautifulsoup4\n",
    "headers = {'user-agent':'Mozilla/5.0 (Linux; Android 6.0; Nexus 5 Build/MRA58N) AppleWebKit/537.36 (KHTML, like Gecko) Chrome/79.0.3945.130 Mobile Safari/537.36'}\n",
    "url = \"https://api.pushshift.io/reddit/search/submission/\" #Get the url\n",
    "def read_data(params):\n",
    "    response = requests.get(url, headers=headers,params=params)\n",
    "    if response.status_code == 200:\n",
    "        return response.json()['data'] \n",
    "    else:\n",
    "        return []"
   ]
  },
  {
   "cell_type": "code",
   "execution_count": 3,
   "id": "02649ea4",
   "metadata": {},
   "outputs": [],
   "source": [
    "def read_reddit_data(subreddit,num_records):\n",
    "    before = None\n",
    "    posts = []\n",
    "    \n",
    "    while(len(posts)<num_records):\n",
    "        response = read_data({'subreddit': subreddit, \n",
    "                              'size':100, \n",
    "                              'sort':'desc',\n",
    "                              'sort_type':'created_utc', \n",
    "                              'before':before, \n",
    "                              'fields':[\"id\", \"created_utc\", \"title\", \"selftext\", \"subreddit\",\n",
    "                                        \"author_flair_text\",\"link_flair_text\"]})\n",
    "        for post in response:\n",
    "             if post.get('selftext', \"\").strip(\" \") != \"\" :\n",
    "                    posts.append(post)\n",
    "        before = response[-1].get(\"created_utc\")\n",
    " #https://stackoverflow.com/questions/20592808/add-all-elements-of-an-iterable-to-list\n",
    "        time.sleep(1) # pauses for a second between each requests\n",
    "    return posts"
   ]
  },
  {
   "cell_type": "code",
   "execution_count": 4,
   "id": "2d816da5",
   "metadata": {},
   "outputs": [],
   "source": [
    "violin_subreddit = read_reddit_data(\"violinist\",1000)"
   ]
  },
  {
   "cell_type": "code",
   "execution_count": 5,
   "id": "5b9dff00",
   "metadata": {},
   "outputs": [],
   "source": [
    "cello_subreddit = read_reddit_data(\"cello\",1000)"
   ]
  },
  {
   "cell_type": "code",
   "execution_count": 6,
   "id": "ca6dc708",
   "metadata": {},
   "outputs": [
    {
     "data": {
      "text/plain": [
       "1003"
      ]
     },
     "execution_count": 6,
     "metadata": {},
     "output_type": "execute_result"
    }
   ],
   "source": [
    "len(violin_subreddit)"
   ]
  },
  {
   "cell_type": "code",
   "execution_count": 7,
   "id": "17cb6202",
   "metadata": {},
   "outputs": [
    {
     "data": {
      "text/plain": [
       "1033"
      ]
     },
     "execution_count": 7,
     "metadata": {},
     "output_type": "execute_result"
    }
   ],
   "source": [
    "len(cello_subreddit)"
   ]
  },
  {
   "cell_type": "code",
   "execution_count": 8,
   "id": "3d06bfc6",
   "metadata": {
    "scrolled": true
   },
   "outputs": [
    {
     "data": {
      "text/html": [
       "<div>\n",
       "<style scoped>\n",
       "    .dataframe tbody tr th:only-of-type {\n",
       "        vertical-align: middle;\n",
       "    }\n",
       "\n",
       "    .dataframe tbody tr th {\n",
       "        vertical-align: top;\n",
       "    }\n",
       "\n",
       "    .dataframe thead th {\n",
       "        text-align: right;\n",
       "    }\n",
       "</style>\n",
       "<table border=\"1\" class=\"dataframe\">\n",
       "  <thead>\n",
       "    <tr style=\"text-align: right;\">\n",
       "      <th></th>\n",
       "      <th>author_flair_text</th>\n",
       "      <th>created_utc</th>\n",
       "      <th>id</th>\n",
       "      <th>selftext</th>\n",
       "      <th>subreddit</th>\n",
       "      <th>title</th>\n",
       "      <th>link_flair_text</th>\n",
       "    </tr>\n",
       "  </thead>\n",
       "  <tbody>\n",
       "    <tr>\n",
       "      <th>0</th>\n",
       "      <td>None</td>\n",
       "      <td>1623783569</td>\n",
       "      <td>o0lttl</td>\n",
       "      <td>Due to some unfortunate circumstances (and ter...</td>\n",
       "      <td>violinist</td>\n",
       "      <td>Help!</td>\n",
       "      <td>NaN</td>\n",
       "    </tr>\n",
       "    <tr>\n",
       "      <th>1</th>\n",
       "      <td>None</td>\n",
       "      <td>1623776195</td>\n",
       "      <td>o0j053</td>\n",
       "      <td>1. How often do you rosin?\\n2. Much much / how...</td>\n",
       "      <td>violinist</td>\n",
       "      <td>Rosin questions</td>\n",
       "      <td>NaN</td>\n",
       "    </tr>\n",
       "    <tr>\n",
       "      <th>2</th>\n",
       "      <td>None</td>\n",
       "      <td>1623775911</td>\n",
       "      <td>o0iwea</td>\n",
       "      <td>Hello! Is there any really good rosin I can us...</td>\n",
       "      <td>violinist</td>\n",
       "      <td>Which rosin</td>\n",
       "      <td>NaN</td>\n",
       "    </tr>\n",
       "    <tr>\n",
       "      <th>3</th>\n",
       "      <td>None</td>\n",
       "      <td>1623774812</td>\n",
       "      <td>o0ihfx</td>\n",
       "      <td>This isn't really a violin question per se, bu...</td>\n",
       "      <td>violinist</td>\n",
       "      <td>I'm writing a strings passage but can't decide...</td>\n",
       "      <td>Original</td>\n",
       "    </tr>\n",
       "    <tr>\n",
       "      <th>4</th>\n",
       "      <td>None</td>\n",
       "      <td>1623723973</td>\n",
       "      <td>o03ff8</td>\n",
       "      <td>[removed]</td>\n",
       "      <td>violinist</td>\n",
       "      <td>a Museletter Issue Twelve</td>\n",
       "      <td>NaN</td>\n",
       "    </tr>\n",
       "    <tr>\n",
       "      <th>5</th>\n",
       "      <td>Intermediate</td>\n",
       "      <td>1623718313</td>\n",
       "      <td>o01msj</td>\n",
       "      <td>[removed]</td>\n",
       "      <td>violinist</td>\n",
       "      <td>Solo Canon: 4 little canons for Solo Violin</td>\n",
       "      <td>Original</td>\n",
       "    </tr>\n",
       "    <tr>\n",
       "      <th>6</th>\n",
       "      <td>None</td>\n",
       "      <td>1623707468</td>\n",
       "      <td>nzy0yn</td>\n",
       "      <td>I just knocked off my sound post and my bridge...</td>\n",
       "      <td>violinist</td>\n",
       "      <td>Sound Post</td>\n",
       "      <td>Setup/Equipment</td>\n",
       "    </tr>\n",
       "    <tr>\n",
       "      <th>7</th>\n",
       "      <td>None</td>\n",
       "      <td>1623705757</td>\n",
       "      <td>nzxej0</td>\n",
       "      <td>[deleted]</td>\n",
       "      <td>violinist</td>\n",
       "      <td>We found a vintage Vienna violin in our grandf...</td>\n",
       "      <td>NaN</td>\n",
       "    </tr>\n",
       "    <tr>\n",
       "      <th>8</th>\n",
       "      <td>None</td>\n",
       "      <td>1623704899</td>\n",
       "      <td>nzx2xk</td>\n",
       "      <td>Hi! I played Paganini 5 without original bowin...</td>\n",
       "      <td>violinist</td>\n",
       "      <td>Need advice on Paganini 5 original bowing</td>\n",
       "      <td>NaN</td>\n",
       "    </tr>\n",
       "    <tr>\n",
       "      <th>9</th>\n",
       "      <td>None</td>\n",
       "      <td>1623702961</td>\n",
       "      <td>nzwc7r</td>\n",
       "      <td>Hello! I was just wondering how often should y...</td>\n",
       "      <td>violinist</td>\n",
       "      <td>Do I need new strings</td>\n",
       "      <td>NaN</td>\n",
       "    </tr>\n",
       "  </tbody>\n",
       "</table>\n",
       "</div>"
      ],
      "text/plain": [
       "  author_flair_text  created_utc      id  \\\n",
       "0              None   1623783569  o0lttl   \n",
       "1              None   1623776195  o0j053   \n",
       "2              None   1623775911  o0iwea   \n",
       "3              None   1623774812  o0ihfx   \n",
       "4              None   1623723973  o03ff8   \n",
       "5      Intermediate   1623718313  o01msj   \n",
       "6              None   1623707468  nzy0yn   \n",
       "7              None   1623705757  nzxej0   \n",
       "8              None   1623704899  nzx2xk   \n",
       "9              None   1623702961  nzwc7r   \n",
       "\n",
       "                                            selftext  subreddit  \\\n",
       "0  Due to some unfortunate circumstances (and ter...  violinist   \n",
       "1  1. How often do you rosin?\\n2. Much much / how...  violinist   \n",
       "2  Hello! Is there any really good rosin I can us...  violinist   \n",
       "3  This isn't really a violin question per se, bu...  violinist   \n",
       "4                                          [removed]  violinist   \n",
       "5                                          [removed]  violinist   \n",
       "6  I just knocked off my sound post and my bridge...  violinist   \n",
       "7                                          [deleted]  violinist   \n",
       "8  Hi! I played Paganini 5 without original bowin...  violinist   \n",
       "9  Hello! I was just wondering how often should y...  violinist   \n",
       "\n",
       "                                               title  link_flair_text  \n",
       "0                                              Help!              NaN  \n",
       "1                                    Rosin questions              NaN  \n",
       "2                                        Which rosin              NaN  \n",
       "3  I'm writing a strings passage but can't decide...         Original  \n",
       "4                          a Museletter Issue Twelve              NaN  \n",
       "5        Solo Canon: 4 little canons for Solo Violin         Original  \n",
       "6                                         Sound Post  Setup/Equipment  \n",
       "7  We found a vintage Vienna violin in our grandf...              NaN  \n",
       "8          Need advice on Paganini 5 original bowing              NaN  \n",
       "9                              Do I need new strings              NaN  "
      ]
     },
     "execution_count": 8,
     "metadata": {},
     "output_type": "execute_result"
    }
   ],
   "source": [
    "# Turn list of dictionaries to a data frame!\n",
    "violinist_df = pd.DataFrame(violin_subreddit)\n",
    "violinist_df.head(10)"
   ]
  },
  {
   "cell_type": "code",
   "execution_count": 9,
   "id": "11184f14",
   "metadata": {},
   "outputs": [
    {
     "data": {
      "text/html": [
       "<div>\n",
       "<style scoped>\n",
       "    .dataframe tbody tr th:only-of-type {\n",
       "        vertical-align: middle;\n",
       "    }\n",
       "\n",
       "    .dataframe tbody tr th {\n",
       "        vertical-align: top;\n",
       "    }\n",
       "\n",
       "    .dataframe thead th {\n",
       "        text-align: right;\n",
       "    }\n",
       "</style>\n",
       "<table border=\"1\" class=\"dataframe\">\n",
       "  <thead>\n",
       "    <tr style=\"text-align: right;\">\n",
       "      <th></th>\n",
       "      <th>author_flair_text</th>\n",
       "      <th>created_utc</th>\n",
       "      <th>id</th>\n",
       "      <th>selftext</th>\n",
       "      <th>subreddit</th>\n",
       "      <th>title</th>\n",
       "    </tr>\n",
       "  </thead>\n",
       "  <tbody>\n",
       "    <tr>\n",
       "      <th>0</th>\n",
       "      <td>None</td>\n",
       "      <td>1623772571</td>\n",
       "      <td>o0hn28</td>\n",
       "      <td>Hey there people from r/Cello!\\n\\nI'm looking ...</td>\n",
       "      <td>Cello</td>\n",
       "      <td>I'm looking for a cello player for a Zelda Arr...</td>\n",
       "    </tr>\n",
       "    <tr>\n",
       "      <th>1</th>\n",
       "      <td>None</td>\n",
       "      <td>1623770561</td>\n",
       "      <td>o0gvzw</td>\n",
       "      <td>[removed]</td>\n",
       "      <td>Cello</td>\n",
       "      <td>I can't relax... help</td>\n",
       "    </tr>\n",
       "    <tr>\n",
       "      <th>2</th>\n",
       "      <td>None</td>\n",
       "      <td>1623763528</td>\n",
       "      <td>o0eawx</td>\n",
       "      <td>Hi everyone,\\n\\nBeen playing cello off and on ...</td>\n",
       "      <td>Cello</td>\n",
       "      <td>How do you all practice?</td>\n",
       "    </tr>\n",
       "    <tr>\n",
       "      <th>3</th>\n",
       "      <td>None</td>\n",
       "      <td>1623681716</td>\n",
       "      <td>nzocca</td>\n",
       "      <td>I'm a good month into learning the cello and n...</td>\n",
       "      <td>Cello</td>\n",
       "      <td>Struggle with stretching my fingers</td>\n",
       "    </tr>\n",
       "    <tr>\n",
       "      <th>4</th>\n",
       "      <td>None</td>\n",
       "      <td>1623663397</td>\n",
       "      <td>nzizuq</td>\n",
       "      <td>Hi, this is so silly. But I used to study the ...</td>\n",
       "      <td>Cello</td>\n",
       "      <td>Need practicing pieces! (used to be a professi...</td>\n",
       "    </tr>\n",
       "    <tr>\n",
       "      <th>5</th>\n",
       "      <td>None</td>\n",
       "      <td>1623643536</td>\n",
       "      <td>nze65i</td>\n",
       "      <td>Does anyone know if these are good or do they ...</td>\n",
       "      <td>Cello</td>\n",
       "      <td>Harp Cello Tailpiece</td>\n",
       "    </tr>\n",
       "    <tr>\n",
       "      <th>6</th>\n",
       "      <td>None</td>\n",
       "      <td>1623591906</td>\n",
       "      <td>nywneg</td>\n",
       "      <td>This may be a long shot, but if anyone might b...</td>\n",
       "      <td>Cello</td>\n",
       "      <td>Help with musician ID</td>\n",
       "    </tr>\n",
       "    <tr>\n",
       "      <th>7</th>\n",
       "      <td>None</td>\n",
       "      <td>1623590691</td>\n",
       "      <td>nyw9gs</td>\n",
       "      <td>Hello all, I have a couple questions about the...</td>\n",
       "      <td>Cello</td>\n",
       "      <td>considering taking ABRSM exam</td>\n",
       "    </tr>\n",
       "    <tr>\n",
       "      <th>8</th>\n",
       "      <td>None</td>\n",
       "      <td>1623535450</td>\n",
       "      <td>nyhvfm</td>\n",
       "      <td>Well, my quartet of adult learners had our fir...</td>\n",
       "      <td>Cello</td>\n",
       "      <td>First performance today... went mostly okay</td>\n",
       "    </tr>\n",
       "    <tr>\n",
       "      <th>9</th>\n",
       "      <td>None</td>\n",
       "      <td>1623526292</td>\n",
       "      <td>nyefm5</td>\n",
       "      <td>I am looking for nice lyrical pieces that make...</td>\n",
       "      <td>Cello</td>\n",
       "      <td>Suggestions for lyrical pieces (easy to interm...</td>\n",
       "    </tr>\n",
       "  </tbody>\n",
       "</table>\n",
       "</div>"
      ],
      "text/plain": [
       "  author_flair_text  created_utc      id  \\\n",
       "0              None   1623772571  o0hn28   \n",
       "1              None   1623770561  o0gvzw   \n",
       "2              None   1623763528  o0eawx   \n",
       "3              None   1623681716  nzocca   \n",
       "4              None   1623663397  nzizuq   \n",
       "5              None   1623643536  nze65i   \n",
       "6              None   1623591906  nywneg   \n",
       "7              None   1623590691  nyw9gs   \n",
       "8              None   1623535450  nyhvfm   \n",
       "9              None   1623526292  nyefm5   \n",
       "\n",
       "                                            selftext subreddit  \\\n",
       "0  Hey there people from r/Cello!\\n\\nI'm looking ...     Cello   \n",
       "1                                          [removed]     Cello   \n",
       "2  Hi everyone,\\n\\nBeen playing cello off and on ...     Cello   \n",
       "3  I'm a good month into learning the cello and n...     Cello   \n",
       "4  Hi, this is so silly. But I used to study the ...     Cello   \n",
       "5  Does anyone know if these are good or do they ...     Cello   \n",
       "6  This may be a long shot, but if anyone might b...     Cello   \n",
       "7  Hello all, I have a couple questions about the...     Cello   \n",
       "8  Well, my quartet of adult learners had our fir...     Cello   \n",
       "9  I am looking for nice lyrical pieces that make...     Cello   \n",
       "\n",
       "                                               title  \n",
       "0  I'm looking for a cello player for a Zelda Arr...  \n",
       "1                              I can't relax... help  \n",
       "2                           How do you all practice?  \n",
       "3                Struggle with stretching my fingers  \n",
       "4  Need practicing pieces! (used to be a professi...  \n",
       "5                               Harp Cello Tailpiece  \n",
       "6                              Help with musician ID  \n",
       "7                      considering taking ABRSM exam  \n",
       "8        First performance today... went mostly okay  \n",
       "9  Suggestions for lyrical pieces (easy to interm...  "
      ]
     },
     "execution_count": 9,
     "metadata": {},
     "output_type": "execute_result"
    }
   ],
   "source": [
    "# Turn list of dictionaries to a data frame!\n",
    "cello_df = pd.DataFrame(cello_subreddit)\n",
    "cello_df.head(10)"
   ]
  },
  {
   "cell_type": "code",
   "execution_count": 10,
   "id": "26a5b3e3",
   "metadata": {
    "scrolled": true
   },
   "outputs": [
    {
     "data": {
      "text/plain": [
       "Student                0.862745\n",
       "Bachelor of Music      0.058824\n",
       "Name of your group     0.019608\n",
       "cello prof.            0.019608\n",
       "Arrangements/Comp      0.019608\n",
       "High School Student    0.019608\n",
       "Name: author_flair_text, dtype: float64"
      ]
     },
     "execution_count": 10,
     "metadata": {},
     "output_type": "execute_result"
    }
   ],
   "source": [
    "cello_df['author_flair_text'].value_counts(normalize=True)"
   ]
  },
  {
   "cell_type": "code",
   "execution_count": 11,
   "id": "480a340b",
   "metadata": {},
   "outputs": [
    {
     "data": {
      "image/png": "[encoded data removed]",
      "text/plain": [
       "<Figure size 432x288 with 1 Axes>"
      ]
     },
     "metadata": {
      "needs_background": "light"
     },
     "output_type": "display_data"
    }
   ],
   "source": [
    "cello_df['author_flair_text'].value_counts().plot(kind='barh');"
   ]
  },
  {
   "cell_type": "code",
   "execution_count": 12,
   "id": "3784060f",
   "metadata": {
    "scrolled": true
   },
   "outputs": [
    {
     "data": {
      "text/plain": [
       "Adult Beginner      0.308901\n",
       "Student             0.151832\n",
       "Intermediate        0.120419\n",
       "Teacher             0.089005\n",
       "Amateur             0.083770\n",
       "Beginner            0.083770\n",
       "Expert              0.062827\n",
       "Soloist             0.041885\n",
       "Music Major         0.031414\n",
       "Advanced            0.010471\n",
       "Viola               0.010471\n",
       "Gigging Musician    0.005236\n",
       "Name: author_flair_text, dtype: float64"
      ]
     },
     "execution_count": 12,
     "metadata": {},
     "output_type": "execute_result"
    }
   ],
   "source": [
    "violinist_df['author_flair_text'].value_counts(normalize=True)"
   ]
  },
  {
   "cell_type": "code",
   "execution_count": 13,
   "id": "d9691ab6",
   "metadata": {},
   "outputs": [
    {
     "data": {
      "text/plain": [
       "<AxesSubplot:>"
      ]
     },
     "execution_count": 13,
     "metadata": {},
     "output_type": "execute_result"
    },
    {
     "data": {
      "image/png": "[encoded data removed]",
      "text/plain": [
       "<Figure size 432x288 with 1 Axes>"
      ]
     },
     "metadata": {
      "needs_background": "light"
     },
     "output_type": "display_data"
    }
   ],
   "source": [
    "violinist_df['author_flair_text'].value_counts().plot(kind='barh')"
   ]
  },
  {
   "cell_type": "code",
   "execution_count": 14,
   "id": "59f56037",
   "metadata": {
    "scrolled": true
   },
   "outputs": [
    {
     "data": {
      "text/plain": [
       "Setup/Equipment               0.391144\n",
       "Technique                     0.254613\n",
       "Feedback                      0.188192\n",
       "Original                      0.088561\n",
       "Definitely Not About Cases    0.036900\n",
       "Violin Jam                    0.018450\n",
       "Share Your Playing            0.007380\n",
       "Question                      0.003690\n",
       "**IMPORTANT**                 0.003690\n",
       "Composing                     0.003690\n",
       "Help me Find Resources        0.003690\n",
       "Name: link_flair_text, dtype: float64"
      ]
     },
     "execution_count": 14,
     "metadata": {},
     "output_type": "execute_result"
    }
   ],
   "source": [
    "violinist_df['link_flair_text'].value_counts(normalize=True)"
   ]
  },
  {
   "cell_type": "code",
   "execution_count": 15,
   "id": "1fea4955",
   "metadata": {},
   "outputs": [
    {
     "data": {
      "image/png": "[encoded data removed]",
      "text/plain": [
       "<Figure size 432x288 with 1 Axes>"
      ]
     },
     "metadata": {
      "needs_background": "light"
     },
     "output_type": "display_data"
    }
   ],
   "source": [
    "violinist_df['link_flair_text'].value_counts().plot(kind='barh');"
   ]
  },
  {
   "cell_type": "code",
   "execution_count": 16,
   "id": "86795836",
   "metadata": {},
   "outputs": [],
   "source": [
    "cv = CountVectorizer()"
   ]
  },
  {
   "cell_type": "code",
   "execution_count": 17,
   "id": "920f6e99",
   "metadata": {},
   "outputs": [
    {
     "data": {
      "text/html": [
       "<div>\n",
       "<style scoped>\n",
       "    .dataframe tbody tr th:only-of-type {\n",
       "        vertical-align: middle;\n",
       "    }\n",
       "\n",
       "    .dataframe tbody tr th {\n",
       "        vertical-align: top;\n",
       "    }\n",
       "\n",
       "    .dataframe thead th {\n",
       "        text-align: right;\n",
       "    }\n",
       "</style>\n",
       "<table border=\"1\" class=\"dataframe\">\n",
       "  <thead>\n",
       "    <tr style=\"text-align: right;\">\n",
       "      <th></th>\n",
       "      <th>02</th>\n",
       "      <th>10</th>\n",
       "      <th>100</th>\n",
       "      <th>1000</th>\n",
       "      <th>11</th>\n",
       "      <th>110</th>\n",
       "      <th>122</th>\n",
       "      <th>14</th>\n",
       "      <th>1400</th>\n",
       "      <th>16th</th>\n",
       "      <th>...</th>\n",
       "      <th>zoom</th>\n",
       "      <th>аbоut</th>\n",
       "      <th>аnd</th>\n",
       "      <th>еxpеriеnсe</th>\n",
       "      <th>нis</th>\n",
       "      <th>оf</th>\n",
       "      <th>оnly</th>\n",
       "      <th>раssed</th>\n",
       "      <th>сallеd</th>\n",
       "      <th>тhеre</th>\n",
       "    </tr>\n",
       "  </thead>\n",
       "  <tbody>\n",
       "    <tr>\n",
       "      <th>0</th>\n",
       "      <td>0</td>\n",
       "      <td>0</td>\n",
       "      <td>0</td>\n",
       "      <td>0</td>\n",
       "      <td>0</td>\n",
       "      <td>0</td>\n",
       "      <td>0</td>\n",
       "      <td>0</td>\n",
       "      <td>0</td>\n",
       "      <td>0</td>\n",
       "      <td>...</td>\n",
       "      <td>0</td>\n",
       "      <td>0</td>\n",
       "      <td>0</td>\n",
       "      <td>0</td>\n",
       "      <td>0</td>\n",
       "      <td>0</td>\n",
       "      <td>0</td>\n",
       "      <td>0</td>\n",
       "      <td>0</td>\n",
       "      <td>0</td>\n",
       "    </tr>\n",
       "    <tr>\n",
       "      <th>1</th>\n",
       "      <td>0</td>\n",
       "      <td>0</td>\n",
       "      <td>0</td>\n",
       "      <td>0</td>\n",
       "      <td>0</td>\n",
       "      <td>0</td>\n",
       "      <td>0</td>\n",
       "      <td>0</td>\n",
       "      <td>0</td>\n",
       "      <td>0</td>\n",
       "      <td>...</td>\n",
       "      <td>0</td>\n",
       "      <td>0</td>\n",
       "      <td>0</td>\n",
       "      <td>0</td>\n",
       "      <td>0</td>\n",
       "      <td>0</td>\n",
       "      <td>0</td>\n",
       "      <td>0</td>\n",
       "      <td>0</td>\n",
       "      <td>0</td>\n",
       "    </tr>\n",
       "    <tr>\n",
       "      <th>2</th>\n",
       "      <td>0</td>\n",
       "      <td>0</td>\n",
       "      <td>0</td>\n",
       "      <td>0</td>\n",
       "      <td>0</td>\n",
       "      <td>0</td>\n",
       "      <td>0</td>\n",
       "      <td>0</td>\n",
       "      <td>0</td>\n",
       "      <td>0</td>\n",
       "      <td>...</td>\n",
       "      <td>0</td>\n",
       "      <td>0</td>\n",
       "      <td>0</td>\n",
       "      <td>0</td>\n",
       "      <td>0</td>\n",
       "      <td>0</td>\n",
       "      <td>0</td>\n",
       "      <td>0</td>\n",
       "      <td>0</td>\n",
       "      <td>0</td>\n",
       "    </tr>\n",
       "    <tr>\n",
       "      <th>3</th>\n",
       "      <td>0</td>\n",
       "      <td>0</td>\n",
       "      <td>0</td>\n",
       "      <td>0</td>\n",
       "      <td>0</td>\n",
       "      <td>0</td>\n",
       "      <td>0</td>\n",
       "      <td>0</td>\n",
       "      <td>0</td>\n",
       "      <td>0</td>\n",
       "      <td>...</td>\n",
       "      <td>0</td>\n",
       "      <td>0</td>\n",
       "      <td>0</td>\n",
       "      <td>0</td>\n",
       "      <td>0</td>\n",
       "      <td>0</td>\n",
       "      <td>0</td>\n",
       "      <td>0</td>\n",
       "      <td>0</td>\n",
       "      <td>0</td>\n",
       "    </tr>\n",
       "    <tr>\n",
       "      <th>4</th>\n",
       "      <td>0</td>\n",
       "      <td>0</td>\n",
       "      <td>0</td>\n",
       "      <td>0</td>\n",
       "      <td>0</td>\n",
       "      <td>0</td>\n",
       "      <td>0</td>\n",
       "      <td>0</td>\n",
       "      <td>0</td>\n",
       "      <td>0</td>\n",
       "      <td>...</td>\n",
       "      <td>0</td>\n",
       "      <td>0</td>\n",
       "      <td>0</td>\n",
       "      <td>0</td>\n",
       "      <td>0</td>\n",
       "      <td>0</td>\n",
       "      <td>0</td>\n",
       "      <td>0</td>\n",
       "      <td>0</td>\n",
       "      <td>0</td>\n",
       "    </tr>\n",
       "  </tbody>\n",
       "</table>\n",
       "<p>5 rows × 1819 columns</p>\n",
       "</div>"
      ],
      "text/plain": [
       "   02  10  100  1000  11  110  122  14  1400  16th  ...  zoom  аbоut  аnd  \\\n",
       "0   0   0    0     0   0    0    0   0     0     0  ...     0      0    0   \n",
       "1   0   0    0     0   0    0    0   0     0     0  ...     0      0    0   \n",
       "2   0   0    0     0   0    0    0   0     0     0  ...     0      0    0   \n",
       "3   0   0    0     0   0    0    0   0     0     0  ...     0      0    0   \n",
       "4   0   0    0     0   0    0    0   0     0     0  ...     0      0    0   \n",
       "\n",
       "   еxpеriеnсe  нis  оf  оnly  раssed  сallеd  тhеre  \n",
       "0           0    0   0     0       0       0      0  \n",
       "1           0    0   0     0       0       0      0  \n",
       "2           0    0   0     0       0       0      0  \n",
       "3           0    0   0     0       0       0      0  \n",
       "4           0    0   0     0       0       0      0  \n",
       "\n",
       "[5 rows x 1819 columns]"
      ]
     },
     "execution_count": 17,
     "metadata": {},
     "output_type": "execute_result"
    }
   ],
   "source": [
    "cv.fit(cello_df['title'])\n",
    "cello_cv = cv.transform(cello_df['title'])\n",
    "cello_cv_df = pd.DataFrame(cello_cv.todense(),columns=cv.get_feature_names())\n",
    "cello_cv_df.head()"
   ]
  },
  {
   "cell_type": "code",
   "execution_count": 18,
   "id": "72c3bbf6",
   "metadata": {},
   "outputs": [
    {
     "data": {
      "text/plain": [
       "Text(0.5, 1.0, 'key words')"
      ]
     },
     "execution_count": 18,
     "metadata": {},
     "output_type": "execute_result"
    },
    {
     "data": {
      "image/png": "[encoded data removed]",
      "text/plain": [
       "<Figure size 432x288 with 1 Axes>"
      ]
     },
     "metadata": {
      "needs_background": "light"
     },
     "output_type": "display_data"
    }
   ],
   "source": [
    "cello_cv_df.sum().sort_values(ascending=False).head(25).plot(kind='barh')\n",
    "plt.title('key words')"
   ]
  },
  {
   "cell_type": "code",
   "execution_count": 19,
   "id": "06d256bf",
   "metadata": {},
   "outputs": [
    {
     "data": {
      "text/html": [
       "<div>\n",
       "<style scoped>\n",
       "    .dataframe tbody tr th:only-of-type {\n",
       "        vertical-align: middle;\n",
       "    }\n",
       "\n",
       "    .dataframe tbody tr th {\n",
       "        vertical-align: top;\n",
       "    }\n",
       "\n",
       "    .dataframe thead th {\n",
       "        text-align: right;\n",
       "    }\n",
       "</style>\n",
       "<table border=\"1\" class=\"dataframe\">\n",
       "  <thead>\n",
       "    <tr style=\"text-align: right;\">\n",
       "      <th></th>\n",
       "      <th>10</th>\n",
       "      <th>100</th>\n",
       "      <th>101</th>\n",
       "      <th>11</th>\n",
       "      <th>15</th>\n",
       "      <th>16ths</th>\n",
       "      <th>17</th>\n",
       "      <th>18</th>\n",
       "      <th>1852</th>\n",
       "      <th>18th</th>\n",
       "      <th>...</th>\n",
       "      <th>ysaye</th>\n",
       "      <th>ysaÿe</th>\n",
       "      <th>ysv104</th>\n",
       "      <th>zdzislaw</th>\n",
       "      <th>zigeunerweisen</th>\n",
       "      <th>zimmer</th>\n",
       "      <th>zoom</th>\n",
       "      <th>сriticism</th>\n",
       "      <th>バージョン</th>\n",
       "      <th>春のソナタ</th>\n",
       "    </tr>\n",
       "  </thead>\n",
       "  <tbody>\n",
       "    <tr>\n",
       "      <th>0</th>\n",
       "      <td>0</td>\n",
       "      <td>0</td>\n",
       "      <td>0</td>\n",
       "      <td>0</td>\n",
       "      <td>0</td>\n",
       "      <td>0</td>\n",
       "      <td>0</td>\n",
       "      <td>0</td>\n",
       "      <td>0</td>\n",
       "      <td>0</td>\n",
       "      <td>...</td>\n",
       "      <td>0</td>\n",
       "      <td>0</td>\n",
       "      <td>0</td>\n",
       "      <td>0</td>\n",
       "      <td>0</td>\n",
       "      <td>0</td>\n",
       "      <td>0</td>\n",
       "      <td>0</td>\n",
       "      <td>0</td>\n",
       "      <td>0</td>\n",
       "    </tr>\n",
       "    <tr>\n",
       "      <th>1</th>\n",
       "      <td>0</td>\n",
       "      <td>0</td>\n",
       "      <td>0</td>\n",
       "      <td>0</td>\n",
       "      <td>0</td>\n",
       "      <td>0</td>\n",
       "      <td>0</td>\n",
       "      <td>0</td>\n",
       "      <td>0</td>\n",
       "      <td>0</td>\n",
       "      <td>...</td>\n",
       "      <td>0</td>\n",
       "      <td>0</td>\n",
       "      <td>0</td>\n",
       "      <td>0</td>\n",
       "      <td>0</td>\n",
       "      <td>0</td>\n",
       "      <td>0</td>\n",
       "      <td>0</td>\n",
       "      <td>0</td>\n",
       "      <td>0</td>\n",
       "    </tr>\n",
       "    <tr>\n",
       "      <th>2</th>\n",
       "      <td>0</td>\n",
       "      <td>0</td>\n",
       "      <td>0</td>\n",
       "      <td>0</td>\n",
       "      <td>0</td>\n",
       "      <td>0</td>\n",
       "      <td>0</td>\n",
       "      <td>0</td>\n",
       "      <td>0</td>\n",
       "      <td>0</td>\n",
       "      <td>...</td>\n",
       "      <td>0</td>\n",
       "      <td>0</td>\n",
       "      <td>0</td>\n",
       "      <td>0</td>\n",
       "      <td>0</td>\n",
       "      <td>0</td>\n",
       "      <td>0</td>\n",
       "      <td>0</td>\n",
       "      <td>0</td>\n",
       "      <td>0</td>\n",
       "    </tr>\n",
       "    <tr>\n",
       "      <th>3</th>\n",
       "      <td>0</td>\n",
       "      <td>0</td>\n",
       "      <td>0</td>\n",
       "      <td>0</td>\n",
       "      <td>0</td>\n",
       "      <td>0</td>\n",
       "      <td>0</td>\n",
       "      <td>0</td>\n",
       "      <td>0</td>\n",
       "      <td>0</td>\n",
       "      <td>...</td>\n",
       "      <td>0</td>\n",
       "      <td>0</td>\n",
       "      <td>0</td>\n",
       "      <td>0</td>\n",
       "      <td>0</td>\n",
       "      <td>0</td>\n",
       "      <td>0</td>\n",
       "      <td>0</td>\n",
       "      <td>0</td>\n",
       "      <td>0</td>\n",
       "    </tr>\n",
       "    <tr>\n",
       "      <th>4</th>\n",
       "      <td>0</td>\n",
       "      <td>0</td>\n",
       "      <td>0</td>\n",
       "      <td>0</td>\n",
       "      <td>0</td>\n",
       "      <td>0</td>\n",
       "      <td>0</td>\n",
       "      <td>0</td>\n",
       "      <td>0</td>\n",
       "      <td>0</td>\n",
       "      <td>...</td>\n",
       "      <td>0</td>\n",
       "      <td>0</td>\n",
       "      <td>0</td>\n",
       "      <td>0</td>\n",
       "      <td>0</td>\n",
       "      <td>0</td>\n",
       "      <td>0</td>\n",
       "      <td>0</td>\n",
       "      <td>0</td>\n",
       "      <td>0</td>\n",
       "    </tr>\n",
       "  </tbody>\n",
       "</table>\n",
       "<p>5 rows × 1789 columns</p>\n",
       "</div>"
      ],
      "text/plain": [
       "   10  100  101  11  15  16ths  17  18  1852  18th  ...  ysaye  ysaÿe  ysv104  \\\n",
       "0   0    0    0   0   0      0   0   0     0     0  ...      0      0       0   \n",
       "1   0    0    0   0   0      0   0   0     0     0  ...      0      0       0   \n",
       "2   0    0    0   0   0      0   0   0     0     0  ...      0      0       0   \n",
       "3   0    0    0   0   0      0   0   0     0     0  ...      0      0       0   \n",
       "4   0    0    0   0   0      0   0   0     0     0  ...      0      0       0   \n",
       "\n",
       "   zdzislaw  zigeunerweisen  zimmer  zoom  сriticism  バージョン  春のソナタ  \n",
       "0         0               0       0     0          0      0      0  \n",
       "1         0               0       0     0          0      0      0  \n",
       "2         0               0       0     0          0      0      0  \n",
       "3         0               0       0     0          0      0      0  \n",
       "4         0               0       0     0          0      0      0  \n",
       "\n",
       "[5 rows x 1789 columns]"
      ]
     },
     "execution_count": 19,
     "metadata": {},
     "output_type": "execute_result"
    }
   ],
   "source": [
    "cv.fit(violinist_df['title'])\n",
    "violinist_cv = cv.transform(violinist_df['title'])\n",
    "violinist_cv_df = pd.DataFrame(violinist_cv.todense(),columns=cv.get_feature_names())\n",
    "violinist_cv_df.head()"
   ]
  },
  {
   "cell_type": "code",
   "execution_count": 20,
   "id": "5e4ade9f",
   "metadata": {},
   "outputs": [
    {
     "data": {
      "text/plain": [
       "Text(0.5, 1.0, 'key words')"
      ]
     },
     "execution_count": 20,
     "metadata": {},
     "output_type": "execute_result"
    },
    {
     "data": {
      "image/png": "[encoded data removed]",
      "text/plain": [
       "<Figure size 432x288 with 1 Axes>"
      ]
     },
     "metadata": {
      "needs_background": "light"
     },
     "output_type": "display_data"
    }
   ],
   "source": [
    "violinist_cv_df.sum().sort_values(ascending=False).head(25).plot(kind='barh')\n",
    "plt.title('key words')"
   ]
  },
  {
   "cell_type": "code",
   "execution_count": 21,
   "id": "90388afd",
   "metadata": {},
   "outputs": [],
   "source": [
    "reddit_data = pd.concat([violinist_df,cello_df])"
   ]
  },
  {
   "cell_type": "code",
   "execution_count": 22,
   "id": "225cc1b1",
   "metadata": {},
   "outputs": [
    {
     "data": {
      "text/html": [
       "<div>\n",
       "<style scoped>\n",
       "    .dataframe tbody tr th:only-of-type {\n",
       "        vertical-align: middle;\n",
       "    }\n",
       "\n",
       "    .dataframe tbody tr th {\n",
       "        vertical-align: top;\n",
       "    }\n",
       "\n",
       "    .dataframe thead th {\n",
       "        text-align: right;\n",
       "    }\n",
       "</style>\n",
       "<table border=\"1\" class=\"dataframe\">\n",
       "  <thead>\n",
       "    <tr style=\"text-align: right;\">\n",
       "      <th></th>\n",
       "      <th>author_flair_text</th>\n",
       "      <th>created_utc</th>\n",
       "      <th>id</th>\n",
       "      <th>selftext</th>\n",
       "      <th>subreddit</th>\n",
       "      <th>title</th>\n",
       "      <th>link_flair_text</th>\n",
       "    </tr>\n",
       "  </thead>\n",
       "  <tbody>\n",
       "    <tr>\n",
       "      <th>0</th>\n",
       "      <td>None</td>\n",
       "      <td>1623783569</td>\n",
       "      <td>o0lttl</td>\n",
       "      <td>Due to some unfortunate circumstances (and ter...</td>\n",
       "      <td>violinist</td>\n",
       "      <td>Help!</td>\n",
       "      <td>NaN</td>\n",
       "    </tr>\n",
       "    <tr>\n",
       "      <th>1</th>\n",
       "      <td>None</td>\n",
       "      <td>1623776195</td>\n",
       "      <td>o0j053</td>\n",
       "      <td>1. How often do you rosin?\\n2. Much much / how...</td>\n",
       "      <td>violinist</td>\n",
       "      <td>Rosin questions</td>\n",
       "      <td>NaN</td>\n",
       "    </tr>\n",
       "    <tr>\n",
       "      <th>2</th>\n",
       "      <td>None</td>\n",
       "      <td>1623775911</td>\n",
       "      <td>o0iwea</td>\n",
       "      <td>Hello! Is there any really good rosin I can us...</td>\n",
       "      <td>violinist</td>\n",
       "      <td>Which rosin</td>\n",
       "      <td>NaN</td>\n",
       "    </tr>\n",
       "  </tbody>\n",
       "</table>\n",
       "</div>"
      ],
      "text/plain": [
       "  author_flair_text  created_utc      id  \\\n",
       "0              None   1623783569  o0lttl   \n",
       "1              None   1623776195  o0j053   \n",
       "2              None   1623775911  o0iwea   \n",
       "\n",
       "                                            selftext  subreddit  \\\n",
       "0  Due to some unfortunate circumstances (and ter...  violinist   \n",
       "1  1. How often do you rosin?\\n2. Much much / how...  violinist   \n",
       "2  Hello! Is there any really good rosin I can us...  violinist   \n",
       "\n",
       "             title link_flair_text  \n",
       "0            Help!             NaN  \n",
       "1  Rosin questions             NaN  \n",
       "2      Which rosin             NaN  "
      ]
     },
     "execution_count": 22,
     "metadata": {},
     "output_type": "execute_result"
    }
   ],
   "source": [
    "reddit_data.head(3)"
   ]
  },
  {
   "cell_type": "code",
   "execution_count": 23,
   "id": "ba30346b",
   "metadata": {},
   "outputs": [
    {
     "data": {
      "text/plain": [
       "Student                0.301653\n",
       "Adult Beginner         0.243802\n",
       "Intermediate           0.095041\n",
       "Teacher                0.070248\n",
       "Beginner               0.066116\n",
       "Amateur                0.066116\n",
       "Expert                 0.049587\n",
       "Soloist                0.033058\n",
       "Music Major            0.024793\n",
       "Bachelor of Music      0.012397\n",
       "Advanced               0.008264\n",
       "Viola                  0.008264\n",
       "Arrangements/Comp      0.004132\n",
       "Name of your group     0.004132\n",
       "cello prof.            0.004132\n",
       "Gigging Musician       0.004132\n",
       "High School Student    0.004132\n",
       "Name: author_flair_text, dtype: float64"
      ]
     },
     "execution_count": 23,
     "metadata": {},
     "output_type": "execute_result"
    }
   ],
   "source": [
    "reddit_data['author_flair_text'].value_counts(normalize=True)"
   ]
  },
  {
   "cell_type": "code",
   "execution_count": 24,
   "id": "2d4f6675",
   "metadata": {},
   "outputs": [
    {
     "data": {
      "text/plain": [
       "<AxesSubplot:>"
      ]
     },
     "execution_count": 24,
     "metadata": {},
     "output_type": "execute_result"
    },
    {
     "data": {
      "image/png": "[encoded data removed]",
      "text/plain": [
       "<Figure size 432x288 with 1 Axes>"
      ]
     },
     "metadata": {
      "needs_background": "light"
     },
     "output_type": "display_data"
    }
   ],
   "source": [
    "reddit_data['author_flair_text'].value_counts(normalize=True).plot(kind='barh')"
   ]
  },
  {
   "cell_type": "code",
   "execution_count": 25,
   "id": "2dfabc23",
   "metadata": {},
   "outputs": [
    {
     "data": {
      "text/html": [
       "<div>\n",
       "<style scoped>\n",
       "    .dataframe tbody tr th:only-of-type {\n",
       "        vertical-align: middle;\n",
       "    }\n",
       "\n",
       "    .dataframe tbody tr th {\n",
       "        vertical-align: top;\n",
       "    }\n",
       "\n",
       "    .dataframe thead th {\n",
       "        text-align: right;\n",
       "    }\n",
       "</style>\n",
       "<table border=\"1\" class=\"dataframe\">\n",
       "  <thead>\n",
       "    <tr style=\"text-align: right;\">\n",
       "      <th></th>\n",
       "      <th>02</th>\n",
       "      <th>10</th>\n",
       "      <th>100</th>\n",
       "      <th>1000</th>\n",
       "      <th>101</th>\n",
       "      <th>11</th>\n",
       "      <th>110</th>\n",
       "      <th>122</th>\n",
       "      <th>14</th>\n",
       "      <th>1400</th>\n",
       "      <th>...</th>\n",
       "      <th>еxpеriеnсe</th>\n",
       "      <th>нis</th>\n",
       "      <th>оf</th>\n",
       "      <th>оnly</th>\n",
       "      <th>раssed</th>\n",
       "      <th>сallеd</th>\n",
       "      <th>сriticism</th>\n",
       "      <th>тhеre</th>\n",
       "      <th>バージョン</th>\n",
       "      <th>春のソナタ</th>\n",
       "    </tr>\n",
       "  </thead>\n",
       "  <tbody>\n",
       "    <tr>\n",
       "      <th>0</th>\n",
       "      <td>0</td>\n",
       "      <td>0</td>\n",
       "      <td>0</td>\n",
       "      <td>0</td>\n",
       "      <td>0</td>\n",
       "      <td>0</td>\n",
       "      <td>0</td>\n",
       "      <td>0</td>\n",
       "      <td>0</td>\n",
       "      <td>0</td>\n",
       "      <td>...</td>\n",
       "      <td>0</td>\n",
       "      <td>0</td>\n",
       "      <td>0</td>\n",
       "      <td>0</td>\n",
       "      <td>0</td>\n",
       "      <td>0</td>\n",
       "      <td>0</td>\n",
       "      <td>0</td>\n",
       "      <td>0</td>\n",
       "      <td>0</td>\n",
       "    </tr>\n",
       "    <tr>\n",
       "      <th>1</th>\n",
       "      <td>0</td>\n",
       "      <td>0</td>\n",
       "      <td>0</td>\n",
       "      <td>0</td>\n",
       "      <td>0</td>\n",
       "      <td>0</td>\n",
       "      <td>0</td>\n",
       "      <td>0</td>\n",
       "      <td>0</td>\n",
       "      <td>0</td>\n",
       "      <td>...</td>\n",
       "      <td>0</td>\n",
       "      <td>0</td>\n",
       "      <td>0</td>\n",
       "      <td>0</td>\n",
       "      <td>0</td>\n",
       "      <td>0</td>\n",
       "      <td>0</td>\n",
       "      <td>0</td>\n",
       "      <td>0</td>\n",
       "      <td>0</td>\n",
       "    </tr>\n",
       "    <tr>\n",
       "      <th>2</th>\n",
       "      <td>0</td>\n",
       "      <td>0</td>\n",
       "      <td>0</td>\n",
       "      <td>0</td>\n",
       "      <td>0</td>\n",
       "      <td>0</td>\n",
       "      <td>0</td>\n",
       "      <td>0</td>\n",
       "      <td>0</td>\n",
       "      <td>0</td>\n",
       "      <td>...</td>\n",
       "      <td>0</td>\n",
       "      <td>0</td>\n",
       "      <td>0</td>\n",
       "      <td>0</td>\n",
       "      <td>0</td>\n",
       "      <td>0</td>\n",
       "      <td>0</td>\n",
       "      <td>0</td>\n",
       "      <td>0</td>\n",
       "      <td>0</td>\n",
       "    </tr>\n",
       "    <tr>\n",
       "      <th>3</th>\n",
       "      <td>0</td>\n",
       "      <td>0</td>\n",
       "      <td>0</td>\n",
       "      <td>0</td>\n",
       "      <td>0</td>\n",
       "      <td>0</td>\n",
       "      <td>0</td>\n",
       "      <td>0</td>\n",
       "      <td>0</td>\n",
       "      <td>0</td>\n",
       "      <td>...</td>\n",
       "      <td>0</td>\n",
       "      <td>0</td>\n",
       "      <td>0</td>\n",
       "      <td>0</td>\n",
       "      <td>0</td>\n",
       "      <td>0</td>\n",
       "      <td>0</td>\n",
       "      <td>0</td>\n",
       "      <td>0</td>\n",
       "      <td>0</td>\n",
       "    </tr>\n",
       "    <tr>\n",
       "      <th>4</th>\n",
       "      <td>0</td>\n",
       "      <td>0</td>\n",
       "      <td>0</td>\n",
       "      <td>0</td>\n",
       "      <td>0</td>\n",
       "      <td>0</td>\n",
       "      <td>0</td>\n",
       "      <td>0</td>\n",
       "      <td>0</td>\n",
       "      <td>0</td>\n",
       "      <td>...</td>\n",
       "      <td>0</td>\n",
       "      <td>0</td>\n",
       "      <td>0</td>\n",
       "      <td>0</td>\n",
       "      <td>0</td>\n",
       "      <td>0</td>\n",
       "      <td>0</td>\n",
       "      <td>0</td>\n",
       "      <td>0</td>\n",
       "      <td>0</td>\n",
       "    </tr>\n",
       "  </tbody>\n",
       "</table>\n",
       "<p>5 rows × 2820 columns</p>\n",
       "</div>"
      ],
      "text/plain": [
       "   02  10  100  1000  101  11  110  122  14  1400  ...  еxpеriеnсe  нis  оf  \\\n",
       "0   0   0    0     0    0   0    0    0   0     0  ...           0    0   0   \n",
       "1   0   0    0     0    0   0    0    0   0     0  ...           0    0   0   \n",
       "2   0   0    0     0    0   0    0    0   0     0  ...           0    0   0   \n",
       "3   0   0    0     0    0   0    0    0   0     0  ...           0    0   0   \n",
       "4   0   0    0     0    0   0    0    0   0     0  ...           0    0   0   \n",
       "\n",
       "   оnly  раssed  сallеd  сriticism  тhеre  バージョン  春のソナタ  \n",
       "0     0       0       0          0      0      0      0  \n",
       "1     0       0       0          0      0      0      0  \n",
       "2     0       0       0          0      0      0      0  \n",
       "3     0       0       0          0      0      0      0  \n",
       "4     0       0       0          0      0      0      0  \n",
       "\n",
       "[5 rows x 2820 columns]"
      ]
     },
     "execution_count": 25,
     "metadata": {},
     "output_type": "execute_result"
    }
   ],
   "source": [
    "cv.fit(reddit_data['title'])\n",
    "reddit_data_cv = cv.transform(reddit_data['title'])\n",
    "reddit_df = pd.DataFrame(reddit_data_cv.todense(),columns=cv.get_feature_names())\n",
    "reddit_df.head()"
   ]
  },
  {
   "cell_type": "code",
   "execution_count": 26,
   "id": "219419c7",
   "metadata": {
    "scrolled": false
   },
   "outputs": [
    {
     "data": {
      "text/plain": [
       "<AxesSubplot:>"
      ]
     },
     "execution_count": 26,
     "metadata": {},
     "output_type": "execute_result"
    },
    {
     "data": {
      "image/png": "[encoded data removed]",
      "text/plain": [
       "<Figure size 432x288 with 1 Axes>"
      ]
     },
     "metadata": {
      "needs_background": "light"
     },
     "output_type": "display_data"
    }
   ],
   "source": [
    "reddit_df.sum().sort_values(ascending=False).head(25).plot(kind='barh')"
   ]
  },
  {
   "cell_type": "code",
   "execution_count": 27,
   "id": "a4fcbece",
   "metadata": {},
   "outputs": [],
   "source": [
    "# Create Binary y column based on subreddit name\n",
    "reddit_data['y'] = reddit_data['subreddit'].map(lambda x: 1 if x == 'violinist'else 0)"
   ]
  },
  {
   "cell_type": "code",
   "execution_count": 28,
   "id": "d9b3a24a",
   "metadata": {},
   "outputs": [],
   "source": [
    "# Save data frame to csv\n",
    "reddit_data.to_csv('../data/reddit_data.csv', index=False)"
   ]
  },
  {
   "cell_type": "code",
   "execution_count": 29,
   "id": "e4ed2f6f",
   "metadata": {
    "scrolled": true
   },
   "outputs": [
    {
     "data": {
      "text/html": [
       "<div>\n",
       "<style scoped>\n",
       "    .dataframe tbody tr th:only-of-type {\n",
       "        vertical-align: middle;\n",
       "    }\n",
       "\n",
       "    .dataframe tbody tr th {\n",
       "        vertical-align: top;\n",
       "    }\n",
       "\n",
       "    .dataframe thead th {\n",
       "        text-align: right;\n",
       "    }\n",
       "</style>\n",
       "<table border=\"1\" class=\"dataframe\">\n",
       "  <thead>\n",
       "    <tr style=\"text-align: right;\">\n",
       "      <th></th>\n",
       "      <th>author_flair_text</th>\n",
       "      <th>created_utc</th>\n",
       "      <th>id</th>\n",
       "      <th>selftext</th>\n",
       "      <th>subreddit</th>\n",
       "      <th>title</th>\n",
       "      <th>link_flair_text</th>\n",
       "      <th>y</th>\n",
       "    </tr>\n",
       "  </thead>\n",
       "  <tbody>\n",
       "    <tr>\n",
       "      <th>0</th>\n",
       "      <td>NaN</td>\n",
       "      <td>1623783569</td>\n",
       "      <td>o0lttl</td>\n",
       "      <td>Due to some unfortunate circumstances (and ter...</td>\n",
       "      <td>violinist</td>\n",
       "      <td>Help!</td>\n",
       "      <td>NaN</td>\n",
       "      <td>1</td>\n",
       "    </tr>\n",
       "    <tr>\n",
       "      <th>1</th>\n",
       "      <td>NaN</td>\n",
       "      <td>1623776195</td>\n",
       "      <td>o0j053</td>\n",
       "      <td>1. How often do you rosin?\\n2. Much much / how...</td>\n",
       "      <td>violinist</td>\n",
       "      <td>Rosin questions</td>\n",
       "      <td>NaN</td>\n",
       "      <td>1</td>\n",
       "    </tr>\n",
       "    <tr>\n",
       "      <th>2</th>\n",
       "      <td>NaN</td>\n",
       "      <td>1623775911</td>\n",
       "      <td>o0iwea</td>\n",
       "      <td>Hello! Is there any really good rosin I can us...</td>\n",
       "      <td>violinist</td>\n",
       "      <td>Which rosin</td>\n",
       "      <td>NaN</td>\n",
       "      <td>1</td>\n",
       "    </tr>\n",
       "  </tbody>\n",
       "</table>\n",
       "</div>"
      ],
      "text/plain": [
       "  author_flair_text  created_utc      id  \\\n",
       "0               NaN   1623783569  o0lttl   \n",
       "1               NaN   1623776195  o0j053   \n",
       "2               NaN   1623775911  o0iwea   \n",
       "\n",
       "                                            selftext  subreddit  \\\n",
       "0  Due to some unfortunate circumstances (and ter...  violinist   \n",
       "1  1. How often do you rosin?\\n2. Much much / how...  violinist   \n",
       "2  Hello! Is there any really good rosin I can us...  violinist   \n",
       "\n",
       "             title link_flair_text  y  \n",
       "0            Help!             NaN  1  \n",
       "1  Rosin questions             NaN  1  \n",
       "2      Which rosin             NaN  1  "
      ]
     },
     "execution_count": 29,
     "metadata": {},
     "output_type": "execute_result"
    }
   ],
   "source": [
    "# read in collected subreddits\n",
    "reddit_data = pd.read_csv('../data/reddit_data.csv')\n",
    "reddit_data.head(3)"
   ]
  },
  {
   "cell_type": "code",
   "execution_count": 30,
   "id": "758a9742",
   "metadata": {},
   "outputs": [
    {
     "data": {
      "text/plain": [
       "'a Museletter Issue Twelve'"
      ]
     },
     "execution_count": 30,
     "metadata": {},
     "output_type": "execute_result"
    }
   ],
   "source": [
    "# check random row 'title'\n",
    "reddit_data['title'][4]"
   ]
  },
  {
   "cell_type": "code",
   "execution_count": 31,
   "id": "8b864077",
   "metadata": {},
   "outputs": [
    {
     "data": {
      "text/plain": [
       "(2036, 8)"
      ]
     },
     "execution_count": 31,
     "metadata": {},
     "output_type": "execute_result"
    }
   ],
   "source": [
    "#check shape of the data\n",
    "reddit_data.shape"
   ]
  },
  {
   "cell_type": "code",
   "execution_count": 32,
   "id": "380714d7",
   "metadata": {},
   "outputs": [
    {
     "data": {
      "text/plain": [
       "author_flair_text    1794\n",
       "created_utc             0\n",
       "id                      0\n",
       "selftext                0\n",
       "subreddit               0\n",
       "title                   0\n",
       "link_flair_text      1765\n",
       "y                       0\n",
       "dtype: int64"
      ]
     },
     "execution_count": 32,
     "metadata": {},
     "output_type": "execute_result"
    }
   ],
   "source": [
    "#check for missing values\n",
    "reddit_data.isnull().sum()"
   ]
  },
  {
   "cell_type": "code",
   "execution_count": 39,
   "id": "8239f2a5",
   "metadata": {},
   "outputs": [
    {
     "data": {
      "text/plain": [
       "1    0.789256\n",
       "0    0.210744\n",
       "Name: y, dtype: float64"
      ]
     },
     "execution_count": 39,
     "metadata": {},
     "output_type": "execute_result"
    }
   ],
   "source": [
    "reddit_data['y'].value_counts(normalize=True)"
   ]
  },
  {
   "cell_type": "code",
   "execution_count": 43,
   "id": "2354c4c4",
   "metadata": {},
   "outputs": [],
   "source": [
    "features=['title','selftext']\n",
    "X = reddit_data[features]\n",
    "y = reddit_data['y']"
   ]
  },
  {
   "cell_type": "code",
   "execution_count": 46,
   "id": "95a2e54b",
   "metadata": {},
   "outputs": [],
   "source": [
    "X_train,X_test,y_train,y_test = train_test_split(X,y,\n",
    "                                                 random_state=42,\n",
    "                                                 stratify=y) "
   ]
  },
  {
   "cell_type": "code",
   "execution_count": 47,
   "id": "be376fcf",
   "metadata": {},
   "outputs": [
    {
     "ename": "ValueError",
     "evalue": "Found input variables with inconsistent numbers of samples: [2, 181]",
     "output_type": "error",
     "traceback": [
      "\u001b[0;31m---------------------------------------------------------------------------\u001b[0m",
      "\u001b[0;31mValueError\u001b[0m                                Traceback (most recent call last)",
      "\u001b[0;32m<ipython-input-47-f29218eeaf14>\u001b[0m in \u001b[0;36m<module>\u001b[0;34m\u001b[0m\n\u001b[1;32m      5\u001b[0m ])\n\u001b[1;32m      6\u001b[0m \u001b[0;34m\u001b[0m\u001b[0m\n\u001b[0;32m----> 7\u001b[0;31m \u001b[0mpipe\u001b[0m\u001b[0;34m.\u001b[0m\u001b[0mfit\u001b[0m\u001b[0;34m(\u001b[0m\u001b[0mX_train\u001b[0m\u001b[0;34m,\u001b[0m \u001b[0my_train\u001b[0m\u001b[0;34m)\u001b[0m\u001b[0;34m\u001b[0m\u001b[0;34m\u001b[0m\u001b[0m\n\u001b[0m\u001b[1;32m      8\u001b[0m \u001b[0mpipe\u001b[0m\u001b[0;34m.\u001b[0m\u001b[0mscore\u001b[0m\u001b[0;34m(\u001b[0m\u001b[0mX_train\u001b[0m\u001b[0;34m,\u001b[0m \u001b[0my_train\u001b[0m\u001b[0;34m)\u001b[0m\u001b[0;34m,\u001b[0m \u001b[0mpipe\u001b[0m\u001b[0;34m.\u001b[0m\u001b[0mscore\u001b[0m\u001b[0;34m(\u001b[0m\u001b[0mX_test\u001b[0m\u001b[0;34m,\u001b[0m \u001b[0my_test\u001b[0m\u001b[0;34m)\u001b[0m\u001b[0;34m\u001b[0m\u001b[0;34m\u001b[0m\u001b[0m\n",
      "\u001b[0;32m~/opt/anaconda3/lib/python3.8/site-packages/sklearn/pipeline.py\u001b[0m in \u001b[0;36mfit\u001b[0;34m(self, X, y, **fit_params)\u001b[0m\n\u001b[1;32m    344\u001b[0m             \u001b[0;32mif\u001b[0m \u001b[0mself\u001b[0m\u001b[0;34m.\u001b[0m\u001b[0m_final_estimator\u001b[0m \u001b[0;34m!=\u001b[0m \u001b[0;34m'passthrough'\u001b[0m\u001b[0;34m:\u001b[0m\u001b[0;34m\u001b[0m\u001b[0;34m\u001b[0m\u001b[0m\n\u001b[1;32m    345\u001b[0m                 \u001b[0mfit_params_last_step\u001b[0m \u001b[0;34m=\u001b[0m \u001b[0mfit_params_steps\u001b[0m\u001b[0;34m[\u001b[0m\u001b[0mself\u001b[0m\u001b[0;34m.\u001b[0m\u001b[0msteps\u001b[0m\u001b[0;34m[\u001b[0m\u001b[0;34m-\u001b[0m\u001b[0;36m1\u001b[0m\u001b[0;34m]\u001b[0m\u001b[0;34m[\u001b[0m\u001b[0;36m0\u001b[0m\u001b[0;34m]\u001b[0m\u001b[0;34m]\u001b[0m\u001b[0;34m\u001b[0m\u001b[0;34m\u001b[0m\u001b[0m\n\u001b[0;32m--> 346\u001b[0;31m                 \u001b[0mself\u001b[0m\u001b[0;34m.\u001b[0m\u001b[0m_final_estimator\u001b[0m\u001b[0;34m.\u001b[0m\u001b[0mfit\u001b[0m\u001b[0;34m(\u001b[0m\u001b[0mXt\u001b[0m\u001b[0;34m,\u001b[0m \u001b[0my\u001b[0m\u001b[0;34m,\u001b[0m \u001b[0;34m**\u001b[0m\u001b[0mfit_params_last_step\u001b[0m\u001b[0;34m)\u001b[0m\u001b[0;34m\u001b[0m\u001b[0;34m\u001b[0m\u001b[0m\n\u001b[0m\u001b[1;32m    347\u001b[0m \u001b[0;34m\u001b[0m\u001b[0m\n\u001b[1;32m    348\u001b[0m         \u001b[0;32mreturn\u001b[0m \u001b[0mself\u001b[0m\u001b[0;34m\u001b[0m\u001b[0;34m\u001b[0m\u001b[0m\n",
      "\u001b[0;32m~/opt/anaconda3/lib/python3.8/site-packages/sklearn/linear_model/_logistic.py\u001b[0m in \u001b[0;36mfit\u001b[0;34m(self, X, y, sample_weight)\u001b[0m\n\u001b[1;32m   1817\u001b[0m             )\n\u001b[1;32m   1818\u001b[0m \u001b[0;34m\u001b[0m\u001b[0m\n\u001b[0;32m-> 1819\u001b[0;31m         X, y = self._validate_data(X, y, accept_sparse='csr', dtype=np.float64,\n\u001b[0m\u001b[1;32m   1820\u001b[0m                                    \u001b[0morder\u001b[0m\u001b[0;34m=\u001b[0m\u001b[0;34m\"C\"\u001b[0m\u001b[0;34m,\u001b[0m\u001b[0;34m\u001b[0m\u001b[0;34m\u001b[0m\u001b[0m\n\u001b[1;32m   1821\u001b[0m                                    accept_large_sparse=solver != 'liblinear')\n",
      "\u001b[0;32m~/opt/anaconda3/lib/python3.8/site-packages/sklearn/base.py\u001b[0m in \u001b[0;36m_validate_data\u001b[0;34m(self, X, y, reset, validate_separately, **check_params)\u001b[0m\n\u001b[1;32m    431\u001b[0m                 \u001b[0my\u001b[0m \u001b[0;34m=\u001b[0m \u001b[0mcheck_array\u001b[0m\u001b[0;34m(\u001b[0m\u001b[0my\u001b[0m\u001b[0;34m,\u001b[0m \u001b[0;34m**\u001b[0m\u001b[0mcheck_y_params\u001b[0m\u001b[0;34m)\u001b[0m\u001b[0;34m\u001b[0m\u001b[0;34m\u001b[0m\u001b[0m\n\u001b[1;32m    432\u001b[0m             \u001b[0;32melse\u001b[0m\u001b[0;34m:\u001b[0m\u001b[0;34m\u001b[0m\u001b[0;34m\u001b[0m\u001b[0m\n\u001b[0;32m--> 433\u001b[0;31m                 \u001b[0mX\u001b[0m\u001b[0;34m,\u001b[0m \u001b[0my\u001b[0m \u001b[0;34m=\u001b[0m \u001b[0mcheck_X_y\u001b[0m\u001b[0;34m(\u001b[0m\u001b[0mX\u001b[0m\u001b[0;34m,\u001b[0m \u001b[0my\u001b[0m\u001b[0;34m,\u001b[0m \u001b[0;34m**\u001b[0m\u001b[0mcheck_params\u001b[0m\u001b[0;34m)\u001b[0m\u001b[0;34m\u001b[0m\u001b[0;34m\u001b[0m\u001b[0m\n\u001b[0m\u001b[1;32m    434\u001b[0m             \u001b[0mout\u001b[0m \u001b[0;34m=\u001b[0m \u001b[0mX\u001b[0m\u001b[0;34m,\u001b[0m \u001b[0my\u001b[0m\u001b[0;34m\u001b[0m\u001b[0;34m\u001b[0m\u001b[0m\n\u001b[1;32m    435\u001b[0m \u001b[0;34m\u001b[0m\u001b[0m\n",
      "\u001b[0;32m~/opt/anaconda3/lib/python3.8/site-packages/sklearn/utils/validation.py\u001b[0m in \u001b[0;36minner_f\u001b[0;34m(*args, **kwargs)\u001b[0m\n\u001b[1;32m     61\u001b[0m             \u001b[0mextra_args\u001b[0m \u001b[0;34m=\u001b[0m \u001b[0mlen\u001b[0m\u001b[0;34m(\u001b[0m\u001b[0margs\u001b[0m\u001b[0;34m)\u001b[0m \u001b[0;34m-\u001b[0m \u001b[0mlen\u001b[0m\u001b[0;34m(\u001b[0m\u001b[0mall_args\u001b[0m\u001b[0;34m)\u001b[0m\u001b[0;34m\u001b[0m\u001b[0;34m\u001b[0m\u001b[0m\n\u001b[1;32m     62\u001b[0m             \u001b[0;32mif\u001b[0m \u001b[0mextra_args\u001b[0m \u001b[0;34m<=\u001b[0m \u001b[0;36m0\u001b[0m\u001b[0;34m:\u001b[0m\u001b[0;34m\u001b[0m\u001b[0;34m\u001b[0m\u001b[0m\n\u001b[0;32m---> 63\u001b[0;31m                 \u001b[0;32mreturn\u001b[0m \u001b[0mf\u001b[0m\u001b[0;34m(\u001b[0m\u001b[0;34m*\u001b[0m\u001b[0margs\u001b[0m\u001b[0;34m,\u001b[0m \u001b[0;34m**\u001b[0m\u001b[0mkwargs\u001b[0m\u001b[0;34m)\u001b[0m\u001b[0;34m\u001b[0m\u001b[0;34m\u001b[0m\u001b[0m\n\u001b[0m\u001b[1;32m     64\u001b[0m \u001b[0;34m\u001b[0m\u001b[0m\n\u001b[1;32m     65\u001b[0m             \u001b[0;31m# extra_args > 0\u001b[0m\u001b[0;34m\u001b[0m\u001b[0;34m\u001b[0m\u001b[0;34m\u001b[0m\u001b[0m\n",
      "\u001b[0;32m~/opt/anaconda3/lib/python3.8/site-packages/sklearn/utils/validation.py\u001b[0m in \u001b[0;36mcheck_X_y\u001b[0;34m(X, y, accept_sparse, accept_large_sparse, dtype, order, copy, force_all_finite, ensure_2d, allow_nd, multi_output, ensure_min_samples, ensure_min_features, y_numeric, estimator)\u001b[0m\n\u001b[1;32m    829\u001b[0m         \u001b[0my\u001b[0m \u001b[0;34m=\u001b[0m \u001b[0my\u001b[0m\u001b[0;34m.\u001b[0m\u001b[0mastype\u001b[0m\u001b[0;34m(\u001b[0m\u001b[0mnp\u001b[0m\u001b[0;34m.\u001b[0m\u001b[0mfloat64\u001b[0m\u001b[0;34m)\u001b[0m\u001b[0;34m\u001b[0m\u001b[0;34m\u001b[0m\u001b[0m\n\u001b[1;32m    830\u001b[0m \u001b[0;34m\u001b[0m\u001b[0m\n\u001b[0;32m--> 831\u001b[0;31m     \u001b[0mcheck_consistent_length\u001b[0m\u001b[0;34m(\u001b[0m\u001b[0mX\u001b[0m\u001b[0;34m,\u001b[0m \u001b[0my\u001b[0m\u001b[0;34m)\u001b[0m\u001b[0;34m\u001b[0m\u001b[0;34m\u001b[0m\u001b[0m\n\u001b[0m\u001b[1;32m    832\u001b[0m \u001b[0;34m\u001b[0m\u001b[0m\n\u001b[1;32m    833\u001b[0m     \u001b[0;32mreturn\u001b[0m \u001b[0mX\u001b[0m\u001b[0;34m,\u001b[0m \u001b[0my\u001b[0m\u001b[0;34m\u001b[0m\u001b[0;34m\u001b[0m\u001b[0m\n",
      "\u001b[0;32m~/opt/anaconda3/lib/python3.8/site-packages/sklearn/utils/validation.py\u001b[0m in \u001b[0;36mcheck_consistent_length\u001b[0;34m(*arrays)\u001b[0m\n\u001b[1;32m    260\u001b[0m     \u001b[0muniques\u001b[0m \u001b[0;34m=\u001b[0m \u001b[0mnp\u001b[0m\u001b[0;34m.\u001b[0m\u001b[0munique\u001b[0m\u001b[0;34m(\u001b[0m\u001b[0mlengths\u001b[0m\u001b[0;34m)\u001b[0m\u001b[0;34m\u001b[0m\u001b[0;34m\u001b[0m\u001b[0m\n\u001b[1;32m    261\u001b[0m     \u001b[0;32mif\u001b[0m \u001b[0mlen\u001b[0m\u001b[0;34m(\u001b[0m\u001b[0muniques\u001b[0m\u001b[0;34m)\u001b[0m \u001b[0;34m>\u001b[0m \u001b[0;36m1\u001b[0m\u001b[0;34m:\u001b[0m\u001b[0;34m\u001b[0m\u001b[0;34m\u001b[0m\u001b[0m\n\u001b[0;32m--> 262\u001b[0;31m         raise ValueError(\"Found input variables with inconsistent numbers of\"\n\u001b[0m\u001b[1;32m    263\u001b[0m                          \" samples: %r\" % [int(l) for l in lengths])\n\u001b[1;32m    264\u001b[0m \u001b[0;34m\u001b[0m\u001b[0m\n",
      "\u001b[0;31mValueError\u001b[0m: Found input variables with inconsistent numbers of samples: [2, 181]"
     ]
    }
   ],
   "source": [
    "#cv,logreg\n",
    "pipe = Pipeline([\n",
    "    ('cv', CountVectorizer()),\n",
    "    ('lr', LogisticRegressionCV(solver='liblinear'))\n",
    "])\n",
    "\n",
    "pipe.fit(X_train, y_train)\n",
    "pipe.score(X_train, y_train), pipe.score(X_test, y_test)"
   ]
  },
  {
   "cell_type": "code",
   "execution_count": null,
   "id": "843154f3",
   "metadata": {},
   "outputs": [],
   "source": []
  }
 ],
 "metadata": {
  "kernelspec": {
   "display_name": "Python 3",
   "language": "python",
   "name": "python3"
  },
  "language_info": {
   "codemirror_mode": {
    "name": "ipython",
    "version": 3
   },
   "file_extension": ".py",
   "mimetype": "text/x-python",
   "name": "python",
   "nbconvert_exporter": "python",
   "pygments_lexer": "ipython3",
   "version": "3.8.8"
  }
 },
 "nbformat": 4,
 "nbformat_minor": 5
}
