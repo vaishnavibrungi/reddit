{
 "cells": [
  {
   "cell_type": "markdown",
   "id": "8c9f7a0d",
   "metadata": {},
   "source": [
    "# Project 3: Reddit "
   ]
  },
  {
   "cell_type": "markdown",
   "id": "2f832c95",
   "metadata": {},
   "source": [
    "### Data Wrangling"
   ]
  },
  {
   "cell_type": "code",
   "execution_count": 251,
   "id": "350d0e5e",
   "metadata": {},
   "outputs": [],
   "source": [
    "#import libraries\n",
    "import pandas as pd \n",
    "import requests\n",
    "import time"
   ]
  },
  {
   "cell_type": "code",
   "execution_count": 252,
   "id": "e58db3e2",
   "metadata": {},
   "outputs": [],
   "source": [
    "#https://stackoverflow.com/questions/59799041/why-reddit-return-502-error-when-accessing-a-page-using-beautifulsoup4\n",
    "# Set user agent to prevent status code issue\n",
    "headers = {'user-agent':'Mozilla/5.0 (Linux; Android 6.0; Nexus 5 Build/MRA58N) AppleWebKit/537.36 (KHTML, like Gecko) Chrome/79.0.3945.130 Mobile Safari/537.36'}\n",
    "url = \"https://api.pushshift.io/reddit/search/submission/\" #Get the url\n",
    "def read_data(params):\n",
    "    response = requests.get(url, headers=headers,params=params)\n",
    "    if response.status_code == 200: #Check status code for requests to ensure we are not getting a 400 or 500 code\n",
    "        return response.json()['data'] \n",
    "    else:\n",
    "        return []"
   ]
  },
  {
   "cell_type": "code",
   "execution_count": 253,
   "id": "02649ea4",
   "metadata": {},
   "outputs": [],
   "source": [
    "def read_reddit_data(subreddit,num_records):\n",
    "    before = None\n",
    "    posts = []\n",
    "    \n",
    "    while(len(posts)<num_records):\n",
    "        response = read_data({'subreddit': subreddit, \n",
    "                              'size':100, \n",
    "                              'sort':'desc',\n",
    "                              'sort_type':'created_utc', \n",
    "                              'before':before, \n",
    "                              'fields':[\"id\", \"created_utc\", \"title\", \"selftext\", \"subreddit\",\n",
    "                                        \"author_flair_text\"]})\n",
    "        for post in response:\n",
    "             if post.get('selftext', \"\").strip(\" \") != \"\" :\n",
    "                    posts.append(post)\n",
    "        before = response[-1].get(\"created_utc\")\n",
    " #https://stackoverflow.com/questions/20592808/add-all-elements-of-an-iterable-to-list\n",
    "        time.sleep(1) # pauses for a second between each requests\n",
    "    return posts"
   ]
  },
  {
   "cell_type": "markdown",
   "id": "62e1df2c",
   "metadata": {},
   "source": [
    "### Violinist Data Collection"
   ]
  },
  {
   "cell_type": "code",
   "execution_count": 254,
   "id": "2d816da5",
   "metadata": {},
   "outputs": [],
   "source": [
    "#get 'violinist' subreddit\n",
    "violin_subreddit = read_reddit_data(\"violinist\",1000)"
   ]
  },
  {
   "cell_type": "code",
   "execution_count": 255,
   "id": "5b9dff00",
   "metadata": {},
   "outputs": [],
   "source": [
    "# Turn list of dictionaries to a data frame!\n",
    "violinist_df = pd.DataFrame(violin_subreddit)"
   ]
  },
  {
   "cell_type": "code",
   "execution_count": 268,
   "id": "4d6dc389",
   "metadata": {},
   "outputs": [
    {
     "data": {
      "text/plain": [
       "Index(['author_flair_text', 'created_utc', 'id', 'selftext', 'subreddit',\n",
       "       'title'],\n",
       "      dtype='object')"
      ]
     },
     "execution_count": 268,
     "metadata": {},
     "output_type": "execute_result"
    }
   ],
   "source": [
    "#check column names of the dataframe\n",
    "violinist_df.columns"
   ]
  },
  {
   "cell_type": "code",
   "execution_count": 257,
   "id": "8c3c380c",
   "metadata": {},
   "outputs": [
    {
     "data": {
      "text/plain": [
       "1059"
      ]
     },
     "execution_count": 257,
     "metadata": {},
     "output_type": "execute_result"
    }
   ],
   "source": [
    "#check length of subreddit\n",
    "len(violin_subreddit) "
   ]
  },
  {
   "cell_type": "code",
   "execution_count": 269,
   "id": "6a4e3fa1",
   "metadata": {},
   "outputs": [
    {
     "data": {
      "text/html": [
       "<div>\n",
       "<style scoped>\n",
       "    .dataframe tbody tr th:only-of-type {\n",
       "        vertical-align: middle;\n",
       "    }\n",
       "\n",
       "    .dataframe tbody tr th {\n",
       "        vertical-align: top;\n",
       "    }\n",
       "\n",
       "    .dataframe thead th {\n",
       "        text-align: right;\n",
       "    }\n",
       "</style>\n",
       "<table border=\"1\" class=\"dataframe\">\n",
       "  <thead>\n",
       "    <tr style=\"text-align: right;\">\n",
       "      <th></th>\n",
       "      <th>author_flair_text</th>\n",
       "      <th>created_utc</th>\n",
       "      <th>id</th>\n",
       "      <th>selftext</th>\n",
       "      <th>subreddit</th>\n",
       "      <th>title</th>\n",
       "    </tr>\n",
       "  </thead>\n",
       "  <tbody>\n",
       "    <tr>\n",
       "      <th>0</th>\n",
       "      <td>Advanced</td>\n",
       "      <td>1623955275</td>\n",
       "      <td>o24eoj</td>\n",
       "      <td>[https://www.youtube.com/watch?v=PONbtxcPcKQ](...</td>\n",
       "      <td>violinist</td>\n",
       "      <td>Ysaÿe violin concerto in E minor, the first mo...</td>\n",
       "    </tr>\n",
       "    <tr>\n",
       "      <th>1</th>\n",
       "      <td>None</td>\n",
       "      <td>1623954118</td>\n",
       "      <td>o23xyv</td>\n",
       "      <td>I've been struggling with my vibrato and am lo...</td>\n",
       "      <td>violinist</td>\n",
       "      <td>Video performance examples with great vibrato</td>\n",
       "    </tr>\n",
       "    <tr>\n",
       "      <th>2</th>\n",
       "      <td>Adult Beginner</td>\n",
       "      <td>1623944890</td>\n",
       "      <td>o20e4w</td>\n",
       "      <td>My current rhythm exercise is in 6/8 time.\\n\\n...</td>\n",
       "      <td>violinist</td>\n",
       "      <td>Counting time (6/8)</td>\n",
       "    </tr>\n",
       "    <tr>\n",
       "      <th>3</th>\n",
       "      <td>None</td>\n",
       "      <td>1623932521</td>\n",
       "      <td>o1vxwd</td>\n",
       "      <td>Hello everyone, as you can tell by the title I...</td>\n",
       "      <td>violinist</td>\n",
       "      <td>I’m interested in picking up violin</td>\n",
       "    </tr>\n",
       "    <tr>\n",
       "      <th>4</th>\n",
       "      <td>None</td>\n",
       "      <td>1623916196</td>\n",
       "      <td>o1rmpe</td>\n",
       "      <td>When the score says Sul G, Sul D, IVeme chord,...</td>\n",
       "      <td>violinist</td>\n",
       "      <td>Question (as a beginner)</td>\n",
       "    </tr>\n",
       "  </tbody>\n",
       "</table>\n",
       "</div>"
      ],
      "text/plain": [
       "  author_flair_text  created_utc      id  \\\n",
       "0          Advanced   1623955275  o24eoj   \n",
       "1              None   1623954118  o23xyv   \n",
       "2    Adult Beginner   1623944890  o20e4w   \n",
       "3              None   1623932521  o1vxwd   \n",
       "4              None   1623916196  o1rmpe   \n",
       "\n",
       "                                            selftext  subreddit  \\\n",
       "0  [https://www.youtube.com/watch?v=PONbtxcPcKQ](...  violinist   \n",
       "1  I've been struggling with my vibrato and am lo...  violinist   \n",
       "2  My current rhythm exercise is in 6/8 time.\\n\\n...  violinist   \n",
       "3  Hello everyone, as you can tell by the title I...  violinist   \n",
       "4  When the score says Sul G, Sul D, IVeme chord,...  violinist   \n",
       "\n",
       "                                               title  \n",
       "0  Ysaÿe violin concerto in E minor, the first mo...  \n",
       "1      Video performance examples with great vibrato  \n",
       "2                                Counting time (6/8)  \n",
       "3                I’m interested in picking up violin  \n",
       "4                           Question (as a beginner)  "
      ]
     },
     "execution_count": 269,
     "metadata": {},
     "output_type": "execute_result"
    }
   ],
   "source": [
    "#Display first five rows of the dataframe\n",
    "violinist_df.head()"
   ]
  },
  {
   "cell_type": "code",
   "execution_count": 259,
   "id": "06c3702d",
   "metadata": {},
   "outputs": [
    {
     "name": "stdout",
     "output_type": "stream",
     "text": [
      "Shape of Violinist dataframe: (1059, 6)\n"
     ]
    }
   ],
   "source": [
    "# Check shape of the dataframe\n",
    "print(f'Shape of Violinist dataframe: {violinist_df.shape}')"
   ]
  },
  {
   "cell_type": "code",
   "execution_count": 260,
   "id": "f191f0f8",
   "metadata": {},
   "outputs": [],
   "source": [
    "#Save in a 'data' folder with a name 'Violinist.csv'\n",
    "violinist_df.to_csv('../data/Violinist.csv')"
   ]
  },
  {
   "cell_type": "markdown",
   "id": "ba93a633",
   "metadata": {
    "scrolled": true
   },
   "source": [
    "### Cello Data Collection"
   ]
  },
  {
   "cell_type": "code",
   "execution_count": 261,
   "id": "c90f7c9d",
   "metadata": {},
   "outputs": [],
   "source": [
    "#get 'cello' subreddit\n",
    "cello_subreddit = read_reddit_data(\"cello\",1000)"
   ]
  },
  {
   "cell_type": "code",
   "execution_count": 262,
   "id": "4cb10a8e",
   "metadata": {},
   "outputs": [],
   "source": [
    "# Turn list of dictionaries to a data frame!\n",
    "cello_df = pd.DataFrame(cello_subreddit)"
   ]
  },
  {
   "cell_type": "code",
   "execution_count": 263,
   "id": "94282c97",
   "metadata": {
    "scrolled": true
   },
   "outputs": [
    {
     "data": {
      "text/plain": [
       "Index(['author_flair_text', 'created_utc', 'id', 'selftext', 'subreddit',\n",
       "       'title'],\n",
       "      dtype='object')"
      ]
     },
     "execution_count": 263,
     "metadata": {},
     "output_type": "execute_result"
    }
   ],
   "source": [
    "#check column names of the dataframe\n",
    "cello_df.columns"
   ]
  },
  {
   "cell_type": "code",
   "execution_count": 264,
   "id": "394a9a4c",
   "metadata": {},
   "outputs": [
    {
     "data": {
      "text/plain": [
       "1028"
      ]
     },
     "execution_count": 264,
     "metadata": {},
     "output_type": "execute_result"
    }
   ],
   "source": [
    "#check length of subreddit\n",
    "len(cello_subreddit)"
   ]
  },
  {
   "cell_type": "code",
   "execution_count": 270,
   "id": "5457d167",
   "metadata": {},
   "outputs": [
    {
     "data": {
      "text/html": [
       "<div>\n",
       "<style scoped>\n",
       "    .dataframe tbody tr th:only-of-type {\n",
       "        vertical-align: middle;\n",
       "    }\n",
       "\n",
       "    .dataframe tbody tr th {\n",
       "        vertical-align: top;\n",
       "    }\n",
       "\n",
       "    .dataframe thead th {\n",
       "        text-align: right;\n",
       "    }\n",
       "</style>\n",
       "<table border=\"1\" class=\"dataframe\">\n",
       "  <thead>\n",
       "    <tr style=\"text-align: right;\">\n",
       "      <th></th>\n",
       "      <th>author_flair_text</th>\n",
       "      <th>created_utc</th>\n",
       "      <th>id</th>\n",
       "      <th>selftext</th>\n",
       "      <th>subreddit</th>\n",
       "      <th>title</th>\n",
       "    </tr>\n",
       "  </thead>\n",
       "  <tbody>\n",
       "    <tr>\n",
       "      <th>0</th>\n",
       "      <td>None</td>\n",
       "      <td>1623949192</td>\n",
       "      <td>o220ak</td>\n",
       "      <td>Hey everyone,\\n\\nI was thinking of playing the...</td>\n",
       "      <td>Cello</td>\n",
       "      <td>Difficulty of Halvorsen Passacaglia</td>\n",
       "    </tr>\n",
       "    <tr>\n",
       "      <th>1</th>\n",
       "      <td>None</td>\n",
       "      <td>1623938843</td>\n",
       "      <td>o1y3l8</td>\n",
       "      <td>Hi all! I've been taking lessons for about a m...</td>\n",
       "      <td>Cello</td>\n",
       "      <td>Self care tips?</td>\n",
       "    </tr>\n",
       "    <tr>\n",
       "      <th>2</th>\n",
       "      <td>None</td>\n",
       "      <td>1623898632</td>\n",
       "      <td>o1mpqb</td>\n",
       "      <td>Long story short my beloved Cello is now Firew...</td>\n",
       "      <td>Cello</td>\n",
       "      <td>About to Purchase Hidersine Vivente, Need Pers...</td>\n",
       "    </tr>\n",
       "    <tr>\n",
       "      <th>3</th>\n",
       "      <td>None</td>\n",
       "      <td>1623829311</td>\n",
       "      <td>o0zfou</td>\n",
       "      <td>I played the cello for ~10 years, but haven’t ...</td>\n",
       "      <td>Cello</td>\n",
       "      <td>String Recommendations</td>\n",
       "    </tr>\n",
       "    <tr>\n",
       "      <th>4</th>\n",
       "      <td>None</td>\n",
       "      <td>1623812767</td>\n",
       "      <td>o0v9gr</td>\n",
       "      <td>How feasible would it be to self-teach myself ...</td>\n",
       "      <td>Cello</td>\n",
       "      <td>Self-teaching myself the cello</td>\n",
       "    </tr>\n",
       "  </tbody>\n",
       "</table>\n",
       "</div>"
      ],
      "text/plain": [
       "  author_flair_text  created_utc      id  \\\n",
       "0              None   1623949192  o220ak   \n",
       "1              None   1623938843  o1y3l8   \n",
       "2              None   1623898632  o1mpqb   \n",
       "3              None   1623829311  o0zfou   \n",
       "4              None   1623812767  o0v9gr   \n",
       "\n",
       "                                            selftext subreddit  \\\n",
       "0  Hey everyone,\\n\\nI was thinking of playing the...     Cello   \n",
       "1  Hi all! I've been taking lessons for about a m...     Cello   \n",
       "2  Long story short my beloved Cello is now Firew...     Cello   \n",
       "3  I played the cello for ~10 years, but haven’t ...     Cello   \n",
       "4  How feasible would it be to self-teach myself ...     Cello   \n",
       "\n",
       "                                               title  \n",
       "0                Difficulty of Halvorsen Passacaglia  \n",
       "1                                    Self care tips?  \n",
       "2  About to Purchase Hidersine Vivente, Need Pers...  \n",
       "3                             String Recommendations  \n",
       "4                     Self-teaching myself the cello  "
      ]
     },
     "execution_count": 270,
     "metadata": {},
     "output_type": "execute_result"
    }
   ],
   "source": [
    "#Display first five rows of the dataframe\n",
    "cello_df.head()"
   ]
  },
  {
   "cell_type": "code",
   "execution_count": 266,
   "id": "2eda4f6a",
   "metadata": {
    "scrolled": true
   },
   "outputs": [
    {
     "name": "stdout",
     "output_type": "stream",
     "text": [
      "Shape of Cello  dataframe: (1028, 6)\n"
     ]
    }
   ],
   "source": [
    "# Check shape of the dataframe\n",
    "print(f'Shape of Cello  dataframe: {cello_df.shape}')"
   ]
  },
  {
   "cell_type": "code",
   "execution_count": 267,
   "id": "f6604b5d",
   "metadata": {},
   "outputs": [],
   "source": [
    "#Save in a 'data' folder with a name 'Cello.csv'\n",
    "cello_df.to_csv('../data/Cello.csv')"
   ]
  }
 ],
 "metadata": {
  "kernelspec": {
   "display_name": "Python 3",
   "language": "python",
   "name": "python3"
  },
  "language_info": {
   "codemirror_mode": {
    "name": "ipython",
    "version": 3
   },
   "file_extension": ".py",
   "mimetype": "text/x-python",
   "name": "python",
   "nbconvert_exporter": "python",
   "pygments_lexer": "ipython3",
   "version": "3.8.8"
  }
 },
 "nbformat": 4,
 "nbformat_minor": 5
}
