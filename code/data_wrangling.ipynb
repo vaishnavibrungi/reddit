{
 "cells": [
  {
   "cell_type": "markdown",
   "id": "8c9f7a0d",
   "metadata": {},
   "source": [
    "# Project 3: Reddit "
   ]
  },
  {
   "cell_type": "markdown",
   "id": "53f14995",
   "metadata": {},
   "source": [
    "## Part 1 - Data Gathering"
   ]
  },
  {
   "cell_type": "markdown",
   "id": "2f832c95",
   "metadata": {},
   "source": [
    "### Import libaries"
   ]
  },
  {
   "cell_type": "code",
   "execution_count": 2,
   "id": "350d0e5e",
   "metadata": {},
   "outputs": [],
   "source": [
    "import pandas as pd \n",
    "import requests\n",
    "import time"
   ]
  },
  {
   "cell_type": "code",
   "execution_count": 3,
   "id": "e58db3e2",
   "metadata": {},
   "outputs": [],
   "source": [
    "#https://stackoverflow.com/questions/59799041/why-reddit-return-502-error-when-accessing-a-page-using-beautifulsoup4\n",
    "headers = {'user-agent':'Mozilla/5.0 (Linux; Android 6.0; Nexus 5 Build/MRA58N) AppleWebKit/537.36 (KHTML, like Gecko) Chrome/79.0.3945.130 Mobile Safari/537.36'}\n",
    "url = \"https://api.pushshift.io/reddit/search/submission/\" #Get the url\n",
    "def read_data(params):\n",
    "    response = requests.get(url, headers=headers,params=params)\n",
    "    if response.status_code == 200:\n",
    "        return response.json()['data'] \n",
    "    else:\n",
    "        return []"
   ]
  },
  {
   "cell_type": "code",
   "execution_count": 4,
   "id": "02649ea4",
   "metadata": {},
   "outputs": [],
   "source": [
    "def read_reddit_data(subreddit,num_records):\n",
    "    before = None\n",
    "    posts = []\n",
    "    while(len(posts)<num_records):\n",
    "        response = read_data({'subreddit': subreddit, \n",
    "                              'size':100, \n",
    "                              'sort':'desc',\n",
    "                              'sort_type':'created_utc', \n",
    "                              'before':before, \n",
    "                              'fields':[\"id\", \"created_utc\", \"title\", \"selftext\", \"subreddit\"]})\n",
    "        before = response[-1].get(\"created_utc\")\n",
    " #https://stackoverflow.com/questions/20592808/add-all-elements-of-an-iterable-to-list\n",
    "        posts.extend(response)\n",
    "        time.sleep(1) # pauses for a second between each requests\n",
    "    return posts"
   ]
  },
  {
   "cell_type": "code",
   "execution_count": 5,
   "id": "2d816da5",
   "metadata": {},
   "outputs": [],
   "source": [
    "violin_subreddit = read_reddit_data(\"violinist\",1000)"
   ]
  },
  {
   "cell_type": "code",
   "execution_count": 6,
   "id": "ca6dc708",
   "metadata": {},
   "outputs": [
    {
     "data": {
      "text/plain": [
       "1000"
      ]
     },
     "execution_count": 6,
     "metadata": {},
     "output_type": "execute_result"
    }
   ],
   "source": [
    "len(violin_subreddit)"
   ]
  },
  {
   "cell_type": "code",
   "execution_count": 7,
   "id": "3d06bfc6",
   "metadata": {},
   "outputs": [
    {
     "data": {
      "text/html": [
       "<div>\n",
       "<style scoped>\n",
       "    .dataframe tbody tr th:only-of-type {\n",
       "        vertical-align: middle;\n",
       "    }\n",
       "\n",
       "    .dataframe tbody tr th {\n",
       "        vertical-align: top;\n",
       "    }\n",
       "\n",
       "    .dataframe thead th {\n",
       "        text-align: right;\n",
       "    }\n",
       "</style>\n",
       "<table border=\"1\" class=\"dataframe\">\n",
       "  <thead>\n",
       "    <tr style=\"text-align: right;\">\n",
       "      <th></th>\n",
       "      <th>created_utc</th>\n",
       "      <th>id</th>\n",
       "      <th>selftext</th>\n",
       "      <th>subreddit</th>\n",
       "      <th>title</th>\n",
       "    </tr>\n",
       "  </thead>\n",
       "  <tbody>\n",
       "    <tr>\n",
       "      <th>0</th>\n",
       "      <td>1623470116</td>\n",
       "      <td>nxxxr9</td>\n",
       "      <td>Hey all, I'm looking into buying a wall hanger...</td>\n",
       "      <td>violinist</td>\n",
       "      <td>Violin wall mount</td>\n",
       "    </tr>\n",
       "    <tr>\n",
       "      <th>1</th>\n",
       "      <td>1623469868</td>\n",
       "      <td>nxxvbf</td>\n",
       "      <td>[removed]</td>\n",
       "      <td>violinist</td>\n",
       "      <td>Thoughts on geared pegs instead of fine tuners?</td>\n",
       "    </tr>\n",
       "    <tr>\n",
       "      <th>2</th>\n",
       "      <td>1623469703</td>\n",
       "      <td>nxxtnq</td>\n",
       "      <td>Hi, I hope someone here can help me. I’m a sem...</td>\n",
       "      <td>violinist</td>\n",
       "      <td>How to take care of old violin</td>\n",
       "    </tr>\n",
       "    <tr>\n",
       "      <th>3</th>\n",
       "      <td>1623469240</td>\n",
       "      <td>nxxovt</td>\n",
       "      <td>Hi! I play violin but I'm still learning. I wa...</td>\n",
       "      <td>violinist</td>\n",
       "      <td>Is this possible</td>\n",
       "    </tr>\n",
       "    <tr>\n",
       "      <th>4</th>\n",
       "      <td>1623469162</td>\n",
       "      <td>nxxo2b</td>\n",
       "      <td>Hi! \\n\\nI play violin but I'm still learning. ...</td>\n",
       "      <td>violinist</td>\n",
       "      <td>Is this playable?</td>\n",
       "    </tr>\n",
       "    <tr>\n",
       "      <th>...</th>\n",
       "      <td>...</td>\n",
       "      <td>...</td>\n",
       "      <td>...</td>\n",
       "      <td>...</td>\n",
       "      <td>...</td>\n",
       "    </tr>\n",
       "    <tr>\n",
       "      <th>995</th>\n",
       "      <td>1619365211</td>\n",
       "      <td>myasdx</td>\n",
       "      <td></td>\n",
       "      <td>violinist</td>\n",
       "      <td>Does anyone know what brand violin is this?</td>\n",
       "    </tr>\n",
       "    <tr>\n",
       "      <th>996</th>\n",
       "      <td>1619364288</td>\n",
       "      <td>myahhn</td>\n",
       "      <td></td>\n",
       "      <td>violinist</td>\n",
       "      <td>Kerson Leong playing Mega Man 3</td>\n",
       "    </tr>\n",
       "    <tr>\n",
       "      <th>997</th>\n",
       "      <td>1619363542</td>\n",
       "      <td>mya8rc</td>\n",
       "      <td></td>\n",
       "      <td>violinist</td>\n",
       "      <td>Left hand posture feedback....</td>\n",
       "    </tr>\n",
       "    <tr>\n",
       "      <th>998</th>\n",
       "      <td>1619362712</td>\n",
       "      <td>my9yuk</td>\n",
       "      <td></td>\n",
       "      <td>violinist</td>\n",
       "      <td>1 month progress... Working on 2nd finger exer...</td>\n",
       "    </tr>\n",
       "    <tr>\n",
       "      <th>999</th>\n",
       "      <td>1619357716</td>\n",
       "      <td>my8g69</td>\n",
       "      <td>I recently got a new violin for my birthday, a...</td>\n",
       "      <td>violinist</td>\n",
       "      <td>String too loose, but not off key?</td>\n",
       "    </tr>\n",
       "  </tbody>\n",
       "</table>\n",
       "<p>1000 rows × 5 columns</p>\n",
       "</div>"
      ],
      "text/plain": [
       "     created_utc      id                                           selftext  \\\n",
       "0     1623470116  nxxxr9  Hey all, I'm looking into buying a wall hanger...   \n",
       "1     1623469868  nxxvbf                                          [removed]   \n",
       "2     1623469703  nxxtnq  Hi, I hope someone here can help me. I’m a sem...   \n",
       "3     1623469240  nxxovt  Hi! I play violin but I'm still learning. I wa...   \n",
       "4     1623469162  nxxo2b  Hi! \\n\\nI play violin but I'm still learning. ...   \n",
       "..           ...     ...                                                ...   \n",
       "995   1619365211  myasdx                                                      \n",
       "996   1619364288  myahhn                                                      \n",
       "997   1619363542  mya8rc                                                      \n",
       "998   1619362712  my9yuk                                                      \n",
       "999   1619357716  my8g69  I recently got a new violin for my birthday, a...   \n",
       "\n",
       "     subreddit                                              title  \n",
       "0    violinist                                  Violin wall mount  \n",
       "1    violinist    Thoughts on geared pegs instead of fine tuners?  \n",
       "2    violinist                     How to take care of old violin  \n",
       "3    violinist                                   Is this possible  \n",
       "4    violinist                                  Is this playable?  \n",
       "..         ...                                                ...  \n",
       "995  violinist        Does anyone know what brand violin is this?  \n",
       "996  violinist                    Kerson Leong playing Mega Man 3  \n",
       "997  violinist                     Left hand posture feedback....  \n",
       "998  violinist  1 month progress... Working on 2nd finger exer...  \n",
       "999  violinist                 String too loose, but not off key?  \n",
       "\n",
       "[1000 rows x 5 columns]"
      ]
     },
     "execution_count": 7,
     "metadata": {},
     "output_type": "execute_result"
    }
   ],
   "source": [
    "# Turn list of dictionaries to a data frame!\n",
    "violinist_df = pd.DataFrame(violin_subreddit)\n",
    "violinist_df"
   ]
  },
  {
   "cell_type": "code",
   "execution_count": null,
   "id": "11184f14",
   "metadata": {},
   "outputs": [],
   "source": []
  },
  {
   "cell_type": "code",
   "execution_count": null,
   "id": "26a5b3e3",
   "metadata": {},
   "outputs": [],
   "source": []
  },
  {
   "cell_type": "code",
   "execution_count": null,
   "id": "86795836",
   "metadata": {},
   "outputs": [],
   "source": []
  },
  {
   "cell_type": "code",
   "execution_count": null,
   "id": "72c3bbf6",
   "metadata": {},
   "outputs": [],
   "source": []
  },
  {
   "cell_type": "code",
   "execution_count": null,
   "id": "06d256bf",
   "metadata": {},
   "outputs": [],
   "source": []
  }
 ],
 "metadata": {
  "kernelspec": {
   "display_name": "Python 3",
   "language": "python",
   "name": "python3"
  },
  "language_info": {
   "codemirror_mode": {
    "name": "ipython",
    "version": 3
   },
   "file_extension": ".py",
   "mimetype": "text/x-python",
   "name": "python",
   "nbconvert_exporter": "python",
   "pygments_lexer": "ipython3",
   "version": "3.8.8"
  }
 },
 "nbformat": 4,
 "nbformat_minor": 5
}
