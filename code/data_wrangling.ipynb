{
 "cells": [
  {
   "cell_type": "markdown",
   "id": "8c9f7a0d",
   "metadata": {},
   "source": [
    "# Project 3: Reddit "
   ]
  },
  {
   "cell_type": "markdown",
   "id": "2f832c95",
   "metadata": {},
   "source": [
    "**Import libraries**"
   ]
  },
  {
   "cell_type": "code",
   "execution_count": 109,
   "id": "350d0e5e",
   "metadata": {},
   "outputs": [],
   "source": [
    "import pandas as pd \n",
    "import matplotlib.pyplot as plt\n",
    "import seaborn as sns\n",
    "import requests\n",
    "import time\n",
    "from sklearn.feature_extraction.text import CountVectorizer, TfidfVectorizer\n",
    "from sklearn.linear_model import LogisticRegressionCV\n",
    "from sklearn.metrics import confusion_matrix\n",
    "from sklearn.model_selection import train_test_split\n",
    "from sklearn.naive_bayes import MultinomialNB\n",
    "from sklearn.pipeline import Pipeline\n",
    "from sklearn.ensemble import ExtraTreesClassifier, RandomForestClassifier\n",
    "from sklearn.tree import DecisionTreeClassifier"
   ]
  },
  {
   "cell_type": "code",
   "execution_count": 110,
   "id": "e58db3e2",
   "metadata": {},
   "outputs": [],
   "source": [
    "#https://stackoverflow.com/questions/59799041/why-reddit-return-502-error-when-accessing-a-page-using-beautifulsoup4\n",
    "headers = {'user-agent':'Mozilla/5.0 (Linux; Android 6.0; Nexus 5 Build/MRA58N) AppleWebKit/537.36 (KHTML, like Gecko) Chrome/79.0.3945.130 Mobile Safari/537.36'}\n",
    "url = \"https://api.pushshift.io/reddit/search/submission/\" #Get the url\n",
    "def read_data(params):\n",
    "    response = requests.get(url, headers=headers,params=params)\n",
    "    if response.status_code == 200:\n",
    "        return response.json()['data'] \n",
    "    else:\n",
    "        return []"
   ]
  },
  {
   "cell_type": "code",
   "execution_count": 111,
   "id": "02649ea4",
   "metadata": {},
   "outputs": [],
   "source": [
    "def read_reddit_data(subreddit,num_records):\n",
    "    before = None\n",
    "    posts = []\n",
    "    \n",
    "    while(len(posts)<num_records):\n",
    "        response = read_data({'subreddit': subreddit, \n",
    "                              'size':100, \n",
    "                              'sort':'desc',\n",
    "                              'sort_type':'created_utc', \n",
    "                              'before':before, \n",
    "                              'fields':[\"id\", \"created_utc\", \"title\", \"selftext\", \"subreddit\",\n",
    "                                        \"author_flair_text\",\"link_flair_text\"]})\n",
    "        for post in response:\n",
    "             if post.get('selftext', \"\").strip(\" \") != \"\" :\n",
    "                    posts.append(post)\n",
    "        before = response[-1].get(\"created_utc\")\n",
    " #https://stackoverflow.com/questions/20592808/add-all-elements-of-an-iterable-to-list\n",
    "        time.sleep(1) # pauses for a second between each requests\n",
    "    return posts"
   ]
  },
  {
   "cell_type": "code",
   "execution_count": 112,
   "id": "2d816da5",
   "metadata": {},
   "outputs": [],
   "source": [
    "violin_subreddit = read_reddit_data(\"violinist\",1000)"
   ]
  },
  {
   "cell_type": "code",
   "execution_count": 113,
   "id": "5b9dff00",
   "metadata": {},
   "outputs": [],
   "source": [
    "cello_subreddit = read_reddit_data(\"cello\",1000)"
   ]
  },
  {
   "cell_type": "code",
   "execution_count": 114,
   "id": "ca6dc708",
   "metadata": {},
   "outputs": [
    {
     "data": {
      "text/plain": [
       "1067"
      ]
     },
     "execution_count": 114,
     "metadata": {},
     "output_type": "execute_result"
    }
   ],
   "source": [
    "len(violin_subreddit)"
   ]
  },
  {
   "cell_type": "code",
   "execution_count": 115,
   "id": "17cb6202",
   "metadata": {},
   "outputs": [
    {
     "data": {
      "text/plain": [
       "1027"
      ]
     },
     "execution_count": 115,
     "metadata": {},
     "output_type": "execute_result"
    }
   ],
   "source": [
    "len(cello_subreddit)"
   ]
  },
  {
   "cell_type": "code",
   "execution_count": 116,
   "id": "3d06bfc6",
   "metadata": {
    "scrolled": true
   },
   "outputs": [
    {
     "data": {
      "text/html": [
       "<div>\n",
       "<style scoped>\n",
       "    .dataframe tbody tr th:only-of-type {\n",
       "        vertical-align: middle;\n",
       "    }\n",
       "\n",
       "    .dataframe tbody tr th {\n",
       "        vertical-align: top;\n",
       "    }\n",
       "\n",
       "    .dataframe thead th {\n",
       "        text-align: right;\n",
       "    }\n",
       "</style>\n",
       "<table border=\"1\" class=\"dataframe\">\n",
       "  <thead>\n",
       "    <tr style=\"text-align: right;\">\n",
       "      <th></th>\n",
       "      <th>author_flair_text</th>\n",
       "      <th>created_utc</th>\n",
       "      <th>id</th>\n",
       "      <th>link_flair_text</th>\n",
       "      <th>selftext</th>\n",
       "      <th>subreddit</th>\n",
       "      <th>title</th>\n",
       "    </tr>\n",
       "  </thead>\n",
       "  <tbody>\n",
       "    <tr>\n",
       "      <th>0</th>\n",
       "      <td>None</td>\n",
       "      <td>1623866739</td>\n",
       "      <td>o1b7t4</td>\n",
       "      <td>Setup/Equipment</td>\n",
       "      <td>I just got my first violin last week and I am ...</td>\n",
       "      <td>violinist</td>\n",
       "      <td>Bridge Question</td>\n",
       "    </tr>\n",
       "    <tr>\n",
       "      <th>1</th>\n",
       "      <td>None</td>\n",
       "      <td>1623864467</td>\n",
       "      <td>o1aamm</td>\n",
       "      <td>NaN</td>\n",
       "      <td>Hi, I'm sorry if I'm in the wrong subreddit!  ...</td>\n",
       "      <td>violinist</td>\n",
       "      <td>Donating Violin?</td>\n",
       "    </tr>\n",
       "    <tr>\n",
       "      <th>2</th>\n",
       "      <td>None</td>\n",
       "      <td>1623854143</td>\n",
       "      <td>o16ckr</td>\n",
       "      <td>NaN</td>\n",
       "      <td>Hi, I'm a beginner musician but I want to work...</td>\n",
       "      <td>violinist</td>\n",
       "      <td>How to become music tutor</td>\n",
       "    </tr>\n",
       "    <tr>\n",
       "      <th>3</th>\n",
       "      <td>Student</td>\n",
       "      <td>1623849616</td>\n",
       "      <td>o14pqh</td>\n",
       "      <td>Setup/Equipment</td>\n",
       "      <td>How do you practice when it is so hot inside?</td>\n",
       "      <td>violinist</td>\n",
       "      <td>Practice in heat</td>\n",
       "    </tr>\n",
       "    <tr>\n",
       "      <th>4</th>\n",
       "      <td>None</td>\n",
       "      <td>1623848983</td>\n",
       "      <td>o14htd</td>\n",
       "      <td>NaN</td>\n",
       "      <td>I always just instinctively play open D string...</td>\n",
       "      <td>violinist</td>\n",
       "      <td>Whats the first thing you do when you pick up ...</td>\n",
       "    </tr>\n",
       "    <tr>\n",
       "      <th>5</th>\n",
       "      <td>None</td>\n",
       "      <td>1623819643</td>\n",
       "      <td>o0x5az</td>\n",
       "      <td>NaN</td>\n",
       "      <td>Hello, I'm an amateur violinist, I have stoppe...</td>\n",
       "      <td>violinist</td>\n",
       "      <td>What's a good way to improve your bowing?</td>\n",
       "    </tr>\n",
       "    <tr>\n",
       "      <th>6</th>\n",
       "      <td>Adult Beginner</td>\n",
       "      <td>1623804923</td>\n",
       "      <td>o0szzo</td>\n",
       "      <td>NaN</td>\n",
       "      <td>I decided to do something different, this week...</td>\n",
       "      <td>violinist</td>\n",
       "      <td>Practice Journal 07 - 13 June 2021</td>\n",
       "    </tr>\n",
       "    <tr>\n",
       "      <th>7</th>\n",
       "      <td>None</td>\n",
       "      <td>1623787272</td>\n",
       "      <td>o0n7os</td>\n",
       "      <td>NaN</td>\n",
       "      <td>I've been trying to utilize drones in my pract...</td>\n",
       "      <td>violinist</td>\n",
       "      <td>Drone machines that allow multiple tones at once?</td>\n",
       "    </tr>\n",
       "    <tr>\n",
       "      <th>8</th>\n",
       "      <td>None</td>\n",
       "      <td>1623783569</td>\n",
       "      <td>o0lttl</td>\n",
       "      <td>NaN</td>\n",
       "      <td>Due to some unfortunate circumstances (and ter...</td>\n",
       "      <td>violinist</td>\n",
       "      <td>Help!</td>\n",
       "    </tr>\n",
       "    <tr>\n",
       "      <th>9</th>\n",
       "      <td>None</td>\n",
       "      <td>1623776195</td>\n",
       "      <td>o0j053</td>\n",
       "      <td>NaN</td>\n",
       "      <td>1. How often do you rosin?\\n2. Much much / how...</td>\n",
       "      <td>violinist</td>\n",
       "      <td>Rosin questions</td>\n",
       "    </tr>\n",
       "  </tbody>\n",
       "</table>\n",
       "</div>"
      ],
      "text/plain": [
       "  author_flair_text  created_utc      id  link_flair_text  \\\n",
       "0              None   1623866739  o1b7t4  Setup/Equipment   \n",
       "1              None   1623864467  o1aamm              NaN   \n",
       "2              None   1623854143  o16ckr              NaN   \n",
       "3           Student   1623849616  o14pqh  Setup/Equipment   \n",
       "4              None   1623848983  o14htd              NaN   \n",
       "5              None   1623819643  o0x5az              NaN   \n",
       "6    Adult Beginner   1623804923  o0szzo              NaN   \n",
       "7              None   1623787272  o0n7os              NaN   \n",
       "8              None   1623783569  o0lttl              NaN   \n",
       "9              None   1623776195  o0j053              NaN   \n",
       "\n",
       "                                            selftext  subreddit  \\\n",
       "0  I just got my first violin last week and I am ...  violinist   \n",
       "1  Hi, I'm sorry if I'm in the wrong subreddit!  ...  violinist   \n",
       "2  Hi, I'm a beginner musician but I want to work...  violinist   \n",
       "3      How do you practice when it is so hot inside?  violinist   \n",
       "4  I always just instinctively play open D string...  violinist   \n",
       "5  Hello, I'm an amateur violinist, I have stoppe...  violinist   \n",
       "6  I decided to do something different, this week...  violinist   \n",
       "7  I've been trying to utilize drones in my pract...  violinist   \n",
       "8  Due to some unfortunate circumstances (and ter...  violinist   \n",
       "9  1. How often do you rosin?\\n2. Much much / how...  violinist   \n",
       "\n",
       "                                               title  \n",
       "0                                    Bridge Question  \n",
       "1                                   Donating Violin?  \n",
       "2                          How to become music tutor  \n",
       "3                                   Practice in heat  \n",
       "4  Whats the first thing you do when you pick up ...  \n",
       "5          What's a good way to improve your bowing?  \n",
       "6                 Practice Journal 07 - 13 June 2021  \n",
       "7  Drone machines that allow multiple tones at once?  \n",
       "8                                              Help!  \n",
       "9                                    Rosin questions  "
      ]
     },
     "execution_count": 116,
     "metadata": {},
     "output_type": "execute_result"
    }
   ],
   "source": [
    "# Turn list of dictionaries to a data frame!\n",
    "violinist_df = pd.DataFrame(violin_subreddit)\n",
    "violinist_df.head(10)"
   ]
  },
  {
   "cell_type": "code",
   "execution_count": 117,
   "id": "11184f14",
   "metadata": {},
   "outputs": [
    {
     "data": {
      "text/html": [
       "<div>\n",
       "<style scoped>\n",
       "    .dataframe tbody tr th:only-of-type {\n",
       "        vertical-align: middle;\n",
       "    }\n",
       "\n",
       "    .dataframe tbody tr th {\n",
       "        vertical-align: top;\n",
       "    }\n",
       "\n",
       "    .dataframe thead th {\n",
       "        text-align: right;\n",
       "    }\n",
       "</style>\n",
       "<table border=\"1\" class=\"dataframe\">\n",
       "  <thead>\n",
       "    <tr style=\"text-align: right;\">\n",
       "      <th></th>\n",
       "      <th>author_flair_text</th>\n",
       "      <th>created_utc</th>\n",
       "      <th>id</th>\n",
       "      <th>selftext</th>\n",
       "      <th>subreddit</th>\n",
       "      <th>title</th>\n",
       "    </tr>\n",
       "  </thead>\n",
       "  <tbody>\n",
       "    <tr>\n",
       "      <th>0</th>\n",
       "      <td>None</td>\n",
       "      <td>1623829311</td>\n",
       "      <td>o0zfou</td>\n",
       "      <td>I played the cello for ~10 years, but haven’t ...</td>\n",
       "      <td>Cello</td>\n",
       "      <td>String Recommendations</td>\n",
       "    </tr>\n",
       "    <tr>\n",
       "      <th>1</th>\n",
       "      <td>None</td>\n",
       "      <td>1623812767</td>\n",
       "      <td>o0v9gr</td>\n",
       "      <td>How feasible would it be to self-teach myself ...</td>\n",
       "      <td>Cello</td>\n",
       "      <td>Self-teaching myself the cello</td>\n",
       "    </tr>\n",
       "    <tr>\n",
       "      <th>2</th>\n",
       "      <td>None</td>\n",
       "      <td>1623808690</td>\n",
       "      <td>o0u325</td>\n",
       "      <td>[deleted]</td>\n",
       "      <td>Cello</td>\n",
       "      <td>\"Blackbird\" Cello Cover by Jacob Staron</td>\n",
       "    </tr>\n",
       "    <tr>\n",
       "      <th>3</th>\n",
       "      <td>None</td>\n",
       "      <td>1623804745</td>\n",
       "      <td>o0sy1b</td>\n",
       "      <td>I'm looking to do some fun pedal stuff with my...</td>\n",
       "      <td>Cello</td>\n",
       "      <td>Best pick up for cello?</td>\n",
       "    </tr>\n",
       "    <tr>\n",
       "      <th>4</th>\n",
       "      <td>None</td>\n",
       "      <td>1623791621</td>\n",
       "      <td>o0or64</td>\n",
       "      <td>This is embarrassing to say but honestly my in...</td>\n",
       "      <td>Cello</td>\n",
       "      <td>Any tips on improving intonation?</td>\n",
       "    </tr>\n",
       "    <tr>\n",
       "      <th>5</th>\n",
       "      <td>None</td>\n",
       "      <td>1623772571</td>\n",
       "      <td>o0hn28</td>\n",
       "      <td>Hey there people from r/Cello!\\n\\nI'm looking ...</td>\n",
       "      <td>Cello</td>\n",
       "      <td>I'm looking for a cello player for a Zelda Arr...</td>\n",
       "    </tr>\n",
       "    <tr>\n",
       "      <th>6</th>\n",
       "      <td>None</td>\n",
       "      <td>1623770561</td>\n",
       "      <td>o0gvzw</td>\n",
       "      <td>[removed]</td>\n",
       "      <td>Cello</td>\n",
       "      <td>I can't relax... help</td>\n",
       "    </tr>\n",
       "    <tr>\n",
       "      <th>7</th>\n",
       "      <td>None</td>\n",
       "      <td>1623763528</td>\n",
       "      <td>o0eawx</td>\n",
       "      <td>Hi everyone,\\n\\nBeen playing cello off and on ...</td>\n",
       "      <td>Cello</td>\n",
       "      <td>How do you all practice?</td>\n",
       "    </tr>\n",
       "    <tr>\n",
       "      <th>8</th>\n",
       "      <td>None</td>\n",
       "      <td>1623681716</td>\n",
       "      <td>nzocca</td>\n",
       "      <td>I'm a good month into learning the cello and n...</td>\n",
       "      <td>Cello</td>\n",
       "      <td>Struggle with stretching my fingers</td>\n",
       "    </tr>\n",
       "    <tr>\n",
       "      <th>9</th>\n",
       "      <td>None</td>\n",
       "      <td>1623663397</td>\n",
       "      <td>nzizuq</td>\n",
       "      <td>Hi, this is so silly. But I used to study the ...</td>\n",
       "      <td>Cello</td>\n",
       "      <td>Need practicing pieces! (used to be a professi...</td>\n",
       "    </tr>\n",
       "  </tbody>\n",
       "</table>\n",
       "</div>"
      ],
      "text/plain": [
       "  author_flair_text  created_utc      id  \\\n",
       "0              None   1623829311  o0zfou   \n",
       "1              None   1623812767  o0v9gr   \n",
       "2              None   1623808690  o0u325   \n",
       "3              None   1623804745  o0sy1b   \n",
       "4              None   1623791621  o0or64   \n",
       "5              None   1623772571  o0hn28   \n",
       "6              None   1623770561  o0gvzw   \n",
       "7              None   1623763528  o0eawx   \n",
       "8              None   1623681716  nzocca   \n",
       "9              None   1623663397  nzizuq   \n",
       "\n",
       "                                            selftext subreddit  \\\n",
       "0  I played the cello for ~10 years, but haven’t ...     Cello   \n",
       "1  How feasible would it be to self-teach myself ...     Cello   \n",
       "2                                          [deleted]     Cello   \n",
       "3  I'm looking to do some fun pedal stuff with my...     Cello   \n",
       "4  This is embarrassing to say but honestly my in...     Cello   \n",
       "5  Hey there people from r/Cello!\\n\\nI'm looking ...     Cello   \n",
       "6                                          [removed]     Cello   \n",
       "7  Hi everyone,\\n\\nBeen playing cello off and on ...     Cello   \n",
       "8  I'm a good month into learning the cello and n...     Cello   \n",
       "9  Hi, this is so silly. But I used to study the ...     Cello   \n",
       "\n",
       "                                               title  \n",
       "0                             String Recommendations  \n",
       "1                     Self-teaching myself the cello  \n",
       "2            \"Blackbird\" Cello Cover by Jacob Staron  \n",
       "3                            Best pick up for cello?  \n",
       "4                  Any tips on improving intonation?  \n",
       "5  I'm looking for a cello player for a Zelda Arr...  \n",
       "6                              I can't relax... help  \n",
       "7                           How do you all practice?  \n",
       "8                Struggle with stretching my fingers  \n",
       "9  Need practicing pieces! (used to be a professi...  "
      ]
     },
     "execution_count": 117,
     "metadata": {},
     "output_type": "execute_result"
    }
   ],
   "source": [
    "# Turn list of dictionaries to a data frame!\n",
    "cello_df = pd.DataFrame(cello_subreddit)\n",
    "cello_df.head(10)"
   ]
  },
  {
   "cell_type": "code",
   "execution_count": 118,
   "id": "26a5b3e3",
   "metadata": {
    "scrolled": true
   },
   "outputs": [
    {
     "data": {
      "text/plain": [
       "Student                0.862745\n",
       "Bachelor of Music      0.058824\n",
       "Name of your group     0.019608\n",
       "High School Student    0.019608\n",
       "cello prof.            0.019608\n",
       "Arrangements/Comp      0.019608\n",
       "Name: author_flair_text, dtype: float64"
      ]
     },
     "execution_count": 118,
     "metadata": {},
     "output_type": "execute_result"
    }
   ],
   "source": [
    "cello_df['author_flair_text'].value_counts(normalize=True)"
   ]
  },
  {
   "cell_type": "code",
   "execution_count": 124,
   "id": "480a340b",
   "metadata": {},
   "outputs": [
    {
     "data": {
      "text/plain": [
       "<AxesSubplot:>"
      ]
     },
     "execution_count": 124,
     "metadata": {},
     "output_type": "execute_result"
    },
    {
     "data": {
      "image/png": "[encoded data removed]",
      "text/plain": [
       "<Figure size 432x288 with 1 Axes>"
      ]
     },
     "metadata": {
      "needs_background": "light"
     },
     "output_type": "display_data"
    }
   ],
   "source": [
    "cello_df['author_flair_text'].value_counts().plot(kind='barh')"
   ]
  },
  {
   "cell_type": "code",
   "execution_count": 12,
   "id": "3784060f",
   "metadata": {
    "scrolled": true
   },
   "outputs": [
    {
     "data": {
      "text/plain": [
       "Adult Beginner      0.314136\n",
       "Student             0.157068\n",
       "Intermediate        0.120419\n",
       "Teacher             0.083770\n",
       "Amateur             0.083770\n",
       "Beginner            0.083770\n",
       "Expert              0.062827\n",
       "Soloist             0.041885\n",
       "Music Major         0.031414\n",
       "Viola               0.010471\n",
       "Gigging Musician    0.005236\n",
       "Advanced            0.005236\n",
       "Name: author_flair_text, dtype: float64"
      ]
     },
     "execution_count": 12,
     "metadata": {},
     "output_type": "execute_result"
    }
   ],
   "source": [
    "violinist_df['author_flair_text'].value_counts(normalize=True)"
   ]
  },
  {
   "cell_type": "code",
   "execution_count": 13,
   "id": "d9691ab6",
   "metadata": {},
   "outputs": [
    {
     "data": {
      "text/plain": [
       "<AxesSubplot:>"
      ]
     },
     "execution_count": 13,
     "metadata": {},
     "output_type": "execute_result"
    },
    {
     "data": {
      "image/png": "[encoded data removed]",
      "text/plain": [
       "<Figure size 432x288 with 1 Axes>"
      ]
     },
     "metadata": {
      "needs_background": "light"
     },
     "output_type": "display_data"
    }
   ],
   "source": [
    "violinist_df['author_flair_text'].value_counts().plot(kind='barh')"
   ]
  },
  {
   "cell_type": "code",
   "execution_count": 14,
   "id": "59f56037",
   "metadata": {
    "scrolled": true
   },
   "outputs": [
    {
     "data": {
      "text/plain": [
       "Setup/Equipment               0.396296\n",
       "Technique                     0.251852\n",
       "Feedback                      0.185185\n",
       "Original                      0.088889\n",
       "Definitely Not About Cases    0.037037\n",
       "Violin Jam                    0.018519\n",
       "Share Your Playing            0.007407\n",
       "Help me Find Resources        0.003704\n",
       "Question                      0.003704\n",
       "**IMPORTANT**                 0.003704\n",
       "Composing                     0.003704\n",
       "Name: link_flair_text, dtype: float64"
      ]
     },
     "execution_count": 14,
     "metadata": {},
     "output_type": "execute_result"
    }
   ],
   "source": [
    "violinist_df['link_flair_text'].value_counts(normalize=True)"
   ]
  },
  {
   "cell_type": "code",
   "execution_count": 15,
   "id": "1fea4955",
   "metadata": {},
   "outputs": [
    {
     "data": {
      "image/png": "[encoded data removed]",
      "text/plain": [
       "<Figure size 432x288 with 1 Axes>"
      ]
     },
     "metadata": {
      "needs_background": "light"
     },
     "output_type": "display_data"
    }
   ],
   "source": [
    "violinist_df['link_flair_text'].value_counts().plot(kind='barh');"
   ]
  },
  {
   "cell_type": "code",
   "execution_count": 16,
   "id": "86795836",
   "metadata": {},
   "outputs": [],
   "source": [
    "cv = CountVectorizer(stop_words='english')"
   ]
  },
  {
   "cell_type": "code",
   "execution_count": 17,
   "id": "920f6e99",
   "metadata": {},
   "outputs": [
    {
     "data": {
      "text/html": [
       "<div>\n",
       "<style scoped>\n",
       "    .dataframe tbody tr th:only-of-type {\n",
       "        vertical-align: middle;\n",
       "    }\n",
       "\n",
       "    .dataframe tbody tr th {\n",
       "        vertical-align: top;\n",
       "    }\n",
       "\n",
       "    .dataframe thead th {\n",
       "        text-align: right;\n",
       "    }\n",
       "</style>\n",
       "<table border=\"1\" class=\"dataframe\">\n",
       "  <thead>\n",
       "    <tr style=\"text-align: right;\">\n",
       "      <th></th>\n",
       "      <th>02</th>\n",
       "      <th>10</th>\n",
       "      <th>100</th>\n",
       "      <th>1000</th>\n",
       "      <th>11</th>\n",
       "      <th>110</th>\n",
       "      <th>122</th>\n",
       "      <th>14</th>\n",
       "      <th>1400</th>\n",
       "      <th>170</th>\n",
       "      <th>...</th>\n",
       "      <th>zoom</th>\n",
       "      <th>аbоut</th>\n",
       "      <th>аnd</th>\n",
       "      <th>еxpеriеnсe</th>\n",
       "      <th>нis</th>\n",
       "      <th>оf</th>\n",
       "      <th>оnly</th>\n",
       "      <th>раssed</th>\n",
       "      <th>сallеd</th>\n",
       "      <th>тhеre</th>\n",
       "    </tr>\n",
       "  </thead>\n",
       "  <tbody>\n",
       "    <tr>\n",
       "      <th>0</th>\n",
       "      <td>0</td>\n",
       "      <td>0</td>\n",
       "      <td>0</td>\n",
       "      <td>0</td>\n",
       "      <td>0</td>\n",
       "      <td>0</td>\n",
       "      <td>0</td>\n",
       "      <td>0</td>\n",
       "      <td>0</td>\n",
       "      <td>0</td>\n",
       "      <td>...</td>\n",
       "      <td>0</td>\n",
       "      <td>0</td>\n",
       "      <td>0</td>\n",
       "      <td>0</td>\n",
       "      <td>0</td>\n",
       "      <td>0</td>\n",
       "      <td>0</td>\n",
       "      <td>0</td>\n",
       "      <td>0</td>\n",
       "      <td>0</td>\n",
       "    </tr>\n",
       "    <tr>\n",
       "      <th>1</th>\n",
       "      <td>0</td>\n",
       "      <td>0</td>\n",
       "      <td>0</td>\n",
       "      <td>0</td>\n",
       "      <td>0</td>\n",
       "      <td>0</td>\n",
       "      <td>0</td>\n",
       "      <td>0</td>\n",
       "      <td>0</td>\n",
       "      <td>0</td>\n",
       "      <td>...</td>\n",
       "      <td>0</td>\n",
       "      <td>0</td>\n",
       "      <td>0</td>\n",
       "      <td>0</td>\n",
       "      <td>0</td>\n",
       "      <td>0</td>\n",
       "      <td>0</td>\n",
       "      <td>0</td>\n",
       "      <td>0</td>\n",
       "      <td>0</td>\n",
       "    </tr>\n",
       "    <tr>\n",
       "      <th>2</th>\n",
       "      <td>0</td>\n",
       "      <td>0</td>\n",
       "      <td>0</td>\n",
       "      <td>0</td>\n",
       "      <td>0</td>\n",
       "      <td>0</td>\n",
       "      <td>0</td>\n",
       "      <td>0</td>\n",
       "      <td>0</td>\n",
       "      <td>0</td>\n",
       "      <td>...</td>\n",
       "      <td>0</td>\n",
       "      <td>0</td>\n",
       "      <td>0</td>\n",
       "      <td>0</td>\n",
       "      <td>0</td>\n",
       "      <td>0</td>\n",
       "      <td>0</td>\n",
       "      <td>0</td>\n",
       "      <td>0</td>\n",
       "      <td>0</td>\n",
       "    </tr>\n",
       "    <tr>\n",
       "      <th>3</th>\n",
       "      <td>0</td>\n",
       "      <td>0</td>\n",
       "      <td>0</td>\n",
       "      <td>0</td>\n",
       "      <td>0</td>\n",
       "      <td>0</td>\n",
       "      <td>0</td>\n",
       "      <td>0</td>\n",
       "      <td>0</td>\n",
       "      <td>0</td>\n",
       "      <td>...</td>\n",
       "      <td>0</td>\n",
       "      <td>0</td>\n",
       "      <td>0</td>\n",
       "      <td>0</td>\n",
       "      <td>0</td>\n",
       "      <td>0</td>\n",
       "      <td>0</td>\n",
       "      <td>0</td>\n",
       "      <td>0</td>\n",
       "      <td>0</td>\n",
       "    </tr>\n",
       "    <tr>\n",
       "      <th>4</th>\n",
       "      <td>0</td>\n",
       "      <td>0</td>\n",
       "      <td>0</td>\n",
       "      <td>0</td>\n",
       "      <td>0</td>\n",
       "      <td>0</td>\n",
       "      <td>0</td>\n",
       "      <td>0</td>\n",
       "      <td>0</td>\n",
       "      <td>0</td>\n",
       "      <td>...</td>\n",
       "      <td>0</td>\n",
       "      <td>0</td>\n",
       "      <td>0</td>\n",
       "      <td>0</td>\n",
       "      <td>0</td>\n",
       "      <td>0</td>\n",
       "      <td>0</td>\n",
       "      <td>0</td>\n",
       "      <td>0</td>\n",
       "      <td>0</td>\n",
       "    </tr>\n",
       "  </tbody>\n",
       "</table>\n",
       "<p>5 rows × 1632 columns</p>\n",
       "</div>"
      ],
      "text/plain": [
       "   02  10  100  1000  11  110  122  14  1400  170  ...  zoom  аbоut  аnd  \\\n",
       "0   0   0    0     0   0    0    0   0     0    0  ...     0      0    0   \n",
       "1   0   0    0     0   0    0    0   0     0    0  ...     0      0    0   \n",
       "2   0   0    0     0   0    0    0   0     0    0  ...     0      0    0   \n",
       "3   0   0    0     0   0    0    0   0     0    0  ...     0      0    0   \n",
       "4   0   0    0     0   0    0    0   0     0    0  ...     0      0    0   \n",
       "\n",
       "   еxpеriеnсe  нis  оf  оnly  раssed  сallеd  тhеre  \n",
       "0           0    0   0     0       0       0      0  \n",
       "1           0    0   0     0       0       0      0  \n",
       "2           0    0   0     0       0       0      0  \n",
       "3           0    0   0     0       0       0      0  \n",
       "4           0    0   0     0       0       0      0  \n",
       "\n",
       "[5 rows x 1632 columns]"
      ]
     },
     "execution_count": 17,
     "metadata": {},
     "output_type": "execute_result"
    }
   ],
   "source": [
    "cv.fit(cello_df['title'])\n",
    "cello_cv = cv.transform(cello_df['title'])\n",
    "cello_cv_df = pd.DataFrame(cello_cv.todense(),columns=cv.get_feature_names())\n",
    "cello_cv_df.head()"
   ]
  },
  {
   "cell_type": "code",
   "execution_count": 60,
   "id": "72c3bbf6",
   "metadata": {
    "scrolled": true
   },
   "outputs": [
    {
     "data": {
      "text/plain": [
       "Text(0.5, 1.0, 'key words')"
      ]
     },
     "execution_count": 60,
     "metadata": {},
     "output_type": "execute_result"
    },
    {
     "data": {
      "image/png": "[encoded data removed]",
      "text/plain": [
       "<Figure size 432x288 with 1 Axes>"
      ]
     },
     "metadata": {
      "needs_background": "light"
     },
     "output_type": "display_data"
    }
   ],
   "source": [
    "cello_cv_df.sum().sort_values(ascending=False).head(5).plot(kind='barh')\n",
    "plt.title('key words')"
   ]
  },
  {
   "cell_type": "code",
   "execution_count": 19,
   "id": "06d256bf",
   "metadata": {
    "scrolled": true
   },
   "outputs": [
    {
     "data": {
      "text/html": [
       "<div>\n",
       "<style scoped>\n",
       "    .dataframe tbody tr th:only-of-type {\n",
       "        vertical-align: middle;\n",
       "    }\n",
       "\n",
       "    .dataframe tbody tr th {\n",
       "        vertical-align: top;\n",
       "    }\n",
       "\n",
       "    .dataframe thead th {\n",
       "        text-align: right;\n",
       "    }\n",
       "</style>\n",
       "<table border=\"1\" class=\"dataframe\">\n",
       "  <thead>\n",
       "    <tr style=\"text-align: right;\">\n",
       "      <th></th>\n",
       "      <th>07</th>\n",
       "      <th>10</th>\n",
       "      <th>100</th>\n",
       "      <th>101</th>\n",
       "      <th>11</th>\n",
       "      <th>13</th>\n",
       "      <th>15</th>\n",
       "      <th>16ths</th>\n",
       "      <th>17</th>\n",
       "      <th>18</th>\n",
       "      <th>...</th>\n",
       "      <th>ysaye</th>\n",
       "      <th>ysaÿe</th>\n",
       "      <th>ysv104</th>\n",
       "      <th>zdzislaw</th>\n",
       "      <th>zigeunerweisen</th>\n",
       "      <th>zimmer</th>\n",
       "      <th>zoom</th>\n",
       "      <th>сriticism</th>\n",
       "      <th>バージョン</th>\n",
       "      <th>春のソナタ</th>\n",
       "    </tr>\n",
       "  </thead>\n",
       "  <tbody>\n",
       "    <tr>\n",
       "      <th>0</th>\n",
       "      <td>0</td>\n",
       "      <td>0</td>\n",
       "      <td>0</td>\n",
       "      <td>0</td>\n",
       "      <td>0</td>\n",
       "      <td>0</td>\n",
       "      <td>0</td>\n",
       "      <td>0</td>\n",
       "      <td>0</td>\n",
       "      <td>0</td>\n",
       "      <td>...</td>\n",
       "      <td>0</td>\n",
       "      <td>0</td>\n",
       "      <td>0</td>\n",
       "      <td>0</td>\n",
       "      <td>0</td>\n",
       "      <td>0</td>\n",
       "      <td>0</td>\n",
       "      <td>0</td>\n",
       "      <td>0</td>\n",
       "      <td>0</td>\n",
       "    </tr>\n",
       "    <tr>\n",
       "      <th>1</th>\n",
       "      <td>0</td>\n",
       "      <td>0</td>\n",
       "      <td>0</td>\n",
       "      <td>0</td>\n",
       "      <td>0</td>\n",
       "      <td>0</td>\n",
       "      <td>0</td>\n",
       "      <td>0</td>\n",
       "      <td>0</td>\n",
       "      <td>0</td>\n",
       "      <td>...</td>\n",
       "      <td>0</td>\n",
       "      <td>0</td>\n",
       "      <td>0</td>\n",
       "      <td>0</td>\n",
       "      <td>0</td>\n",
       "      <td>0</td>\n",
       "      <td>0</td>\n",
       "      <td>0</td>\n",
       "      <td>0</td>\n",
       "      <td>0</td>\n",
       "    </tr>\n",
       "    <tr>\n",
       "      <th>2</th>\n",
       "      <td>0</td>\n",
       "      <td>0</td>\n",
       "      <td>0</td>\n",
       "      <td>0</td>\n",
       "      <td>0</td>\n",
       "      <td>0</td>\n",
       "      <td>0</td>\n",
       "      <td>0</td>\n",
       "      <td>0</td>\n",
       "      <td>0</td>\n",
       "      <td>...</td>\n",
       "      <td>0</td>\n",
       "      <td>0</td>\n",
       "      <td>0</td>\n",
       "      <td>0</td>\n",
       "      <td>0</td>\n",
       "      <td>0</td>\n",
       "      <td>0</td>\n",
       "      <td>0</td>\n",
       "      <td>0</td>\n",
       "      <td>0</td>\n",
       "    </tr>\n",
       "    <tr>\n",
       "      <th>3</th>\n",
       "      <td>0</td>\n",
       "      <td>0</td>\n",
       "      <td>0</td>\n",
       "      <td>0</td>\n",
       "      <td>0</td>\n",
       "      <td>0</td>\n",
       "      <td>0</td>\n",
       "      <td>0</td>\n",
       "      <td>0</td>\n",
       "      <td>0</td>\n",
       "      <td>...</td>\n",
       "      <td>0</td>\n",
       "      <td>0</td>\n",
       "      <td>0</td>\n",
       "      <td>0</td>\n",
       "      <td>0</td>\n",
       "      <td>0</td>\n",
       "      <td>0</td>\n",
       "      <td>0</td>\n",
       "      <td>0</td>\n",
       "      <td>0</td>\n",
       "    </tr>\n",
       "    <tr>\n",
       "      <th>4</th>\n",
       "      <td>1</td>\n",
       "      <td>0</td>\n",
       "      <td>0</td>\n",
       "      <td>0</td>\n",
       "      <td>0</td>\n",
       "      <td>1</td>\n",
       "      <td>0</td>\n",
       "      <td>0</td>\n",
       "      <td>0</td>\n",
       "      <td>0</td>\n",
       "      <td>...</td>\n",
       "      <td>0</td>\n",
       "      <td>0</td>\n",
       "      <td>0</td>\n",
       "      <td>0</td>\n",
       "      <td>0</td>\n",
       "      <td>0</td>\n",
       "      <td>0</td>\n",
       "      <td>0</td>\n",
       "      <td>0</td>\n",
       "      <td>0</td>\n",
       "    </tr>\n",
       "  </tbody>\n",
       "</table>\n",
       "<p>5 rows × 1610 columns</p>\n",
       "</div>"
      ],
      "text/plain": [
       "   07  10  100  101  11  13  15  16ths  17  18  ...  ysaye  ysaÿe  ysv104  \\\n",
       "0   0   0    0    0   0   0   0      0   0   0  ...      0      0       0   \n",
       "1   0   0    0    0   0   0   0      0   0   0  ...      0      0       0   \n",
       "2   0   0    0    0   0   0   0      0   0   0  ...      0      0       0   \n",
       "3   0   0    0    0   0   0   0      0   0   0  ...      0      0       0   \n",
       "4   1   0    0    0   0   1   0      0   0   0  ...      0      0       0   \n",
       "\n",
       "   zdzislaw  zigeunerweisen  zimmer  zoom  сriticism  バージョン  春のソナタ  \n",
       "0         0               0       0     0          0      0      0  \n",
       "1         0               0       0     0          0      0      0  \n",
       "2         0               0       0     0          0      0      0  \n",
       "3         0               0       0     0          0      0      0  \n",
       "4         0               0       0     0          0      0      0  \n",
       "\n",
       "[5 rows x 1610 columns]"
      ]
     },
     "execution_count": 19,
     "metadata": {},
     "output_type": "execute_result"
    }
   ],
   "source": [
    "cv.fit(violinist_df['title'])\n",
    "violinist_cv = cv.transform(violinist_df['title'])\n",
    "violinist_cv_df = pd.DataFrame(violinist_cv.todense(),columns=cv.get_feature_names())\n",
    "violinist_cv_df.head()"
   ]
  },
  {
   "cell_type": "code",
   "execution_count": 88,
   "id": "4a91180c",
   "metadata": {
    "scrolled": true
   },
   "outputs": [
    {
     "data": {
      "text/plain": [
       "cello       362\n",
       "music        66\n",
       "string       47\n",
       "bow          44\n",
       "help         39\n",
       "question     37\n",
       "looking      35\n",
       "playing      32\n",
       "beginner     32\n",
       "new          32\n",
       "zoom         31\n",
       "play         29\n",
       "does         28\n",
       "advice       28\n",
       "good         27\n",
       "dtype: int64"
      ]
     },
     "execution_count": 88,
     "metadata": {},
     "output_type": "execute_result"
    }
   ],
   "source": [
    "cello_cv_df.sum().sort_values(ascending=False).head(15)"
   ]
  },
  {
   "cell_type": "code",
   "execution_count": 89,
   "id": "53755f26",
   "metadata": {
    "scrolled": false
   },
   "outputs": [
    {
     "data": {
      "text/plain": [
       "violin       293\n",
       "bow           57\n",
       "help          49\n",
       "music         44\n",
       "question      43\n",
       "play          43\n",
       "playing       43\n",
       "beginner      39\n",
       "string        38\n",
       "new           35\n",
       "strings       35\n",
       "violinist     32\n",
       "practice      32\n",
       "good          30\n",
       "teacher       29\n",
       "dtype: int64"
      ]
     },
     "execution_count": 89,
     "metadata": {},
     "output_type": "execute_result"
    }
   ],
   "source": [
    "violinist_cv_df.sum().sort_values(ascending=False).head(15)"
   ]
  },
  {
   "cell_type": "code",
   "execution_count": 59,
   "id": "5e4ade9f",
   "metadata": {
    "scrolled": true
   },
   "outputs": [
    {
     "data": {
      "text/plain": [
       "Text(0.5, 1.0, 'key words')"
      ]
     },
     "execution_count": 59,
     "metadata": {},
     "output_type": "execute_result"
    },
    {
     "data": {
      "image/png": "[encoded data removed]",
      "text/plain": [
       "<Figure size 432x288 with 1 Axes>"
      ]
     },
     "metadata": {
      "needs_background": "light"
     },
     "output_type": "display_data"
    }
   ],
   "source": [
    "violinist_cv_df.sum().sort_values(ascending=False).head(5).plot(kind='barh')\n",
    "plt.title('key words')"
   ]
  },
  {
   "cell_type": "code",
   "execution_count": 21,
   "id": "90388afd",
   "metadata": {},
   "outputs": [],
   "source": [
    "reddit_data = pd.concat([violinist_df,cello_df])"
   ]
  },
  {
   "cell_type": "code",
   "execution_count": 22,
   "id": "225cc1b1",
   "metadata": {},
   "outputs": [
    {
     "data": {
      "text/html": [
       "<div>\n",
       "<style scoped>\n",
       "    .dataframe tbody tr th:only-of-type {\n",
       "        vertical-align: middle;\n",
       "    }\n",
       "\n",
       "    .dataframe tbody tr th {\n",
       "        vertical-align: top;\n",
       "    }\n",
       "\n",
       "    .dataframe thead th {\n",
       "        text-align: right;\n",
       "    }\n",
       "</style>\n",
       "<table border=\"1\" class=\"dataframe\">\n",
       "  <thead>\n",
       "    <tr style=\"text-align: right;\">\n",
       "      <th></th>\n",
       "      <th>author_flair_text</th>\n",
       "      <th>created_utc</th>\n",
       "      <th>id</th>\n",
       "      <th>selftext</th>\n",
       "      <th>subreddit</th>\n",
       "      <th>title</th>\n",
       "      <th>link_flair_text</th>\n",
       "    </tr>\n",
       "  </thead>\n",
       "  <tbody>\n",
       "    <tr>\n",
       "      <th>0</th>\n",
       "      <td>None</td>\n",
       "      <td>1623854143</td>\n",
       "      <td>o16ckr</td>\n",
       "      <td>Hi, I'm a beginner musician but I want to work...</td>\n",
       "      <td>violinist</td>\n",
       "      <td>How to become music tutor</td>\n",
       "      <td>NaN</td>\n",
       "    </tr>\n",
       "    <tr>\n",
       "      <th>1</th>\n",
       "      <td>Student</td>\n",
       "      <td>1623849616</td>\n",
       "      <td>o14pqh</td>\n",
       "      <td>How do you practice when it is so hot inside?</td>\n",
       "      <td>violinist</td>\n",
       "      <td>Practice in heat</td>\n",
       "      <td>Setup/Equipment</td>\n",
       "    </tr>\n",
       "    <tr>\n",
       "      <th>2</th>\n",
       "      <td>None</td>\n",
       "      <td>1623848983</td>\n",
       "      <td>o14htd</td>\n",
       "      <td>I always just instinctively play open D string...</td>\n",
       "      <td>violinist</td>\n",
       "      <td>Whats the first thing you do when you pick up ...</td>\n",
       "      <td>NaN</td>\n",
       "    </tr>\n",
       "  </tbody>\n",
       "</table>\n",
       "</div>"
      ],
      "text/plain": [
       "  author_flair_text  created_utc      id  \\\n",
       "0              None   1623854143  o16ckr   \n",
       "1           Student   1623849616  o14pqh   \n",
       "2              None   1623848983  o14htd   \n",
       "\n",
       "                                            selftext  subreddit  \\\n",
       "0  Hi, I'm a beginner musician but I want to work...  violinist   \n",
       "1      How do you practice when it is so hot inside?  violinist   \n",
       "2  I always just instinctively play open D string...  violinist   \n",
       "\n",
       "                                               title  link_flair_text  \n",
       "0                          How to become music tutor              NaN  \n",
       "1                                   Practice in heat  Setup/Equipment  \n",
       "2  Whats the first thing you do when you pick up ...              NaN  "
      ]
     },
     "execution_count": 22,
     "metadata": {},
     "output_type": "execute_result"
    }
   ],
   "source": [
    "reddit_data.head(3)"
   ]
  },
  {
   "cell_type": "code",
   "execution_count": 23,
   "id": "ba30346b",
   "metadata": {},
   "outputs": [
    {
     "data": {
      "text/plain": [
       "Student                0.305785\n",
       "Adult Beginner         0.247934\n",
       "Intermediate           0.095041\n",
       "Teacher                0.066116\n",
       "Beginner               0.066116\n",
       "Amateur                0.066116\n",
       "Expert                 0.049587\n",
       "Soloist                0.033058\n",
       "Music Major            0.024793\n",
       "Bachelor of Music      0.012397\n",
       "Viola                  0.008264\n",
       "Advanced               0.004132\n",
       "Name of your group     0.004132\n",
       "Arrangements/Comp      0.004132\n",
       "High School Student    0.004132\n",
       "Gigging Musician       0.004132\n",
       "cello prof.            0.004132\n",
       "Name: author_flair_text, dtype: float64"
      ]
     },
     "execution_count": 23,
     "metadata": {},
     "output_type": "execute_result"
    }
   ],
   "source": [
    "reddit_data['author_flair_text'].value_counts(normalize=True)"
   ]
  },
  {
   "cell_type": "code",
   "execution_count": 24,
   "id": "2d4f6675",
   "metadata": {},
   "outputs": [
    {
     "data": {
      "text/plain": [
       "<AxesSubplot:>"
      ]
     },
     "execution_count": 24,
     "metadata": {},
     "output_type": "execute_result"
    },
    {
     "data": {
      "image/png": "[encoded data removed]",
      "text/plain": [
       "<Figure size 432x288 with 1 Axes>"
      ]
     },
     "metadata": {
      "needs_background": "light"
     },
     "output_type": "display_data"
    }
   ],
   "source": [
    "reddit_data['author_flair_text'].value_counts(normalize=True).plot(kind='barh')"
   ]
  },
  {
   "cell_type": "code",
   "execution_count": 25,
   "id": "2dfabc23",
   "metadata": {},
   "outputs": [
    {
     "data": {
      "text/html": [
       "<div>\n",
       "<style scoped>\n",
       "    .dataframe tbody tr th:only-of-type {\n",
       "        vertical-align: middle;\n",
       "    }\n",
       "\n",
       "    .dataframe tbody tr th {\n",
       "        vertical-align: top;\n",
       "    }\n",
       "\n",
       "    .dataframe thead th {\n",
       "        text-align: right;\n",
       "    }\n",
       "</style>\n",
       "<table border=\"1\" class=\"dataframe\">\n",
       "  <thead>\n",
       "    <tr style=\"text-align: right;\">\n",
       "      <th></th>\n",
       "      <th>02</th>\n",
       "      <th>07</th>\n",
       "      <th>10</th>\n",
       "      <th>100</th>\n",
       "      <th>1000</th>\n",
       "      <th>101</th>\n",
       "      <th>11</th>\n",
       "      <th>110</th>\n",
       "      <th>122</th>\n",
       "      <th>13</th>\n",
       "      <th>...</th>\n",
       "      <th>еxpеriеnсe</th>\n",
       "      <th>нis</th>\n",
       "      <th>оf</th>\n",
       "      <th>оnly</th>\n",
       "      <th>раssed</th>\n",
       "      <th>сallеd</th>\n",
       "      <th>сriticism</th>\n",
       "      <th>тhеre</th>\n",
       "      <th>バージョン</th>\n",
       "      <th>春のソナタ</th>\n",
       "    </tr>\n",
       "  </thead>\n",
       "  <tbody>\n",
       "    <tr>\n",
       "      <th>0</th>\n",
       "      <td>0</td>\n",
       "      <td>0</td>\n",
       "      <td>0</td>\n",
       "      <td>0</td>\n",
       "      <td>0</td>\n",
       "      <td>0</td>\n",
       "      <td>0</td>\n",
       "      <td>0</td>\n",
       "      <td>0</td>\n",
       "      <td>0</td>\n",
       "      <td>...</td>\n",
       "      <td>0</td>\n",
       "      <td>0</td>\n",
       "      <td>0</td>\n",
       "      <td>0</td>\n",
       "      <td>0</td>\n",
       "      <td>0</td>\n",
       "      <td>0</td>\n",
       "      <td>0</td>\n",
       "      <td>0</td>\n",
       "      <td>0</td>\n",
       "    </tr>\n",
       "    <tr>\n",
       "      <th>1</th>\n",
       "      <td>0</td>\n",
       "      <td>0</td>\n",
       "      <td>0</td>\n",
       "      <td>0</td>\n",
       "      <td>0</td>\n",
       "      <td>0</td>\n",
       "      <td>0</td>\n",
       "      <td>0</td>\n",
       "      <td>0</td>\n",
       "      <td>0</td>\n",
       "      <td>...</td>\n",
       "      <td>0</td>\n",
       "      <td>0</td>\n",
       "      <td>0</td>\n",
       "      <td>0</td>\n",
       "      <td>0</td>\n",
       "      <td>0</td>\n",
       "      <td>0</td>\n",
       "      <td>0</td>\n",
       "      <td>0</td>\n",
       "      <td>0</td>\n",
       "    </tr>\n",
       "    <tr>\n",
       "      <th>2</th>\n",
       "      <td>0</td>\n",
       "      <td>0</td>\n",
       "      <td>0</td>\n",
       "      <td>0</td>\n",
       "      <td>0</td>\n",
       "      <td>0</td>\n",
       "      <td>0</td>\n",
       "      <td>0</td>\n",
       "      <td>0</td>\n",
       "      <td>0</td>\n",
       "      <td>...</td>\n",
       "      <td>0</td>\n",
       "      <td>0</td>\n",
       "      <td>0</td>\n",
       "      <td>0</td>\n",
       "      <td>0</td>\n",
       "      <td>0</td>\n",
       "      <td>0</td>\n",
       "      <td>0</td>\n",
       "      <td>0</td>\n",
       "      <td>0</td>\n",
       "    </tr>\n",
       "    <tr>\n",
       "      <th>3</th>\n",
       "      <td>0</td>\n",
       "      <td>0</td>\n",
       "      <td>0</td>\n",
       "      <td>0</td>\n",
       "      <td>0</td>\n",
       "      <td>0</td>\n",
       "      <td>0</td>\n",
       "      <td>0</td>\n",
       "      <td>0</td>\n",
       "      <td>0</td>\n",
       "      <td>...</td>\n",
       "      <td>0</td>\n",
       "      <td>0</td>\n",
       "      <td>0</td>\n",
       "      <td>0</td>\n",
       "      <td>0</td>\n",
       "      <td>0</td>\n",
       "      <td>0</td>\n",
       "      <td>0</td>\n",
       "      <td>0</td>\n",
       "      <td>0</td>\n",
       "    </tr>\n",
       "    <tr>\n",
       "      <th>4</th>\n",
       "      <td>0</td>\n",
       "      <td>1</td>\n",
       "      <td>0</td>\n",
       "      <td>0</td>\n",
       "      <td>0</td>\n",
       "      <td>0</td>\n",
       "      <td>0</td>\n",
       "      <td>0</td>\n",
       "      <td>0</td>\n",
       "      <td>1</td>\n",
       "      <td>...</td>\n",
       "      <td>0</td>\n",
       "      <td>0</td>\n",
       "      <td>0</td>\n",
       "      <td>0</td>\n",
       "      <td>0</td>\n",
       "      <td>0</td>\n",
       "      <td>0</td>\n",
       "      <td>0</td>\n",
       "      <td>0</td>\n",
       "      <td>0</td>\n",
       "    </tr>\n",
       "  </tbody>\n",
       "</table>\n",
       "<p>5 rows × 2605 columns</p>\n",
       "</div>"
      ],
      "text/plain": [
       "   02  07  10  100  1000  101  11  110  122  13  ...  еxpеriеnсe  нis  оf  \\\n",
       "0   0   0   0    0     0    0   0    0    0   0  ...           0    0   0   \n",
       "1   0   0   0    0     0    0   0    0    0   0  ...           0    0   0   \n",
       "2   0   0   0    0     0    0   0    0    0   0  ...           0    0   0   \n",
       "3   0   0   0    0     0    0   0    0    0   0  ...           0    0   0   \n",
       "4   0   1   0    0     0    0   0    0    0   1  ...           0    0   0   \n",
       "\n",
       "   оnly  раssed  сallеd  сriticism  тhеre  バージョン  春のソナタ  \n",
       "0     0       0       0          0      0      0      0  \n",
       "1     0       0       0          0      0      0      0  \n",
       "2     0       0       0          0      0      0      0  \n",
       "3     0       0       0          0      0      0      0  \n",
       "4     0       0       0          0      0      0      0  \n",
       "\n",
       "[5 rows x 2605 columns]"
      ]
     },
     "execution_count": 25,
     "metadata": {},
     "output_type": "execute_result"
    }
   ],
   "source": [
    "cv.fit(reddit_data['title'])\n",
    "reddit_data_cv = cv.transform(reddit_data['title'])\n",
    "reddit_df = pd.DataFrame(reddit_data_cv.todense(),columns=cv.get_feature_names())\n",
    "reddit_df.head()"
   ]
  },
  {
   "cell_type": "code",
   "execution_count": 58,
   "id": "219419c7",
   "metadata": {
    "scrolled": false
   },
   "outputs": [
    {
     "data": {
      "text/plain": [
       "<AxesSubplot:>"
      ]
     },
     "execution_count": 58,
     "metadata": {},
     "output_type": "execute_result"
    },
    {
     "data": {
      "image/png": "[encoded data removed]",
      "text/plain": [
       "<Figure size 432x288 with 1 Axes>"
      ]
     },
     "metadata": {
      "needs_background": "light"
     },
     "output_type": "display_data"
    }
   ],
   "source": [
    "reddit_df.sum().sort_values(ascending=False).head(5).plot(kind='barh')"
   ]
  },
  {
   "cell_type": "code",
   "execution_count": 27,
   "id": "a4fcbece",
   "metadata": {},
   "outputs": [],
   "source": [
    "# Create Binary y column based on subreddit name\n",
    "reddit_data['y'] = reddit_data['subreddit'].map(lambda x: 1 if x == 'violinist'else 0)"
   ]
  },
  {
   "cell_type": "code",
   "execution_count": 28,
   "id": "d9b3a24a",
   "metadata": {},
   "outputs": [],
   "source": [
    "# Save data frame to csv\n",
    "reddit_data.to_csv('../data/reddit_data.csv', index=False)"
   ]
  },
  {
   "cell_type": "code",
   "execution_count": 29,
   "id": "e4ed2f6f",
   "metadata": {
    "scrolled": true
   },
   "outputs": [
    {
     "data": {
      "text/html": [
       "<div>\n",
       "<style scoped>\n",
       "    .dataframe tbody tr th:only-of-type {\n",
       "        vertical-align: middle;\n",
       "    }\n",
       "\n",
       "    .dataframe tbody tr th {\n",
       "        vertical-align: top;\n",
       "    }\n",
       "\n",
       "    .dataframe thead th {\n",
       "        text-align: right;\n",
       "    }\n",
       "</style>\n",
       "<table border=\"1\" class=\"dataframe\">\n",
       "  <thead>\n",
       "    <tr style=\"text-align: right;\">\n",
       "      <th></th>\n",
       "      <th>author_flair_text</th>\n",
       "      <th>created_utc</th>\n",
       "      <th>id</th>\n",
       "      <th>selftext</th>\n",
       "      <th>subreddit</th>\n",
       "      <th>title</th>\n",
       "      <th>link_flair_text</th>\n",
       "      <th>y</th>\n",
       "    </tr>\n",
       "  </thead>\n",
       "  <tbody>\n",
       "    <tr>\n",
       "      <th>0</th>\n",
       "      <td>NaN</td>\n",
       "      <td>1623854143</td>\n",
       "      <td>o16ckr</td>\n",
       "      <td>Hi, I'm a beginner musician but I want to work...</td>\n",
       "      <td>violinist</td>\n",
       "      <td>How to become music tutor</td>\n",
       "      <td>NaN</td>\n",
       "      <td>1</td>\n",
       "    </tr>\n",
       "    <tr>\n",
       "      <th>1</th>\n",
       "      <td>Student</td>\n",
       "      <td>1623849616</td>\n",
       "      <td>o14pqh</td>\n",
       "      <td>How do you practice when it is so hot inside?</td>\n",
       "      <td>violinist</td>\n",
       "      <td>Practice in heat</td>\n",
       "      <td>Setup/Equipment</td>\n",
       "      <td>1</td>\n",
       "    </tr>\n",
       "    <tr>\n",
       "      <th>2</th>\n",
       "      <td>NaN</td>\n",
       "      <td>1623848983</td>\n",
       "      <td>o14htd</td>\n",
       "      <td>I always just instinctively play open D string...</td>\n",
       "      <td>violinist</td>\n",
       "      <td>Whats the first thing you do when you pick up ...</td>\n",
       "      <td>NaN</td>\n",
       "      <td>1</td>\n",
       "    </tr>\n",
       "  </tbody>\n",
       "</table>\n",
       "</div>"
      ],
      "text/plain": [
       "  author_flair_text  created_utc      id  \\\n",
       "0               NaN   1623854143  o16ckr   \n",
       "1           Student   1623849616  o14pqh   \n",
       "2               NaN   1623848983  o14htd   \n",
       "\n",
       "                                            selftext  subreddit  \\\n",
       "0  Hi, I'm a beginner musician but I want to work...  violinist   \n",
       "1      How do you practice when it is so hot inside?  violinist   \n",
       "2  I always just instinctively play open D string...  violinist   \n",
       "\n",
       "                                               title  link_flair_text  y  \n",
       "0                          How to become music tutor              NaN  1  \n",
       "1                                   Practice in heat  Setup/Equipment  1  \n",
       "2  Whats the first thing you do when you pick up ...              NaN  1  "
      ]
     },
     "execution_count": 29,
     "metadata": {},
     "output_type": "execute_result"
    }
   ],
   "source": [
    "# read in collected subreddits\n",
    "reddit_data = pd.read_csv('../data/reddit_data.csv')\n",
    "reddit_data.head(3)"
   ]
  },
  {
   "cell_type": "code",
   "execution_count": 30,
   "id": "758a9742",
   "metadata": {},
   "outputs": [
    {
     "data": {
      "text/plain": [
       "'Practice Journal 07 - 13 June 2021'"
      ]
     },
     "execution_count": 30,
     "metadata": {},
     "output_type": "execute_result"
    }
   ],
   "source": [
    "# check random row 'title'\n",
    "reddit_data['title'][4]"
   ]
  },
  {
   "cell_type": "code",
   "execution_count": 31,
   "id": "8b864077",
   "metadata": {},
   "outputs": [
    {
     "data": {
      "text/plain": [
       "(2027, 8)"
      ]
     },
     "execution_count": 31,
     "metadata": {},
     "output_type": "execute_result"
    }
   ],
   "source": [
    "#check shape of the data\n",
    "reddit_data.shape"
   ]
  },
  {
   "cell_type": "code",
   "execution_count": 32,
   "id": "380714d7",
   "metadata": {},
   "outputs": [
    {
     "data": {
      "text/plain": [
       "author_flair_text    1785\n",
       "created_utc             0\n",
       "id                      0\n",
       "selftext                0\n",
       "subreddit               0\n",
       "title                   0\n",
       "link_flair_text      1757\n",
       "y                       0\n",
       "dtype: int64"
      ]
     },
     "execution_count": 32,
     "metadata": {},
     "output_type": "execute_result"
    }
   ],
   "source": [
    "#check for missing values\n",
    "reddit_data.isnull().sum()"
   ]
  },
  {
   "cell_type": "code",
   "execution_count": 33,
   "id": "8239f2a5",
   "metadata": {},
   "outputs": [
    {
     "data": {
      "text/plain": [
       "0    0.50666\n",
       "1    0.49334\n",
       "Name: y, dtype: float64"
      ]
     },
     "execution_count": 33,
     "metadata": {},
     "output_type": "execute_result"
    }
   ],
   "source": [
    "reddit_data['y'].value_counts(normalize=True)"
   ]
  },
  {
   "cell_type": "code",
   "execution_count": 34,
   "id": "2354c4c4",
   "metadata": {},
   "outputs": [],
   "source": [
    "features='title'\n",
    "X = reddit_data[features]\n",
    "y = reddit_data['y']"
   ]
  },
  {
   "cell_type": "code",
   "execution_count": 35,
   "id": "95a2e54b",
   "metadata": {},
   "outputs": [],
   "source": [
    "X_train,X_test,y_train,y_test = train_test_split(X,y,\n",
    "                                                 random_state=42,\n",
    "                                                 stratify=y) "
   ]
  },
  {
   "cell_type": "code",
   "execution_count": 36,
   "id": "ad258a1e",
   "metadata": {},
   "outputs": [
    {
     "data": {
      "text/plain": [
       "(1520,)"
      ]
     },
     "execution_count": 36,
     "metadata": {},
     "output_type": "execute_result"
    }
   ],
   "source": [
    "X_train.shape"
   ]
  },
  {
   "cell_type": "code",
   "execution_count": 37,
   "id": "12feef50",
   "metadata": {},
   "outputs": [
    {
     "data": {
      "text/plain": [
       "(1520,)"
      ]
     },
     "execution_count": 37,
     "metadata": {},
     "output_type": "execute_result"
    }
   ],
   "source": [
    "y_train.shape"
   ]
  },
  {
   "cell_type": "code",
   "execution_count": 100,
   "id": "be376fcf",
   "metadata": {
    "scrolled": false
   },
   "outputs": [
    {
     "data": {
      "text/plain": [
       "(0.9973684210526316, 0.7317554240631163)"
      ]
     },
     "execution_count": 100,
     "metadata": {},
     "output_type": "execute_result"
    }
   ],
   "source": [
    "#cv,rf\n",
    "pipe = Pipeline([\n",
    "    ('cv', CountVectorizer()),\n",
    "    ('rfc', RandomForestClassifier())\n",
    "])\n",
    "\n",
    "pipe.fit(X_train, y_train)\n",
    "pipe.score(X_train, y_train), pipe.score(X_test, y_test)"
   ]
  },
  {
   "cell_type": "code",
   "execution_count": 101,
   "id": "843154f3",
   "metadata": {},
   "outputs": [
    {
     "data": {
      "text/plain": [
       "(0.9947368421052631, 0.6883629191321499)"
      ]
     },
     "execution_count": 101,
     "metadata": {},
     "output_type": "execute_result"
    }
   ],
   "source": [
    "#cv,lg\n",
    "pipe = Pipeline([\n",
    "    ('cv', CountVectorizer()),\n",
    "    ('lg', LogisticRegressionCV(solver='liblinear'))\n",
    "])\n",
    "\n",
    "pipe.fit(X_train, y_train)\n",
    "pipe.score(X_train, y_train), pipe.score(X_test, y_test)"
   ]
  },
  {
   "cell_type": "code",
   "execution_count": 102,
   "id": "39e58306",
   "metadata": {},
   "outputs": [
    {
     "data": {
      "text/plain": [
       "(0.9973684210526316, 0.7041420118343196)"
      ]
     },
     "execution_count": 102,
     "metadata": {},
     "output_type": "execute_result"
    }
   ],
   "source": [
    "#cv,dt\n",
    "pipe = Pipeline([\n",
    "    ('cv', CountVectorizer()),\n",
    "    ('dt', DecisionTreeClassifier())\n",
    "])\n",
    "\n",
    "pipe.fit(X_train, y_train)\n",
    "pipe.score(X_train, y_train), pipe.score(X_test, y_test)"
   ]
  },
  {
   "cell_type": "code",
   "execution_count": 103,
   "id": "597efa23",
   "metadata": {},
   "outputs": [
    {
     "data": {
      "text/plain": [
       "(0.9151315789473684, 0.7297830374753451)"
      ]
     },
     "execution_count": 103,
     "metadata": {},
     "output_type": "execute_result"
    }
   ],
   "source": [
    "#cv,mnb\n",
    "pipe = Pipeline([\n",
    "    ('cv', CountVectorizer()),\n",
    "    ('mnb', MultinomialNB())\n",
    "])\n",
    "\n",
    "pipe.fit(X_train, y_train)\n",
    "pipe.score(X_train, y_train), pipe.score(X_test, y_test)"
   ]
  },
  {
   "cell_type": "code",
   "execution_count": 104,
   "id": "f49e29c0",
   "metadata": {},
   "outputs": [
    {
     "data": {
      "text/plain": [
       "(0.8947368421052632, 0.7140039447731755)"
      ]
     },
     "execution_count": 104,
     "metadata": {},
     "output_type": "execute_result"
    }
   ],
   "source": [
    "#tfidf,logreg\n",
    "pipe = Pipeline([\n",
    "    ('tfidf', TfidfVectorizer()),\n",
    "    ('lr', LogisticRegressionCV(solver='liblinear'))\n",
    "])\n",
    "\n",
    "pipe.fit(X_train, y_train)\n",
    "pipe.score(X_train, y_train), pipe.score(X_test, y_test)"
   ]
  },
  {
   "cell_type": "code",
   "execution_count": 43,
   "id": "f8e61588",
   "metadata": {},
   "outputs": [
    {
     "data": {
      "text/plain": [
       "(0.9269736842105263, 0.7218934911242604)"
      ]
     },
     "execution_count": 43,
     "metadata": {},
     "output_type": "execute_result"
    }
   ],
   "source": [
    "#tfidf,mnb\n",
    "pipe = Pipeline([\n",
    "    ('tfidf', TfidfVectorizer()),\n",
    "    ('mnb', MultinomialNB())\n",
    "])\n",
    "\n",
    "pipe.fit(X_train, y_train)\n",
    "pipe.score(X_train, y_train), pipe.score(X_test, y_test)"
   ]
  },
  {
   "cell_type": "code",
   "execution_count": 44,
   "id": "3f3e2601",
   "metadata": {},
   "outputs": [],
   "source": [
    " from sklearn.model_selection import GridSearchCV"
   ]
  },
  {
   "cell_type": "code",
   "execution_count": 45,
   "id": "99448dfa",
   "metadata": {},
   "outputs": [],
   "source": [
    " params_grid = {\n",
    "    'rfc__n_estimators': [100, 150, 200],\n",
    "    'rfc__max_depth': [None, 1, 2, 3, 4, 5]\n",
    "}"
   ]
  },
  {
   "cell_type": "code",
   "execution_count": 46,
   "id": "459e878f",
   "metadata": {},
   "outputs": [],
   "source": [
    "best_pipe = Pipeline([\n",
    "    ('cv',CountVectorizer()),\n",
    "    ('rfc',RandomForestClassifier())])"
   ]
  },
  {
   "cell_type": "code",
   "execution_count": 47,
   "id": "1f541c6d",
   "metadata": {
    "scrolled": true
   },
   "outputs": [],
   "source": [
    "gs = GridSearchCV(estimator = best_pipe, param_grid = params_grid, cv = 5,verbose=1)"
   ]
  },
  {
   "cell_type": "code",
   "execution_count": 48,
   "id": "3c013a5d",
   "metadata": {},
   "outputs": [
    {
     "data": {
      "text/plain": [
       "dict_keys(['memory', 'steps', 'verbose', 'cv', 'rfc', 'cv__analyzer', 'cv__binary', 'cv__decode_error', 'cv__dtype', 'cv__encoding', 'cv__input', 'cv__lowercase', 'cv__max_df', 'cv__max_features', 'cv__min_df', 'cv__ngram_range', 'cv__preprocessor', 'cv__stop_words', 'cv__strip_accents', 'cv__token_pattern', 'cv__tokenizer', 'cv__vocabulary', 'rfc__bootstrap', 'rfc__ccp_alpha', 'rfc__class_weight', 'rfc__criterion', 'rfc__max_depth', 'rfc__max_features', 'rfc__max_leaf_nodes', 'rfc__max_samples', 'rfc__min_impurity_decrease', 'rfc__min_impurity_split', 'rfc__min_samples_leaf', 'rfc__min_samples_split', 'rfc__min_weight_fraction_leaf', 'rfc__n_estimators', 'rfc__n_jobs', 'rfc__oob_score', 'rfc__random_state', 'rfc__verbose', 'rfc__warm_start'])"
      ]
     },
     "execution_count": 48,
     "metadata": {},
     "output_type": "execute_result"
    }
   ],
   "source": [
    "gs.estimator.get_params().keys()"
   ]
  },
  {
   "cell_type": "code",
   "execution_count": 49,
   "id": "c6d487a2",
   "metadata": {
    "scrolled": false
   },
   "outputs": [
    {
     "name": "stdout",
     "output_type": "stream",
     "text": [
      "Fitting 5 folds for each of 18 candidates, totalling 90 fits\n"
     ]
    },
    {
     "data": {
      "text/plain": [
       "GridSearchCV(cv=5,\n",
       "             estimator=Pipeline(steps=[('cv', CountVectorizer()),\n",
       "                                       ('rfc', RandomForestClassifier())]),\n",
       "             param_grid={'rfc__max_depth': [None, 1, 2, 3, 4, 5],\n",
       "                         'rfc__n_estimators': [100, 150, 200]},\n",
       "             verbose=1)"
      ]
     },
     "execution_count": 49,
     "metadata": {},
     "output_type": "execute_result"
    }
   ],
   "source": [
    "gs.fit(X_train, y_train)"
   ]
  },
  {
   "cell_type": "code",
   "execution_count": 50,
   "id": "4d219709",
   "metadata": {},
   "outputs": [
    {
     "data": {
      "text/plain": [
       "0.7289473684210527"
      ]
     },
     "execution_count": 50,
     "metadata": {},
     "output_type": "execute_result"
    }
   ],
   "source": [
    "gs.best_score_"
   ]
  },
  {
   "cell_type": "code",
   "execution_count": 51,
   "id": "3cb78f75",
   "metadata": {},
   "outputs": [
    {
     "name": "stdout",
     "output_type": "stream",
     "text": [
      "Score on training set: 0.9973684210526316\n",
      "Score on testing set: 0.7297830374753451\n"
     ]
    }
   ],
   "source": [
    "# Evaluate model.\n",
    "print(f'Score on training set: {gs.score(X_train, y_train)}')\n",
    "print(f'Score on testing set: {gs.score(X_test, y_test)}')"
   ]
  },
  {
   "cell_type": "code",
   "execution_count": 52,
   "id": "5db70665",
   "metadata": {},
   "outputs": [
    {
     "data": {
      "text/plain": [
       "{'rfc__max_depth': None, 'rfc__n_estimators': 150}"
      ]
     },
     "execution_count": 52,
     "metadata": {},
     "output_type": "execute_result"
    }
   ],
   "source": [
    "gs.best_params_"
   ]
  },
  {
   "cell_type": "code",
   "execution_count": 53,
   "id": "18987ce1",
   "metadata": {},
   "outputs": [],
   "source": [
    "# Use best scoring model to evaluate\n",
    "predictions = gs.predict(X_test)\n",
    "cm = confusion_matrix(y_test, predictions)"
   ]
  },
  {
   "cell_type": "code",
   "execution_count": 54,
   "id": "1dd2495e",
   "metadata": {},
   "outputs": [
    {
     "data": {
      "text/html": [
       "<div>\n",
       "<style scoped>\n",
       "    .dataframe tbody tr th:only-of-type {\n",
       "        vertical-align: middle;\n",
       "    }\n",
       "\n",
       "    .dataframe tbody tr th {\n",
       "        vertical-align: top;\n",
       "    }\n",
       "\n",
       "    .dataframe thead th {\n",
       "        text-align: right;\n",
       "    }\n",
       "</style>\n",
       "<table border=\"1\" class=\"dataframe\">\n",
       "  <thead>\n",
       "    <tr style=\"text-align: right;\">\n",
       "      <th></th>\n",
       "      <th>predicted negative</th>\n",
       "      <th>predicted positive</th>\n",
       "    </tr>\n",
       "  </thead>\n",
       "  <tbody>\n",
       "    <tr>\n",
       "      <th>actual negative</th>\n",
       "      <td>157</td>\n",
       "      <td>100</td>\n",
       "    </tr>\n",
       "    <tr>\n",
       "      <th>actual positive</th>\n",
       "      <td>37</td>\n",
       "      <td>213</td>\n",
       "    </tr>\n",
       "  </tbody>\n",
       "</table>\n",
       "</div>"
      ],
      "text/plain": [
       "                 predicted negative  predicted positive\n",
       "actual negative                 157                 100\n",
       "actual positive                  37                 213"
      ]
     },
     "execution_count": 54,
     "metadata": {},
     "output_type": "execute_result"
    }
   ],
   "source": [
    "# Convert confusion matrix to dataframe\n",
    "cm_df = pd.DataFrame(cm,\n",
    "                    columns = ['predicted negative', 'predicted positive'],\n",
    "                    index = ['actual negative', 'actual positive'])\n",
    "cm_df"
   ]
  },
  {
   "cell_type": "code",
   "execution_count": 55,
   "id": "6f906bbf",
   "metadata": {},
   "outputs": [
    {
     "data": {
      "text/plain": [
       "73.33333333333333"
      ]
     },
     "execution_count": 55,
     "metadata": {},
     "output_type": "execute_result"
    }
   ],
   "source": [
    "# Calculate model accuracy\n",
    "accuracy =(257+128)/(257+128+130+10)\n",
    "accuracy*100"
   ]
  },
  {
   "cell_type": "code",
   "execution_count": 105,
   "id": "e5419382",
   "metadata": {},
   "outputs": [
    {
     "data": {
      "text/plain": [
       "<sklearn.metrics._plot.confusion_matrix.ConfusionMatrixDisplay at 0x7fa3e54ed8b0>"
      ]
     },
     "execution_count": 105,
     "metadata": {},
     "output_type": "execute_result"
    },
    {
     "data": {
      "image/png": "[encoded data removed]",
      "text/plain": [
       "<Figure size 432x288 with 2 Axes>"
      ]
     },
     "metadata": {
      "needs_background": "light"
     },
     "output_type": "display_data"
    }
   ],
   "source": [
    "from sklearn.metrics import plot_confusion_matrix\n",
    "plot_confusion_matrix(gs, X_test, y_test)"
   ]
  },
  {
   "cell_type": "code",
   "execution_count": 106,
   "id": "dcf95f2c",
   "metadata": {},
   "outputs": [],
   "source": [
    "# store predictions\n",
    "preds = gs.predict(X_test)\n",
    "\n",
    "# mash up X and y test vals into one df\n",
    "test_df = pd.concat([X_test, y_test], axis=1)\n",
    "\n",
    "# add preds to df\n",
    "test_df['preds'] = preds"
   ]
  },
  {
   "cell_type": "code",
   "execution_count": 107,
   "id": "ce80c043",
   "metadata": {},
   "outputs": [
    {
     "data": {
      "text/html": [
       "<div>\n",
       "<style scoped>\n",
       "    .dataframe tbody tr th:only-of-type {\n",
       "        vertical-align: middle;\n",
       "    }\n",
       "\n",
       "    .dataframe tbody tr th {\n",
       "        vertical-align: top;\n",
       "    }\n",
       "\n",
       "    .dataframe thead th {\n",
       "        text-align: right;\n",
       "    }\n",
       "</style>\n",
       "<table border=\"1\" class=\"dataframe\">\n",
       "  <thead>\n",
       "    <tr style=\"text-align: right;\">\n",
       "      <th></th>\n",
       "      <th>title</th>\n",
       "      <th>y</th>\n",
       "      <th>preds</th>\n",
       "    </tr>\n",
       "  </thead>\n",
       "  <tbody>\n",
       "    <tr>\n",
       "      <th>117</th>\n",
       "      <td>Tablets for music?</td>\n",
       "      <td>1</td>\n",
       "      <td>0</td>\n",
       "    </tr>\n",
       "    <tr>\n",
       "      <th>801</th>\n",
       "      <td>Auditioning for a college orchestra and need a...</td>\n",
       "      <td>1</td>\n",
       "      <td>0</td>\n",
       "    </tr>\n",
       "    <tr>\n",
       "      <th>296</th>\n",
       "      <td>Paul Wiancko, Michi Wiancko, Ayane Kozasa, Jud...</td>\n",
       "      <td>1</td>\n",
       "      <td>0</td>\n",
       "    </tr>\n",
       "    <tr>\n",
       "      <th>1647</th>\n",
       "      <td>Cubital tunnel syndrome</td>\n",
       "      <td>0</td>\n",
       "      <td>1</td>\n",
       "    </tr>\n",
       "    <tr>\n",
       "      <th>260</th>\n",
       "      <td>Dvorak - Serenade for strings</td>\n",
       "      <td>1</td>\n",
       "      <td>0</td>\n",
       "    </tr>\n",
       "    <tr>\n",
       "      <th>...</th>\n",
       "      <td>...</td>\n",
       "      <td>...</td>\n",
       "      <td>...</td>\n",
       "    </tr>\n",
       "    <tr>\n",
       "      <th>1020</th>\n",
       "      <td>David Finkel's Metronome</td>\n",
       "      <td>0</td>\n",
       "      <td>1</td>\n",
       "    </tr>\n",
       "    <tr>\n",
       "      <th>224</th>\n",
       "      <td>Need help for an 8 year old</td>\n",
       "      <td>1</td>\n",
       "      <td>0</td>\n",
       "    </tr>\n",
       "    <tr>\n",
       "      <th>143</th>\n",
       "      <td>Online Middle School String Camps? (Perhaps in...</td>\n",
       "      <td>1</td>\n",
       "      <td>0</td>\n",
       "    </tr>\n",
       "    <tr>\n",
       "      <th>1498</th>\n",
       "      <td>Resources to loearn to read music and play - b...</td>\n",
       "      <td>0</td>\n",
       "      <td>1</td>\n",
       "    </tr>\n",
       "    <tr>\n",
       "      <th>1934</th>\n",
       "      <td>Please give this a listen if you can. This sin...</td>\n",
       "      <td>0</td>\n",
       "      <td>1</td>\n",
       "    </tr>\n",
       "  </tbody>\n",
       "</table>\n",
       "<p>137 rows × 3 columns</p>\n",
       "</div>"
      ],
      "text/plain": [
       "                                                  title  y  preds\n",
       "117                                  Tablets for music?  1      0\n",
       "801   Auditioning for a college orchestra and need a...  1      0\n",
       "296   Paul Wiancko, Michi Wiancko, Ayane Kozasa, Jud...  1      0\n",
       "1647                            Cubital tunnel syndrome  0      1\n",
       "260                       Dvorak - Serenade for strings  1      0\n",
       "...                                                 ... ..    ...\n",
       "1020                           David Finkel's Metronome  0      1\n",
       "224                         Need help for an 8 year old  1      0\n",
       "143   Online Middle School String Camps? (Perhaps in...  1      0\n",
       "1498  Resources to loearn to read music and play - b...  0      1\n",
       "1934  Please give this a listen if you can. This sin...  0      1\n",
       "\n",
       "[137 rows x 3 columns]"
      ]
     },
     "execution_count": 107,
     "metadata": {},
     "output_type": "execute_result"
    }
   ],
   "source": [
    "test_df[test_df['y'] != test_df['preds']]"
   ]
  }
 ],
 "metadata": {
  "kernelspec": {
   "display_name": "Python 3",
   "language": "python",
   "name": "python3"
  },
  "language_info": {
   "codemirror_mode": {
    "name": "ipython",
    "version": 3
   },
   "file_extension": ".py",
   "mimetype": "text/x-python",
   "name": "python",
   "nbconvert_exporter": "python",
   "pygments_lexer": "ipython3",
   "version": "3.8.8"
  }
 },
 "nbformat": 4,
 "nbformat_minor": 5
}
